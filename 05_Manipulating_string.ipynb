{
  "cells": [
    {
      "cell_type": "markdown",
      "metadata": {
        "id": "11n5gndbRzoY"
      },
      "source": [
        "# 字串操作\n"
      ]
    },
    {
      "cell_type": "markdown",
      "metadata": {
        "id": "AIFsv_RZ1iV0"
      },
      "source": [
        "<table align=\"left\">\n",
        "  <td>\n",
        "    <a href=\"https://colab.research.google.com/github/phonchi/PythonForMath/blob/master/05_Manipulating_string.ipynb\" target=\"_parent\"><img src=\"https://colab.research.google.com/assets/colab-badge.svg\" alt=\"Open In Colab\"/></a>\n",
        "  </td>\n",
        "  <td>\n",
        "    <a target=\"_blank\" href=\"https://kaggle.com/kernels/welcome?src=https://github.com/phonchi/PythonForMath/blob/master/05_Manipulating_string.ipynb\"><img src=\"https://kaggle.com/static/images/open-in-kaggle.svg\" /></a>\n",
        "  </td>\n",
        "</table>"
      ]
    },
    {
      "cell_type": "markdown",
      "metadata": {
        "id": "7Lm-yLK7Abhq"
      },
      "source": [
        "請先執行以下兩格程式碼:"
      ]
    },
    {
      "cell_type": "code",
      "execution_count": null,
      "metadata": {
        "id": "0L4ztqSWAbhr"
      },
      "outputs": [],
      "source": [
        "!pip install jupyterquiz\n",
        "!pip install jupytercards\n",
        "\n",
        "from IPython.display import display, Javascript\n",
        "display(Javascript('Jupyter.notebook.kernel.restart()'))"
      ]
    },
    {
      "cell_type": "code",
      "execution_count": null,
      "metadata": {
        "id": "q5Jogt3mAbhr"
      },
      "outputs": [],
      "source": [
        "from jupyterquiz import display_quiz\n",
        "\n",
        "path=\"https://raw.githubusercontent.com/phonchi/PythonForMath/refs/heads/main/questions-TW/ch5/\""
      ]
    },
    {
      "cell_type": "markdown",
      "metadata": {
        "id": "e-Yq1O7gAbhs"
      },
      "source": [
        "1. 簡介\n",
        "\n",
        "2. 字串操作"
      ]
    },
    {
      "cell_type": "markdown",
      "metadata": {
        "id": "wJjIP5Vne7cM"
      },
      "source": [
        "文字是你程式中處理的最常見資料之一。你已經知道如何使用 `+` 運算子將兩個 ***`string`*** 串接在一起，但我們可以做的遠不止這些！"
      ]
    },
    {
      "cell_type": "markdown",
      "metadata": {
        "id": "C3SFs98aAbhs"
      },
      "source": [
        "你可以像處理串列一樣從 `string` 中擷取部分字串，甚至呼叫一些方法增加或移除空白，將字母轉換為小寫或大寫，並檢查 `string` 是否格式正確！"
      ]
    },
    {
      "cell_type": "markdown",
      "metadata": {
        "id": "SwFKFBMwRzoa"
      },
      "source": [
        "## String"
      ]
    },
    {
      "cell_type": "markdown",
      "metadata": {
        "id": "xtOzCNTJcj3N"
      },
      "source": [
        "有幾種方式可以創建新的 `string`；最簡單的是將元素放在單引號或雙引號中："
      ]
    },
    {
      "cell_type": "code",
      "execution_count": null,
      "metadata": {
        "id": "ossL66xxcoGg"
      },
      "outputs": [],
      "source": [
        "type(''), type(\"\")"
      ]
    },
    {
      "cell_type": "code",
      "execution_count": null,
      "metadata": {
        "id": "jtQfDf3hAbht"
      },
      "outputs": [],
      "source": [
        "print(\"我很好!\")"
      ]
    },
    {
      "cell_type": "markdown",
      "metadata": {
        "id": "Ss9hRGHDRzob"
      },
      "source": [
        "`string` 是一種 **將索引對應到區分大小寫的字元的序列，因此屬於序列資料型別**。我們可以對序列應用的任何操作，也可以應用於 `string`。例如，我們可以使用括號運算子逐一存取 **元素（字元）**。"
      ]
    },
    {
      "cell_type": "code",
      "execution_count": null,
      "metadata": {
        "id": "4X-QB57Sqxbu"
      },
      "outputs": [],
      "source": [
        "fruit = 'banana'\n",
        "fruit[1]"
      ]
    },
    {
      "cell_type": "markdown",
      "metadata": {
        "id": "cc7LkxgesPQf"
      },
      "source": [
        "<center><img src=\"https://raw.githubusercontent.com/phonchi/PythonForMath/refs/heads/main/Figures/string.svg\"></center>\n",
        "<div align=\"center\"> source: https://www.py4e.com/html3/06-strings </div>"
      ]
    },
    {
      "cell_type": "markdown",
      "metadata": {
        "id": "GQ-v5PkhrxLt"
      },
      "source": [
        "`len()` 可以用來傳回 `string` 中字元的數量："
      ]
    },
    {
      "cell_type": "code",
      "execution_count": null,
      "metadata": {
        "id": "9eio5IH1sRe_"
      },
      "outputs": [],
      "source": [
        "len(fruit)"
      ]
    },
    {
      "cell_type": "markdown",
      "metadata": {
        "id": "BCdYJtfCsNTk"
      },
      "source": [
        "我們可以將索引設成負數，讓Python從字串的尾端開始倒數。"
      ]
    },
    {
      "cell_type": "code",
      "execution_count": null,
      "metadata": {
        "id": "2kdWhLASsWjM"
      },
      "outputs": [],
      "source": [
        "fruit[-1], fruit[-2]"
      ]
    },
    {
      "cell_type": "markdown",
      "metadata": {
        "id": "MZguDlIUuGmy"
      },
      "source": [
        "切片也可以用於 `string`，用來從原始字串中擷取子字串。記住，我們可以使用 `[start:stop:step]` 來切片序列。運算子 `[start:stop]` 會返回從「起始位置的字元」到「停止位置的字元」的部分，包括第一個字元，但不包括最後一個字元，而預設間隔`step=1`。"
      ]
    },
    {
      "cell_type": "markdown",
      "metadata": {
        "id": "mhsQ3Er1Abhu"
      },
      "source": [
        "> 如果我們省略第一個索引（冒號前面），則切片將從 `string` 的開頭開始。如果我們省略第二個索引，則切片會延伸到 `string` 的結尾。"
      ]
    },
    {
      "cell_type": "code",
      "execution_count": null,
      "metadata": {
        "id": "2fPn1ShJubZo"
      },
      "outputs": [],
      "source": [
        "s = 'Cool-Python'\n",
        "print(s[:5]) #同 s[0:5]\n",
        "print(s[5:]) #同 s[5:len(s)]\n",
        "print(s[::2]) #同 s[0:len(s):2]\n",
        "print(s[::]) #同 s[:] 和 s[0:len(s):1] => 複製字串\n",
        "print(s[::-1]) #同 s[-1:-(len(s)+1):-1] => 反轉字串"
      ]
    },
    {
      "cell_type": "code",
      "execution_count": null,
      "metadata": {
        "id": "uYrfWa9lwFFx"
      },
      "outputs": [],
      "source": [
        "s = \"hello\" # `Strings` 是不可修改的物件\n",
        "s[0] = 'y'"
      ]
    },
    {
      "cell_type": "markdown",
      "metadata": {
        "id": "775wqKWHwtGa"
      },
      "source": [
        "這裡的「物件」是 `string`，而「元素」則是我們嘗試賦值的字元。我們能做的事是創建一個新的 `string`，它是原始字串的變體："
      ]
    },
    {
      "cell_type": "code",
      "execution_count": null,
      "metadata": {
        "id": "YuVQIH1XwfID"
      },
      "outputs": [],
      "source": [
        "print(id(s))\n",
        "s = 'y' + s[1:len(s)]\n",
        "print(id(s))\n",
        "print(s)"
      ]
    },
    {
      "cell_type": "markdown",
      "metadata": {
        "id": "zq-Y5gN7x64f"
      },
      "source": [
        "許多計算涉及一次處理一個字符的 `string`。通常它們從開頭開始，依次選擇每個字符，對其進行某些操作，並繼續直到結尾。`string` 的遍歷就像我們之前看到的那樣："
      ]
    },
    {
      "cell_type": "code",
      "execution_count": null,
      "metadata": {
        "id": "22fq9pCezegR"
      },
      "outputs": [],
      "source": [
        "# 測試字串是否含有'o'\n",
        "for char in s: # 從字串中取出每一個字元\n",
        "    if char == 'o':\n",
        "        print(\"有 o\")\n",
        "        break"
      ]
    },
    {
      "cell_type": "markdown",
      "metadata": {
        "id": "brZux9hBAbhv"
      },
      "source": [
        "`in` 和 `not in` 運算子可以像用於 `list` 一樣用於 `string`。使用 `in` 或 `not in` 連接兩個字串的運算式會計算出布林值 `True` 或 `False`："
      ]
    },
    {
      "cell_type": "code",
      "execution_count": null,
      "metadata": {
        "id": "ZtvYvaqHAbhv"
      },
      "outputs": [],
      "source": [
        "print('Hello' in 'Hello, World')\n",
        "print('cats' not in 'cats and dogs')"
      ]
    },
    {
      "cell_type": "code",
      "execution_count": null,
      "metadata": {
        "id": "y6NXkbJVAbhv"
      },
      "outputs": [],
      "source": [
        "display_quiz(path+\"string1.json\", max_width=800)"
      ]
    },
    {
      "cell_type": "markdown",
      "metadata": {
        "id": "jhMyac2RAbhv"
      },
      "source": [
        "### 跳脫字元"
      ]
    },
    {
      "cell_type": "markdown",
      "metadata": {
        "id": "YVTuiv6kAbhv"
      },
      "source": [
        "一個 ***跳脫字元*** 讓你可以使用那些在字串中無法直接放入的字元。跳脫字元由反斜線（`\\`）加上你想要加入字串的字元組成。"
      ]
    },
    {
      "cell_type": "markdown",
      "metadata": {
        "id": "IhsX_YWnAbhv"
      },
      "source": [
        "例如，單引號的跳脫字元是 `\\'`。你可以在以單引號開頭和結尾的字串內使用它。"
      ]
    },
    {
      "cell_type": "code",
      "execution_count": null,
      "metadata": {
        "id": "HffkR3VwAbhv"
      },
      "outputs": [],
      "source": [
        "spam = 'Say hi to Bob\\'s mother.'\n",
        "spam"
      ]
    },
    {
      "cell_type": "markdown",
      "metadata": {
        "id": "WCqXK7dRAbhv"
      },
      "source": [
        "Python 知道，因為 `Bob\\'s` 內的單引號有反斜線，所以它不是用來結束字串的單引號。跳脫字元 `\\'` 和 `\\\"` 分別讓你在字串內放入單引號和雙引號。"
      ]
    },
    {
      "cell_type": "markdown",
      "metadata": {
        "id": "81R7AjPaAbhv"
      },
      "source": [
        "<center>\n",
        "\n",
        "| 跳脫字元       | 輸出為              |\n",
        "|----------------|----------------------|\n",
        "| `\\'`           | 單引號               |\n",
        "| `\\\"`           | 雙引號               |\n",
        "| `\\\\`           | 反斜線               |\n",
        "| `\\t`           | Tab 鍵               |\n",
        "| `\\n`           | 換行 (換行符號)      |\n",
        "\n",
        "</center>"
      ]
    },
    {
      "cell_type": "code",
      "execution_count": null,
      "metadata": {
        "id": "L4DVEspfAbhv"
      },
      "outputs": [],
      "source": [
        "print(\"Hello there!\\nHow are you?\\n\\tI\\'m doing fine.\")"
      ]
    },
    {
      "cell_type": "code",
      "execution_count": null,
      "metadata": {
        "id": "_chhbch3Abhv"
      },
      "outputs": [],
      "source": [
        "display_quiz(path+\"escape.json\", max_width=800)"
      ]
    },
    {
      "cell_type": "markdown",
      "metadata": {
        "id": "UCOa1o4fAbhw"
      },
      "source": [
        "### > 練習 1：詢問 LLM 什麼是跳脫字元並列出一些範例\n",
        "\n",
        "- [ChatGPT](https://chatgpt.com/)\n",
        "- [Gemini](https://gemini.google.com/)\n",
        "- [Copilot](https://copilot.microsoft.com/)\n",
        "\n",
        "請參考 [https://hackmd.io/@phonchi/LLM_Basic](https://hackmd.io/@phonchi/LLM_Basic)"
      ]
    },
    {
      "cell_type": "markdown",
      "metadata": {
        "id": "zRfQ_A2nAbhz"
      },
      "source": [
        "#### 原始字串"
      ]
    },
    {
      "cell_type": "markdown",
      "metadata": {
        "id": "nZhyaakAAbhz"
      },
      "source": [
        "你可以在 `string` 開始的引號前加上 `r` 來將其設為 ***原始字串***。**原始字串完全忽略所有跳脫字元**，並會將字串中出現的任何反斜線直接印出。"
      ]
    },
    {
      "cell_type": "code",
      "execution_count": null,
      "metadata": {
        "id": "OQxsFNPOAbhz"
      },
      "outputs": [],
      "source": [
        "print(r'That is Alice\\'s cat.')"
      ]
    },
    {
      "cell_type": "markdown",
      "metadata": {
        "id": "LS_R2PCFAbhz"
      },
      "source": [
        "因為這是原始字串，Python 將反斜線視為 `string` 的一部分，而不是跳脫字元的開頭。"
      ]
    },
    {
      "cell_type": "markdown",
      "metadata": {
        "id": "mY2-RTn2Abhz"
      },
      "source": [
        "原始字串在你輸入包含許多反斜線的字串時非常有用，例如用於 Windows 檔案路徑的 `string`，像是 `r'C:\\Users\\Al\\Desktop'`。"
      ]
    },
    {
      "cell_type": "markdown",
      "metadata": {
        "id": "CqG3NmE1Abhz"
      },
      "source": [
        "### 將字串放入其他字串中"
      ]
    },
    {
      "cell_type": "markdown",
      "metadata": {
        "id": "fjX7AKa6Abhz"
      },
      "source": [
        "將 `strings` 放入其他 `strings` 中是程式設計中常見的操作。到目前為止，我們已經使用過 `+` 運算符和字串串接來達成這個目的："
      ]
    },
    {
      "cell_type": "code",
      "execution_count": null,
      "metadata": {
        "id": "D4ou2UV9Abhz"
      },
      "outputs": [],
      "source": [
        "name = 'Al'\n",
        "age = 33\n",
        "language = 'Python'\n",
        "print(\"\\nHey! I'm \" + name + \", \" + str(age)+ \" old and I love \" + language + \" Programing\")"
      ]
    },
    {
      "cell_type": "markdown",
      "metadata": {
        "id": "tFoOI6XBAbh0"
      },
      "source": [
        "然而，這樣做需要大量繁瑣的輸入。一個更簡單的方法是使用 ***字串插值***。格式運算子 `%` 讓我們能夠構建 `strings`，將 `strings` 的某些部分替換為變數中儲存的資料。"
      ]
    },
    {
      "cell_type": "markdown",
      "metadata": {
        "id": "VAp6vKO0Abh0"
      },
      "source": [
        "> 當應用於整數時，`%` 是取餘數運算符。但當第一個操作數是 `string` 時，`%` 則是格式化運算子。"
      ]
    },
    {
      "cell_type": "markdown",
      "metadata": {
        "id": "HoP5PNW-9Jk_"
      },
      "source": [
        "第一個運算元是***格式化字串***，其中包含一個或多個***格式說明符號***，這些說明符號指定第二個運算元的格式。結果仍然是 `string`。"
      ]
    },
    {
      "cell_type": "markdown",
      "metadata": {
        "id": "KcINesWEAbh0"
      },
      "source": [
        "例如，格式說明符號 `%d` 表示第二個運算元應該以整數格式顯示（\"d\" 代表 \"十進制\"）。"
      ]
    },
    {
      "cell_type": "markdown",
      "metadata": {
        "id": "ygL2-5HQAbh0"
      },
      "source": [
        "<center><img src=\"https://raw.githubusercontent.com/phonchi/PythonForMath/refs/heads/main/Figures/string_format.webp\"></center>\n",
        "<div align=\"center\"> source: https://towardsdatascience.com/python-string-interpolation-829e14e1fc75 </div>"
      ]
    },
    {
      "cell_type": "code",
      "execution_count": null,
      "metadata": {
        "id": "XUVfczP09OJR"
      },
      "outputs": [],
      "source": [
        "print(\"\\nHey! I'm %s, %d years old and I love %s Programing\"%(name,age,language))   # 跟 C 的 printf類似"
      ]
    },
    {
      "cell_type": "markdown",
      "metadata": {
        "id": "KyTbAIeuAbh0"
      },
      "source": [
        "> 這樣做的一個好處是，`str()` 不需要被呼叫來將值轉換為 `字串`"
      ]
    },
    {
      "cell_type": "markdown",
      "metadata": {
        "id": "hs1Zx-kQAbh0"
      },
      "source": [
        "我們可以更精確地指定如何格式化，例如："
      ]
    },
    {
      "cell_type": "markdown",
      "metadata": {
        "id": "hDjB2CO9Abh0"
      },
      "source": [
        "<center><img src=\"https://raw.githubusercontent.com/phonchi/PythonForMath/refs/heads/main/Figures/format_spec.png\" width=\"50%\"></center>\n",
        "<div align=\"center\"> source: https://refactored.ai/microcourse/notebook?path=content%2F02-Python_for_Data_Scientists%2F03-Data_Structures_in_python%2F01-Basic_data_types_and_operators.ipynb </div>"
      ]
    },
    {
      "cell_type": "code",
      "execution_count": null,
      "metadata": {
        "id": "TeG2rrxAAbh0"
      },
      "outputs": [],
      "source": [
        "a = 32\n",
        "b = 32.145\n",
        "print('a=%4d, b=%6.2f' % (a,b))"
      ]
    },
    {
      "cell_type": "code",
      "execution_count": null,
      "metadata": {
        "id": "N5cLf_h1Abh1"
      },
      "outputs": [],
      "source": [
        "a = 32\n",
        "b = 32.145\n",
        "print(f'a={a:4d}, b={b:6.2f}')"
      ]
    },
    {
      "cell_type": "markdown",
      "metadata": {
        "id": "39qKNb1GAbh1"
      },
      "source": [
        "> 預設情況下，Python 將數字右對齊，並將其他值（例如字串）左對齊。`%` 後的數字表示總欄位寬度，以及小數部分的欄位寬度（由 `.` 分隔）。對於比欄位寬度少的值，剩餘的字元位置將用空格填充。`%f` 用於格式化浮點數，並注意變數 `b` 已經被四捨五入。"
      ]
    },
    {
      "cell_type": "markdown",
      "metadata": {
        "id": "JQilFDZB9dPP"
      },
      "source": [
        "Python 3.6 引入了 ***f-strings***（`f` 代表格式化），它類似於字串插值，不過是使用大括號 `{}` 代替 `%s`，並且將運算式直接放在大括號內。"
      ]
    },
    {
      "cell_type": "markdown",
      "metadata": {
        "id": "LbNLA7nyAbh1"
      },
      "source": [
        "像原始字串一樣，f-strings 在起始引號前有一個 `f` 前綴。"
      ]
    },
    {
      "cell_type": "code",
      "execution_count": null,
      "metadata": {
        "id": "qgfevIe19eHx"
      },
      "outputs": [],
      "source": [
        "print(f\"\\nHey! I'm {name}, {age+2} years old and I love {language} Programing\")"
      ]
    },
    {
      "cell_type": "markdown",
      "metadata": {
        "id": "5hL_H0l2Abh1"
      },
      "source": [
        "我們可以使用 f-string 提供更多的控制，除了字串寬度外，還可以使用 `<`、`>` 和 `^` 來指定左對齊、右對齊和置中對齊。注意現在格式規範符被放在變數後面，並以冒號分隔："
      ]
    },
    {
      "cell_type": "code",
      "execution_count": null,
      "metadata": {
        "id": "q6b4S8LIAbh1"
      },
      "outputs": [],
      "source": [
        "print(f'[{a:<15d}]')\n",
        "print(f'[{b:^9.2f}]')"
      ]
    },
    {
      "cell_type": "markdown",
      "metadata": {
        "id": "Yujsu7T3Abh1"
      },
      "source": [
        "此外，你可以在字串寬度前使用 `+`，這樣正數會顯示一個 `+` 號。負數則會自動以 `-` 開頭。若要將字串中剩餘字元補為 0，而非空格，可以在字串寬度前加上 `0`（如果有 `+`，則放在 `+` 後面）："
      ]
    },
    {
      "cell_type": "code",
      "execution_count": null,
      "metadata": {
        "id": "gzPmuZGWAbh1"
      },
      "outputs": [],
      "source": [
        "print(f'[{a:+10d}]')\n",
        "print(f'[{a:+010d}]')"
      ]
    },
    {
      "cell_type": "markdown",
      "metadata": {
        "id": "m_yFlByUAbh1"
      },
      "source": [
        "> 可以進一步參考 https://docs.python.org/3/library/string.html#formatspec 。"
      ]
    },
    {
      "cell_type": "markdown",
      "metadata": {
        "id": "naKuuH1kAbh2"
      },
      "source": [
        "> 另一種方法是使用 `format()` 方法，詳情請參考 [這裡](https://realpython.com/python-string-formatting/#toc)。"
      ]
    },
    {
      "cell_type": "code",
      "execution_count": null,
      "metadata": {
        "id": "Wb52L2amAbh2"
      },
      "outputs": [],
      "source": [
        "display_quiz(path+\"string2.json\", max_width=800)"
      ]
    },
    {
      "cell_type": "markdown",
      "metadata": {
        "id": "UpBGih7NAbh2"
      },
      "source": [
        "### 練習 2：假設我們正在設計一個名為「神秘島嶼」的文字遊戲，每當遊戲開始時，我們需要顯示玩家的狀態。請嘗試完成以下函數，該函數接收來自遊戲的變數並顯示資料，並使用 f-string 使每一欄數據右對齊：\n",
        "\n",
        "<center><img src=\"https://raw.githubusercontent.com/phonchi/PythonForMath/refs/heads/main/Figures/status.png\" width=40%></center>\n",
        "\n",
        "提示：可以先計算每一行所需的最大寬度。"
      ]
    },
    {
      "cell_type": "markdown",
      "metadata": {
        "id": "h79WHEYoAbh2"
      },
      "source": [
        "<center><img src=\"https://raw.githubusercontent.com/phonchi/PythonForMath/refs/heads/main/Figures/Leonardo_game.jpg\" width=40%></center>"
      ]
    },
    {
      "cell_type": "code",
      "execution_count": null,
      "metadata": {
        "id": "sVa22KK5Abh2"
      },
      "outputs": [],
      "source": [
        "def print_stats(player_name, health, experience, gold):\n",
        "    print(f\"{player_name}狀態:\")\n",
        "    print(f\"生命值:{health:7d}/100\")\n",
        "    print(f\"經驗值:{experience:7d}/150\")\n",
        "    print(f\"金幣:{gold:7.2f}/60.00\")"
      ]
    },
    {
      "cell_type": "code",
      "execution_count": null,
      "metadata": {
        "id": "ATHcp2HHAbh2"
      },
      "outputs": [],
      "source": [
        "game_title = \"神秘島嶼\"\n",
        "\n",
        "welcome_message = f'歡迎來到 \"{game_title}\" 冒險遊戲！\\n\\n'\n",
        "# 1. 輸出歡迎訊息\n",
        "print(welcome_message)\n",
        "\n",
        "# 2. 使用字串和數字格式來輸出統計資料\n",
        "player_name = \"玩家1\"\n",
        "health = 100\n",
        "experience = 0\n",
        "gold = 50.000\n",
        "\n",
        "print_stats(player_name, health, experience, gold)\n",
        "\n",
        "print(\"\\n\")\n",
        "\n",
        "player_name = \"玩家2\"\n",
        "health = 60\n",
        "experience = 120\n",
        "gold = 40.0\n",
        "\n",
        "print_stats(player_name, health, experience, gold)"
      ]
    },
    {
      "cell_type": "markdown",
      "metadata": {
        "id": "T7-QrxB8Abh2"
      },
      "source": [
        "> 文字是常見的資料形式，而 Python 提供了許多有用的字串方法來處理儲存在 `string` 中的文字。你將在幾乎每一個 Python 程式中使用索引、切片和字串方法。\n",
        "\n",
        "> 這基本上涵蓋了所有 Python 程式設計的基本概念！現在你已經擁有足夠的知識來開始編寫一些有用的程式，這些程式可以自動化某些任務。如果你想查看一些從你所學的基本概念中建立的簡單 Python 範例程式，請查閱 https://github.com/asweigart/pythonstdiogames/ 。 嘗試手動複製每個程式的原始碼，然後進行修改，看看這些修改如何影響程式的行為。一旦你了解了程式的運作方式，試著從頭開始自己重建程式。你不需要完全複製原始碼，只需專注於程式的功能，而不是它的實現方式。"
      ]
    },
    {
      "cell_type": "code",
      "execution_count": null,
      "metadata": {
        "id": "Kmh3_vb6Abh2"
      },
      "outputs": [],
      "source": [
        "from jupytercards import display_flashcards\n",
        "fpath= \"https://raw.githubusercontent.com/phonchi/PythonForMath/refs/heads/main/flashcards-TW/\"\n",
        "display_flashcards(fpath + 'ch5.json')"
      ]
    },
    {
      "cell_type": "markdown",
      "metadata": {
        "id": "Z74GgEboAbh3"
      },
      "source": [
        "## 關鍵字"
      ]
    },
    {
      "cell_type": "markdown",
      "metadata": {
        "id": "h-113_egAbh3"
      },
      "source": [
        "- **字串 (string)**：用來表示文字資料的字元序列。\n",
        "- **跳脫字元 (escape character)**：用來在字串中引入特殊字元序列的反斜線（`\\`），例如 `\\n` 代表換行。\n",
        "- **原始字串 (raw string)**：以 `r` 為前綴的字串，將反斜線視為字面上的字元，而非轉義字元序列。\n",
        "- **字串插值 (string interpolation)**：將變數值或表達式插入到字串佔位符中的過程。\n",
        "- **格式化字串 (format string)**：包含佔位符的字串，這些佔位符可以使用變數值來替換，通常使用 `%` 運算元。\n",
        "- **格式說明子 (format specifiers)**：格式字串中的特殊語法，用來定義如何格式化值（例如，`.2f` 表示兩位小數）。\n",
        "- **f-字串 (f-string)**：以 `f` 為前綴的字串文字，允許在字串內直接進行表達式運算和格式化。"
      ]
    }
  ],
  "metadata": {
    "celltoolbar": "Slideshow",
    "colab": {
      "provenance": []
    },
    "kernelspec": {
      "display_name": "Python 3 (ipykernel)",
      "language": "python",
      "name": "python3"
    },
    "language_info": {
      "codemirror_mode": {
        "name": "ipython",
        "version": 3
      },
      "file_extension": ".py",
      "mimetype": "text/x-python",
      "name": "python",
      "nbconvert_exporter": "python",
      "pygments_lexer": "ipython3",
      "version": "3.9.13"
    },
    "rise": {
      "chalkboard": {
        "color": [
          "rgb(250, 0, 0)",
          "rgb(250, 0, 0)"
        ]
      },
      "controls": false,
      "enable_chalkboard": true,
      "footer": "",
      "overlay": "<div class='myfooter'><h4>字串操作</h4></div>",
      "slideNumber": "true",
      "theme": "night"
    },
    "vscode": {
      "interpreter": {
        "hash": "1561eddc5e0c9c74df968f74d5080d02882967127f956e6e7049c43d2ef42321"
      }
    }
  },
  "nbformat": 4,
  "nbformat_minor": 0
}