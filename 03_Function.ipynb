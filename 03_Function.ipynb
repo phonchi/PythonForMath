{
  "cells": [
    {
      "cell_type": "markdown",
      "metadata": {
        "id": "11n5gndbRzoY"
      },
      "source": [
        "# 函數"
      ]
    },
    {
      "cell_type": "markdown",
      "metadata": {
        "id": "JFuNbDIL7tWK"
      },
      "source": [
        "<table align=\"left\">\n",
        "  <td>\n",
        "    <a href=\"https://colab.research.google.com/github/phonchi/PythonForMath/blob/master/03_Function.ipynb\" target=\"_parent\"><img src=\"https://colab.research.google.com/assets/colab-badge.svg\" alt=\"Open In Colab\"/></a>\n",
        "  </td>\n",
        "  <td>\n",
        "    <a target=\"_blank\" href=\"https://kaggle.com/kernels/welcome?src=https://github.com/phonchi/PythonForMath/blob/master/03_Function.ipynb\"><img src=\"https://kaggle.com/static/images/open-in-kaggle.svg\" /></a>\n",
        "  </td>\n",
        "</table>"
      ]
    },
    {
      "cell_type": "markdown",
      "metadata": {
        "id": "wWPU6Y3i7tWK"
      },
      "source": [
        "請先執行以下兩格程式碼:"
      ]
    },
    {
      "cell_type": "code",
      "execution_count": null,
      "metadata": {
        "id": "3dTLbEIo7tWL"
      },
      "outputs": [],
      "source": [
        "!pip install jupyterquiz\n",
        "!pip install jupytercards\n",
        "\n",
        "from IPython.display import display, Javascript\n",
        "display(Javascript('Jupyter.notebook.kernel.restart()'))"
      ]
    },
    {
      "cell_type": "code",
      "execution_count": null,
      "metadata": {
        "id": "0PVcHgEj7tWM"
      },
      "outputs": [],
      "source": [
        "from jupyterquiz import display_quiz\n",
        "\n",
        "path=\"https://raw.githubusercontent.com/phonchi/PythonForMath/refs/heads/main/questions-TW/ch3/\""
      ]
    },
    {
      "cell_type": "markdown",
      "metadata": {
        "id": "k7e1HF7O7tWM"
      },
      "source": [
        "1. 簡介\n",
        "\n",
        "2. 函數的進階用法\n",
        "\n",
        "3. 將函數儲存為模組"
      ]
    },
    {
      "cell_type": "markdown",
      "metadata": {
        "id": "BV5LcxKvKnml"
      },
      "source": [
        "## 函數簡介"
      ]
    },
    {
      "cell_type": "markdown",
      "metadata": {
        "id": "PatTNEAd7tWM"
      },
      "source": [
        "開發與維護大型程式的最佳方法是將它們拆解為較小的部分。這種技術稱為 ***分治法***."
      ]
    },
    {
      "cell_type": "markdown",
      "metadata": {
        "id": "2d48Nz-A7tWN"
      },
      "source": [
        "在程式設計中，***抽象化*** 指的是將演算法中子步驟的複雜性隱藏在一個 ***函數*** 內的做法。為什麼要使用函數？因為函數可以把某部份的程式碼抽象化，讓程式碼更容易閱讀，說的更白話一點寫函數就是幫某一段程式碼的邏輯取個名字，讓我們不用閱讀函數的實作細節，只要看函數的名字就知道這個函數的用途。一旦將程式區塊包裝為函數，就可以將它當作一個具有定義好輸入與輸出的簡單表達式來使用，讓使用者在不需要了解其內部細節的情況下便能使用它。"
      ]
    },
    {
      "cell_type": "markdown",
      "metadata": {
        "id": "ZAuG_QBv7tWN"
      },
      "source": [
        "我們已經見過像 `print()`、`str()` 與 `len()` 這樣的內建函數，而在括號內的為其引數，這些都是 Python 內建函數的範例。程式語言允許我們使用一個函數名稱來表示<u>一個根據給定引數來執行的程式區塊</u>。"
      ]
    },
    {
      "cell_type": "markdown",
      "metadata": {
        "id": "1pAjBphe7tWN"
      },
      "source": [
        "若函數在運算式或敘述中出現稱為 ***函數呼叫***，有時也稱為 <u>呼叫</u> 函數。"
      ]
    },
    {
      "cell_type": "markdown",
      "metadata": {
        "id": "kfR69IVb7tWN"
      },
      "source": [
        "- 它允許你透過呼叫函數，在程式的各個位置執行同一段程式碼，而無需複製程式碼。\n",
        "\n",
        "- 它也使程式更易於修改。當你更改函數的程式碼時，所有對該函數的呼叫都會執行更新後的版本。"
      ]
    },
    {
      "cell_type": "markdown",
      "metadata": {
        "id": "vxF99qxYKqKN"
      },
      "source": [
        "總結來說，函數是一個用於執行特定任務的程式碼區塊。我們可以透過將程式區塊函數化來提升可重用性！"
      ]
    },
    {
      "cell_type": "code",
      "execution_count": null,
      "metadata": {
        "id": "len4TI6H7tWN"
      },
      "outputs": [],
      "source": [
        "display_quiz(path+\"func1.json\", max_width=800)"
      ]
    },
    {
      "cell_type": "markdown",
      "metadata": {
        "id": "-0-nnPzG7tWO"
      },
      "source": [
        "### 函數的定義"
      ]
    },
    {
      "cell_type": "markdown",
      "metadata": {
        "id": "T1ruP7Mf7tWO"
      },
      "source": [
        "當你呼叫 `print()` 或 `len()` 函式時，你會在括號中輸入值，這些值稱為 ***引數 (arguments)***。"
      ]
    },
    {
      "cell_type": "markdown",
      "metadata": {
        "id": "_pSMq3Rj7tWO"
      },
      "source": [
        "你也可以定義自己的函數來接受引數。"
      ]
    },
    {
      "cell_type": "code",
      "execution_count": null,
      "metadata": {
        "id": "LU_S1ATj7tWO"
      },
      "outputs": [],
      "source": [
        "def hello(name):\n",
        "    print('Hello,', name)\n",
        "\n",
        "hello('Alice')\n",
        "hello('Bob')"
      ]
    },
    {
      "cell_type": "markdown",
      "metadata": {
        "id": "ZXF2J6oq7tWO"
      },
      "source": [
        "`def` 敘述定義了 `hello()` 函數。緊跟在 `def hello():` 後且具有縮排的所有程式碼構成了該函數的主體。`hello('Alice')` 這一行 **呼叫** 了這個函數，也就是將字串值 'Alice' 作為引數傳遞給該函數。"
      ]
    },
    {
      "cell_type": "markdown",
      "metadata": {
        "id": "1oJi4FXi7tWO"
      },
      "source": [
        "你可以在 https://autbor.com/hellofunc2/ 查看這個程式的執行情況。這個程式中 `hello()` 函數的定義有一個稱為 `name` 的 ***參數 (Parameters)***。當函數被呼叫並傳入引數時，這些引數的值會被儲存在參數中。"
      ]
    },
    {
      "cell_type": "markdown",
      "metadata": {
        "id": "V8YFBV4u7tWO"
      },
      "source": [
        "> 第一次呼叫 `hello()` 函數時同時傳遞了引數 'Alice'。程式開始執行函數內的程式碼，並自動將參數 `name` 設定為 'Alice'，這就是 `print()` 敘述所印出的內容。"
      ]
    },
    {
      "cell_type": "markdown",
      "metadata": {
        "id": "wFEo14Nl7tWO"
      },
      "source": [
        "有一點需要注意的是，**當函數執行結束返回時，儲存在參數中的值會被遺忘**。例如，如果你在前面的程式中 `hello('Bob')` 之後加上 `print(name)`，程式就會產生 `NameError`，因為此時已經沒有名為 `name` 的變數存在。"
      ]
    },
    {
      "cell_type": "code",
      "execution_count": null,
      "metadata": {
        "id": "_LjQCino7tWO"
      },
      "outputs": [],
      "source": [
        "print(name)"
      ]
    },
    {
      "cell_type": "code",
      "execution_count": null,
      "metadata": {
        "id": "uDliMZ8V7tWO"
      },
      "outputs": [],
      "source": [
        "display_quiz(path+\"func2.json\", max_width=800)"
      ]
    },
    {
      "cell_type": "markdown",
      "metadata": {
        "id": "kBCc1nBR7tWP"
      },
      "source": [
        "> 👨‍⚕️ 初學者常犯的兩個錯誤是：第一，忘記在函數名稱後面加上一對括號，這在函數不需要參數時特別常見。就像前面測驗中定義的 `hello` 函數，它不需要參數，因此很容易忘記加上括號。第二，容易忽略縮排，沒有正確將函數主體的程式碼與呼叫函數的程式碼區分開來。"
      ]
    },
    {
      "cell_type": "markdown",
      "metadata": {
        "id": "l932x9Qb7tWP"
      },
      "source": [
        "#### 位置引數"
      ]
    },
    {
      "cell_type": "markdown",
      "metadata": {
        "id": "0Z2NBf8v7tWP"
      },
      "source": [
        "當你呼叫一個函數時，Python 必須將函數呼叫中的每個引數與函數定義中的參數逐一對應。最簡單的方式是根據提供的引數順序來配對。以這種方式配對的值稱為 ***位置引數***。"
      ]
    },
    {
      "cell_type": "code",
      "execution_count": null,
      "metadata": {
        "id": "SqZ7GpED7tWP"
      },
      "outputs": [],
      "source": [
        "def describe_pet(animal_type, pet_name):\n",
        "    \"\"\"\n",
        "    顯示寵物的資訊。\n",
        "    你可以在這裡撰寫多行說明！\n",
        "    \"\"\"\n",
        "    print(\"\\n我有一隻\", animal_type + \"。\")\n",
        "    print(\"我那隻\", animal_type + \" 的名字是\", pet_name.title() + \"。\")\n",
        "\n",
        "describe_pet('Pokemon', 'Harry')"
      ]
    },
    {
      "cell_type": "markdown",
      "metadata": {
        "id": "EMThl-Dh7tWP"
      },
      "source": [
        "> 當我們呼叫 `describe_pet()` 函數時，需要依照 **順序** 提供 `animal_type` 和 `pet_name` 兩個引數。例如，在這個函數呼叫中，`'Pokemon'` 被指派給參數 `animal_type`，而 `'Harry'` 被指派給參數 `pet_name`。在函數主體中，這兩個參數會被用來顯示有關這隻寵物的資訊。"
      ]
    },
    {
      "cell_type": "markdown",
      "metadata": {
        "id": "VcB-ZYMG7tWP"
      },
      "source": [
        "請注意，第二行的文字是一個註解，稱為 ***文件字串（docstring，第一章介紹過的多行註解）***，用來描述這個函數的功能。"
      ]
    },
    {
      "cell_type": "markdown",
      "metadata": {
        "id": "EUojaCsV7tWP"
      },
      "source": [
        "當 Python 為程式中的函數產生文件時，它會尋找緊跟在函數定義之後的字串。這些字串通常用三個引號（`'''` 或 `\"\"\"`）括起來，讓你可以撰寫多行說明。如果你使用 `help()` 函數，這些文件字串也會隨著函數名稱和參數一起被印出來。"
      ]
    },
    {
      "cell_type": "code",
      "execution_count": null,
      "metadata": {
        "id": "qPsY7ogK7tWP"
      },
      "outputs": [],
      "source": [
        "help(describe_pet)"
      ]
    },
    {
      "cell_type": "code",
      "execution_count": null,
      "metadata": {
        "id": "j54rYi907tWP"
      },
      "outputs": [],
      "source": [
        "help(print)"
      ]
    },
    {
      "cell_type": "markdown",
      "metadata": {
        "id": "cy_0Ecgo7tWP"
      },
      "source": [
        "> 請注意，如果在 `print()` 函數中有多個引數，預設的分隔符號是空白。但你可以透過指定 `sep` 關鍵字來改變這個行為。"
      ]
    },
    {
      "cell_type": "code",
      "execution_count": null,
      "metadata": {
        "id": "BF3H7JHJ7tWQ"
      },
      "outputs": [],
      "source": [
        "print(\"8\", \"9\", sep=\"*\")"
      ]
    },
    {
      "cell_type": "markdown",
      "metadata": {
        "id": "gU7_T1gb7tWQ"
      },
      "source": [
        "#### 傳回值與 `return` 敘述"
      ]
    },
    {
      "cell_type": "markdown",
      "metadata": {
        "id": "fWf8A4kB7tWQ"
      },
      "source": [
        "當你呼叫 `len()` 函數並傳入引數，例如 `'Hello'`，這個函數呼叫會回傳一個整數值。函數呼叫所計算出的值稱為該函數的 ***傳回值（return value）***。"
      ]
    },
    {
      "cell_type": "markdown",
      "metadata": {
        "id": "vNaEUUid7tWQ"
      },
      "source": [
        "當使用 `def` 敘述來建立函數時，你可以使用 ***`return` 敘述*** 來指定函數的傳回值。  \n",
        "一個 `return` 敘述包含以下內容："
      ]
    },
    {
      "cell_type": "markdown",
      "metadata": {
        "id": "Nf37pttH7tWQ"
      },
      "source": [
        "- `return` 關鍵字  \n",
        "- 函數應該傳回的值或運算式  \n",
        "\n",
        "當 `return` 敘述後面接上一個運算式時，函數的傳回值就是該運算式的運算結果。"
      ]
    },
    {
      "cell_type": "markdown",
      "metadata": {
        "id": "gAwdidXB7tWT"
      },
      "source": [
        "例如，下面這個程式定義了一個函數，根據傳入的數字引數回傳不同的字串。"
      ]
    },
    {
      "cell_type": "code",
      "execution_count": null,
      "metadata": {
        "id": "Y-YlTfv67tWT"
      },
      "outputs": [],
      "source": [
        "import random\n",
        "\n",
        "def getAnswer(answerNumber):\n",
        "    if answerNumber == 1:\n",
        "        return '結果是肯定的'\n",
        "    elif answerNumber == 2:\n",
        "        return '毫無疑問'\n",
        "    elif answerNumber == 3:\n",
        "        return '是的'\n",
        "    elif answerNumber == 4:\n",
        "        return '回覆不明，再試一次'\n",
        "    elif answerNumber == 5:\n",
        "        return '請稍後再問'\n",
        "    elif answerNumber == 6:\n",
        "        return '請更加專心並再問一次'\n",
        "\n",
        "r = random.randint(1, 6)\n",
        "fortune = getAnswer(r)\n",
        "print(fortune)"
      ]
    },
    {
      "cell_type": "markdown",
      "metadata": {
        "id": "Q3hKHZtB7tWT"
      },
      "source": [
        "可以在 https://reurl.cc/W04E0e 查看執行結果。"
      ]
    },
    {
      "cell_type": "markdown",
      "metadata": {
        "id": "QogFJQq07tWT"
      },
      "source": [
        "當這個程式開始執行時，Python 首先匯入 `random` 模組。接著定義 `getAnswer()` 函數。由於這時只是定義函數（而不是呼叫函數），所以程式執行會跳過函數主體的程式碼。然後，呼叫 `random.randint()` 函數，並傳入兩個引數：1 和 6。"
      ]
    },
    {
      "cell_type": "markdown",
      "metadata": {
        "id": "aD_oqNiX7tWU"
      },
      "source": [
        "> `getAnswer()` 函數以 `r` 作為引數被呼叫。程式執行會跳轉到 `getAnswer()` 函數的開頭，並將 `r` 的值儲存在名為 `answerNumber` 的參數中。接著，根據 `answerNumber` 的值，該函數會回傳多個可能的字串其中之一。"
      ]
    },
    {
      "cell_type": "markdown",
      "metadata": {
        "id": "RMgSa7M97tWU"
      },
      "source": [
        "呼叫函數之後，程式的執行會回到原本呼叫 `getAnswer()` 的那一行。函數傳回的字串會被指派給變數 `fortune`，接著這個變數會被傳入 `print()` 函數並輸出到螢幕上。這類會傳回值的函數有時被稱為 ***有回傳值的函數（fruitful functions）***。"
      ]
    },
    {
      "cell_type": "code",
      "execution_count": null,
      "metadata": {
        "id": "781F9BIY7tWU"
      },
      "outputs": [],
      "source": [
        "display_quiz(path+\"func3.json\", max_width=800)"
      ]
    },
    {
      "cell_type": "markdown",
      "metadata": {
        "id": "ajtzPIgm7tWU"
      },
      "source": [
        "####  `None` 值"
      ]
    },
    {
      "cell_type": "markdown",
      "metadata": {
        "id": "RPLdQuBX7tWU"
      },
      "source": [
        "在 Python 中，有一個稱為 `None` 的值，它表示「沒有值」或「空值」。`None` 是 `NoneType` 資料型別中的唯一值。當你需要在變數中儲存一個不會與其他有效數值混淆的狀態時，`None` 會非常有用。"
      ]
    },
    {
      "cell_type": "markdown",
      "metadata": {
        "id": "cBmk-Td17tWU"
      },
      "source": [
        "`None` 的一個常見用途是作為 `print()` 函數的傳回值。`print()` 函數負責在螢幕上顯示文字，但它本身不需要傳回任何資料！然而，因為所有函數呼叫都必須有一個傳回值，所以 `print()` 會傳回 `None`。  \n",
        "沒有傳回值的函數被稱為 ***無回傳值函數（void function）***。"
      ]
    },
    {
      "cell_type": "code",
      "execution_count": null,
      "metadata": {
        "id": "K__wnO9C7tWU"
      },
      "outputs": [],
      "source": [
        "spam = print('Hello!')\n",
        "print(spam)\n",
        "type(spam)"
      ]
    },
    {
      "cell_type": "markdown",
      "metadata": {
        "id": "mlYf5GcM7tWU"
      },
      "source": [
        "在背後，Python 會自動在任何沒有 `return` 敘述的函數定義結尾加上 `return None`。此外，如果你使用 `return` 敘述但沒有指定回傳值（也就是只寫 `return` 關鍵字本身），那麼函數也會傳回 `None`。"
      ]
    },
    {
      "cell_type": "code",
      "execution_count": null,
      "metadata": {
        "id": "_YG_El3l7tWU"
      },
      "outputs": [],
      "source": [
        "display_quiz(path+\"func4.json\", max_width=800)"
      ]
    },
    {
      "cell_type": "markdown",
      "metadata": {
        "id": "xB2QVMDZ7tWU"
      },
      "source": [
        "#### 關鍵字引數"
      ]
    },
    {
      "cell_type": "markdown",
      "metadata": {
        "id": "i68ZPve17tWU"
      },
      "source": [
        "***關鍵字引數*** 是在呼叫函數時，以「名稱-值」配對的形式傳入的引數。你可以直接將引數名稱與其對應的值寫在一起，這樣在傳遞引數給函數時，就不會有順序上的混淆問題。"
      ]
    },
    {
      "cell_type": "markdown",
      "metadata": {
        "id": "Htvy4wU37tWV"
      },
      "source": [
        "> 使用關鍵字引數（Keyword Arguments），你不需要擔心在函數呼叫時引數的正確順序，並且可以讓每個引數的用途更加清晰明瞭。"
      ]
    },
    {
      "cell_type": "code",
      "execution_count": null,
      "metadata": {
        "id": "cIDlb2CD7tWV"
      },
      "outputs": [],
      "source": [
        "describe_pet(animal_type='Pokemon', pet_name='Harry')"
      ]
    },
    {
      "cell_type": "markdown",
      "metadata": {
        "id": "CcnXJ7_n7tWV"
      },
      "source": [
        "`describe_pet()` 函數本身沒有改變，但當我們呼叫這個函數時，可以明確地告訴 Python 每個引數應該對應到哪個參數。當 Python 讀取這個函數呼叫時，它會知道要將引數 `'Pokemon'` 指派給參數 `animal_type`，而將引數 `'Harry'` 指派給參數 `pet_name`。"
      ]
    },
    {
      "cell_type": "markdown",
      "metadata": {
        "id": "Lh3CrtdI7tWV"
      },
      "source": [
        "#### 預設參數值"
      ]
    },
    {
      "cell_type": "markdown",
      "metadata": {
        "id": "hgE5vq9G7tWV"
      },
      "source": [
        "當撰寫函式時，你可以定義 ***預設參數值***。如果在呼叫函式時有提供對應的引數，Python 就會使用該引數的值；如果沒有提供，則會使用參數預設的值。\n",
        "\n",
        "例如，如果你發現大部分對 `describe_pet()` 函式的呼叫都是在描述狗，那你可以將 `animal_type` 這個參數的預設值設為 `'dog'`，像這樣："
      ]
    },
    {
      "cell_type": "code",
      "execution_count": null,
      "metadata": {
        "id": "4MlMFdeM7tWV"
      },
      "outputs": [],
      "source": [
        "def describe_pet(pet_name, animal_type='dog'):\n",
        "    \"\"\"\n",
        "    顯示寵物的相關資訊。\n",
        "    這裡為 animal_type 參數設定了預設值。\n",
        "    \"\"\"\n",
        "    print(\"\\n我有一隻 \" + animal_type + \"。\")\n",
        "    print(\"我那隻 \" + animal_type + \" 的名字叫做 \" + pet_name.title() + \"。\")\n",
        "\n",
        "describe_pet('willie')"
      ]
    },
    {
      "cell_type": "markdown",
      "metadata": {
        "id": "lPx72Ea-7tWV"
      },
      "source": [
        "請注意，函式定義中的參數順序必須進行調整。**因為有了預設值，就不需要再將動物類型作為引數傳入**，所以在函式呼叫時，只需要傳入寵物的名字作為引數即可。"
      ]
    },
    {
      "cell_type": "markdown",
      "metadata": {
        "id": "KmbFpwgd7tWV"
      },
      "source": [
        "Python 仍然會將這視為位置引數，因此如果在呼叫函式時只傳入寵物的名字，該引數將會對應到函式定義中列出的第一個參數。"
      ]
    },
    {
      "cell_type": "markdown",
      "metadata": {
        "id": "Egvycra77tWV"
      },
      "source": [
        "當你使用預設值時，所有具有預設值的參數必須列在沒有預設值的參數之後。這樣可以讓 Python 正確地解析位置引數。否則，將會發生錯誤。"
      ]
    },
    {
      "cell_type": "code",
      "execution_count": null,
      "metadata": {
        "id": "RSFQ7-9M7tWW"
      },
      "outputs": [],
      "source": [
        "def describe_pet(animal_type='dog', pet_name):\n",
        "    \"\"\"\n",
        "    顯示寵物的相關資訊。\n",
        "    這裡為 animal_type 參數設定了預設值。\n",
        "    \"\"\"\n",
        "    print(\"\\n我有一隻 \" + animal_type + \"。\")\n",
        "    print(\"我那隻 \" + animal_type + \" 的名字叫做 \" + pet_name.title() + \"。\")\n",
        "\n",
        "describe_pet('willie')"
      ]
    },
    {
      "cell_type": "markdown",
      "metadata": {
        "id": "Hx1tEp0J7tWW"
      },
      "source": [
        "> ### 練習 1：請撰寫一個函式，實作「猜數字」遊戲。  \n",
        "該函式接受兩個引數，分別是最大猜測次數與最大數字範圍。函式回傳一個布林值（`True` 或 `False`），用來表示玩家是否成功猜中正確數字。 如果玩家在允許的猜測次數內沒有猜對，則回傳 `False`； 否則，若玩家成功猜中，則回傳 `True`。  \n",
        "\n",
        "<center>  \n",
        "    <img src=\"https://raw.githubusercontent.com/phonchi/PythonForMath/refs/heads/main/Figures/Guess_number.webp\" style=\"width: 20%;\">  \n",
        "</center>"
      ]
    },
    {
      "cell_type": "code",
      "execution_count": null,
      "metadata": {
        "id": "xRDwbkcK7tWW"
      },
      "outputs": [],
      "source": [
        "import random\n",
        "\n",
        "def guess_number(max_tries, max_number=10):\n",
        "    \"\"\"\n",
        "    此函數讓玩家猜一個介於 1 到 max_number 之間的數字\n",
        "    如果玩家能在 max_tries 次內猜中正確數字，回傳 True\n",
        "    否則，回傳 False\n",
        "    \"\"\"\n",
        "    # 產生一個介於 1 和 max_number 之間的隨機數字\n",
        "    number = _____\n",
        "\n",
        "    # 讓玩家最多猜 max_tries 次\n",
        "    for i in range(max_tries):\n",
        "        # 提示玩家猜數字\n",
        "        guess = int(input(\"請猜一個數字（介於 1 和 \" + str(max_number) + \" 之間）：\"))\n",
        "\n",
        "        # 檢查猜測是否正確\n",
        "        if ______:\n",
        "            print(\"恭喜你，猜中了！\")\n",
        "            ______\n",
        "        elif ______:\n",
        "            print(\"答案比你猜的數字大。\")\n",
        "        else:\n",
        "            print(\"答案比你猜的數字小。\")\n",
        "\n",
        "    # 如果玩家在 max_tries 次內沒猜中，顯示正確答案\n",
        "    print(\"很抱歉，你沒有猜中。正確答案是 \" + str(number) + \"。\")\n",
        "    _______"
      ]
    },
    {
      "cell_type": "code",
      "execution_count": null,
      "metadata": {
        "id": "2DIMQwvv7tWW"
      },
      "outputs": [],
      "source": [
        "# 呼叫函式開始遊戲，最多可猜 5 次\n",
        "game_result = guess_number(5)\n",
        "\n",
        "# 印出遊戲結果\n",
        "if game_result:\n",
        "    print(\"你贏了！\")\n",
        "else:\n",
        "    print(\"你輸了！\")"
      ]
    },
    {
      "cell_type": "markdown",
      "metadata": {
        "id": "OVM7rfNl7tWW"
      },
      "source": [
        "### 函數的進階用法"
      ]
    },
    {
      "cell_type": "markdown",
      "metadata": {
        "id": "LMYwO5K27tWW"
      },
      "source": [
        "#### 區域變數與全域變數"
      ]
    },
    {
      "cell_type": "markdown",
      "metadata": {
        "id": "DyLdYbuz7tWW"
      },
      "source": [
        "在被呼叫的函式中，參數和在該函式內賦值的變數被稱為存在於該函式的 ***區域範圍***。而在所有函式之外所賦值的變數，則被稱為存在於 ***全域範圍***。"
      ]
    },
    {
      "cell_type": "markdown",
      "metadata": {
        "id": "TjverfHM7tWW"
      },
      "source": [
        "位於區域範圍內的變數稱為 ***區域變數***，而位於全域範圍內的變數則稱為 ***全域變數***。  一個變數只能是其中之一；它不能同時是區域變數和全域變數。"
      ]
    },
    {
      "cell_type": "markdown",
      "metadata": {
        "id": "zhSbuL7w7tWW"
      },
      "source": [
        "可以把「範圍 (scope)」想像成變數的容器。當某個範圍被銷毀時，該範圍內儲存的所有變數值也會被遺忘。"
      ]
    },
    {
      "cell_type": "markdown",
      "metadata": {
        "id": "FnMJv5vu7tWW"
      },
      "source": [
        "**對於一個模組來說全域範圍只有一個，並且會在程式開始執行時建立。每當呼叫一個函式時，就會產生一個區域範圍。 在函式中所賦值的任何變數，都只存在於該函式的區域範圍內。當函式執行完畢並返回後，該區域範圍就會被銷毀，而其中的變數也會被遺忘。**"
      ]
    },
    {
      "cell_type": "markdown",
      "metadata": {
        "id": "P5p55C2q7tWX"
      },
      "source": [
        "當你下次再次呼叫該函式時，區域變數將不會記得上一次呼叫時所儲存的值。"
      ]
    },
    {
      "cell_type": "markdown",
      "metadata": {
        "id": "DTHjEluo7tWX"
      },
      "source": [
        "#### 區域變數無法在全域範圍中使用"
      ]
    },
    {
      "cell_type": "markdown",
      "metadata": {
        "id": "UvDWMq4S7tWX"
      },
      "source": [
        "請參考以下這段程式碼，執行時會產生錯誤："
      ]
    },
    {
      "cell_type": "code",
      "execution_count": null,
      "metadata": {
        "id": "Rg1ikr117tWX"
      },
      "outputs": [],
      "source": [
        "def spam():\n",
        "    eggs = 31337\n",
        "\n",
        "spam()\n",
        "print(eggs)"
      ]
    },
    {
      "cell_type": "markdown",
      "metadata": {
        "id": "VQsQbue57tWX"
      },
      "source": [
        "產生錯誤的原因是，變數 `eggs` 僅存在於呼叫 `spam()` 函式時所建立的區域範圍中。當程式執行從 `spam()` 函式返回後，該區域範圍就被銷毀，因此不再存在名為 `eggs` 的變數。"
      ]
    },
    {
      "cell_type": "code",
      "execution_count": null,
      "metadata": {
        "id": "cgFBDTjU7tWX"
      },
      "outputs": [],
      "source": [
        "display_quiz(path+\"local.json\", max_width=800)"
      ]
    },
    {
      "cell_type": "markdown",
      "metadata": {
        "id": "FMUswSTX7tWX"
      },
      "source": [
        "#### 區域範圍無法使用其他區域範圍內的變數"
      ]
    },
    {
      "cell_type": "markdown",
      "metadata": {
        "id": "NXHh-B_u7tWX"
      },
      "source": [
        "每當函式被呼叫時，無論是從主程式還是從另一個函式呼叫，都會建立一個新的區域範圍（local scope）。請參考以下這段程式碼："
      ]
    },
    {
      "cell_type": "code",
      "execution_count": null,
      "metadata": {
        "id": "9hfBdO3m7tWX"
      },
      "outputs": [],
      "source": [
        "def spam():\n",
        "    eggs = 99\n",
        "    bacon()\n",
        "    print(eggs)\n",
        "\n",
        "def bacon():\n",
        "    ham = 101\n",
        "    eggs = 0\n",
        "\n",
        "spam()"
      ]
    },
    {
      "cell_type": "markdown",
      "metadata": {
        "id": "94Qb2xqZ7tWX"
      },
      "source": [
        "你可以在以下網址查看此程式的執行過程：https://autbor.com/otherlocalscopes/"
      ]
    },
    {
      "cell_type": "markdown",
      "metadata": {
        "id": "rEGr2xTO7tWY"
      },
      "source": [
        "> 當程式開始執行時，首先呼叫 `spam()` 函式，並建立一個區域範圍（local scope）。在這個區域範圍內，區域變數 `eggs` 被設定為 99。接著呼叫 `bacon()` 函式，又建立了第二個區域範圍。多個區域範圍可以同時存在。在 `bacon()` 函式的新區域範圍內，區域變數 `ham` 被設定為 101，並且也建立了一個區域變數 `eggs`（與 `spam()` 區域範圍內的 `eggs` 是不同的變數），該變數被設定為 0。  \n",
        ">  \n",
        "> 當 `bacon()` 函式執行結束返回時，與該呼叫相關的區域範圍會被銷毀，其中的 `eggs` 變數也一併消失。程式接著繼續在 `spam()` 函式中執行，並列印 `eggs` 的值。由於 `spam()` 函式的區域範圍仍然存在，這時候僅剩下 `spam()` 區域範圍內的 `eggs` 變數，其值為 99。"
      ]
    },
    {
      "cell_type": "markdown",
      "metadata": {
        "id": "zJQjiZIR7tWY"
      },
      "source": [
        "#### 全域變數可以在區域範圍中被讀取。"
      ]
    },
    {
      "cell_type": "code",
      "execution_count": null,
      "metadata": {
        "id": "1iChhHRF7tWY"
      },
      "outputs": [],
      "source": [
        "def spam():\n",
        "    print(eggs)\n",
        "\n",
        "eggs = 42\n",
        "spam()\n",
        "print(eggs)"
      ]
    },
    {
      "cell_type": "markdown",
      "metadata": {
        "id": "88C11lwr7tWY"
      },
      "source": [
        "你可以在這個網址查看此程式的執行情況：https://autbor.com/readglobal/ 。由於在 `spam()` 函式中沒有名為 `eggs` 的參數，也沒有任何賦值給 `eggs` 的程式碼，因此當 `spam()` 函式中使用 `eggs` 時，Python 會將其視為引用全域變數 `eggs`。這就是為什麼當執行前述程式時，會印出 42 的原因。"
      ]
    },
    {
      "cell_type": "code",
      "execution_count": null,
      "metadata": {
        "id": "WVWc4TIN7tWY"
      },
      "outputs": [],
      "source": [
        "def spam():\n",
        "    eggs = 'spam local'\n",
        "    print(eggs)    # 印出 'spam local'\n",
        "\n",
        "def bacon():\n",
        "    eggs = 'bacon local'\n",
        "    print(eggs)    # 印出 'bacon local'\n",
        "    spam()\n",
        "    print(eggs)    # 印出 'bacon local'\n",
        "\n",
        "eggs = 'global'\n",
        "bacon()\n",
        "print(eggs)        # 印出 'global'"
      ]
    },
    {
      "cell_type": "markdown",
      "metadata": {
        "id": "miNf2SDC7tWY"
      },
      "source": [
        "如果你想修改全域變數，請使用 `global` 關鍵字。"
      ]
    },
    {
      "cell_type": "code",
      "execution_count": null,
      "metadata": {
        "id": "vrw8vbDB7tWY"
      },
      "outputs": [],
      "source": [
        "def spam():\n",
        "    global eggs    # 如果你想修改全域變數 eggs，必須使用 global 關鍵字\n",
        "    eggs = 'spam local'\n",
        "    print(eggs)    # 輸出 'spam local'\n",
        "\n",
        "eggs = 'global'\n",
        "spam()\n",
        "print(eggs)        # 輸出 'spam local'"
      ]
    },
    {
      "cell_type": "markdown",
      "metadata": {
        "id": "3CJHOjbD7tWY"
      },
      "source": [
        "可以在[這邊](https://pythontutor.com/visualize.html#code=def%20spam%28%29%3A%0A%20%20%20%20global%20eggs%20%20%20%20%23%20If%20you%20want%20to%20modify%20the%20global%20eggs%20use%20global%20keyword%0A%20%20%20%20eggs%20%3D%20'spam%20local'%20%0A%20%20%20%20print%28eggs%29%20%20%20%20%23%20prints%20'spam%20local'%0A%0Aeggs%20%3D%20'global'%0Aspam%28%29%0Aprint%28eggs%29&cumulative=false&curInstr=8&heapPrimitives=nevernest&mode=display&origin=opt-frontend.js&py=3&rawInputLstJSON=%5B%5D&textReferences=false)查看程式執行"
      ]
    },
    {
      "cell_type": "markdown",
      "metadata": {
        "id": "B_j7pVID7tWY"
      },
      "source": [
        "> 👨‍⚕️ 除非有非常充分的理由，否則不應該使用全域變數！全域變數的問題在於，它們很容易在整個程式中造成無意間的改動。雖然在某個特定的函式中修改全域變數可能是合理的，但這麼做可能會干擾到其他所有函式的處理流程。"
      ]
    },
    {
      "cell_type": "code",
      "execution_count": null,
      "metadata": {
        "id": "sB9LvKsF7tWY"
      },
      "outputs": [],
      "source": [
        "display_quiz(path+\"global.json\", max_width=800)"
      ]
    },
    {
      "cell_type": "markdown",
      "metadata": {
        "id": "FB_6YD167tWZ"
      },
      "source": [
        "### 儲存你的函式在模組中"
      ]
    },
    {
      "cell_type": "markdown",
      "metadata": {
        "id": "cY-ktV4h7tWZ"
      },
      "source": [
        "函式的一個優點是它們能將程式的區塊從主程式中分離出來。當你為函式使用有意義的名稱時，程式將變得更容易理解。"
      ]
    },
    {
      "cell_type": "markdown",
      "metadata": {
        "id": "3KQZLVWG7tWZ"
      },
      "source": [
        "你還可以更進一步，將函式儲存在一個稱為 **模組 **的獨立檔案中，然後在主程式中匯入該模組。`import` 陳述式會告訴 Python，將模組中的程式碼載入到目前執行的程式檔案中使用。"
      ]
    },
    {
      "cell_type": "markdown",
      "metadata": {
        "id": "5XozwnuC7tWZ"
      },
      "source": [
        "> 將函式儲存在獨立的檔案中，可以隱藏程式碼的細節，讓你專注於更高層次的邏輯。這樣做也能讓你在不同的程式中重複使用這些函式。當你將函式儲存在獨立檔案時，可以只分享這些檔案給其他程式設計師，而無需分享整個程式。學會如何匯入函式，也能讓你使用其他程式設計師撰寫的函式庫。"
      ]
    },
    {
      "cell_type": "markdown",
      "metadata": {
        "id": "g54msVJg7tWZ"
      },
      "source": [
        "#### 匯入模組"
      ]
    },
    {
      "cell_type": "markdown",
      "metadata": {
        "id": "6S4qlFGO7tWZ"
      },
      "source": [
        "要開始匯入函式，我們首先需要建立一個模組。**模組是一個副檔名為 `.py` 的檔案，裡面包含你想要匯入到程式中的程式碼**。讓我們建立一個包含 `make_pizza()` 函式的模組。"
      ]
    },
    {
      "cell_type": "code",
      "execution_count": null,
      "metadata": {
        "id": "Ufv5X9br7tWZ"
      },
      "outputs": [],
      "source": [
        "%load_ext autoreload\n",
        "%autoreload 2"
      ]
    },
    {
      "cell_type": "code",
      "execution_count": null,
      "metadata": {
        "id": "WzlCseez7tWZ"
      },
      "outputs": [],
      "source": [
        "%%writefile pizza.py\n",
        "def make_pizza(size, toppings):\n",
        "    \"\"\"概述我們即將製作的披薩。\"\"\"\n",
        "    print(\"\\n正在製作一個 \" + str(size) + \" 吋的披薩，配料有：\")\n",
        "    print(toppings)"
      ]
    },
    {
      "cell_type": "code",
      "execution_count": null,
      "metadata": {
        "id": "thjP75hj7tWZ"
      },
      "outputs": [],
      "source": [
        "import pizza\n",
        "\n",
        "pizza.make_pizza(16, '義式臘腸')\n",
        "pizza.make_pizza(12, '蘑菇')"
      ]
    },
    {
      "cell_type": "markdown",
      "metadata": {
        "id": "VcwE76w27tWZ"
      },
      "source": [
        "當 Python 讀取這個檔案時，`import pizza` 這一行會告訴 Python 開啟 `pizza.py` 檔案，並將其中所有的函式複製到目前這個程式中。你實際上看不到程式碼在檔案之間被複製，因為 Python 會在程式執行之前於幕後完成這個動作。"
      ]
    },
    {
      "cell_type": "markdown",
      "metadata": {
        "id": "N6uqvlOQ7tWZ"
      },
      "source": [
        "要呼叫從匯入模組中的函式，輸入你匯入的模組名稱 `pizza`，接著加上函式名稱 `make_pizza()`，兩者之間用句點 `.` 分隔。"
      ]
    },
    {
      "cell_type": "markdown",
      "metadata": {
        "id": "gqJLjuQC7tWa"
      },
      "source": [
        "#### 使用 `from` 匯入特定函式"
      ]
    },
    {
      "cell_type": "markdown",
      "metadata": {
        "id": "6OnVVKG67tWa"
      },
      "source": [
        "你也可以從模組中匯入特定的函式："
      ]
    },
    {
      "cell_type": "code",
      "execution_count": null,
      "metadata": {
        "id": "7ZqUasjN7tWa"
      },
      "outputs": [],
      "source": [
        "from pizza import make_pizza\n",
        "\n",
        "make_pizza(16, '義式臘腸')\n",
        "make_pizza(12, '蘑菇')"
      ]
    },
    {
      "cell_type": "markdown",
      "metadata": {
        "id": "ZxTmcAKq7tWa"
      },
      "source": [
        "使用這種語法時，呼叫函式時就不需要使用點符號。"
      ]
    },
    {
      "cell_type": "markdown",
      "metadata": {
        "id": "xJKcQFGz7tWa"
      },
      "source": [
        "#### 匯入模組中的所有函式"
      ]
    },
    {
      "cell_type": "markdown",
      "metadata": {
        "id": "b_-0ZO5B7tWa"
      },
      "source": [
        "你可以使用星號（`*`）運算符，讓 Python 匯入模組中的所有函式："
      ]
    },
    {
      "cell_type": "code",
      "execution_count": null,
      "metadata": {
        "id": "i9ScUzTG7tWa"
      },
      "outputs": [],
      "source": [
        "from pizza import *\n",
        "\n",
        "make_pizza(16, '義式臘腸')\n",
        "make_pizza(12, '蘑菇')"
      ]
    },
    {
      "cell_type": "markdown",
      "metadata": {
        "id": "EFlskk8X7tWa"
      },
      "source": [
        "`import` 語句中的星號（`*`）告訴 Python 將模組 `pizza` 中的每個函式複製到這個程式檔案中。由於所有函式都已匯入，因此你可以直接按名稱呼叫每個函式，而不需要使用點符號。"
      ]
    },
    {
      "cell_type": "markdown",
      "metadata": {
        "id": "czxx6k6N7tWa"
      },
      "source": [
        "然而，在處理較大的、不是自己編寫的模組時，最好避免使用這種方法：如果模組中有一個函式名稱與你專案中已有的名稱相同，可能會導致意外的結果！"
      ]
    },
    {
      "cell_type": "markdown",
      "metadata": {
        "id": "PWTUuTTi7tWa"
      },
      "source": [
        "#### 使用 as 幫函式取別名"
      ]
    },
    {
      "cell_type": "markdown",
      "metadata": {
        "id": "-ZM7Q5Vh7tWa"
      },
      "source": [
        "如果你要匯入的函式名稱可能會與程式中已存在的名稱發生衝突，或者如果該函式的名稱過長，你可以使用簡短且獨特的別名—類似於函式的暱稱。"
      ]
    },
    {
      "cell_type": "code",
      "execution_count": null,
      "metadata": {
        "id": "pa8aM-Wq7tWa"
      },
      "outputs": [],
      "source": [
        "from pizza import make_pizza as mp\n",
        "\n",
        "mp(16, '義式臘腸')\n",
        "mp(12, '蘑菇')"
      ]
    },
    {
      "cell_type": "markdown",
      "metadata": {
        "id": "JnF0iOP37tWb"
      },
      "source": [
        "#### 使用 as 給模組指定別名"
      ]
    },
    {
      "cell_type": "markdown",
      "metadata": {
        "id": "mwSEO5m-7tWb"
      },
      "source": [
        "你也可以為模組名稱提供別名。給模組一個簡短的別名，例如把 `pizza` 設為 `p`，這樣可以讓你更快速地調用模組中的函數。"
      ]
    },
    {
      "cell_type": "code",
      "execution_count": null,
      "metadata": {
        "id": "pKA0AVcK7tWb"
      },
      "outputs": [],
      "source": [
        "import pizza as p\n",
        "\n",
        "p.make_pizza(16, '義式臘腸')\n",
        "p.make_pizza(12, '蘑菇')"
      ]
    },
    {
      "cell_type": "markdown",
      "metadata": {
        "id": "HAvbTGyO7tWb"
      },
      "source": [
        "> ###  練習 2：在這個文字遊戲中，玩家來到一個充滿龍的地方。 有些龍是友善的，有些龍則不太友善，會吃掉任何進入牠們洞窟的人。玩家面前有兩個洞窟，一個有一條友善的龍，另一個有一條餓龍，但他不知道哪個洞窟是什麼龍。玩家必須在這兩個洞窟之間做選擇。請通過調用提供的 `game` 模組中的函數來完成遊戲設計。\n",
        "\n",
        "<center><img src=\"https://raw.githubusercontent.com/phonchi/PythonForMath/refs/heads/main/Figures/word_game.webp\" style=\"width: 20%;\"></center>\n"
      ]
    },
    {
      "cell_type": "code",
      "execution_count": null,
      "metadata": {
        "id": "VcP5aAqz7tWb"
      },
      "outputs": [],
      "source": [
        "%%writefile word_game.py\n",
        "import random\n",
        "import time\n",
        "_____________ # 載入遊戲模組\n",
        "\n",
        "playAgain = 'yes'\n",
        "\n",
        "while playAgain == 'yes':\n",
        "    # 使用遊戲模組中的 displayIntro() 顯示遊戲資訊\n",
        "    ______________\n",
        "    # 讀取使用者輸入並通過調用遊戲模組中的 chooseCave() 函數返回洞穴號碼\n",
        "    caveNumber = ________________\n",
        "    # 通過調用遊戲模組中的 checkCave() 函數並提供適當的引數檢查洞穴是否安全\n",
        "    ______(_____)\n",
        "\n",
        "    print('你想再玩一次嗎？（是或否）')\n",
        "    playAgain = input()"
      ]
    },
    {
      "cell_type": "code",
      "execution_count": null,
      "metadata": {
        "id": "Jh2vmQPH7tWb"
      },
      "outputs": [],
      "source": [
        "%run word_game.py"
      ]
    },
    {
      "cell_type": "markdown",
      "metadata": {
        "id": "e_ZXBwKZ7tWb"
      },
      "source": [
        "> 函數是將程式碼分成邏輯區塊的主要方式。由於函數中的變數存在於它們的區域範圍內，因此一個函數中的程式碼不能直接影響其他函數中變數的值。這限制了哪些程式碼能夠改變變數的值，這在調試程式碼時非常有用。\n",
        "\n",
        "> 函數是幫助組織程式碼的好工具。你可以把它們當作黑盒子來理解：它們有作為參數的輸入和作為返回值的輸出，而且它們內部的程式碼不會影響其他函數中的變數。"
      ]
    },
    {
      "cell_type": "code",
      "execution_count": null,
      "metadata": {
        "id": "3Gx_4Mny7tWb"
      },
      "outputs": [],
      "source": [
        "from jupytercards import display_flashcards\n",
        "fpath= \"https://raw.githubusercontent.com/phonchi/PythonForMath/refs/heads/main/flashcards-TW/\"\n",
        "display_flashcards(fpath + 'ch3.json')"
      ]
    },
    {
      "cell_type": "markdown",
      "metadata": {
        "id": "tM1yE7y77tWb"
      },
      "source": [
        "## 關鍵字"
      ]
    },
    {
      "cell_type": "markdown",
      "metadata": {
        "id": "9mi3ASJA7tWb"
      },
      "source": [
        "- **分治法 (divide and conquer)**：一種將問題分解為較小且易於處理的子問題，分別解決每個子問題，再將結果合併的策略。\n",
        "- **抽象化 (abstraction)**：隱藏複雜細節並只顯示對象或過程中關鍵特徵的概念。\n",
        "- **函數 (function)**：一個可重用的程式碼塊，當被調用時，執行特定的任務。\n",
        "- **呼叫函數 (function call)**：執行函數的行為，指定函數名稱並提供必要的參數。\n",
        "- **引數 (argument)**：調用函數時傳遞給函數的實際值或變數。\n",
        "- **參數 (parameter)**：函數定義中的變數，在函數調用時接收參數的值。\n",
        "- **位置參數 (positional argument)**：必須按照定義順序傳遞給函數的參數。\n",
        "- **文檔字符串 (docstring)**：放置於函數或模組開始處的字符串，用於描述其目的和使用方式。\n",
        "- **返回語句 (return statement)**：結束函數執行並可選擇性地返回一個值給調用者的語句。\n",
        "- **有返回值的函數 (fruitful function)**：執行後返回值的函數。\n",
        "- **無返回值的函數 (void function)**：不返回任何值的函數。\n",
        "- **關鍵字參數 (keyword argument)**：通過顯式命名參數傳遞給函數的參數，允許按照任意順序指定參數。\n",
        "- **默認參數 (default parameter)**：具有預設值的參數，如果在函數調用時未提供參數，則使用此預設值。\n",
        "- **局部範圍 (local scope)**：程式中（通常在函數內）定義變數的區域，該變數只能在該區塊內訪問。\n",
        "- **全局範圍 (global scope)**：變數可以在程式的任何部分訪問的區域，通常在函數外部定義。\n",
        "- **局部變數 (local variable)**：在函數內部定義的變數，僅能在該函數內部使用。\n",
        "- **全局變數 (global variable)**：在模組的頂層定義的變數，該變數可以在該模組的任何地方訪問。\n",
        "- **模組 (module)**：包含 Python 程式碼的文件，包含函數、類別或變數，能夠被導入並在其他 Python 程式中重複使用。"
      ]
    },
    {
      "cell_type": "code",
      "execution_count": null,
      "metadata": {
        "id": "N5HpZeuc7tWc"
      },
      "outputs": [],
      "source": []
    }
  ],
  "metadata": {
    "celltoolbar": "Slideshow",
    "colab": {
      "provenance": []
    },
    "kernelspec": {
      "display_name": "Python 3 (ipykernel)",
      "language": "python",
      "name": "python3"
    },
    "language_info": {
      "codemirror_mode": {
        "name": "ipython",
        "version": 3
      },
      "file_extension": ".py",
      "mimetype": "text/x-python",
      "name": "python",
      "nbconvert_exporter": "python",
      "pygments_lexer": "ipython3",
      "version": "3.9.13"
    },
    "rise": {
      "chalkboard": {
        "color": [
          "rgb(250, 0, 0)",
          "rgb(250, 0, 0)"
        ]
      },
      "controls": false,
      "enable_chalkboard": true,
      "footer": "",
      "overlay": "<div class='myfooter'><h4>函數</h4></div>",
      "slideNumber": "true",
      "theme": "night"
    },
    "vscode": {
      "interpreter": {
        "hash": "ffe9a5d1be64f395cda62646beb00f4fbc1d5c319e2b42024d6d4b4beddf19a5"
      }
    }
  },
  "nbformat": 4,
  "nbformat_minor": 0
}