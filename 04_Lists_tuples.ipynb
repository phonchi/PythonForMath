{
 "cells": [
  {
   "cell_type": "markdown",
   "metadata": {
    "id": "11n5gndbRzoY",
    "slideshow": {
     "slide_type": "slide"
    }
   },
   "source": [
    "# 有序的容器: 串列和元組 \n"
   ]
  },
  {
   "cell_type": "markdown",
   "metadata": {
    "id": "AIFsv_RZ1iV0",
    "slideshow": {
     "slide_type": "skip"
    }
   },
   "source": [
    "<table align=\"left\">\n",
    "  <td>\n",
    "    <a href=\"https://colab.research.google.com/github/phonchi/PythonForMath/blob/master/04_Lists_tuples.ipynb\" target=\"_parent\"><img src=\"https://colab.research.google.com/assets/colab-badge.svg\" alt=\"Open In Colab\"/></a>\n",
    "  </td>\n",
    "  <td>\n",
    "    <a target=\"_blank\" href=\"https://kaggle.com/kernels/welcome?src=https://github.com/phonchi/PythonForMath/blob/master/04_Lists_tuples.ipynb\"><img src=\"https://kaggle.com/static/images/open-in-kaggle.svg\" /></a>\n",
    "  </td>\n",
    "</table>"
   ]
  },
  {
   "cell_type": "markdown",
   "metadata": {
    "slideshow": {
     "slide_type": "skip"
    }
   },
   "source": [
    "請先執行以下兩格程式碼:"
   ]
  },
  {
   "cell_type": "code",
   "execution_count": null,
   "metadata": {
    "slideshow": {
     "slide_type": "skip"
    }
   },
   "outputs": [],
   "source": [
    "!pip install jupyterquiz \n",
    "!pip install jupytercards\n",
    "\n",
    "from IPython.display import display, Javascript\n",
    "display(Javascript('Jupyter.notebook.kernel.restart()'))"
   ]
  },
  {
   "cell_type": "code",
   "execution_count": null,
   "metadata": {
    "slideshow": {
     "slide_type": "skip"
    }
   },
   "outputs": [],
   "source": [
    "from jupyterquiz import display_quiz\n",
    "\n",
    "path=\"https://raw.githubusercontent.com/phonchi/PythonForMath/refs/heads/main/questions-TW/ch4/\""
   ]
  },
  {
   "cell_type": "markdown",
   "metadata": {
    "slideshow": {
     "slide_type": "subslide"
    }
   },
   "source": [
    "1. 簡介\n",
    "\n",
    "2. 串列\n",
    "\n",
    "3. 元組\n",
    "\n",
    "4. 參考"
   ]
  },
  {
   "cell_type": "markdown",
   "metadata": {
    "slideshow": {
     "slide_type": "subslide"
    }
   },
   "source": [
    "還有一個主題是你需要了解的，那就是 `list` 資料型別及其同類型 `tuple`。`串列` 和 `元組` 可以包含多個值，這使得編寫處理大量資料的程式變得更加容易。"
   ]
  },
  {
   "cell_type": "markdown",
   "metadata": {
    "slideshow": {
     "slide_type": "fragment"
    }
   },
   "source": [
    "這些資料型別被稱為 ***容器***，意思是它們是可以\"包含\"其他物件的物件。它們各自有一些重要的特性，並且都有自己的函數，這些函數被稱為 ***方法***，用於與其他物件進行運算。"
   ]
  },
  {
   "cell_type": "markdown",
   "metadata": {
    "slideshow": {
     "slide_type": "fragment"
    }
   },
   "source": [
    "`List` 和 `tuple` 屬於 ***序列*** 資料型別，這意味著它們代表 **有序的項目集合**。它們與 `string` 和由 `range()` 函數返回的 `range` 物件共享相同的特性。"
   ]
  },
  {
   "cell_type": "markdown",
   "metadata": {
    "id": "MTJO4K049nuU",
    "slideshow": {
     "slide_type": "slide"
    }
   },
   "source": [
    "## List (串列)"
   ]
  },
  {
   "cell_type": "markdown",
   "metadata": {
    "id": "iyiuJDms-ZlA",
    "slideshow": {
     "slide_type": "subslide"
    }
   },
   "source": [
    "在 `string` 中，值是字符；在 `list` 中，它們可以是任何類型。`list` 中的值稱為 ***元素*** 或有時稱為 ***項目***。項目之間使用逗號分隔。"
   ]
  },
  {
   "cell_type": "markdown",
   "metadata": {
    "slideshow": {
     "slide_type": "fragment"
    }
   },
   "source": [
    "<center><img src=\"https://raw.githubusercontent.com/phonchi/PythonForMath/refs/heads/main/Figures/list.png\" style=\"width: 50%;\">\n",
    "<div align=\"center\"> source: https://favtutor.com/blogs/list-vs-dictionary </div>"
   ]
  },
  {
   "cell_type": "markdown",
   "metadata": {
    "slideshow": {
     "slide_type": "subslide"
    }
   },
   "source": [
    "有幾種建立新 `list` 的方法；最簡單的方法是將元素放入方括號（“[” 和 ”]”）中。包含零個元素的 `list` 被稱為空的 `list`；你可以用空的方括號建立一個空的 `list`。"
   ]
  },
  {
   "cell_type": "code",
   "execution_count": null,
   "metadata": {
    "id": "_UZvUFCrqFdC",
    "slideshow": {
     "slide_type": "fragment"
    }
   },
   "outputs": [],
   "source": [
    "type([])"
   ]
  },
  {
   "cell_type": "code",
   "execution_count": null,
   "metadata": {
    "id": "iA6_fB0H9onD",
    "slideshow": {
     "slide_type": "fragment"
    }
   },
   "outputs": [],
   "source": [
    "type([10, 20, 30, 40]), type(['calculus', 'introduction to mathematics', 'computer programming', 'linear algebra'])"
   ]
  },
  {
   "cell_type": "markdown",
   "metadata": {
    "id": "jPqRNKXB-03e",
    "slideshow": {
     "slide_type": "fragment"
    }
   },
   "source": [
    "第一個範例是由四個整數組成的 `list`，第二個範例是由四個字串組成的 `list`。"
   ]
  },
  {
   "cell_type": "markdown",
   "metadata": {
    "slideshow": {
     "slide_type": "slide"
    }
   },
   "source": [
    "### 使用索引獲取串列中的單個元素值"
   ]
  },
  {
   "cell_type": "markdown",
   "metadata": {
    "id": "srlcPSxA_DhN",
    "slideshow": {
     "slide_type": "subslide"
    }
   },
   "source": [
    "你可以通過寫出`list`的名稱，後面跟著元素的 ***索引***（即位置編號），並將其放在方括號 (`[]`，稱為 ***下標操作符*** 或 ***括號操作符***) 中來引用 `list` 中的單個項目。記住，<u>索引從 0 開始</u>："
   ]
  },
  {
   "cell_type": "code",
   "execution_count": null,
   "metadata": {
    "id": "wrpckWiU-9W8",
    "slideshow": {
     "slide_type": "fragment"
    }
   },
   "outputs": [],
   "source": [
    "subjects = ['邏輯與集合', '離散數學', '初等數論', '基礎數學']\n",
    "print(subjects[0])\n",
    "print(subjects[3])"
   ]
  },
  {
   "cell_type": "markdown",
   "metadata": {
    "slideshow": {
     "slide_type": "skip"
    }
   },
   "source": [
    "> 👨‍⚕️ 方括號 `[]` 在 Python 中有很多用途。當你剛開始學習如何使用它們時，可能會感到困惑。乍看之下，創建列表和索引列表的操作似乎很難區分。但是，索引操作需要引用已經建立好的的串列，而建立串列則不需要。"
   ]
  },
  {
   "cell_type": "markdown",
   "metadata": {
    "slideshow": {
     "slide_type": "subslide"
    }
   },
   "source": [
    "如果你使用的索引超過列表中值的數量，Python 會給你一個 `IndexError` 錯誤訊息（這是一種執行時的錯誤）。"
   ]
  },
  {
   "cell_type": "code",
   "execution_count": null,
   "metadata": {
    "slideshow": {
     "slide_type": "fragment"
    }
   },
   "outputs": [],
   "source": [
    "print(subjects[4])"
   ]
  },
  {
   "cell_type": "markdown",
   "metadata": {
    "slideshow": {
     "slide_type": "fragment"
    }
   },
   "source": [
    "`list` 的元素不必是相同的類型。以下的 `list` 包含了一個 `string`、一個 `float`、一個 `integer` 和另一個 `list`："
   ]
  },
  {
   "cell_type": "code",
   "execution_count": null,
   "metadata": {
    "slideshow": {
     "slide_type": "fragment"
    }
   },
   "outputs": [],
   "source": [
    "spam = ['spam', 2.0, 5, [10, 20]]"
   ]
  },
  {
   "cell_type": "markdown",
   "metadata": {
    "slideshow": {
     "slide_type": "subslide"
    }
   },
   "source": [
    "這些串列中的串列的值可以使用多重索引來取得："
   ]
  },
  {
   "cell_type": "code",
   "execution_count": null,
   "metadata": {
    "slideshow": {
     "slide_type": "fragment"
    }
   },
   "outputs": [],
   "source": [
    "spam[3][1] # spam = ['spam', 2.0, 5, [10, 20]]"
   ]
  },
  {
   "cell_type": "markdown",
   "metadata": {
    "slideshow": {
     "slide_type": "fragment"
    }
   },
   "source": [
    "第一個索引決定了要使用外部 `list` 中的哪些項目，第二個索引則指示內部 `list` 中的值。如果只使用一個索引，例如 `spam[3]`，則程序會印出該索引處的整個串列值。"
   ]
  },
  {
   "cell_type": "code",
   "execution_count": null,
   "metadata": {
    "slideshow": {
     "slide_type": "fragment"
    }
   },
   "outputs": [],
   "source": [
    "spam[3]"
   ]
  },
  {
   "cell_type": "code",
   "execution_count": null,
   "metadata": {
    "slideshow": {
     "slide_type": "subslide"
    }
   },
   "outputs": [],
   "source": [
    "display_quiz(path+\"list1.json\", max_width=800)"
   ]
  },
  {
   "cell_type": "code",
   "execution_count": null,
   "metadata": {
    "slideshow": {
     "slide_type": "subslide"
    }
   },
   "outputs": [],
   "source": [
    "display_quiz(path+\"list2.json\", max_width=800)"
   ]
  },
  {
   "cell_type": "markdown",
   "metadata": {
    "slideshow": {
     "slide_type": "slide"
    }
   },
   "source": [
    "#### 負數索引和 `len()` 函數"
   ]
  },
  {
   "cell_type": "markdown",
   "metadata": {
    "slideshow": {
     "slide_type": "subslide"
    }
   },
   "source": [
    "索引從 0 開始並遞增，但您也可以使用負數整數來進行索引。整數值 -1 代表 `list` 中的最後一個索引，-2 代表倒數第二個索引，依此類推。"
   ]
  },
  {
   "cell_type": "code",
   "execution_count": null,
   "metadata": {
    "slideshow": {
     "slide_type": "fragment"
    }
   },
   "outputs": [],
   "source": [
    "print(subjects[-1]) # subjects = ['邏輯與集合', '離散數學', '初等數論', '基礎數學']\n",
    "print(subjects[-2])"
   ]
  },
  {
   "cell_type": "markdown",
   "metadata": {
    "slideshow": {
     "slide_type": "fragment"
    }
   },
   "source": [
    "`len()` 函數將返回 `list` 中的元素個數，就像它可以計算字串中的字元數量一樣。"
   ]
  },
  {
   "cell_type": "code",
   "execution_count": null,
   "metadata": {
    "slideshow": {
     "slide_type": "fragment"
    }
   },
   "outputs": [],
   "source": [
    "len(subjects)"
   ]
  },
  {
   "cell_type": "markdown",
   "metadata": {
    "slideshow": {
     "slide_type": "slide"
    }
   },
   "source": [
    "#### 使用切片從另一個 `list` 獲取子串列"
   ]
  },
  {
   "cell_type": "markdown",
   "metadata": {
    "slideshow": {
     "slide_type": "subslide"
    }
   },
   "source": [
    "就像索引可以從 `list` 中獲取單個值一樣，***切片*** 可以從 `list` 中獲取多個值，並返回一個 **新串列**。切片在方括號中輸入，與索引類似，但有兩個由冒號分隔的整數。"
   ]
  },
  {
   "cell_type": "markdown",
   "metadata": {
    "slideshow": {
     "slide_type": "fragment"
    }
   },
   "source": [
    "- `subjects[2]` 是一個帶有索引的串列。\n",
    "- `subjects[1:3]` 是一個帶有切片的串列。"
   ]
  },
  {
   "cell_type": "markdown",
   "metadata": {
    "slideshow": {
     "slide_type": "fragment"
    }
   },
   "source": [
    "切片運算符 `[n:m]` 返回從索引 `n` 開始的部分，並且直到索引 `m` 但不包括索引 `m` 的元素。使用切片會得到為一個新的 `list`！"
   ]
  },
  {
   "cell_type": "code",
   "execution_count": null,
   "metadata": {
    "slideshow": {
     "slide_type": "subslide"
    }
   },
   "outputs": [],
   "source": [
    "subjects = ['邏輯與集合', '離散數學', '初等數論', '基礎數學']\n",
    "print(subjects[0:3])\n",
    "print(subjects[1:-1])"
   ]
  },
  {
   "cell_type": "markdown",
   "metadata": {
    "slideshow": {
     "slide_type": "fragment"
    }
   },
   "source": [
    "有一個更快的方式是可以省略切片中冒號兩邊的其中一個或兩個索引。省略第一個索引相當於使用 0 或 `list` 的起始位置。省略第二個索引相當於使用 `list` 的長度，這樣切片會延伸到 `list` 的末端。"
   ]
  },
  {
   "cell_type": "code",
   "execution_count": null,
   "metadata": {
    "slideshow": {
     "slide_type": "fragment"
    }
   },
   "outputs": [],
   "source": [
    "print(subjects[:3]) # same as subjects[0:3] \n",
    "print(subjects[1:]) # same as subjects[1:len(s)] \n",
    "print(subjects[:]) # same as s[0:len(s)]"
   ]
  },
  {
   "cell_type": "markdown",
   "metadata": {
    "slideshow": {
     "slide_type": "subslide"
    }
   },
   "source": [
    "就像 `range()` 一樣，切片也有第三個索引，用來指定間隔。"
   ]
  },
  {
   "cell_type": "code",
   "execution_count": null,
   "metadata": {
    "slideshow": {
     "slide_type": "fragment"
    }
   },
   "outputs": [],
   "source": [
    "print(subjects[::2]) # 注意預設間隔 1\n",
    "print(subjects[::-1]) # 把串列反轉!"
   ]
  },
  {
   "cell_type": "code",
   "execution_count": null,
   "metadata": {
    "slideshow": {
     "slide_type": "subslide"
    }
   },
   "outputs": [],
   "source": [
    "display_quiz(path+\"slice.json\", max_width=800)"
   ]
  },
  {
   "cell_type": "markdown",
   "metadata": {
    "slideshow": {
     "slide_type": "slide"
    }
   },
   "source": [
    "#### 使用索引更改 List 中的值"
   ]
  },
  {
   "cell_type": "markdown",
   "metadata": {
    "id": "Ylv8bDoR_uZe",
    "slideshow": {
     "slide_type": "subslide"
    }
   },
   "source": [
    "與 `string` 不同，`list` 是 ***可變的 (mutable)***，因為你可以重新指定 `list` 中的項目。當方括號操作符出現在賦值語句的左側時，它標識了將被賦值的 `list` 元素。對 `list` 元素進行賦值的操作稱為 ***項目賦值***："
   ]
  },
  {
   "cell_type": "code",
   "execution_count": null,
   "metadata": {
    "id": "xtumYSz9_M-s",
    "slideshow": {
     "slide_type": "fragment"
    }
   },
   "outputs": [],
   "source": [
    "numbers = [17, 123, 42, 7]\n",
    "numbers[1] = 5\n",
    "numbers"
   ]
  },
  {
   "cell_type": "markdown",
   "metadata": {
    "id": "0K-ICEPo_4rQ",
    "slideshow": {
     "slide_type": "fragment"
    }
   },
   "source": [
    "`numbers` 的第一個元素，原本是 123，現在變成了 5。"
   ]
  },
  {
   "cell_type": "markdown",
   "metadata": {
    "slideshow": {
     "slide_type": "slide"
    }
   },
   "source": [
    "### 串接`List` 與 複製`List` "
   ]
  },
  {
   "cell_type": "markdown",
   "metadata": {
    "slideshow": {
     "slide_type": "subslide"
    }
   },
   "source": [
    "串列可以像字串一樣進行串接和複製。`+` 運算符將兩個列表合併，建立一個新的列表，`*` 運算符可以搭配整數值使用來複製該串列。"
   ]
  },
  {
   "cell_type": "code",
   "execution_count": null,
   "metadata": {
    "slideshow": {
     "slide_type": "fragment"
    }
   },
   "outputs": [],
   "source": [
    "[1, 2, 3] + ['A', 'B', 'C']"
   ]
  },
  {
   "cell_type": "code",
   "execution_count": null,
   "metadata": {
    "slideshow": {
     "slide_type": "fragment"
    }
   },
   "outputs": [],
   "source": [
    "['X', 'Y', 'Z'] * 3"
   ]
  },
  {
   "cell_type": "code",
   "execution_count": null,
   "metadata": {
    "slideshow": {
     "slide_type": "subslide"
    }
   },
   "outputs": [],
   "source": [
    "display_quiz(path+\"concate.json\", max_width=800)"
   ]
  },
  {
   "cell_type": "markdown",
   "metadata": {
    "slideshow": {
     "slide_type": "slide"
    }
   },
   "source": [
    "#### 使用 `del` 從串列中移除值"
   ]
  },
  {
   "cell_type": "markdown",
   "metadata": {
    "slideshow": {
     "slide_type": "subslide"
    }
   },
   "source": [
    "`del` 語句將刪除 `list` 中指定索引處的值。刪除的值後面的所有值將被移動到串列的前面。"
   ]
  },
  {
   "cell_type": "code",
   "execution_count": null,
   "metadata": {
    "slideshow": {
     "slide_type": "fragment"
    }
   },
   "outputs": [],
   "source": [
    "t = ['a', 'b', 'c', 'd', 'e']\n",
    "del t[1] \n",
    "print(t)"
   ]
  },
  {
   "cell_type": "markdown",
   "metadata": {
    "slideshow": {
     "slide_type": "fragment"
    }
   },
   "source": [
    "我們也可以使用切片來刪除多個相鄰的元素："
   ]
  },
  {
   "cell_type": "code",
   "execution_count": null,
   "metadata": {
    "slideshow": {
     "slide_type": "fragment"
    }
   },
   "outputs": [],
   "source": [
    "del t[1:3]\n",
    "print(t)"
   ]
  },
  {
   "cell_type": "markdown",
   "metadata": {
    "id": "IvviPig3At12",
    "slideshow": {
     "slide_type": "slide"
    }
   },
   "source": [
    "### `List` 遍歷"
   ]
  },
  {
   "cell_type": "markdown",
   "metadata": {
    "id": "JwenWwmtAy78",
    "slideshow": {
     "slide_type": "subslide"
    }
   },
   "source": [
    "在第2章中，我們學到了使用 `for` 迴圈來執行一個程式碼區塊特定次數。**事實上，`for` 迴圈會對序列中的每一個項目執行一次程式碼區塊。** 我們將這種類型的序列迭代稱為 ***逐項迭代***。"
   ]
  },
  {
   "cell_type": "code",
   "execution_count": null,
   "metadata": {
    "slideshow": {
     "slide_type": "fragment"
    }
   },
   "outputs": [],
   "source": [
    "for i in range(4):\n",
    "    print(i)"
   ]
  },
  {
   "cell_type": "code",
   "execution_count": null,
   "metadata": {
    "slideshow": {
     "slide_type": "fragment"
    }
   },
   "outputs": [],
   "source": [
    "print(range(4))\n",
    "list(range(4))"
   ]
  },
  {
   "cell_type": "markdown",
   "metadata": {
    "slideshow": {
     "slide_type": "subslide"
    }
   },
   "source": [
    "這是因為 `range(4)` 的返回值是一個序列，Python 會將其視為類似於 `[0, 1, 2, 3]` 的串列。以下程式與之前的程式輸出相同："
   ]
  },
  {
   "cell_type": "code",
   "execution_count": null,
   "metadata": {
    "slideshow": {
     "slide_type": "fragment"
    }
   },
   "outputs": [],
   "source": [
    "for i in [0, 1, 2, 3]:\n",
    "    print(i)"
   ]
  },
  {
   "cell_type": "code",
   "execution_count": null,
   "metadata": {
    "id": "9X-CrgFjAjZM",
    "slideshow": {
     "slide_type": "fragment"
    }
   },
   "outputs": [],
   "source": [
    "for subject in subjects: # subjects = ['邏輯與集合', '離散數學', '初等數論', '基礎數學']\n",
    "    print(subject)"
   ]
  },
  {
   "cell_type": "markdown",
   "metadata": {
    "id": "OYn3-mOZA_WV",
    "slideshow": {
     "slide_type": "subslide"
    }
   },
   "source": [
    "如果你只需要讀取 `list` 的元素這樣的方法很好。但如果你需要索引來寫入或更新元素，一個常見的方法是將 `range()` 和 `len()` 函數結合使用："
   ]
  },
  {
   "cell_type": "code",
   "execution_count": null,
   "metadata": {
    "slideshow": {
     "slide_type": "fragment"
    }
   },
   "outputs": [],
   "source": [
    "numbers = [17, 5, 42, 7]\n",
    "for i in range(len(numbers)):\n",
    "    print(i, numbers[i])\n",
    "    numbers[i] = numbers[i]**2\n",
    "\n",
    "print(numbers)"
   ]
  },
  {
   "cell_type": "markdown",
   "metadata": {
    "id": "720JXEBDBQhl",
    "slideshow": {
     "slide_type": "skip"
    }
   },
   "source": [
    "> 這個迴圈遍歷串列並印出每個元素。`len()` 返回串列中的元素數量。`range()` 返回從 `0` 到 `n - 1` 的索引串列，其中 `n` 是串列的長度。每次迭代中，`i` 會獲取下一個元素的索引。無論串列包含多少項目，它都會遍歷所有索引。"
   ]
  },
  {
   "cell_type": "markdown",
   "metadata": {
    "slideshow": {
     "slide_type": "subslide"
    }
   },
   "source": [
    "#### `in` 和 `not in` 運算子"
   ]
  },
  {
   "cell_type": "markdown",
   "metadata": {
    "slideshow": {
     "slide_type": "subslide"
    }
   },
   "source": [
    "我們可以使用 `in` 和 `not in` 運算子來判斷某個對象是否在 `list` 中。這些運算式將會計算出一個 `Boolean` 值。"
   ]
  },
  {
   "cell_type": "code",
   "execution_count": null,
   "metadata": {
    "slideshow": {
     "slide_type": "fragment"
    }
   },
   "outputs": [],
   "source": [
    "print('hello' in ['hello', 'hi', 'haha', 'he'])\n",
    "print('國文' not in subjects)"
   ]
  },
  {
   "cell_type": "markdown",
   "metadata": {
    "slideshow": {
     "slide_type": "slide"
    }
   },
   "source": [
    "#### 使用 `enumerate()` 函數來存取串列"
   ]
  },
  {
   "cell_type": "markdown",
   "metadata": {
    "id": "9aL7ZSywRpjY",
    "slideshow": {
     "slide_type": "subslide"
    }
   },
   "source": [
    "除了使用 `range(len(someList))` 技巧來取得串列中項目的整數索引，更常見的做法是直接使用 `enumerate()` 函數。每次迴圈執行時，`enumerate()` 會返回兩個值：**項目的索引和項目本身。**"
   ]
  },
  {
   "cell_type": "code",
   "execution_count": null,
   "metadata": {
    "id": "PILF96yHRu83",
    "slideshow": {
     "slide_type": "fragment"
    }
   },
   "outputs": [],
   "source": [
    "numbers = [17, 5, 42, 7]\n",
    "\n",
    "for i, number in enumerate(numbers): \n",
    "    print(i, number)\n",
    "    numbers[i] = number**2\n",
    "\n",
    "print(numbers)"
   ]
  },
  {
   "cell_type": "markdown",
   "metadata": {
    "slideshow": {
     "slide_type": "slide"
    }
   },
   "source": [
    "### `list`的常見方法"
   ]
  },
  {
   "cell_type": "markdown",
   "metadata": {
    "slideshow": {
     "slide_type": "subslide"
    }
   },
   "source": [
    "一個***方法*** 與函數相同，不過它是「對一個物件」進行使用。方法跟在物件之後，並以點號分隔。"
   ]
  },
  {
   "cell_type": "markdown",
   "metadata": {
    "slideshow": {
     "slide_type": "fragment"
    }
   },
   "source": [
    "每個資料型別都有自己的方法。例如，`list` 型別有幾個常用的方法，用於尋找、添加或其他方式操作 `list` 中的值。"
   ]
  },
  {
   "cell_type": "markdown",
   "metadata": {
    "slideshow": {
     "slide_type": "fragment"
    }
   },
   "source": [
    "#### 使用 `append()` 和 `insert()` 方法來添加元素"
   ]
  },
  {
   "cell_type": "markdown",
   "metadata": {
    "id": "kCDRoMiLdFn7",
    "slideshow": {
     "slide_type": "subslide"
    }
   },
   "source": [
    "`append()` 用於將新元素添加到 `list` 的尾端："
   ]
  },
  {
   "cell_type": "code",
   "execution_count": null,
   "metadata": {
    "id": "yzO9iDDwc-eK",
    "slideshow": {
     "slide_type": "fragment"
    }
   },
   "outputs": [],
   "source": [
    "t = ['a', 'b', 'c']\n",
    "t.append('d')\n",
    "t # 更改原本物件值!"
   ]
  },
  {
   "cell_type": "markdown",
   "metadata": {
    "slideshow": {
     "slide_type": "fragment"
    }
   },
   "source": [
    "前面的 `append()` 方法將引數添加到 `list` 的尾端。`insert()` 方法則可以將元素插入到 `list` 的任意索引位置。`insert()` 的第一個參數是插入新值的索引，第二個參數是要插入的值。"
   ]
  },
  {
   "cell_type": "code",
   "execution_count": null,
   "metadata": {
    "slideshow": {
     "slide_type": "fragment"
    }
   },
   "outputs": [],
   "source": [
    "t = ['a', 'b', 'c']\n",
    "t.insert(1,'e')\n",
    "t # 更改原本物件值!"
   ]
  },
  {
   "cell_type": "markdown",
   "metadata": {
    "slideshow": {
     "slide_type": "skip"
    }
   },
   "source": [
    "> 注意到程式碼是 `t.append('d')` 和 `t.insert(1, 'e')`，而不是 `t = t.append('d')` 和 `t = t.insert(1, 'e')`。事實上，`append()` 和 `insert()` 的回傳值是 `None`，所以你不應該將它們儲存為新的變數值。相反地，`list` 會被就地修改。"
   ]
  },
  {
   "cell_type": "markdown",
   "metadata": {
    "slideshow": {
     "slide_type": "subslide"
    }
   },
   "source": [
    "方法屬於單一的資料型別。`append()` 和 `insert()` 方法是 `list` 方法，只能在 `list` 物件上呼叫，而不能在其他物件如 `strings` 或 `integers` 上使用。"
   ]
  },
  {
   "cell_type": "code",
   "execution_count": null,
   "metadata": {
    "slideshow": {
     "slide_type": "fragment"
    }
   },
   "outputs": [],
   "source": [
    "eggs = 'hello'\n",
    "eggs.append('world')"
   ]
  },
  {
   "cell_type": "markdown",
   "metadata": {
    "slideshow": {
     "slide_type": "slide"
    }
   },
   "source": [
    "#### 使用 `extend()` 方法將所有元素添加到 `List` 的尾端"
   ]
  },
  {
   "cell_type": "markdown",
   "metadata": {
    "slideshow": {
     "slide_type": "subslide"
    }
   },
   "source": [
    "使用 `list` 方法 `extend()` 來將 **另一個序列的所有元素** 添加到 `list` 的尾端："
   ]
  },
  {
   "cell_type": "code",
   "execution_count": null,
   "metadata": {
    "slideshow": {
     "slide_type": "fragment"
    }
   },
   "outputs": [],
   "source": [
    "color_names = ['橙色', '黃色', '綠色']\n",
    "color_names.extend(['藍色', '紫色'])  # 相當於 color_names += ['藍色', '紫色']"
   ]
  },
  {
   "cell_type": "code",
   "execution_count": null,
   "metadata": {
    "slideshow": {
     "slide_type": "fragment"
    }
   },
   "outputs": [],
   "source": [
    "color_names"
   ]
  },
  {
   "cell_type": "code",
   "execution_count": null,
   "metadata": {
    "slideshow": {
     "slide_type": "subslide"
    }
   },
   "outputs": [],
   "source": [
    "display_quiz(path+\"append.json\", max_width=800)"
   ]
  },
  {
   "cell_type": "markdown",
   "metadata": {
    "slideshow": {
     "slide_type": "slide"
    }
   },
   "source": [
    "#### 使用 `sort()` 方法排序串列中的元素"
   ]
  },
  {
   "cell_type": "markdown",
   "metadata": {
    "slideshow": {
     "slide_type": "subslide"
    }
   },
   "source": [
    "數字串列或字串串列可以使用 `sort()` 方法進行排序："
   ]
  },
  {
   "cell_type": "code",
   "execution_count": null,
   "metadata": {
    "id": "jlIhCLtodaKM",
    "slideshow": {
     "slide_type": "fragment"
    }
   },
   "outputs": [],
   "source": [
    "spam = [2, 5, 3.14, 1, -7]\n",
    "spam.sort() # 預設行為是按升序排序\n",
    "print(spam)"
   ]
  },
  {
   "cell_type": "markdown",
   "metadata": {
    "slideshow": {
     "slide_type": "subslide"
    }
   },
   "source": [
    "我們也可以將 `reverse` 關鍵字引數設為 `True`，讓 `sort()` 按反向順序對值進行排序。"
   ]
  },
  {
   "cell_type": "code",
   "execution_count": null,
   "metadata": {
    "slideshow": {
     "slide_type": "fragment"
    }
   },
   "outputs": [],
   "source": [
    "spam.sort(reverse=True) # 按遞減排序\n",
    "print(spam)"
   ]
  },
  {
   "cell_type": "markdown",
   "metadata": {
    "slideshow": {
     "slide_type": "slide"
    }
   },
   "source": [
    "### 串列生成式"
   ]
  },
  {
   "cell_type": "markdown",
   "metadata": {
    "slideshow": {
     "slide_type": "subslide"
    }
   },
   "source": [
    "思考以下問題：如何製作一個包含前 10 個平方數的 `list`（即從 1 到 10 的每個整數的平方）。"
   ]
  },
  {
   "cell_type": "code",
   "execution_count": null,
   "metadata": {
    "slideshow": {
     "slide_type": "fragment"
    }
   },
   "outputs": [],
   "source": [
    "squares = []\n",
    "for value in range(1,11):\n",
    "    squares.append(value**2)\n",
    "print(squares)"
   ]
  },
  {
   "cell_type": "markdown",
   "metadata": {
    "slideshow": {
     "slide_type": "fragment"
    }
   },
   "source": [
    "但 ***串列生成式*** 可以僅用一行程式碼生成相同的串列。串列生成式將 `for` 迴圈和新元素的建立結合為一行，並自動將每個新元素附加到串列中！"
   ]
  },
  {
   "cell_type": "code",
   "execution_count": null,
   "metadata": {
    "slideshow": {
     "slide_type": "subslide"
    }
   },
   "outputs": [],
   "source": [
    "squares = [value**2 for value in range(1, 11)]\n",
    "print(squares)"
   ]
  },
  {
   "cell_type": "markdown",
   "metadata": {
    "slideshow": {
     "slide_type": "fragment"
    }
   },
   "source": [
    "要使用這個語法：\n",
    "\n",
    "- 以一個有意義的名稱當作儲存 `list` 變數，例如 `squares`。\n",
    "- 接著，用一對中括號並定義你想要儲存在新 `list` 中的值的運算式。在這個範例中，運算式是 `value**2`。\n",
    "- 然後，寫一個 `for` 迴圈來生成你想要輸入到運算式中的數字。在這個範例中，`for` 迴圈會遍歷 `range(1, 11)`，將數字 1 到 10 輸入到運算式 `value**2` 中。\n",
    "\n",
    "請注意，`for` 語句後面不需要使用冒號。"
   ]
  },
  {
   "cell_type": "markdown",
   "metadata": {
    "slideshow": {
     "slide_type": "skip"
    }
   },
   "source": [
    "> 串列生成式的語法類似於集合建構符號。例如，先前的範例類似於 $\\{x^2 | x \\in \\{1,2,...,10\\}\\}$"
   ]
  },
  {
   "cell_type": "markdown",
   "metadata": {
    "slideshow": {
     "slide_type": "subslide"
    }
   },
   "source": [
    "另一個常見的操作是過濾元素，只選擇那些符合條件的元素。這通常會產生一個比原始數據更少的元素的 `list`。要在串列生成式中做到這一點，可以使用 `if` 子句。以下範例展示了如何僅將 `for` 子句產生的偶數值包含在 `list1` 中："
   ]
  },
  {
   "cell_type": "code",
   "execution_count": null,
   "metadata": {
    "slideshow": {
     "slide_type": "fragment"
    }
   },
   "outputs": [],
   "source": [
    "list1 = [item for item in range(1, 11) if item % 2 == 0]\n",
    "list1"
   ]
  },
  {
   "cell_type": "markdown",
   "metadata": {
    "slideshow": {
     "slide_type": "subslide"
    }
   },
   "source": [
    "### 練習 1：在這個練習中，你將實現“Bulls and Cows”遊戲，電腦會隨機生成一個 4 位數的秘密數字，其中的數字不會重複，玩家則需要嘗試猜測。對於每次猜測，程式將比對輸入的猜測數字與秘密數字，並返回類似 “XAXB” 的結果，其中每個 “A” 代表數字正確且位於正確位置的數字，每個 “B” 代表數字正確但位於錯誤位置的數字。例如，如果秘密數字是 4271，猜測是 1234，那麼輸出應該是 “1A2B”，因為數字“2”位置正確，而“4”和“1”數字存在，但位置錯誤。"
   ]
  },
  {
   "cell_type": "markdown",
   "metadata": {
    "slideshow": {
     "slide_type": "subslide"
    }
   },
   "source": [
    "<center><img src=\"https://raw.githubusercontent.com/phonchi/PythonForMath/refs/heads/main/Figures/1A2B.png\"></center>\n",
    "<div align=\"center\"> source: https://en.wikipedia.org/wiki/Bulls_and_Cows </div>"
   ]
  },
  {
   "cell_type": "code",
   "execution_count": null,
   "metadata": {
    "slideshow": {
     "slide_type": "subslide"
    }
   },
   "outputs": [],
   "source": [
    "import random\n",
    "\n",
    "# 生成隨機的四位數字\n",
    "def generate_number():\n",
    "    digits = list(range(10))\n",
    "    random.shuffle(digits)  # 隨機打亂串列！\n",
    "    return digits[:4]\n",
    "\n",
    "# 檢查玩家的猜測是否符合秘密數字\n",
    "def check_guess(guess, secret):\n",
    "    # 請注意，guess 和 secret 都是串列！\n",
    "    a = 0  # 正確且在正確位置的數字數量\n",
    "    b = 0  # 正確但在錯誤位置的數字數量\n",
    "    for _________________:  # 遍歷 guess 和 secret 的長度並取出索引\n",
    "        if _________________:  # 使用運算符來確定該數字是否在正確的位置\n",
    "            a += 1\n",
    "        elif _______:  # 使用運算符來確定該數字是否在秘密數字中\n",
    "            b += 1\n",
    "    return a, b"
   ]
  },
  {
   "cell_type": "code",
   "execution_count": null,
   "metadata": {
    "slideshow": {
     "slide_type": "subslide"
    }
   },
   "outputs": [],
   "source": [
    "# Play the game\n",
    "print(\"Welcome to 1A2B!\")\n",
    "print(\"I'm thinking of a four-digit number. Can you guess it?\")\n",
    "secret = generate_number()\n",
    "guesses = 0\n",
    "while True:\n",
    "    guess = input(\"Enter your guess, enter 'quit' to give up: \")\n",
    "    if guess == 'quit':\n",
    "        print(\"The secret number is\", secret)\n",
    "        break\n",
    "    elif len(guess) != 4 or not guess.isdigit():\n",
    "        print(\"Invalid guess. Please enter a four-digit number.\")\n",
    "        continue\n",
    "    guess = _______ # Use list comprehension to get the 4-digit guess list\n",
    "    guesses += 1\n",
    "    result = check_guess(guess, secret)\n",
    "    print(result[0],'A', result[1], 'B', sep=\"\")\n",
    "    if result[0] == 4:\n",
    "        print(\"Congratulations, you guessed the number in\", guesses, \"guesses!\")\n",
    "        break"
   ]
  },
  {
   "cell_type": "code",
   "execution_count": null,
   "metadata": {
    "slideshow": {
     "slide_type": "subslide"
    }
   },
   "outputs": [],
   "source": [
    "# 開始遊戲\n",
    "print(\"歡迎來到 1A2B！\")\n",
    "print(\"我想了一個四位數的神祕數字，你能猜到它嗎？\")\n",
    "secret = generate_number()\n",
    "guesses = 0\n",
    "\n",
    "while True:\n",
    "    guess = input(\"請輸入你的猜測或輸入 'quit' 來放棄：\")\n",
    "    if guess == 'quit':\n",
    "        print(\"秘密數字是\", secret)\n",
    "        break\n",
    "    elif len(guess) != 4 or not guess.isdigit():\n",
    "        print(\"無效的猜測，請輸入四位數字。\")\n",
    "        continue\n",
    "    \n",
    "    # 使用串列生成式將猜測轉換為四位數字的列表\n",
    "    guess = ________________________\n",
    "    \n",
    "    guesses += 1\n",
    "    result = check_guess(guess, secret)\n",
    "    print(result[0], 'A', result[1], 'B', sep=\"\")\n",
    "    \n",
    "    if result[0] == 4:\n",
    "        print(\"恭喜你，你在\", guesses, \"次猜測中猜對了神秘數字！\")\n",
    "        break"
   ]
  },
  {
   "cell_type": "markdown",
   "metadata": {
    "slideshow": {
     "slide_type": "slide"
    }
   },
   "source": [
    "### 序列資料型別"
   ]
  },
  {
   "cell_type": "markdown",
   "metadata": {
    "slideshow": {
     "slide_type": "subslide"
    }
   },
   "source": [
    "`串列`（`Lists`）並不是唯一表示有序值序列的資料型別。例如，`字串`（`strings`）和`串列`（`lists`）是相似的，我們可以將 **字串視為由單個字元組成的「串列」**。"
   ]
  },
  {
   "cell_type": "markdown",
   "metadata": {
    "slideshow": {
     "slide_type": "fragment"
    }
   },
   "source": [
    "`Python` 的序列資料型別包括 `串列`（`lists`）、`字串`（`strings`）、`range()` 函數回傳的範圍物件，以及 `元組`（`tuples`）。你在 `串列` 上能進行的許多操作，也可以在 `字串` 和其他序列型別的資料上執行：索引、切片、以及在 `for` 迴圈中使用、配合 `len()` 使用、以及使用 `in` 和 `not in` 運算子。"
   ]
  },
  {
   "cell_type": "code",
   "execution_count": null,
   "metadata": {
    "slideshow": {
     "slide_type": "fragment"
    }
   },
   "outputs": [],
   "source": [
    "'a' in 'apple'"
   ]
  },
  {
   "cell_type": "markdown",
   "metadata": {
    "slideshow": {
     "slide_type": "slide"
    }
   },
   "source": [
    "### 可變和不可變資料型別"
   ]
  },
  {
   "cell_type": "markdown",
   "metadata": {
    "slideshow": {
     "slide_type": "subslide"
    }
   },
   "source": [
    "但是 `list` 和 `string` 在一個重要的方面是不同的。`list` 物件是 ***可變 (mutable)*** 資料型別：它可以增加、移除或更改元素。然而，`string` 是 ***不可變 (immutable)*** 資料型別：它不能被修改。嘗試重新指派字串中的單一字元會導致 `TypeError` 錯誤："
   ]
  },
  {
   "cell_type": "code",
   "execution_count": null,
   "metadata": {
    "slideshow": {
     "slide_type": "fragment"
    }
   },
   "outputs": [],
   "source": [
    "name = 'pokemon tcg pocket'\n",
    "name[7] = 'a'"
   ]
  },
  {
   "cell_type": "markdown",
   "metadata": {
    "id": "UMo588t4rY-O",
    "slideshow": {
     "slide_type": "slide"
    }
   },
   "source": [
    "## 元組"
   ]
  },
  {
   "cell_type": "markdown",
   "metadata": {
    "id": "3cbVny0qrb2X",
    "slideshow": {
     "slide_type": "subslide"
    }
   },
   "source": [
    "`tuple` 是一種與 `list` 類似的序列型別。儲存在 `tuple` 中的值可以是任何型別，並且它們是由整數來索引的。重要的區別在於，`tuple` 是 ***不可變 (immutable)*** 的。"
   ]
  },
  {
   "cell_type": "markdown",
   "metadata": {
    "id": "ZBmWzbZrrodF",
    "slideshow": {
     "slide_type": "fragment"
    }
   },
   "source": [
    "雖然不是必要的，但我們通常會將 `tuple` 用小括號括起來，以便我們在看 `Python` 程式碼時能夠快速識別 `tuple`。"
   ]
  },
  {
   "cell_type": "code",
   "execution_count": null,
   "metadata": {
    "id": "31nRYo3kp8pZ",
    "slideshow": {
     "slide_type": "fragment"
    }
   },
   "outputs": [],
   "source": [
    "type(())"
   ]
  },
  {
   "cell_type": "code",
   "execution_count": null,
   "metadata": {
    "id": "byFxBdL-p0W7",
    "slideshow": {
     "slide_type": "subslide"
    }
   },
   "outputs": [],
   "source": [
    "t = ('a', 'b', 'c', 'd', 'e')\n",
    "type(t)"
   ]
  },
  {
   "cell_type": "markdown",
   "metadata": {
    "id": "ljwYA7Bnrtfi",
    "slideshow": {
     "slide_type": "fragment"
    }
   },
   "source": [
    "要建立一個包含單一元素的 `tuple`，你必須在最後加上逗號，或者使用 `tuple()` 函數："
   ]
  },
  {
   "cell_type": "code",
   "execution_count": null,
   "metadata": {
    "id": "7bKaCxd6rm3o",
    "slideshow": {
     "slide_type": "fragment"
    }
   },
   "outputs": [],
   "source": [
    "t1 = ('a',)\n",
    "t2 = tuple('a')\n",
    "print(type(t1), type(t2))\n",
    "t3 = ('a')\n",
    "print(type(t3))\n",
    "print(t1, t2, t3)"
   ]
  },
  {
   "cell_type": "markdown",
   "metadata": {
    "id": "49oF_8Z_r-jU",
    "slideshow": {
     "slide_type": "subslide"
    }
   },
   "source": [
    "如果 `tuple()` 的引數是一個序列（`string`、`list` 或 `tuple`），則結果會是一個包含該序列元素的 `tuple`："
   ]
  },
  {
   "cell_type": "code",
   "execution_count": null,
   "metadata": {
    "id": "HpZ5N3P-r4NB",
    "slideshow": {
     "slide_type": "fragment"
    }
   },
   "outputs": [],
   "source": [
    "t = tuple('nsysu')\n",
    "t"
   ]
  },
  {
   "cell_type": "markdown",
   "metadata": {
    "id": "uCQoFLN6sFSN",
    "slideshow": {
     "slide_type": "fragment"
    }
   },
   "source": [
    "大多數 `list` 運算子也可以用於 `tuple`。例如中括號運算子用於索引元素："
   ]
  },
  {
   "cell_type": "code",
   "execution_count": null,
   "metadata": {
    "id": "qZmPRU1OsBxR",
    "slideshow": {
     "slide_type": "fragment"
    }
   },
   "outputs": [],
   "source": [
    "print(t[0]) # t = tuple('nsysu')\n",
    "print(t[1:3])"
   ]
  },
  {
   "cell_type": "markdown",
   "metadata": {
    "id": "1_iwRUm4sNKE",
    "slideshow": {
     "slide_type": "subslide"
    }
   },
   "source": [
    "但是，如果你嘗試修改 `tuple` 中的某個元素，會出現錯誤："
   ]
  },
  {
   "cell_type": "code",
   "execution_count": null,
   "metadata": {
    "id": "bZZIW_AssHyW",
    "slideshow": {
     "slide_type": "fragment"
    }
   },
   "outputs": [],
   "source": [
    "t[0] = 'A'"
   ]
  },
  {
   "cell_type": "markdown",
   "metadata": {
    "slideshow": {
     "slide_type": "fragment"
    }
   },
   "source": [
    "你可以使用 `tuple` 來向任何閱讀你程式碼的人表示，這些序列的值不會改變。如果你需要一個不會改變的序列，就使用 `tuple`。"
   ]
  },
  {
   "cell_type": "code",
   "execution_count": null,
   "metadata": {
    "slideshow": {
     "slide_type": "subslide"
    }
   },
   "outputs": [],
   "source": [
    "display_quiz(path+\"tuple.json\", max_width=800)"
   ]
  },
  {
   "cell_type": "markdown",
   "metadata": {
    "slideshow": {
     "slide_type": "slide"
    }
   },
   "source": [
    "### 序列拆解"
   ]
  },
  {
   "cell_type": "markdown",
   "metadata": {
    "slideshow": {
     "slide_type": "subslide"
    }
   },
   "source": [
    "我們在前一章中已經看過多重賦值的技巧（實際上是拆解 `tuple`）。事實上，我們可以通過將序列賦值給以逗號分隔的變數來拆解任何序列的元素。"
   ]
  },
  {
   "cell_type": "code",
   "execution_count": null,
   "metadata": {
    "slideshow": {
     "slide_type": "fragment"
    }
   },
   "outputs": [],
   "source": [
    "student_tuple = ('Alice', [98, 85, 87])\n",
    "first_name, grades = student_tuple\n",
    "print(first_name, grades)"
   ]
  },
  {
   "cell_type": "markdown",
   "metadata": {
    "slideshow": {
     "slide_type": "subslide"
    }
   },
   "source": [
    "這種拆解在函數中返回多個值時常常用到："
   ]
  },
  {
   "cell_type": "code",
   "execution_count": null,
   "metadata": {
    "slideshow": {
     "slide_type": "fragment"
    }
   },
   "outputs": [],
   "source": [
    "def total_ave(grade):\n",
    "    total = sum(grade)\n",
    "    ave = total/len(grade)\n",
    "    return total, ave\n",
    "\n",
    "grades = [85, 70, 100, 90]\n",
    "total, ave = total_ave(grades)\n",
    "\n",
    "print(total, ave)"
   ]
  },
  {
   "cell_type": "markdown",
   "metadata": {
    "slideshow": {
     "slide_type": "slide"
    }
   },
   "source": [
    "## 參照"
   ]
  },
  {
   "cell_type": "markdown",
   "metadata": {
    "slideshow": {
     "slide_type": "subslide"
    }
   },
   "source": [
    "在 `Python` 中，變數儲存的是***參照***，也就是儲存著該物件在電腦中記憶體的位置。"
   ]
  },
  {
   "cell_type": "code",
   "execution_count": null,
   "metadata": {
    "slideshow": {
     "slide_type": "fragment"
    }
   },
   "outputs": [],
   "source": [
    "spam = 42\n",
    "cheese = spam\n",
    "print(id(cheese), id(spam))\n",
    "spam = 100\n",
    "print(id(cheese), id(spam))\n",
    "\n",
    "spam, cheese"
   ]
  },
  {
   "cell_type": "markdown",
   "metadata": {
    "slideshow": {
     "slide_type": "fragment"
    }
   },
   "source": [
    "`id()` 回傳的識別碼實際上是物件的記憶體位置，並以 Python 整數的形式表示。Python 中的所有物件都有一個唯一的身份（記憶體位置），可以透過 `id()` 函數來取得。"
   ]
  },
  {
   "cell_type": "markdown",
   "metadata": {
    "slideshow": {
     "slide_type": "skip"
    }
   },
   "source": [
    "> 當你將 42 指派給 `spam` 變數時，實際上是在 **電腦的記憶體中建立了 42 的值並將一個參照（記憶體位置）** 儲存在 `spam` 變數中。當你將 `spam` 中的值複製並指派給 `cheese` 變數時，實際上是複製了參照。`spam` 和 `cheese` 兩個變數都指向電腦記憶體中的 42 值。當你稍後將 `spam` 的值更改為 100 時，你實際上是在建立一個新的 100 值並將其參照儲存在 `spam` 中。這不會影響 `cheese` 中的值。整數是不可變的值，無法改變；更改 `spam` 變數實際上是讓它指向記憶體中完全不同的值。"
   ]
  },
  {
   "cell_type": "markdown",
   "metadata": {
    "slideshow": {
     "slide_type": "skip"
    }
   },
   "source": [
    "> 注意：對於像是整數或字串等不可變物件，Python 直譯器通常會透過最佳化記憶體使用，使得兩個名稱指向相同的值時，會指向相同的物件。"
   ]
  },
  {
   "cell_type": "markdown",
   "metadata": {
    "slideshow": {
     "slide_type": "subslide"
    }
   },
   "source": [
    "但 `list` 串列並不是這樣運作的，因為 `list` 是可變的："
   ]
  },
  {
   "cell_type": "code",
   "execution_count": null,
   "metadata": {
    "slideshow": {
     "slide_type": "fragment"
    }
   },
   "outputs": [],
   "source": [
    "spam = [0, 1, 2, 3, 4, 5]\n",
    "cheese = spam        # 這是複製參照，而不是複製串列\n",
    "print(id(cheese), id(spam))\n",
    "cheese[1] = 'Hello!' # 這會改變串列的值！\n",
    "print(id(cheese), id(spam))\n",
    "\n",
    "spam, cheese"
   ]
  },
  {
   "cell_type": "markdown",
   "metadata": {
    "slideshow": {
     "slide_type": "subslide"
    }
   },
   "source": [
    "我們可以使用盒子作為變數的隱喻，下圖顯示當 `list` 被賦值給 `spam` 變數時會發生什麼。"
   ]
  },
  {
   "cell_type": "markdown",
   "metadata": {
    "slideshow": {
     "slide_type": "fragment"
    }
   },
   "source": [
    "<center><img src=\"https://raw.githubusercontent.com/phonchi/PythonForMath/refs/heads/main/Figures/ref1.jpg\"></center>\n",
    "<div align=\"center\"> source: https://automatetheboringstuff.com/2e/chapter4/ </div>"
   ]
  },
  {
   "cell_type": "markdown",
   "metadata": {
    "slideshow": {
     "slide_type": "subslide"
    }
   },
   "source": [
    "然後，`spam` 中的參照被複製到 `cheese`。在 `cheese` 中只創建並儲存了一個新的參照，而不是一個新的 `list`。注意兩個參照都指向相同的 `list`。"
   ]
  },
  {
   "cell_type": "markdown",
   "metadata": {
    "slideshow": {
     "slide_type": "fragment"
    }
   },
   "source": [
    "<center><img src=\"https://raw.githubusercontent.com/phonchi/PythonForMath/refs/heads/main/Figures/ref2.jpg\"></center>\n",
    "<div align=\"center\"> source: https://automatetheboringstuff.com/2e/chapter4/ </div>"
   ]
  },
  {
   "cell_type": "markdown",
   "metadata": {
    "slideshow": {
     "slide_type": "subslide"
    }
   },
   "source": [
    "當你修改 `cheese` 所指向的 `list` 時，`spam` 所指向的 `list` 也會被改變，因為 `cheese` 和 `spam` 都指向相同的 `list`。"
   ]
  },
  {
   "cell_type": "markdown",
   "metadata": {
    "slideshow": {
     "slide_type": "fragment"
    }
   },
   "source": [
    "<center><img src=\"https://raw.githubusercontent.com/phonchi/PythonForMath/refs/heads/main/Figures/ref3.jpg\"></center>\n",
    "<div align=\"center\"> source: https://automatetheboringstuff.com/2e/chapter4/ </div>"
   ]
  },
  {
   "cell_type": "markdown",
   "metadata": {
    "slideshow": {
     "slide_type": "subslide"
    }
   },
   "source": [
    "就像 `integer` 一樣，`'Hello'` 是一個不可變的 `string`，無法被修改。如果你「更改」變數中的 `string`，實際上會在記憶體中的不同位置創建一個新的 `string` 物件，並且該變數會指向這個新的 `string`。"
   ]
  },
  {
   "cell_type": "code",
   "execution_count": null,
   "metadata": {
    "slideshow": {
     "slide_type": "fragment"
    }
   },
   "outputs": [],
   "source": [
    "bacon = 'Hello'\n",
    "print(id(bacon))\n",
    "bacon = bacon + 'World'\n",
    "print(id(bacon))"
   ]
  },
  {
   "cell_type": "markdown",
   "metadata": {
    "slideshow": {
     "slide_type": "subslide"
    }
   },
   "source": [
    "然而，`lists` 可以被修改，因為它們是可變物件。`append()` 方法不會創建新的 `list` 物件；它會改變已存在的 `list` 物件。我們稱這種操作為 **「就地修改物件」**。"
   ]
  },
  {
   "cell_type": "code",
   "execution_count": null,
   "metadata": {
    "slideshow": {
     "slide_type": "fragment"
    }
   },
   "outputs": [],
   "source": [
    "eggs = ['Hello']  # 這會創建一個新的 list。\n",
    "print(id(eggs))\n",
    "eggs.append('World')  # append() 就地修改 list。\n",
    "print(id(eggs))       # eggs 仍然指向相同的 list，如同之前。"
   ]
  },
  {
   "cell_type": "markdown",
   "metadata": {
    "slideshow": {
     "slide_type": "fragment"
    }
   },
   "source": [
    "如果兩個變數參照到相同的 `list`（像是前一段的 `spam` 和 `cheese`），且該 `list` 改變了，那麼這兩個變數都會受到影響，因為它們都參照到同一個 `list`。`append()`、`sort()` 以及其他 `list` 方法會就地修改它們的 `list`。"
   ]
  },
  {
   "cell_type": "markdown",
   "metadata": {
    "slideshow": {
     "slide_type": "skip"
    }
   },
   "source": [
    "> Python 的自動垃圾回收器會刪除所有未被任何變數參照的值，以釋放記憶體。我們不需要擔心垃圾回收器是如何運作的，這是一件好事：在其他程式語言中，手動記憶體管理通常是錯誤的常見來源!"
   ]
  },
  {
   "cell_type": "markdown",
   "metadata": {
    "slideshow": {
     "slide_type": "slide"
    }
   },
   "source": [
    "### 傳遞參照"
   ]
  },
  {
   "cell_type": "markdown",
   "metadata": {
    "slideshow": {
     "slide_type": "subslide"
    }
   },
   "source": [
    "參照對於理解引數如何傳遞到函數中非常重要。當函數被呼叫時，**引數的值會被複製到參數變數中**。"
   ]
  },
  {
   "cell_type": "markdown",
   "metadata": {
    "slideshow": {
     "slide_type": "fragment"
    }
   },
   "source": [
    "對於 `串列`來說**參照的副本**會被傳遞到參數。"
   ]
  },
  {
   "cell_type": "code",
   "execution_count": null,
   "metadata": {
    "slideshow": {
     "slide_type": "fragment"
    }
   },
   "outputs": [],
   "source": [
    "def eggs(someParameter):\n",
    "    someParameter.append('Hello')\n",
    "\n",
    "spam = [1, 2, 3]\n",
    "eggs(spam)\n",
    "print(spam)"
   ]
  },
  {
   "cell_type": "markdown",
   "metadata": {
    "slideshow": {
     "slide_type": "fragment"
    }
   },
   "source": [
    "注意到當程式呼叫 `eggs()` 時，並沒有使用回傳值來為 `spam` 指派新值。相反地，它直接修改了串列的內容。儘管 `spam` 和 `someParameter` 包含了各自的參照，它們都指向同一個串列。"
   ]
  },
  {
   "cell_type": "markdown",
   "metadata": {
    "slideshow": {
     "slide_type": "subslide"
    }
   },
   "source": [
    "對於不可變的類型 `字串` 和 `整數`，當我們在函式內修改 `someParameter` 時，我們將創建一個新的物件。因此，原始值在迴圈結束後不會被修改。"
   ]
  },
  {
   "cell_type": "code",
   "execution_count": null,
   "metadata": {
    "slideshow": {
     "slide_type": "fragment"
    }
   },
   "outputs": [],
   "source": [
    "def eggs(someParameter):\n",
    "    print(id(someParameter))\n",
    "    someParameter = someParameter + \"world\" \n",
    "    print(id(someParameter))\n",
    "\n",
    "spam = \"hello\"\n",
    "print(id(spam))\n",
    "eggs(spam)\n",
    "print(spam)"
   ]
  },
  {
   "cell_type": "markdown",
   "metadata": {
    "slideshow": {
     "slide_type": "slide"
    }
   },
   "source": [
    "### `copy` 模組的 `copy()` 和 `deepcopy()` 函式"
   ]
  },
  {
   "cell_type": "markdown",
   "metadata": {
    "slideshow": {
     "slide_type": "subslide"
    }
   },
   "source": [
    "`Python` 提供了一個名為 `copy` 的模組，其中包含 `copy()` 和 `deepcopy()` 函式。`copy()` 可用來製作可變資料類型（例如串列）的複製，而不只是複製參照。"
   ]
  },
  {
   "cell_type": "code",
   "execution_count": null,
   "metadata": {
    "slideshow": {
     "slide_type": "fragment"
    }
   },
   "outputs": [],
   "source": [
    "import copy\n",
    "\n",
    "spam = ['A', 'B', 'C', 'D']\n",
    "print(id(spam))\n",
    "cheese = copy.copy(spam)\n",
    "print(id(cheese)) \n",
    "cheese[1] = 42\n",
    "\n",
    "spam, cheese"
   ]
  },
  {
   "cell_type": "markdown",
   "metadata": {
    "slideshow": {
     "slide_type": "subslide"
    }
   },
   "source": [
    "現在，`spam` 和 `cheese` 變數分別參照不同的 `串列`，因此當你在 `cheese` 的索引 1 位置指派 42 時，只有 `cheese` 中的串列會被修改。"
   ]
  },
  {
   "cell_type": "markdown",
   "metadata": {
    "slideshow": {
     "slide_type": "fragment"
    }
   },
   "source": [
    "<center><img src=\"https://raw.githubusercontent.com/phonchi/PythonForMath/refs/heads/main/Figures/ref4.jpg\"></center>\n",
    "<div align=\"center\"> source: https://automatetheboringstuff.com/2e/chapter4/ </div>"
   ]
  },
  {
   "cell_type": "markdown",
   "metadata": {
    "slideshow": {
     "slide_type": "skip"
    }
   },
   "source": [
    "> 如果你需要複製的串列包含其他串列，那麼請使用 `copy.deepcopy()` 函數，而不是 `copy.copy()`。`deepcopy()` 函數會複製這些內部的串列。"
   ]
  },
  {
   "cell_type": "markdown",
   "metadata": {
    "slideshow": {
     "slide_type": "subslide"
    }
   },
   "source": [
    "> ### 練習 2: 這裡我們將模擬一個簡單的撲克牌遊戲。這個遊戲使用標準的52張牌，我們會隨機選擇40張牌，並將它們均分給兩位玩家。每位玩家得到20張牌。遊戲的目標是收集具有相同花色的對子（例如，兩張A、兩張K等等）。遊戲結束時，擁有最多對子的玩家獲勝。"
   ]
  },
  {
   "cell_type": "code",
   "execution_count": null,
   "metadata": {
    "slideshow": {
     "slide_type": "subslide"
    }
   },
   "outputs": [],
   "source": [
    "import random\n",
    "\n",
    "# 撰寫 create_deck 函式，該函式創建一個包含52張牌的元組列表\n",
    "# 每個元組應該包含兩個元素：牌面（例如 \"A\"、\"K\" 等）\n",
    "# 和花色（例如 \"♣\"、\"♦\" 等）\n",
    "def create_deck():\n",
    "    ranks = [\"A\", \"2\", \"3\", \"4\", \"5\", \"6\", \"7\", \"8\", \"9\", \"10\", \"J\", \"Q\", \"K\"]\n",
    "    suits = ['♣', '♦', '♥', '♠']\n",
    "    deck = [(rank, suit) _____]  # 使用串列生成式來創建牌組\n",
    "    return deck\n",
    "\n",
    "# 接收對子作為參數的函式，並返回兩個串列，每個串列包含從牌組中隨機選出的26張牌\n",
    "# 使用串列切片和 random 模組來實現這個函式\n",
    "def deal_cards(deck):\n",
    "    deck = deck[:40]\n",
    "    random.shuffle(deck)\n",
    "    hand1 = _____  # 使用切片將牌分成每人20張\n",
    "    hand2 = _____\n",
    "    return hand1, hand2"
   ]
  },
  {
   "cell_type": "code",
   "execution_count": null,
   "metadata": {
    "slideshow": {
     "slide_type": "subslide"
    }
   },
   "outputs": [],
   "source": [
    "# 撰寫 find_pairs 函式，該函式接受一個包含牌的串列作為參數並返回一個元組列表\n",
    "# 這些元組表示該列表中的對子。對子是指兩張牌具有相同的牌面。\n",
    "def find_pairs(cards):\n",
    "    pairs = []\n",
    "    for i, card1 in enumerate(cards):\n",
    "        for j, card2 in enumerate(cards):\n",
    "            if i != j and card1[0] == card2[0] and card1 not in [pair[0] for pair in pairs]\\\n",
    "                and card1 not in [pair[1] for pair in pairs] and card2 not in [pair[0] for pair in pairs]\\\n",
    "                and card2 not in [pair[1] for pair in pairs]:\n",
    "                pairs._____((card1, card2))  # 使用串列的某個方法將它添加到 pairs 中\n",
    "    return pairs"
   ]
  },
  {
   "cell_type": "code",
   "execution_count": null,
   "metadata": {
    "slideshow": {
     "slide_type": "subslide"
    }
   },
   "outputs": [],
   "source": [
    "deck = create_deck()\n",
    "hand1, hand2 = deal_cards(deck)\n",
    "pairs1 = find_pairs(hand1)\n",
    "pairs2 = find_pairs(hand2)\n",
    "\n",
    "print(pairs1)\n",
    "print(pairs2)\n",
    "if ___________: # 比較兩個串列的長度\n",
    "    print(\"玩家1獲勝!\")\n",
    "elif _____________:\n",
    "    print(\"玩家2獲勝!\")\n",
    "else:\n",
    "    print(\"平手!\")"
   ]
  },
  {
   "cell_type": "markdown",
   "metadata": {
    "slideshow": {
     "slide_type": "skip"
    }
   },
   "source": [
    "> 👨‍⚕️ `Lists` 是一種可變的序列資料型別，這意味著它們的內容可以變更。`Tuples` 和 `strings`，雖然也是序列資料型別，但它們是不可變的，無法改變。包含 `tuple` 或 `string` 值的變數可以被覆蓋為新的 `tuple` 或 `string` 值，但這並不等同於修改現有的值（就像 `append() 方法對 `lists` 所做的那樣）。由於 `tuples` 是不可變的，它們不提供像 `sort()` 和 `reverse()` 這樣修改現有 `lists` 的方法。不過，`Python` 提供了內建函數 `sorted()` 和 `reversed()`，它們接受任何序列作為參數並返回一個新序列，該序列包含相同的元素，順序不同。\n",
    "\n",
    "> 👨‍⚕️ 變數並不直接儲存 `list` 物件；它們儲存的是對 `lists` 的參照。當你在複製變數或傳遞 `lists` 作為函數參數時，這是很重要的區別。因為被複製的是 `list` 的參照，請注意你對 `list` 所做的任何變更可能會影響程式中其他變數。若你希望在一個變數中修改 `list` 而不改變原始的 `list`，可以使用 `copy()` 或 `deepcopy()`。值得注意的是，切片也會創建一個新的 `list` 物件。"
   ]
  },
  {
   "cell_type": "code",
   "execution_count": null,
   "metadata": {
    "slideshow": {
     "slide_type": "subslide"
    }
   },
   "outputs": [],
   "source": [
    "from jupytercards import display_flashcards\n",
    "fpath= \"https://raw.githubusercontent.com/phonchi/PythonForMath/refs/heads/main/flashcards-TW/\"\n",
    "display_flashcards(fpath + 'ch4.json')"
   ]
  },
  {
   "cell_type": "markdown",
   "metadata": {
    "slideshow": {
     "slide_type": "skip"
    }
   },
   "source": [
    "## 關鍵字"
   ]
  },
  {
   "cell_type": "markdown",
   "metadata": {
    "slideshow": {
     "slide_type": "skip"
    }
   },
   "source": [
    "- **容器 (containers)**：用來儲存或組織多個值的結構，例如串列、元組和字串。\n",
    "- **方法 (methods)**：與物件相關聯的函數，並且可以在該物件上呼叫。\n",
    "- **序列 (sequence)**：有序的項目集合，每個項目可以通過其位置（索引）來存取。\n",
    "- **串列 (list)**：Python 中的可變序列型別，可以儲存不同資料型別的項目集合。\n",
    "- **元組 (tuple)**：Python 中的不可變序列型別，可以儲存不同資料型別的項目集合。\n",
    "- **元素 (elements)**：包含在像串列或元組等容器中的個別項目或值。\n",
    "- **索引 (index)**：序列中元素的數值位置，從 0 開始。\n",
    "- **下標運算符 (subscript operator)**：用來通過索引存取容器中元素的方括號（[]）。\n",
    "- **切片 (slicing)**：通過指定起始、結束位置和選擇性步驟來檢索序列子集的方法。\n",
    "- **可變 (mutable)**：描述在創建後可以改變的物件，例如串列。\n",
    "- **項目指派 (item assignment)**：使用索引來更改可變容器中元素的值的過程。\n",
    "- **逐項迭代 (iteration by item)**：逐個處理容器中每個元素的過程。\n",
    "- **串列生成式 (list comprehension)**：通過對序列中每個項目應用表達式來創建串列的簡潔方法。\n",
    "- **不可變 (immutable)**：描述創建後無法更改的物件，例如元組或字串。\n",
    "- **參照 (reference)**：Python 中的變數儲存一個參照，這是物件的記憶體位址。它指向物件儲存的位置，而不是包含物件本身。\n",
    "- **就地修改 (modify in-place)**：在不創建新物件的情況下更改可變物件的內容。"
   ]
  }
 ],
 "metadata": {
  "celltoolbar": "Slideshow",
  "colab": {
   "collapsed_sections": [
    "SwFKFBMwRzoa",
    "n3ezAAdIsgpj",
    "gASYx5-Cxzyg",
    "2kLRVhae3rSa",
    "DPpfFEA07W0A",
    "uloOTsPL9A74",
    "MTJO4K049nuU",
    "3hD9uBt6AW9l",
    "IvviPig3At12",
    "HQK5zGP749m3",
    "7YVyJ-IgBZ7s",
    "L5VlI3VKg_dV",
    "wgqoOGqEiUre",
    "jscaE3K65HP9",
    "UMo588t4rY-O",
    "AGs4jgnSsZa1"
   ],
   "provenance": [],
   "toc_visible": true
  },
  "kernelspec": {
   "display_name": "Python 3 (ipykernel)",
   "language": "python",
   "name": "python3"
  },
  "language_info": {
   "codemirror_mode": {
    "name": "ipython",
    "version": 3
   },
   "file_extension": ".py",
   "mimetype": "text/x-python",
   "name": "python",
   "nbconvert_exporter": "python",
   "pygments_lexer": "ipython3",
   "version": "3.9.13"
  },
  "rise": {
   "chalkboard": {
    "color": [
     "rgb(250, 0, 0)",
     "rgb(250, 0, 0)"
    ]
   },
   "controls": false,
   "enable_chalkboard": true,
   "footer": "",
   "overlay": "<div class='myfooter'><h4>串列和元組</h4></div>",
   "slideNumber": "true",
   "theme": "night"
  }
 },
 "nbformat": 4,
 "nbformat_minor": 1
}
