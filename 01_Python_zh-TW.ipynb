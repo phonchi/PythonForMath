{
 "cells": [
  {
   "cell_type": "markdown",
   "metadata": {
    "id": "11n5gndbRzoY",
    "slideshow": {
     "slide_type": "slide"
    }
   },
   "source": [
    "# Python基礎介紹"
   ]
  },
  {
   "cell_type": "markdown",
   "metadata": {
    "slideshow": {
     "slide_type": "skip"
    }
   },
   "source": [
    "<table align=\"left\">\n",
    "  <td>\n",
    "    <a href=\"https://colab.research.google.com/github/phonchi/PythonForMath/blob/master/01_Python_zh-TW.ipynb\" target=\"_parent\"><img src=\"https://colab.research.google.com/assets/colab-badge.svg\" alt=\"Open In Colab\"/></a>\n",
    "  </td>\n",
    "  <td>\n",
    "    <a target=\"_blank\" href=\"https://kaggle.com/kernels/welcome?src=https://github.com/phonchi/PythonForMath/blob/master/01_Python_zh-TW.ipynb\"><img src=\"https://kaggle.com/static/images/open-in-kaggle.svg\" /></a>\n",
    "  </td>\n",
    "</table>"
   ]
  },
  {
   "cell_type": "markdown",
   "metadata": {
    "slideshow": {
     "slide_type": "skip"
    }
   },
   "source": [
    "請先執行以下兩格程式碼:"
   ]
  },
  {
   "cell_type": "code",
   "execution_count": null,
   "metadata": {
    "slideshow": {
     "slide_type": "skip"
    }
   },
   "outputs": [],
   "source": [
    "!conda install -y -c conda-forge jupyter_contrib_nbextensions\n",
    "!jupyter contrib nbextension install\n",
    "!jupyter nbextension enable varInspector/main"
   ]
  },
  {
   "cell_type": "code",
   "execution_count": null,
   "metadata": {
    "slideshow": {
     "slide_type": "skip"
    }
   },
   "outputs": [],
   "source": [
    "!pip install jupyterquiz \n",
    "!pip install jupytercards\n",
    "\n",
    "from IPython.display import display, Javascript\n",
    "display(Javascript('Jupyter.notebook.kernel.restart()'))"
   ]
  },
  {
   "cell_type": "code",
   "execution_count": null,
   "metadata": {
    "slideshow": {
     "slide_type": "skip"
    }
   },
   "outputs": [],
   "source": [
    "from jupyterquiz import display_quiz\n",
    "\n",
    "path=\"https://raw.githubusercontent.com/phonchi/PythonForMath/refs/heads/main/questions-TW/ch1/\""
   ]
  },
  {
   "cell_type": "markdown",
   "metadata": {
    "slideshow": {
     "slide_type": "subslide"
    }
   },
   "source": [
    "1. 簡介\n",
    "\n",
    "2. 變數\n",
    "\n",
    "3. 除錯\n",
    "\n",
    "4. 第一個程序"
   ]
  },
  {
   "cell_type": "markdown",
   "metadata": {
    "id": "SwFKFBMwRzoa",
    "slideshow": {
     "slide_type": "slide"
    }
   },
   "source": [
    "## 簡介"
   ]
  },
  {
   "cell_type": "markdown",
   "metadata": {
    "id": "Ss9hRGHDRzob",
    "slideshow": {
     "slide_type": "subslide"
    }
   },
   "source": [
    "問題解決是電腦科學的核心部分，而你在問題解決過程中所創造的解決方案便是 ***演算法***。演算法是一系列逐步的指令，只要完全按照這些指令執行，就能解決所考慮的問題。"
   ]
  },
  {
   "cell_type": "markdown",
   "metadata": {
    "slideshow": {
     "slide_type": "fragment"
    }
   },
   "source": [
    "例如，一個用來計算三角形斜邊長度的演算法可能如下：\n",
    "\n",
    "演算法範例 1（中文）：\n",
    "- 請輸入兩邊的長度\n",
    "- 使用畢氏定理計算斜邊\n",
    "- 顯示斜邊"
   ]
  },
  {
   "cell_type": "markdown",
   "metadata": {
    "slideshow": {
     "slide_type": "skip"
    }
   },
   "source": [
    ">請注意，這個演算法是由一系列步驟所構成。它以中文撰寫以便於理解，但也假定讀者了解必要的子步驟。儘管簡單的演算法用中文撰寫時容易理解，但較複雜的演算法則需要更精確的符號表示。"
   ]
  },
  {
   "cell_type": "markdown",
   "metadata": {
    "slideshow": {
     "slide_type": "subslide"
    }
   },
   "source": [
    "演算法就像食譜一樣：必須精確執行、清楚明確且無歧義，並且必須能夠在有限步驟內結束。為了提高精確性，演算法通常會以 ***虛擬碼*** 撰寫。"
   ]
  },
  {
   "cell_type": "markdown",
   "metadata": {
    "slideshow": {
     "slide_type": "fragment"
    }
   },
   "source": [
    "演算法範例 2（虛擬碼）：\n",
    "- 請輸入非斜邊的邊長：\n",
    "    - 請輸入第一邊的長度，記作 $a$。\n",
    "    - 請輸入第二邊的長度，記作 $b$。\n",
    "- 令 \n",
    "    $$  \\text{hypotenuse} = \\sqrt{a^2 + b^2} $$\n",
    "- 顯示斜邊的長度"
   ]
  },
  {
   "cell_type": "markdown",
   "metadata": {
    "slideshow": {
     "slide_type": "subslide"
    }
   },
   "source": [
    "一旦我們得到這樣的解決方案，就可以利用電腦來<u>自動化</u>它的執行。***程式設計***是一項技能，它使得計算機科學家能夠將演算法轉換成一種符號（也就是程式），讓電腦可以依照它來運行。程式則是用***程式語言***撰寫的，例如 Python——這正是你在本課程中將學習的語言。"
   ]
  },
  {
   "cell_type": "code",
   "execution_count": null,
   "metadata": {
    "slideshow": {
     "slide_type": "fragment"
    }
   },
   "outputs": [],
   "source": [
    "side_a = int(input(\"請輸入第一邊的長度:\"))\n",
    "side_b = int(input(\"請輸入第二邊的長度:\"))\n",
    "hypotenuse = (side_a**2 + side_b**2)**(1/2)\n",
    "print(\"該三角形的斜邊是：\", hypotenuse)"
   ]
  },
  {
   "cell_type": "markdown",
   "metadata": {
    "slideshow": {
     "slide_type": "skip"
    }
   },
   "source": [
    "> 👨‍⚕️ 演算法之所以重要，是因為透過程式設計解決問題的過程始於演算法的設計。程式設計師通常會先以虛擬碼來表示演算法，以便更好地理解各個子步驟，然後再將演算法轉換成電腦能夠執行的程式。在下一節中，你將學習如何在電腦上執行 Python 程式。"
   ]
  },
  {
   "cell_type": "code",
   "execution_count": null,
   "metadata": {
    "slideshow": {
     "slide_type": "subslide"
    }
   },
   "outputs": [],
   "source": [
    "display_quiz(path+\"algo.json\", question_alignment='center', max_width=800)"
   ]
  },
  {
   "cell_type": "markdown",
   "metadata": {
    "id": "vk4VMOiLBn7L",
    "slideshow": {
     "slide_type": "slide"
    }
   },
   "source": [
    "### Hello, python"
   ]
  },
  {
   "cell_type": "markdown",
   "metadata": {
    "slideshow": {
     "slide_type": "subslide"
    }
   },
   "source": [
    "電腦程式本質上是透過 0 跟 1 的數字或訊號來指揮電腦做一些我們想要它完成的工作，例如數學的四則運算，或是計算圓周率到底有幾位數。不過一般人應該看不太懂這些 0 跟 1 所代表的意思，所以便有人設計出一些普通人比較容易理解像是 `if...else...` 這種比較接近人類語言的電腦指令。"
   ]
  },
  {
   "cell_type": "markdown",
   "metadata": {
    "slideshow": {
     "slide_type": "fragment"
    }
   },
   "source": [
    "這些指令最終還是會被轉換成電腦看的懂的 0 與 1，而 `if...else...` 這種比較容易懂的指令就稱之程式語言的語法。目前全世界的程式語言有非常多種，各有各自的用途，不同的程式語言就只是使用不同的語法在叫電腦做事而已，而本課程要介紹的程式語言 Python 也是其中一種，還是目前全世界最受歡迎的那種!"
   ]
  },
  {
   "cell_type": "code",
   "execution_count": 2,
   "metadata": {
    "slideshow": {
     "slide_type": "fragment"
    }
   },
   "outputs": [],
   "source": [
    "import antigravity"
   ]
  },
  {
   "cell_type": "markdown",
   "metadata": {
    "slideshow": {
     "slide_type": "subslide"
    }
   },
   "source": [
    "Python 之所以廣受歡迎，主要在於語法簡潔易讀，初學者非常容易上手。近年來 Python 的爆炸性成長，主要歸功於資料科學及人工智慧領域的推波助瀾。程式庫及範例，第一順位永遠是 Python 版!"
   ]
  },
  {
   "cell_type": "markdown",
   "metadata": {
    "slideshow": {
     "slide_type": "fragment"
    }
   },
   "source": [
    "例如近期 [Excel](https://www.youtube.com/watch?v=kYyIEnTXYRg) 也加入了Python的支援!"
   ]
  },
  {
   "cell_type": "markdown",
   "metadata": {
    "slideshow": {
     "slide_type": "fragment"
    }
   },
   "source": [
    "「寫程式」的過程，就是使用某些工具（通常是文字編輯軟體），把這些指令存成檔案。這些檔案就像電影的劇本，舞台上的演員們就是照著劇本的指示演戲，電腦也是根據你寫的這些指令來完成你想要做的工作。"
   ]
  },
  {
   "cell_type": "markdown",
   "metadata": {
    "slideshow": {
     "slide_type": "subslide"
    }
   },
   "source": [
    "Python 強調程式碼的可讀性，並且是一種 ***直譯式語言***。對初學者來說，這意味著可以直接在互動式提示符中輸入 Python 指令，或者將它們儲存在一個純文字檔案中（稱為 `\"script\"`），之後再執行。這些指令會由 Python 的 ***直譯器*** 評估並執行命令。"
   ]
  },
  {
   "cell_type": "markdown",
   "metadata": {
    "slideshow": {
     "slide_type": "fragment"
    }
   },
   "source": [
    "<center><img src=\"https://raw.githubusercontent.com/phonchi/PythonForMath/refs/heads/main/Figures/interpret.png\" width=\"60%\" height=\"60%\"></center>"
   ]
  },
  {
   "cell_type": "markdown",
   "metadata": {
    "slideshow": {
     "slide_type": "skip"
    }
   },
   "source": [
    "> 直譯器會讀取高階程式並立即執行，這意味著它會一行一行地按照程式中所指示的內容進行操作。它在讀取每行指令與執行計算之間交替進行。而編譯器則會在程式開始運行之前先讀取整個程式並將其完全編譯。在這種情況下，原始程式被稱為原始碼，而翻譯後的程式則被稱為機器碼。一旦程式被編譯，你就可以反覆執行它，而無需進一步編譯！"
   ]
  },
  {
   "cell_type": "markdown",
   "metadata": {
    "id": "3_gQhZxrBvQW",
    "slideshow": {
     "slide_type": "subslide"
    }
   },
   "source": [
    "一個 ***指令***（通常稱為 ***敘述***）會指示直譯器執行某個動作。許多程式語言入門教材中介紹的第一個程式便是 \"Hello, World\"。這個簡單的程式展示了一個特定語言如何產生輸出，同時也展示了該語言如何表示\"文字\"並輸出基本的問候 🙂"
   ]
  },
  {
   "cell_type": "code",
   "execution_count": null,
   "metadata": {
    "id": "IPO0BNIcRzob",
    "slideshow": {
     "slide_type": "fragment"
    }
   },
   "outputs": [],
   "source": [
    "print('Hello, World！')"
   ]
  },
  {
   "cell_type": "markdown",
   "metadata": {
    "id": "j3AXpU87B5bT",
    "slideshow": {
     "slide_type": "fragment"
    }
   },
   "source": [
    "即使在這個簡單的 Python 敘述中，也有幾個層面值得注意。  \n",
    "* 首先， `print()` 是[內建的 ***函數***](https://docs.python.org/zh-tw/3.13/library/functions.html)，一個 Python 預先定義的操作，用來產生輸出，也就是程式執行後呈現給使用者的結果。`print` 後面跟著左括號和右括號；括號內的內容即為要被印出的值或我們會將其稱之為***參數***。"
   ]
  },
  {
   "cell_type": "markdown",
   "metadata": {
    "slideshow": {
     "slide_type": "subslide"
    }
   },
   "source": [
    "* 第二，像數字、字母和字串(用來表示一連「串」的文「字」)這類固定的值稱為 ***常數***，屬於不會改變的 **資料**。在 Python 中，字串常數可以使用單引號 `'` 或雙引號 `\"` 表示。"
   ]
  },
  {
   "cell_type": "markdown",
   "metadata": {
    "slideshow": {
     "slide_type": "fragment"
    }
   },
   "source": [
    "請注意，可以使用 `\\` 將敘述跨越多行，或者利用逗號 `,` 分隔多個物件進行輸出。"
   ]
  },
  {
   "cell_type": "markdown",
   "metadata": {
    "slideshow": {
     "slide_type": "skip"
    }
   },
   "source": [
    "> 位於大寫字母 `'H'` 前及驚嘆號後的引號，標示出一連串字元的開始與結束，這些字元在 Python 中會被視為一個值。"
   ]
  },
  {
   "cell_type": "code",
   "execution_count": null,
   "metadata": {
    "slideshow": {
     "slide_type": "fragment"
    }
   },
   "outputs": [],
   "source": [
    "print('Hello,\\\n",
    " World')\n",
    "\n",
    "print('Hello', 'World')"
   ]
  },
  {
   "cell_type": "markdown",
   "metadata": {
    "slideshow": {
     "slide_type": "skip"
    }
   },
   "source": [
    "> 在 Jupyter Notebook 中，如果你想要印出的敘述是程式碼中的最後一個敘述，甚至可以省略 `print` 函數。"
   ]
  },
  {
   "cell_type": "code",
   "execution_count": null,
   "metadata": {
    "slideshow": {
     "slide_type": "fragment"
    }
   },
   "outputs": [],
   "source": [
    "'hi python'\n",
    "'Hello, World!'"
   ]
  },
  {
   "cell_type": "markdown",
   "metadata": {
    "slideshow": {
     "slide_type": "skip"
    }
   },
   "source": [
    "> 👨‍⚕️ 你已經執行了第一個程式！在本課程中，你將經常執行程式，而程式也會變得越來越複雜。幫助你理解程式運作及學習程式設計的一個方法，是在真正執行程式前先<u>預測</u>程式碼片段的執行效果。為了確認你的理解，**務必執行程式**。"
   ]
  },
  {
   "cell_type": "code",
   "execution_count": null,
   "metadata": {
    "slideshow": {
     "slide_type": "subslide"
    }
   },
   "outputs": [],
   "source": [
    "display_quiz(path+\"print.json\", max_width=800)"
   ]
  },
  {
   "cell_type": "markdown",
   "metadata": {
    "slideshow": {
     "slide_type": "subslide"
    }
   },
   "source": [
    "##### > 練習題 1：完成以下事項以確保你已正確設定環境\n",
    "1. 打開左側的檔案總管或開啟 Jupyter Notebook。\n",
    "2. 連接到 Python 環境。\n",
    "3. 在下方建立一個新的程式碼儲存格，撰寫一段程式碼印出 \"finish\"，並執行該儲存格。\n",
    "4. 建立一個名為 \"finish.py\" 的新腳本，撰寫一段程式碼印出 \"finish\"，然後執行該腳本。"
   ]
  },
  {
   "cell_type": "code",
   "execution_count": null,
   "metadata": {
    "slideshow": {
     "slide_type": "fragment"
    }
   },
   "outputs": [],
   "source": [
    "# 請在下方撰寫程式碼\n"
   ]
  },
  {
   "cell_type": "code",
   "execution_count": null,
   "metadata": {
    "slideshow": {
     "slide_type": "fragment"
    }
   },
   "outputs": [],
   "source": [
    "%run finish.py"
   ]
  },
  {
   "cell_type": "markdown",
   "metadata": {
    "id": "LwTvxL92Rbgp",
    "slideshow": {
     "slide_type": "slide"
    }
   },
   "source": [
    "### 運算子與運算式"
   ]
  },
  {
   "cell_type": "markdown",
   "metadata": {
    "slideshow": {
     "slide_type": "slide"
    }
   },
   "source": [
    "#### 像計算機一樣使用運算子"
   ]
  },
  {
   "cell_type": "markdown",
   "metadata": {
    "id": "-YaC1zvFRfpB",
    "slideshow": {
     "slide_type": "subslide"
    }
   },
   "source": [
    "除了字串，數字在程式設計中也常常被使用。Python 內建的運算子允許數值以各種熟悉的方式組合。請注意，在 Python 中，`2 + 3` 稱為***運算式***，它由值/運算元（例如 `2` 或 `3`）以及運算子（例如 `+`）組成，而它們是一種特殊的敘述！"
   ]
  },
  {
   "cell_type": "code",
   "execution_count": null,
   "metadata": {
    "colab": {
     "base_uri": "https://localhost:8080/"
    },
    "id": "x3NqVDtHPrRY",
    "outputId": "f9997145-e865-491b-9ebb-0337593552ed",
    "slideshow": {
     "slide_type": "fragment"
    }
   },
   "outputs": [],
   "source": [
    "# 整數\n",
    "print(3+4)       # 印出 “7”，代表 3 加 4。\n",
    "print(5-6)       # 印出 “-1”，代表 5 減 6。\n",
    "print(7*8)       # 印出 “56”，代表 7 乘以 8。\n",
    "print(45/4)      # 印出 “11.25”，代表 45 除以 4，其中 / 為浮點數除法。\n",
    "print(2**10)     # 印出 “1024”，代表 2 的 10 次方。"
   ]
  },
  {
   "cell_type": "markdown",
   "metadata": {
    "slideshow": {
     "slide_type": "fragment"
    }
   },
   "source": [
    "這些範例敘述介紹了另一項程式語言特性。`#` 符號表示***註解***的開始，這是一個供我們閱讀的標記，程式執行時電腦會忽略它。在腳本的開頭通常會有一個高階描述，向讀者說明整個腳本的目的及所採用的方法。所有位於 `#` 之後、直到行尾的字元，都會被 Python 忽略。"
   ]
  },
  {
   "cell_type": "markdown",
   "metadata": {
    "slideshow": {
     "slide_type": "skip"
    }
   },
   "source": [
    "> 請注意，我們使用 `**` 來表示次方運算。這可能會讓人感到意外，因為在其他一些程式語言中常用 `^` 來表示這個運算。然而在 Python 中，`^` 運算子用於 XOR 位元布林運算。"
   ]
  },
  {
   "cell_type": "markdown",
   "metadata": {
    "slideshow": {
     "slide_type": "skip"
    }
   },
   "source": [
    "> 👨‍⚕️ 即使你覺得已經相當了解這個程式，我們仍建議你至少修改它幾次，以確認你是否真正理解它在不同情況下的表現。有時候你會對自己的發現感到驚訝！"
   ]
  },
  {
   "cell_type": "markdown",
   "metadata": {
    "id": "XkqWahmER-25",
    "slideshow": {
     "slide_type": "subslide"
    }
   },
   "source": [
    "當像 45 除以 4 這樣的運算產生一個非整數結果，例如 `11.25` 時，Python 會自動切換到 **浮點數** 表示法。當只需要整數答案時，可以使用另一組運算子。"
   ]
  },
  {
   "cell_type": "code",
   "execution_count": null,
   "metadata": {
    "colab": {
     "base_uri": "https://localhost:8080/"
    },
    "id": "7yub5hd3RqQz",
    "outputId": "4a5d1413-2412-4c25-f1d0-cc7d0f381040",
    "slideshow": {
     "slide_type": "fragment"
    }
   },
   "outputs": [],
   "source": [
    "print(45//4)     # 印出 “11”，代表 45 整數除以 4，其中 // 為向下取整數（整數除法）\n",
    "print(45%4)      # 印出 “1”，因為 4 * 11 + 1 = 45"
   ]
  },
  {
   "cell_type": "markdown",
   "metadata": {
    "id": "OTttc0pmSO6R",
    "slideshow": {
     "slide_type": "fragment"
    }
   },
   "source": [
    "雙斜線代表整數 ***向下取整除法*** 運算子，而百分比符號代表 ***模數***（或餘數）運算子。"
   ]
  },
  {
   "cell_type": "code",
   "execution_count": null,
   "metadata": {
    "slideshow": {
     "slide_type": "subslide"
    }
   },
   "outputs": [],
   "source": [
    "display_quiz(path+\"type.json\", max_width=800)"
   ]
  },
  {
   "cell_type": "markdown",
   "metadata": {
    "slideshow": {
     "slide_type": "subslide"
    }
   },
   "source": [
    "當一個運算式中出現多個運算子時，其運算的順序取決於 **優先順序規則**。Python 在數學運算子上的優先順序遵循與數學相同的規則。"
   ]
  },
  {
   "cell_type": "code",
   "execution_count": null,
   "metadata": {
    "slideshow": {
     "slide_type": "fragment"
    }
   },
   "outputs": [],
   "source": [
    "print(3-1*2)\n",
    "print((3-1)*2)\n",
    "print(2**4/2)"
   ]
  },
  {
   "cell_type": "code",
   "execution_count": null,
   "metadata": {
    "slideshow": {
     "slide_type": "subslide"
    }
   },
   "outputs": [],
   "source": [
    "display_quiz(path+\"precedence.json\", max_width=800)"
   ]
  },
  {
   "cell_type": "markdown",
   "metadata": {
    "id": "Le6KIYDuSdW6",
    "slideshow": {
     "slide_type": "subslide"
    }
   },
   "source": [
    "字串值也可以以直觀的方式進行組合和操作。"
   ]
  },
  {
   "cell_type": "code",
   "execution_count": 10,
   "metadata": {
    "colab": {
     "base_uri": "https://localhost:8080/"
    },
    "id": "ES9UKB-pSLJl",
    "outputId": "9fa62dd5-f940-4731-c19f-84a78969dba1",
    "slideshow": {
     "slide_type": "fragment"
    }
   },
   "outputs": [
    {
     "name": "stdout",
     "output_type": "stream",
     "text": [
      "helloworld\n",
      "hellohellohellohello\n"
     ]
    }
   ],
   "source": [
    "print('hello' + 'world')    \n",
    "print('hello' * 4)    "
   ]
  },
  {
   "cell_type": "markdown",
   "metadata": {
    "id": "7SRVaTxWSkEZ",
    "slideshow": {
     "slide_type": "fragment"
    }
   },
   "source": [
    "加號運算子會將字串值串接在一起，而乘號運算子則會重複（複製）字串值。"
   ]
  },
  {
   "cell_type": "markdown",
   "metadata": {
    "slideshow": {
     "slide_type": "subslide"
    }
   },
   "source": [
    "對一般人來說，數字就是數字，這是我們每天眼睛張開就要面對的東西，再熟悉不過了。大部份的程式語言都有數字可以用，在 Python 的數字主要有分兩種，一個是沒有帶小數點的「整數（Integer）」，另一個則是帶有小數點的，在程式語言的世界通常會稱它做「浮點數（Float）」。"
   ]
  },
  {
   "cell_type": "markdown",
   "metadata": {
    "slideshow": {
     "slide_type": "fragment"
    }
   },
   "source": [
    "電腦是採用二進位來儲存數字所以實際上很多小數都會有[誤差與有效位數](https://zh.wikipedia.org/zh-tw/IEEE_754)。"
   ]
  },
  {
   "cell_type": "code",
   "execution_count": 13,
   "metadata": {
    "slideshow": {
     "slide_type": "fragment"
    }
   },
   "outputs": [
    {
     "data": {
      "text/plain": [
       "0.30000000000000004"
      ]
     },
     "execution_count": 13,
     "metadata": {},
     "output_type": "execute_result"
    }
   ],
   "source": [
    "0.1 + 0.2"
   ]
  },
  {
   "cell_type": "markdown",
   "metadata": {
    "id": "_6ZotSZXEzN5",
    "slideshow": {
     "slide_type": "slide"
    }
   },
   "source": [
    "## 變數"
   ]
  },
  {
   "cell_type": "markdown",
   "metadata": {
    "id": "U_5LmIfNE165",
    "slideshow": {
     "slide_type": "subslide"
    }
   },
   "source": [
    "一個 ***變數*** 就像電腦記憶體中的一個盒子，讓你可以儲存值。在電腦的世界裡有很多的資料或數值，如果能適當的給這些資料一個標籤或名字，在取用的時候會方便的多!"
   ]
  },
  {
   "cell_type": "markdown",
   "metadata": {
    "slideshow": {
     "slide_type": "fragment"
    }
   },
   "source": [
    "我們可以使用 ***指派敘述*** 將值儲存到變數中。指派敘述由變數名稱、等號以及要儲存的值所組成。**在 Python 中，每件事物都是以物件的形式儲存，Python 變數實際上是一個指向物件的參考！**"
   ]
  },
  {
   "cell_type": "markdown",
   "metadata": {
    "slideshow": {
     "slide_type": "fragment"
    }
   },
   "source": [
    "<center><img src=\"https://cs.berea.edu//cpp4python/_images/python_reference.png\"></center>\n",
    "<div align=\"center\"> source: https://cs.berea.edu//cpp4python/AtomicData/AtomicData.html </div>"
   ]
  },
  {
   "cell_type": "code",
   "execution_count": null,
   "metadata": {
    "colab": {
     "base_uri": "https://localhost:8080/"
    },
    "executionInfo": {
     "elapsed": 7,
     "status": "ok",
     "timestamp": 1664458500650,
     "user": {
      "displayName": "phonchi chung",
      "userId": "13517391734500420886"
     },
     "user_tz": -480
    },
    "id": "OLi_7GqcRzox",
    "outputId": "603af22e-ff7e-4c48-a862-681998a34535",
    "slideshow": {
     "slide_type": "fragment"
    }
   },
   "outputs": [],
   "source": [
    "varName = 100"
   ]
  },
  {
   "cell_type": "markdown",
   "metadata": {
    "slideshow": {
     "slide_type": "skip"
    }
   },
   "source": [
    "> 剛剛前面也看到了，我們在 Python 宣告變數不需要事先講它是什麼內容，這是 Python 的特性之一，專有名詞稱為「動態型別（Dynamic Typing）」。這表示你可以在程式中隨時變更變數所指向的資料的型別"
   ]
  },
  {
   "cell_type": "markdown",
   "metadata": {
    "slideshow": {
     "slide_type": "subslide"
    }
   },
   "source": [
    "當一個值第一次被存入變數時，該變數就被建立了。之後，你可以在其他包含變數和值的敘述中使用它。當變數被賦予新值時，舊的值就會被遺忘，這稱為**覆寫**變數。"
   ]
  },
  {
   "cell_type": "code",
   "execution_count": null,
   "metadata": {
    "slideshow": {
     "slide_type": "fragment"
    }
   },
   "outputs": [],
   "source": [
    "spam = 'Hello'   # 'Hello' 是一個字串物件\n",
    "print(spam)      # spam 是一個變數，只是對該物件的參考或標籤\n",
    "spam = 'Goodbye' # 'Goodbye' 是另一個字串物件\n",
    "print(spam)"
   ]
  },
  {
   "cell_type": "markdown",
   "metadata": {
    "slideshow": {
     "slide_type": "skip"
    }
   },
   "source": [
    "> 將變數視為你可以分配給值的標籤會更好。[你也可以說變數引用著某個特定的值](https://pythontutor.com/visualize.html#code=spam%20%3D%20'Hello'%20%20%20%23%20'Hello'%20is%20a%20string%20object%0Aprint%28spam%29%20%20%20%20%20%20%23%20spam%20is%20a%20variable,%20it%20is%20just%20a%20reference%20or%20tag%0Aspam%20%3D%20'Goodbye'%20%23%20'Goodbye'%20is%20another%20string%20object%0Aprint%28spam%29&cumulative=false&curInstr=0&heapPrimitives=true&mode=display&origin=opt-frontend.js&py=3&rawInputLstJSON=%5B%5D&textReferences=false)。這與數學中的情況不同。在代數中，如果你將 x 設為 3，那麼在計算過程中它就不能半途改變引用到其他值！\n",
    "\n",
    "> 看到 a = a + 1 這樣的數學式，大概會覺得怎麼可能會有哪個值等於自己加 1！當然以數學來說是不可能發生，但對 Python 以及目前大部份的程式語言來說，一個等號不是「等於」的意思，而是「指定（Assign）」的意思，a = a + 1 會先處理等號右邊的運算，把原本的變數 a 的值加 1 之後再指定給等號左邊變數!"
   ]
  },
  {
   "cell_type": "code",
   "execution_count": null,
   "metadata": {
    "slideshow": {
     "slide_type": "subslide"
    }
   },
   "outputs": [],
   "source": [
    "display_quiz(path+\"assignment.json\", max_width=800)"
   ]
  },
  {
   "cell_type": "markdown",
   "metadata": {
    "id": "7EvWoL27Fbqx",
    "slideshow": {
     "slide_type": "subslide"
    }
   },
   "source": [
    "在 Python 中，變數的命名主要由使用者決定。Python 的簡單規則是，變數名稱必須以英文字母或底線（_）開頭，且可以由任意數量的字母、數字和底線組成（例如：A-z、0-9 與 _）。"
   ]
  },
  {
   "cell_type": "markdown",
   "metadata": {
    "slideshow": {
     "slide_type": "fragment"
    }
   },
   "source": [
    "| 有效的變數名稱   | 無效的變數名稱                                   |\n",
    "|----------------|-------------------------------------------------|\n",
    "| current_balance| current-balance（不允許使用連字號）               |\n",
    "| currentBalance | current balance（不允許使用空格）                |\n",
    "| account4       | 4account（不能以數字開始）                        |\n",
    "| _42            | 42（不能以數字開始）                             |\n",
    "| TOTAL_SUM      | TOTAL_*UM（不允許使用特殊字元，例如 *）          |\n",
    "| hello          | 'hello'（不允許使用特殊字元，例如 '）            |"
   ]
  },
  {
   "cell_type": "markdown",
   "metadata": {
    "slideshow": {
     "slide_type": "skip"
    }
   },
   "source": [
    "> 👨‍⚕️ 雖然在僅有兩行的範例程式中，一個名為 `m` 的變數可能就足夠了，但有經驗的程式設計師總是努力在程式中使用有意義且具描述性的變數名稱。"
   ]
  },
  {
   "cell_type": "markdown",
   "metadata": {
    "slideshow": {
     "slide_type": "subslide"
    }
   },
   "source": [
    "Python 變數名稱是 **區分大小寫** 的，這意味著大小寫會影響變數的識別。一個名為 `size` 的變數會被視為與名為 `Size` 或 `SIZE` 的變數不同。"
   ]
  },
  {
   "cell_type": "markdown",
   "metadata": {
    "slideshow": {
     "slide_type": "fragment"
    }
   },
   "source": [
    "少數的 ***關鍵字*** 是 Python 保留以賦予特殊意義的名稱，因此不能作為變數名稱使用。你可以透過存取 Python 內建的幫助系統來查看這個列表。"
   ]
  },
  {
   "cell_type": "code",
   "execution_count": 4,
   "metadata": {
    "colab": {
     "base_uri": "https://localhost:8080/"
    },
    "id": "mJnA-rQOFIAm",
    "outputId": "3d8abdf3-4ed6-4b82-e7ab-3d1b0e5f74cc",
    "slideshow": {
     "slide_type": "fragment"
    }
   },
   "outputs": [
    {
     "name": "stdout",
     "output_type": "stream",
     "text": [
      "\n",
      "Here is a list of the Python keywords.  Enter any keyword to get more help.\n",
      "\n",
      "False               break               for                 not\n",
      "None                class               from                or\n",
      "True                continue            global              pass\n",
      "__peg_parser__      def                 if                  raise\n",
      "and                 del                 import              return\n",
      "as                  elif                in                  try\n",
      "assert              else                is                  while\n",
      "async               except              lambda              with\n",
      "await               finally             nonlocal            yield\n",
      "\n"
     ]
    }
   ],
   "source": [
    "help('keywords')"
   ]
  },
  {
   "cell_type": "markdown",
   "metadata": {
    "slideshow": {
     "slide_type": "subslide"
    }
   },
   "source": [
    "### 練習題 2：請詢問以下 AI 工具，說明 Python 中變數命名的規則。\n",
    "\n",
    "- [ChatGPT](https://chatgpt.com/)\n",
    "- [Gemini](https://gemini.google.com/)\n",
    "- [Copilot](https://copilot.microsoft.com/)\n",
    "\n",
    "參考：https://hackmd.io/@phonchi/LLM_Tutor"
   ]
  },
  {
   "cell_type": "markdown",
   "metadata": {
    "id": "F-_Xq7N3G4ro",
    "slideshow": {
     "slide_type": "subslide"
    }
   },
   "source": [
    "變數可以用來儲存 Python 所能表示的所有型別的資料值。"
   ]
  },
  {
   "cell_type": "code",
   "execution_count": null,
   "metadata": {
    "id": "8_XRcq0gGztA",
    "slideshow": {
     "slide_type": "fragment"
    }
   },
   "outputs": [],
   "source": [
    "my_string = 'characters'\n",
    "my_Boolean = True  # True/False\n",
    "my_integer = 5\n",
    "my_floating_point = 26.2\n",
    "my_complex = 2+1j  # 請注意 1 不能省略\n",
    "\n",
    "# 你可以將上述敘述壓縮成一行，用分號 (;) 隔開：\n",
    "my_string = 'characters'; my_Boolean = True; my_integer = 5; my_floating_point = 26.2; my_complex = 2+1j\n",
    "\n",
    "### 多重指派！\n",
    "# 你也可以使用單一行程式碼同時為多個變數賦值！\n",
    "my_string, my_Boolean, my_integer, my_floating_point, my_complex = 'characters', True, 5, 26.2, 2+1j"
   ]
  },
  {
   "cell_type": "code",
   "execution_count": null,
   "metadata": {
    "colab": {
     "base_uri": "https://localhost:8080/"
    },
    "id": "_jE07k-TmDwV",
    "outputId": "3ce285db-a3f7-4713-dec3-40f509dd37f2",
    "slideshow": {
     "slide_type": "subslide"
    }
   },
   "outputs": [],
   "source": [
    "print(10)\n",
    "print(3.14)\n",
    "print(2e10)   # 科學記號（https://en.wikipedia.org/wiki/Scientific_notation#E_notation）\n",
    "print(12_000) # 可以使用底線將數字分組，使大型數字更易讀\n",
    "print(3+2j)"
   ]
  },
  {
   "cell_type": "markdown",
   "metadata": {
    "id": "eZ99k_bcmL2_",
    "slideshow": {
     "slide_type": "fragment"
    }
   },
   "source": [
    "請記得，在書寫長數字時，你可以使用底線將數字分組，以使大型數字更易讀。此外，`print()` 可用於列印任何數值，包括以科學記號表示的數字。"
   ]
  },
  {
   "cell_type": "markdown",
   "metadata": {
    "id": "BV5LcxKvKnml",
    "slideshow": {
     "slide_type": "slide"
    }
   },
   "source": [
    "### 資料型別"
   ]
  },
  {
   "cell_type": "markdown",
   "metadata": {
    "id": "vxF99qxYKqKN",
    "slideshow": {
     "slide_type": "subslide"
    }
   },
   "source": [
    "在 Python 中，變數和常數都有一個 ***型別***。我們可以使用 `type()` 函數詢問 Python 某個值的型別。"
   ]
  },
  {
   "cell_type": "code",
   "execution_count": null,
   "metadata": {
    "colab": {
     "base_uri": "https://localhost:8080/"
    },
    "id": "HIwnHarAHqN2",
    "outputId": "d765d2c3-0598-414c-ab64-c38f50dc4971",
    "slideshow": {
     "slide_type": "fragment"
    }
   },
   "outputs": [],
   "source": [
    "type('Hello, World!'), type(False), type(4), type(3.2), type(3+5j)"
   ]
  },
  {
   "cell_type": "code",
   "execution_count": null,
   "metadata": {
    "colab": {
     "base_uri": "https://localhost:8080/"
    },
    "id": "yuLCRUfgLSN7",
    "outputId": "5c46112f-3793-4e27-be0e-4c6a0c54ce9a",
    "slideshow": {
     "slide_type": "fragment"
    }
   },
   "outputs": [],
   "source": [
    "type(my_string),  type(my_Boolean), type(my_integer), type(my_floating_point), type(my_complex)"
   ]
  },
  {
   "cell_type": "markdown",
   "metadata": {
    "id": "LWdCVrl0M7tM",
    "slideshow": {
     "slide_type": "subslide"
    }
   },
   "source": [
    "你可以使用 ***轉換***（cast）函數，例如 `str()`、`float()`、`int()` 等，將一個型別的物件轉換為另一個型別。"
   ]
  },
  {
   "cell_type": "code",
   "execution_count": null,
   "metadata": {
    "colab": {
     "base_uri": "https://localhost:8080/"
    },
    "id": "eW-J5M1QLfr9",
    "outputId": "6771cb57-3d2a-46a8-fad3-09b08050ce16",
    "slideshow": {
     "slide_type": "fragment"
    }
   },
   "outputs": [],
   "source": [
    "float(3)"
   ]
  },
  {
   "cell_type": "code",
   "execution_count": null,
   "metadata": {
    "colab": {
     "base_uri": "https://localhost:8080/"
    },
    "id": "Q3VfAIceNHNB",
    "outputId": "a456489e-7e17-47d8-c937-c0f94fe96b0c",
    "slideshow": {
     "slide_type": "fragment"
    }
   },
   "outputs": [],
   "source": [
    "int(3.9)"
   ]
  },
  {
   "cell_type": "code",
   "execution_count": null,
   "metadata": {
    "colab": {
     "base_uri": "https://localhost:8080/"
    },
    "id": "YO7geNxFNrdA",
    "outputId": "3d339ffa-2183-4a65-ec6c-e106a24a67e5",
    "slideshow": {
     "slide_type": "fragment"
    }
   },
   "outputs": [],
   "source": [
    "int('3')"
   ]
  },
  {
   "cell_type": "code",
   "execution_count": null,
   "metadata": {
    "colab": {
     "base_uri": "https://localhost:8080/",
     "height": 35
    },
    "id": "PaSE-iN1NJKQ",
    "outputId": "f18cd1f3-840b-4a0b-e54b-6e78d657f369",
    "slideshow": {
     "slide_type": "fragment"
    }
   },
   "outputs": [],
   "source": [
    "str(3)"
   ]
  },
  {
   "cell_type": "markdown",
   "metadata": {
    "slideshow": {
     "slide_type": "slide"
    }
   },
   "source": [
    "### 轉換"
   ]
  },
  {
   "cell_type": "markdown",
   "metadata": {
    "slideshow": {
     "slide_type": "subslide"
    }
   },
   "source": [
    "在 Python 中有兩種類型的型別轉換：\n",
    "\n",
    "- 隱式轉換（Implicit Conversion） - 自動型別轉換。Python 總是將較小的資料型別轉換為較大的資料型別，以避免資料遺失。\n",
    "- 顯式轉換（Explicit Conversion） - 手動型別轉換。"
   ]
  },
  {
   "cell_type": "code",
   "execution_count": 9,
   "metadata": {
    "slideshow": {
     "slide_type": "fragment"
    }
   },
   "outputs": [
    {
     "data": {
      "text/plain": [
       "9.2"
      ]
     },
     "execution_count": 9,
     "metadata": {},
     "output_type": "execute_result"
    }
   ],
   "source": [
    "5 + 4.2 # 隱式轉換"
   ]
  },
  {
   "cell_type": "markdown",
   "metadata": {
    "slideshow": {
     "slide_type": "fragment"
    }
   },
   "source": [
    "在 Python 中，`complex > float > int > bool` 的意思是複數、浮點數、整數和布林值依據數值範圍和精確度的順序排列。"
   ]
  },
  {
   "cell_type": "code",
   "execution_count": null,
   "metadata": {
    "slideshow": {
     "slide_type": "fragment"
    }
   },
   "outputs": [],
   "source": [
    "int(4.7) + 3 # 顯式轉換"
   ]
  },
  {
   "cell_type": "code",
   "execution_count": null,
   "metadata": {
    "slideshow": {
     "slide_type": "subslide"
    }
   },
   "outputs": [],
   "source": [
    "display_quiz(path+\"ex_type.json\", max_width=800)"
   ]
  },
  {
   "cell_type": "markdown",
   "metadata": {
    "id": "TIwbpk_NUoAg",
    "slideshow": {
     "slide_type": "slide"
    }
   },
   "source": [
    "## 除錯"
   ]
  },
  {
   "cell_type": "markdown",
   "metadata": {
    "id": "mNNarsTrTREV",
    "slideshow": {
     "slide_type": "subslide"
    }
   },
   "source": [
    "程式語言對初學者來說通常不太友善因在學習撰寫軟體的過程中，大部分的時間都可能花在尋找程式中的錯誤（bugs）上。找出這些錯誤並加以修正的過程，就稱為 ***除錯***（debugging）。"
   ]
  },
  {
   "cell_type": "markdown",
   "metadata": {
    "slideshow": {
     "slide_type": "fragment"
    }
   },
   "source": [
    "軟體中我們常產生的錯誤主要可分為三大類：\n",
    "\n",
    "- ***語法錯誤***（在程式法上發生的錯誤）\n",
    "- ***語意錯誤***（程式含義上的錯誤）\n",
    "- ***執行時錯誤***（程式執行時發生的錯誤）"
   ]
  },
  {
   "cell_type": "markdown",
   "metadata": {
    "slideshow": {
     "slide_type": "subslide"
    }
   },
   "source": [
    "語法錯誤對初學者來說是最常見的，這類錯誤通常包括忘記在字串的開頭或結尾使用引號、未正確加上右括號，或是拼錯函數名稱 `print()` 等簡單錯誤。以下為一些例子："
   ]
  },
  {
   "cell_type": "code",
   "execution_count": null,
   "metadata": {
    "colab": {
     "base_uri": "https://localhost:8080/",
     "height": 132
    },
    "id": "LEpvId03TMaf",
    "outputId": "3f6442f2-c7d3-40de-afa4-4cbaac2d32db",
    "slideshow": {
     "slide_type": "fragment"
    }
   },
   "outputs": [],
   "source": [
    "print(5 + )"
   ]
  },
  {
   "cell_type": "markdown",
   "metadata": {
    "id": "82tpxH4-Tyuw",
    "slideshow": {
     "slide_type": "fragment"
    }
   },
   "source": [
    "這個運算式在加號與右括號之間缺少一個值。"
   ]
  },
  {
   "cell_type": "markdown",
   "metadata": {
    "slideshow": {
     "slide_type": "skip"
    }
   },
   "source": [
    "> Python 直譯器通常會在遇到這類錯誤時指出問題，顯示錯誤所在的行數和錯誤描述。透過一點練習，初學者很快就能學會識別和理解常見的錯誤情況。"
   ]
  },
  {
   "cell_type": "code",
   "execution_count": null,
   "metadata": {
    "colab": {
     "base_uri": "https://localhost:8080/",
     "height": 167
    },
    "id": "NJZ1mZByT0pr",
    "outputId": "c1fe6275-21cd-40de-a622-ae247eda1861",
    "slideshow": {
     "slide_type": "subslide"
    }
   },
   "outputs": [],
   "source": [
    "pront(5)"
   ]
  },
  {
   "cell_type": "markdown",
   "metadata": {
    "slideshow": {
     "slide_type": "skip"
    }
   },
   "source": [
    "> 請仔細注意錯誤訊息。從錯誤訊息中你能獲得哪些線索？它指出問題發生在哪一處？"
   ]
  },
  {
   "cell_type": "markdown",
   "metadata": {
    "id": "sI6kzqcjT-2w",
    "slideshow": {
     "slide_type": "subslide"
    }
   },
   "source": [
    "語意錯誤是指演算法本身的缺陷，或是在使用程式語言表達演算法時出現的錯誤。舉例來說，可能會在計算中使用錯誤的變數名稱或資料型別，或者在複雜的運算式中，算術運算的順序出錯。"
   ]
  },
  {
   "cell_type": "code",
   "execution_count": null,
   "metadata": {
    "slideshow": {
     "slide_type": "fragment"
    }
   },
   "outputs": [],
   "source": [
    "num1 = input('請輸入一個數字:')      # 請使用者輸入第一個數字（回傳字串）\n",
    "num2 = input('請輸入另一個數字:')    # 請使用者輸入第二個數字（回傳字串）\n",
    "sum_var = num1 + num2              \n",
    "\n",
    "print('數字', num1, '和', num2, '的總和是', sum_var)"
   ]
  },
  {
   "cell_type": "markdown",
   "metadata": {
    "slideshow": {
     "slide_type": "fragment"
    }
   },
   "source": [
    "錯誤在於程式執行了字串串接而非數值加法，因為程式設計師沒有寫出必要的程式碼將輸入值轉換為整數。"
   ]
  },
  {
   "cell_type": "markdown",
   "metadata": {
    "slideshow": {
     "slide_type": "fragment"
    }
   },
   "source": [
    "`input()` 函數會等待使用者在鍵盤上輸入文字並按下 ENTER，並且**返回一個字串值**。它允許程式設計師提供一個提示字串來引導使用者輸入。"
   ]
  },
  {
   "cell_type": "markdown",
   "metadata": {
    "slideshow": {
     "slide_type": "skip"
    }
   },
   "source": [
    "> 識別語意錯誤可能相當棘手，因為沒有錯誤訊息明顯指出結果是不正確的。檢測語意錯誤的唯一方法，是你事先知道在給定輸入下程式應該做什麼。然後，你使用這組輸入數據運行程式，並將程式輸出與你的預期結果進行比較。\n",
    "```python\n",
    "測試案例\n",
    "----------\n",
    "輸入：2, 3\n",
    "預期輸出：5\n",
    "```\n",
    "\n",
    "> 一旦你有了測試案例，就可以使用 `print()` 敘述來印出變數值、使用者輸入以及中間計算結果，這樣你就可以將它們與預期值進行比較。"
   ]
  },
  {
   "cell_type": "markdown",
   "metadata": {
    "slideshow": {
     "slide_type": "subslide"
    }
   },
   "source": [
    "最後，這個層級的執行時錯誤可能包括不小心進行除以零的運算，或是在變數定義之前就使用它。Python 會從上到下讀取敘述，必須在使用變數之前看到對該變數的指派敘述。"
   ]
  },
  {
   "cell_type": "code",
   "execution_count": null,
   "metadata": {
    "slideshow": {
     "slide_type": "fragment"
    }
   },
   "outputs": [],
   "source": [
    "5/0"
   ]
  },
  {
   "cell_type": "code",
   "execution_count": null,
   "metadata": {
    "slideshow": {
     "slide_type": "subslide"
    }
   },
   "outputs": [],
   "source": [
    "display_quiz(path+\"error.json\", max_width=800)"
   ]
  },
  {
   "cell_type": "markdown",
   "metadata": {
    "slideshow": {
     "slide_type": "subslide"
    }
   },
   "source": [
    "### > 練習題 3：使用 AI 工具診斷錯誤。"
   ]
  },
  {
   "cell_type": "markdown",
   "metadata": {
    "slideshow": {
     "slide_type": "slide"
    }
   },
   "source": [
    "## 第一個程序"
   ]
  },
  {
   "cell_type": "markdown",
   "metadata": {
    "slideshow": {
     "slide_type": "subslide"
    }
   },
   "source": [
    "雖然互動式命令列適用於一次執行一條 Python 指令，但有時你必須使用 ***腳本*** 來撰寫整個 Python 程式。在這種情況下，你會在檔案編輯器中輸入這些指令。"
   ]
  },
  {
   "cell_type": "code",
   "execution_count": null,
   "metadata": {
    "slideshow": {
     "slide_type": "fragment"
    }
   },
   "outputs": [],
   "source": [
    "%%writefile hello.py\n",
    "\"\"\"\n",
    "這個程式會打招呼並詢問你的名字，\n",
    "同時也會詢問你的年齡。\n",
    "\"\"\"\n",
    "\n",
    "print('Hello, world!')\n",
    "myName = input('What is your name? ')  # 詢問你的名字\n",
    "print('It is good to meet you, ' + myName)\n",
    "age_len = len(myName)\n",
    "print('The length of your name is:\\n' + str(age_len))\n",
    "myAge = input('What is your age? ')  # 詢問你的年齡\n",
    "myAge = int(myAge) + 1\n",
    "print('You will be ' + str(myAge) + ' in a year.')"
   ]
  },
  {
   "cell_type": "markdown",
   "metadata": {
    "slideshow": {
     "slide_type": "subslide"
    }
   },
   "source": [
    "一旦你輸入了原始程式碼，ipython 的 **魔法指令** `%%writefile` 會將其儲存，這樣每次啟動時就不必重新輸入。接著，你可以使用另一個魔法指令 `%run` 來執行該 Python 腳本。"
   ]
  },
  {
   "cell_type": "code",
   "execution_count": null,
   "metadata": {
    "slideshow": {
     "slide_type": "fragment"
    }
   },
   "outputs": [],
   "source": [
    "%run hello.py"
   ]
  },
  {
   "cell_type": "markdown",
   "metadata": {
    "slideshow": {
     "slide_type": "subslide"
    }
   },
   "source": [
    "### > 練習題 4：請利用 AI 工具來說明程式內容或在程式中添加註解。"
   ]
  },
  {
   "cell_type": "markdown",
   "metadata": {
    "slideshow": {
     "slide_type": "skip"
    }
   },
   "source": [
    "### 分析你的程式"
   ]
  },
  {
   "cell_type": "markdown",
   "metadata": {
    "slideshow": {
     "slide_type": "skip"
    }
   },
   "source": [
    "打開檔案編輯器中的新程式後，讓我們快速瀏覽一下它使用的 Python 指令，並逐行了解每行程式碼的功能。"
   ]
  },
  {
   "cell_type": "markdown",
   "metadata": {
    "slideshow": {
     "slide_type": "skip"
    }
   },
   "source": [
    "1. 第一行是一個註解，用來告訴他人你撰寫這個程式的目的或程式的作者資訊。這裡使用了 ***多行註解***，是透過三個引號來標示的。  \n",
    "   - `print('Hello, world!')` 這一行表示「印出字串 'Hello, world!' 中的文字」。  \n",
    "   - 當 Python 執行這一行時，我們可以說 Python 正在呼叫 `print()` 這個 ***函數***，並且將該字串值作為 ***參數*** 傳遞給這個函數。  \n",
    "   - 當你寫下一個函數名稱時，函數名稱後面緊跟的左括號和右括號就是用來辨識它是一個函數的標記。"
   ]
  },
  {
   "cell_type": "markdown",
   "metadata": {
    "slideshow": {
     "slide_type": "skip"
    }
   },
   "source": [
    "2. `input()` 函式會等待使用者在鍵盤上輸入文字並按下 ENTER。呼叫 `myName = input()` 這行程式碼會回傳一個字串，其內容等於使用者輸入的文字，然後將這個字串值賦給變數 `myName`。"
   ]
  },
  {
   "cell_type": "markdown",
   "metadata": {
    "slideshow": {
     "slide_type": "skip"
    }
   },
   "source": [
    "3. 接下來呼叫 `print('It is good to meet you, ' + myName)` 是一個運算式。在括號內，字串 `'It is good to meet you, '` 和變數 `myName` 透過運算元 `+` 串接在一起，然後被印出。"
   ]
  },
  {
   "cell_type": "markdown",
   "metadata": {
    "slideshow": {
     "slide_type": "skip"
    }
   },
   "source": [
    "4. 你可以傳入一個字串值（或含有字串的變數）給 `len()` 函式，此函式會回傳該字串中字符數目的整數值。如果你想將一個像 29 這樣的整數與字串串接起來傳給 `print()`，你需要先將數字 29 轉換成字串形式。這時候可以使用 `str()` 函式來傳入整數值，該函式會回傳該整數的字串表示。  \n",
    "此外，在敘述 `print('The length of your name is:\\n' + str(len(myName)))` 中，字串中的 `\\n` 代表一個特殊的跳脫字符，意思是添加一個換行符號。"
   ]
  },
  {
   "cell_type": "markdown",
   "metadata": {
    "slideshow": {
     "slide_type": "skip"
    }
   },
   "source": [
    "5. `int()` 函式在你有一個數字的字串值，卻想在數學運算中使用它時非常有用。例如，`input()` 函式無論使用者輸入的是數字還是文字，總會返回一個字串。變數 `myAge` 儲存了 `input()` 返回的字串值。你可以使用 `int(myAge)` 將 `myAge` 中的字串轉換成整數值，然後在運算式 `int(myAge) + 1` 中將這個整數加 1。接著，這個加法運算的結果會被傳給 `str()` 函式（即 `str(int(myAge) + 1)`），以轉換成字串形式。返回的字串再與字串 `'You will be '` 和 `' in a year.'` 串接起來，形成一個完整的大字串。最後，這個大字串會被傳給 `print()` 函式，以在螢幕上顯示出來。"
   ]
  },
  {
   "cell_type": "markdown",
   "metadata": {
    "id": "LwTvxL92Rbgp",
    "slideshow": {
     "slide_type": "subslide"
    }
   },
   "source": [
    "### > 練習題 5：撰寫一個程式，讓使用者輸入一個五位數整數，將這個數字拆分為個別的數字，並以三個空格分隔印出。例如，如果使用者輸入 42339，則程式應印出："
   ]
  },
  {
   "cell_type": "code",
   "execution_count": null,
   "metadata": {
    "slideshow": {
     "slide_type": "subslide"
    }
   },
   "outputs": [],
   "source": [
    "# 在此處填寫你的答案\n",
    "# x = 42339\n",
    "# 從鍵盤取得使用者輸入並將其轉換為整數：\n",
    "x = _____('請輸入一個五位數整數: ')\n",
    "\n",
    "# 使用取餘數獲取最後一位數字\n",
    "digits4 = \n",
    "# 使用整數除法取得剩餘的數字\n",
    "x = \n",
    "\n",
    "# ...\n",
    "# 印出結果，以三個空格分隔各個數字\n",
    "____(digits0,'   ',digits1,'   ',digits2,'   ',digits3,'   ',digits4)"
   ]
  },
  {
   "cell_type": "markdown",
   "metadata": {
    "slideshow": {
     "slide_type": "subslide"
    }
   },
   "source": [
    "### > 練習題 6：請利用 AI 工具撰寫一個程式或改進現有的程式。"
   ]
  },
  {
   "cell_type": "code",
   "execution_count": null,
   "metadata": {
    "scrolled": false,
    "slideshow": {
     "slide_type": "subslide"
    }
   },
   "outputs": [],
   "source": [
    "from jupytercards import display_flashcards\n",
    "fpath= \"https://raw.githubusercontent.com/phonchi/PythonForMath/refs/heads/main/flashcards-TW/\"\n",
    "display_flashcards(fpath + 'ch1.json')"
   ]
  },
  {
   "cell_type": "markdown",
   "metadata": {
    "slideshow": {
     "slide_type": "skip"
    }
   },
   "source": [
    "## 關鍵字"
   ]
  },
  {
   "cell_type": "markdown",
   "metadata": {
    "slideshow": {
     "slide_type": "skip"
    }
   },
   "source": [
    "- **演算法 (algorithm)**：它包含明確、無歧義的步驟，並且必須在有限時間內產生結果。\n",
    "- **虛擬碼 (pseudocode)**：用簡單的語言描述演算法步驟的方法，看起來像程式碼。\n",
    "- **程式設計 (programming)**：撰寫指令（程式碼）的過程，使電腦執行各種任務。\n",
    "- **程式語言 (programming language)**：一套用於撰寫電腦能理解程式碼的規則與語法。\n",
    "- **直譯式語言 (interpreted language)**：一種程式語言，其程式碼會逐行直接執行，而無需先編譯。\n",
    "- **直譯器 (interpreter)**：逐行讀取並執行程式碼的工具。\n",
    "- **敘述 (statement)**：告訴電腦執行某個動作的一行程式碼。\n",
    "- **函數 (function)**：一段可重複使用的程式碼區塊，在你呼叫它時會執行特定任務。\n",
    "- **參數 (arguments)**：傳入函數以協助其運作的數值或資訊。\n",
    "- **常數 (constants)**：在程式運行期間一旦設定後不應改變的值。\n",
    "- **方法 (method)**：屬於物件的函數，用於對該物件執行操作。\n",
    "- **註解 (comment)**：程式碼中的備註，供人類閱讀；電腦執行時會忽略它們。\n",
    "- **運算式 (expression)**：由數值、變數與運算子組成，用來計算新值的表達式。\n",
    "- **向下取整除法 (floor division)**：使用 `//` 運算子進行的除法，返回不大於結果的最大整數。\n",
    "- **變數 (variable)**：在程式運行過程中用來儲存可變值的名稱。\n",
    "- **賦值敘述 (assignment statement)**：使用 `=` 符號將值賦給變數的一行程式碼。\n",
    "- **關鍵字 (keywords)**：Python 中具有特殊意義的保留字，不能用作變數或函數的名稱。\n",
    "- **資料型別 (type)**：儲存在變數中的資料種類，例如數字（`int`、`float`）或文字（`str`）。\n",
    "- **除錯 (debugging)**：找出並修正程式碼中錯誤的過程。\n",
    "- **語法錯誤 (syntax error)**：因程式碼不符合 Python 語法規則而產生的錯誤。\n",
    "- **語意錯誤 (semantic error)**：程式能運行但未達到預期效果的錯誤，通常由邏輯錯誤引起。\n",
    "- **執行階段錯誤 (runtime error)**：程式運行時發生的錯誤，常常導致程式意外中止。"
   ]
  }
 ],
 "metadata": {
  "celltoolbar": "Slideshow",
  "colab": {
   "provenance": []
  },
  "kernelspec": {
   "display_name": "Python 3 (ipykernel)",
   "language": "python",
   "name": "python3"
  },
  "language_info": {
   "codemirror_mode": {
    "name": "ipython",
    "version": 3
   },
   "file_extension": ".py",
   "mimetype": "text/x-python",
   "name": "python",
   "nbconvert_exporter": "python",
   "pygments_lexer": "ipython3",
   "version": "3.9.13"
  },
  "rise": {
   "chalkboard": {
    "color": [
     "rgb(250, 0, 0)",
     "rgb(250, 0, 0)"
    ]
   },
   "controls": false,
   "enable_chalkboard": true,
   "footer": "",
   "overlay": "<div class='myfooter'><h4>Python 基礎介紹</h4></div>",
   "slideNumber": "true",
   "theme": "night"
  },
  "varInspector": {
   "cols": {
    "lenName": 16,
    "lenType": 16,
    "lenVar": 40
   },
   "kernels_config": {
    "python": {
     "delete_cmd_postfix": "",
     "delete_cmd_prefix": "del ",
     "library": "var_list.py",
     "varRefreshCmd": "print(var_dic_list())"
    },
    "r": {
     "delete_cmd_postfix": ") ",
     "delete_cmd_prefix": "rm(",
     "library": "var_list.r",
     "varRefreshCmd": "cat(var_dic_list()) "
    }
   },
   "position": {
    "height": "144.188px",
    "left": "911px",
    "right": "20px",
    "top": "118px",
    "width": "350px"
   },
   "types_to_exclude": [
    "module",
    "function",
    "builtin_function_or_method",
    "instance",
    "_Feature"
   ],
   "window_display": false
  },
  "vscode": {
   "interpreter": {
    "hash": "ffe9a5d1be64f395cda62646beb00f4fbc1d5c319e2b42024d6d4b4beddf19a5"
   }
  }
 },
 "nbformat": 4,
 "nbformat_minor": 4
}
