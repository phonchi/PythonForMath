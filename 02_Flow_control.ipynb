{
 "cells": [
  {
   "cell_type": "markdown",
   "metadata": {
    "id": "11n5gndbRzoY",
    "slideshow": {
     "slide_type": "slide"
    }
   },
   "source": [
    "# 流程控制"
   ]
  },
  {
   "cell_type": "markdown",
   "metadata": {
    "slideshow": {
     "slide_type": "skip"
    }
   },
   "source": [
    "<table align=\"left\">\n",
    "  <td>\n",
    "    <a href=\"https://colab.research.google.com/github/phonchi/PythonForMath/blob/master/02_Flow_control.ipynb\" target=\"_parent\"><img src=\"https://colab.research.google.com/assets/colab-badge.svg\" alt=\"Open In Colab\"/></a>\n",
    "  </td>\n",
    "  <td>\n",
    "    <a target=\"_blank\" href=\"https://kaggle.com/kernels/welcome?src=https://github.com/phonchi/PythonForMath/blob/master/02_Flow_control.ipynb\"><img src=\"https://kaggle.com/static/images/open-in-kaggle.svg\" /></a>\n",
    "  </td>\n",
    "</table>"
   ]
  },
  {
   "cell_type": "markdown",
   "metadata": {
    "slideshow": {
     "slide_type": "skip"
    }
   },
   "source": [
    "請先執行以下兩格程式碼:"
   ]
  },
  {
   "cell_type": "code",
   "execution_count": null,
   "metadata": {
    "slideshow": {
     "slide_type": "skip"
    }
   },
   "outputs": [],
   "source": [
    "!pip install jupyterquiz \n",
    "!pip install jupytercards\n",
    "\n",
    "from IPython.display import display, Javascript\n",
    "display(Javascript('Jupyter.notebook.kernel.restart()'))"
   ]
  },
  {
   "cell_type": "code",
   "execution_count": null,
   "metadata": {
    "slideshow": {
     "slide_type": "skip"
    }
   },
   "outputs": [],
   "source": [
    "from jupyterquiz import display_quiz\n",
    "\n",
    "path=\"https://raw.githubusercontent.com/phonchi/PythonForMath/refs/heads/main/questions-TW/ch2/\""
   ]
  },
  {
   "cell_type": "markdown",
   "metadata": {
    "slideshow": {
     "slide_type": "subslide"
    }
   },
   "source": [
    "1. 簡介  \n",
    "2. 流程控制的元素  \n",
    "3. 模組導入"
   ]
  },
  {
   "cell_type": "markdown",
   "metadata": {
    "id": "SwFKFBMwRzoa",
    "slideshow": {
     "slide_type": "slide"
    }
   },
   "source": [
    "## 基礎介紹"
   ]
  },
  {
   "cell_type": "markdown",
   "metadata": {
    "id": "Ss9hRGHDRzob",
    "slideshow": {
     "slide_type": "subslide"
    }
   },
   "source": [
    "上次，我們學習了單個指令的基本知識，以及程式僅僅是一系列指令的概念。但程式設計的真正強大之處不僅僅在於逐條執行指令！"
   ]
  },
  {
   "cell_type": "markdown",
   "metadata": {
    "slideshow": {
     "slide_type": "fragment"
    }
   },
   "source": [
    "一個程式可以決定跳過某些指令、重複執行它們，或選擇其中一組指令來執行！***流程控制敘述*** 可決定在何種條件下執行哪些 Python 指令。"
   ]
  },
  {
   "cell_type": "markdown",
   "metadata": {
    "slideshow": {
     "slide_type": "fragment"
    }
   },
   "source": [
    "這些流程控制敘述直接對應到流程圖中的符號！"
   ]
  },
  {
   "cell_type": "markdown",
   "metadata": {
    "slideshow": {
     "slide_type": "skip"
    }
   },
   "source": [
    "> 日常生活中，我們無時無刻都在面對許多的選擇，要不要吃飯、要吃什麼、要不要睡覺、要不要出去玩..這些選擇都是由一個又一個的邏輯判斷所組成的。程式語言也是一樣，在這個章節，我們來看看在 Python 裡如何進行邏輯判斷，以及使用布林值來進行流程控制。\n",
    "\n",
    "> 流程圖通常從開始到結束有不只一條路徑。流程圖使用菱形表示這些分支點，而其他步驟（狀態）則以矩形表示。開始與結束的步驟則以圓角矩形表示。"
   ]
  },
  {
   "cell_type": "markdown",
   "metadata": {
    "slideshow": {
     "slide_type": "subslide"
    }
   },
   "source": [
    "<center><img src=\"https://raw.githubusercontent.com/phonchi/PythonForMath/refs/heads/main/Figures/000039.jpg\" width=\"35%\"></center>\n",
    "<div align=\"center\"> source: https://automatetheboringstuff.com/2e/chapter2/ </div>"
   ]
  },
  {
   "cell_type": "markdown",
   "metadata": {
    "slideshow": {
     "slide_type": "fragment"
    }
   },
   "source": [
    "但在你學習流程控制敘述之前，首先需要了解如何表示那些 **是** 與 **否** 的選項，以及如何將這些分支點寫成 Python 程式碼。為此，<u>讓我們探索布林值、比較運算子和布林運算子</u>。"
   ]
  },
  {
   "cell_type": "markdown",
   "metadata": {
    "id": "WjPuxQq1sA-3",
    "slideshow": {
     "slide_type": "slide"
    }
   },
   "source": [
    "### 布林運算式"
   ]
  },
  {
   "cell_type": "markdown",
   "metadata": {
    "id": "TVuZi_rfsC9u",
    "slideshow": {
     "slide_type": "subslide"
    }
   },
   "source": [
    "一個 ***布林運算式*** 是一個運算式，其值僅為 True 或 False。以下範例使用運算子 `==`，這個運算子用來比較兩個運算元，如果相等則結果為 `True`，否則為 `False`。"
   ]
  },
  {
   "cell_type": "markdown",
   "metadata": {
    "slideshow": {
     "slide_type": "fragment"
    }
   },
   "source": [
    "根據不可考的統計，好像不少台中人都有「真的假的」的口頭禪，程式語言裡面也有「真的」跟「假的」，而且沒有其他的灰色地帶。真假值，又稱為布林值（Boolean）。"
   ]
  },
  {
   "cell_type": "code",
   "execution_count": null,
   "metadata": {
    "colab": {
     "base_uri": "https://localhost:8080/"
    },
    "executionInfo": {
     "elapsed": 268,
     "status": "ok",
     "timestamp": 1665656455180,
     "user": {
      "displayName": "phonchi chung",
      "userId": "13517391734500420886"
     },
     "user_tz": -480
    },
    "id": "QYptoP__sAbn",
    "outputId": "509e26a1-7d5a-45c8-fd10-e7fa4ce694ec",
    "slideshow": {
     "slide_type": "fragment"
    }
   },
   "outputs": [],
   "source": [
    "print(5 == 5)\n",
    "print(5 == 6)"
   ]
  },
  {
   "cell_type": "markdown",
   "metadata": {
    "id": "cc7LkxgesPQf",
    "slideshow": {
     "slide_type": "fragment"
    }
   },
   "source": [
    "`True` 與 `False` 是屬於 `bool` 類別的特殊值，即 ***布林值***；它們並非字串。"
   ]
  },
  {
   "cell_type": "code",
   "execution_count": null,
   "metadata": {
    "colab": {
     "base_uri": "https://localhost:8080/"
    },
    "executionInfo": {
     "elapsed": 3,
     "status": "ok",
     "timestamp": 1665656388598,
     "user": {
      "displayName": "phonchi chung",
      "userId": "13517391734500420886"
     },
     "user_tz": -480
    },
    "id": "9eio5IH1sRe_",
    "outputId": "10691270-f0b2-4cac-c7a1-b0e286eedbd0",
    "slideshow": {
     "slide_type": "fragment"
    }
   },
   "outputs": [],
   "source": [
    "type(True), type(False)"
   ]
  },
  {
   "cell_type": "markdown",
   "metadata": {
    "slideshow": {
     "slide_type": "subslide"
    }
   },
   "source": [
    "`==` 運算子屬於 ***比較運算子***（或稱關係運算子）；其他比較運算子包括："
   ]
  },
  {
   "cell_type": "markdown",
   "metadata": {
    "id": "DoBusgVgs4sP",
    "slideshow": {
     "slide_type": "fragment"
    }
   },
   "source": [
    "|            | 意義                               |\n",
    "|------------|-----------------------------------|\n",
    "| x != y     | x 不等於 y                        |\n",
    "| x > y      | x 大於 y                          |\n",
    "| x < y      | x 小於 y                          |\n",
    "| x >= y     | x 大於或等於 y                    |\n",
    "| x <= y     | x 小於或等於 y                    |\n",
    "| x is y     | x 與 y 相同                        |\n",
    "| x is not y | x 與 y 不相同                      |"
   ]
  },
  {
   "cell_type": "markdown",
   "metadata": {
    "slideshow": {
     "slide_type": "skip"
    }
   },
   "source": [
    "> 👨‍⚕️ 請注意，Python 的符號與相同運算的數學符號不同。常見的錯誤是使用單一等號 `=` 來代替雙等號 `==`。記住，`=` 用於指派敘述，而 `==` 是一個比較運算子。此外，沒有 `=<` 或 `=>` 這樣的寫法。\n",
    "\n",
    "> 注意：`is`（身份運算子）會檢查兩個變數是否參考記憶體中的同一個物件；而 `==`（等於運算子）則比較兩個物件的值是否相等。"
   ]
  },
  {
   "cell_type": "markdown",
   "metadata": {
    "slideshow": {
     "slide_type": "subslide"
    }
   },
   "source": [
    "這些運算子會根據你給予的值評估結果為 `True` 或 `False`，因此可以在條件敘述中作為判斷依據。"
   ]
  },
  {
   "cell_type": "code",
   "execution_count": null,
   "metadata": {
    "slideshow": {
     "slide_type": "fragment"
    }
   },
   "outputs": [],
   "source": [
    "print(42 == 42)         # 印出 True，因為 42 等於 42\n",
    "print(42 == 42.0)       # 印出 True，因為 42 與 42.0 的數值相同！\n",
    "print(42 == '42')       # 印出 False，因為整數/浮點數與字串永遠不同\n",
    "print(2 != 3)           # 印出 True，因為 2 不等於 3\n",
    "print('hello' == 'Hello')  # 印出 False，因為 Python 區分大小寫\n",
    "print(42 < 100)         # 印出 True，因為 42 小於 100\n",
    "print(42 >= 100)        # 印出 False，因為 42 不大於或等於 100"
   ]
  },
  {
   "cell_type": "code",
   "execution_count": null,
   "metadata": {
    "slideshow": {
     "slide_type": "subslide"
    }
   },
   "outputs": [],
   "source": [
    "display_quiz(path+\"bool.json\", max_width=800)"
   ]
  },
  {
   "cell_type": "markdown",
   "metadata": {
    "id": "vk4VMOiLBn7L",
    "slideshow": {
     "slide_type": "slide"
    }
   },
   "source": [
    "### 布林（邏輯）運算子"
   ]
  },
  {
   "cell_type": "markdown",
   "metadata": {
    "slideshow": {
     "slide_type": "subslide"
    }
   },
   "source": [
    "以下三個 ***布林運算子***（`and`、`or` 和 `not`）用來操作布林值。與比較運算子類似，它們也能將運算式輸出為一個布林值。讓我們詳細探討這些運算子。"
   ]
  },
  {
   "cell_type": "markdown",
   "metadata": {
    "slideshow": {
     "slide_type": "fragment"
    }
   },
   "source": [
    "| 運算式            | 運算結果 |\n",
    "|-------------------|----------|\n",
    "| True and True     | True     |\n",
    "| True and False    | False    |\n",
    "| False and True    | False    |\n",
    "| False and False   | False    |"
   ]
  },
  {
   "cell_type": "markdown",
   "metadata": {
    "slideshow": {
     "slide_type": "subslide"
    }
   },
   "source": [
    "| 運算式            | 運算結果 |\n",
    "|----------------|--------------------|\n",
    "| True or True   | True               |\n",
    "| True or False  | True               |\n",
    "| False or True  | True               |\n",
    "| False or False | False              |"
   ]
  },
  {
   "cell_type": "markdown",
   "metadata": {
    "slideshow": {
     "slide_type": "fragment"
    }
   },
   "source": [
    "| 運算式            | 運算結果 |\n",
    "|------------|--------------------|\n",
    "| not True   | False              |\n",
    "| not False  | True               |"
   ]
  },
  {
   "cell_type": "code",
   "execution_count": null,
   "metadata": {
    "slideshow": {
     "slide_type": "subslide"
    }
   },
   "outputs": [],
   "source": [
    "print((4 < 5) and (5 < 6))\n",
    "print((6 < 5) or (9 < 6))\n",
    "print((1 == 2) or (2 == 2))\n",
    "print(not (1==3) and (3==4))"
   ]
  },
  {
   "cell_type": "markdown",
   "metadata": {
    "slideshow": {
     "slide_type": "fragment"
    }
   },
   "source": [
    "電腦會先執行左側的運算式，接著再執行右側的運算式。"
   ]
  },
  {
   "cell_type": "markdown",
   "metadata": {
    "slideshow": {
     "slide_type": "fragment"
    }
   },
   "source": [
    "布林運算子也有操作優先順序，就像數學運算子一樣。在所有數學與比較運算子執行完成後，Python 會先執行 `not` 運算子，接著是 `and` 運算子，最後是 `or` 運算子。"
   ]
  },
  {
   "cell_type": "markdown",
   "metadata": {
    "slideshow": {
     "slide_type": "subslide"
    }
   },
   "source": [
    "算術運算子的優先順序高於邏輯運算子。Python 會始終先執行算術運算子，接著執行關係運算子，最後才執行邏輯運算子。"
   ]
  },
  {
   "cell_type": "markdown",
   "metadata": {
    "slideshow": {
     "slide_type": "fragment"
    }
   },
   "source": [
    "| 層級    | 類別      | 運算子                  |\n",
    "|---------|-----------|-------------------------|\n",
    "| 7 (高)  | 指數      | **                      |\n",
    "| 6       | 乘法      | *, /, //, %             |\n",
    "| 5       | 加法      | +, -                   |\n",
    "| 4       | 關係      | ==, !=, <=, >=, >, <     |\n",
    "| 3       | 邏輯      | not                    |\n",
    "| 2       | 邏輯      | and                    |\n",
    "| 1 (低)  | 邏輯      | or                     |"
   ]
  },
  {
   "cell_type": "code",
   "execution_count": null,
   "metadata": {
    "slideshow": {
     "slide_type": "subslide"
    }
   },
   "outputs": [],
   "source": [
    "display_quiz(path+\"logical.json\", max_width=800)"
   ]
  },
  {
   "cell_type": "markdown",
   "metadata": {
    "id": "_6ZotSZXEzN5",
    "slideshow": {
     "slide_type": "slide"
    }
   },
   "source": [
    "## 流程控制的元素"
   ]
  },
  {
   "cell_type": "markdown",
   "metadata": {
    "slideshow": {
     "slide_type": "subslide"
    }
   },
   "source": [
    "可以證明，所有程式都可以使用三種控制形式來編寫——即循序執行、選擇敘述和重複敘述。這正是結構化程式設計的理念。"
   ]
  },
  {
   "cell_type": "markdown",
   "metadata": {
    "slideshow": {
     "slide_type": "fragment"
    }
   },
   "source": [
    "流程控制敘述通常從一個被稱為 ***條件*** 的部分開始，之後跟隨一個稱為 ***子句*** 的程式碼區塊。"
   ]
  },
  {
   "cell_type": "markdown",
   "metadata": {
    "slideshow": {
     "slide_type": "fragment"
    }
   },
   "source": [
    "我們到目前為止看到的布林運算式都可以視為條件；條件其實和運算式是一樣的，只是在流程控制敘述的語境中有更具體的名稱而已！"
   ]
  },
  {
   "cell_type": "markdown",
   "metadata": {
    "slideshow": {
     "slide_type": "skip"
    }
   },
   "source": [
    "> 條件總是會輸出為布林值，即 `True` 或 `False`。流程控制敘述則根據條件的真假決定接下來要執行的操作。"
   ]
  },
  {
   "cell_type": "markdown",
   "metadata": {
    "slideshow": {
     "slide_type": "slide"
    }
   },
   "source": [
    "### 程式碼區塊"
   ]
  },
  {
   "cell_type": "markdown",
   "metadata": {
    "slideshow": {
     "slide_type": "subslide"
    }
   },
   "source": [
    "Python可以依照縮排來分組成 ***區塊***。你可以從程式碼行的縮排判斷出區塊何時開始、何時結束。區塊有三個規則：\n",
    "\n",
    "1. 當縮排增加時，區塊開始。"
   ]
  },
  {
   "cell_type": "markdown",
   "metadata": {
    "slideshow": {
     "slide_type": "fragment"
    }
   },
   "source": [
    "2. 區塊中可以包含其他區塊。  \n",
    "3. 當縮排減少到 0 或降至包含區塊的縮排時，該區塊結束。"
   ]
  },
  {
   "cell_type": "markdown",
   "metadata": {
    "slideshow": {
     "slide_type": "subslide"
    }
   },
   "source": [
    "從一些縮排程式碼中可以更容易地理解區塊，因此讓我們在下面顯示的一個小遊戲程式的部分中找出各個區塊。"
   ]
  },
  {
   "cell_type": "code",
   "execution_count": null,
   "metadata": {
    "slideshow": {
     "slide_type": "fragment"
    }
   },
   "outputs": [],
   "source": [
    "name = 'Mary'\n",
    "password = 'swordfish'\n",
    "if name == 'Mary':\n",
    "    print('你好, Mary')\n",
    "    if password == 'swordfish':\n",
    "        print('允許存取。')\n",
    "    else:\n",
    "        print('密碼錯誤。')"
   ]
  },
  {
   "cell_type": "markdown",
   "metadata": {
    "slideshow": {
     "slide_type": "fragment"
    }
   },
   "source": [
    "你可以在 https://reurl.cc/b313Nr 查看這個程式的執行情形。第一個程式碼區塊從 `print('你好, Mary')` 這一行開始，並包含它之後的所有行。在這個區塊中，又有一個區塊，它只有一行：`print('允許存取。')`。第三個區塊也是只有一行：`print('密碼錯誤。')`。"
   ]
  },
  {
   "cell_type": "markdown",
   "metadata": {
    "slideshow": {
     "slide_type": "subslide"
    }
   },
   "source": [
    "當一個區塊中的多個程式碼行的縮排不一致時，就會引發 `IndentationError`。請確保同一區塊中所有程式碼行均使用相同的縮排。"
   ]
  },
  {
   "cell_type": "code",
   "execution_count": null,
   "metadata": {
    "slideshow": {
     "slide_type": "fragment"
    }
   },
   "outputs": [],
   "source": [
    "name = 'Mary'\n",
    "password = 'swordfish'\n",
    "if name == 'Mary':\n",
    "  print('你好, Mary')\n",
    "    if password == 'swordfish':\n",
    "        print('允許存取。')\n",
    "    else:\n",
    "        print('密碼錯誤。')"
   ]
  },
  {
   "cell_type": "markdown",
   "metadata": {
    "slideshow": {
     "slide_type": "skip"
    }
   },
   "source": [
    "> 👨‍⚕️ 建議使用 **四個空白字元** 作為縮排。"
   ]
  },
  {
   "cell_type": "code",
   "execution_count": null,
   "metadata": {
    "slideshow": {
     "slide_type": "subslide"
    }
   },
   "outputs": [],
   "source": [
    "display_quiz(path+\"block.json\", max_width=800)"
   ]
  },
  {
   "cell_type": "markdown",
   "metadata": {
    "id": "1NUilGNt2iJS",
    "slideshow": {
     "slide_type": "slide"
    }
   },
   "source": [
    "### 條件執行"
   ]
  },
  {
   "cell_type": "markdown",
   "metadata": {
    "id": "U_5LmIfNE165",
    "slideshow": {
     "slide_type": "subslide"
    }
   },
   "source": [
    "控制敘述為我們提供了一種從程式的某個部分跳轉到另一部分的機制，這就是所謂的 ***控制結構***。"
   ]
  },
  {
   "cell_type": "markdown",
   "metadata": {
    "slideshow": {
     "slide_type": "fragment"
    }
   },
   "source": [
    "一個例子就是 ***if 敘述***。如果 if 敘述的條件為 `True`，那麼它的主體（也就是緊跟在 if 敘述之後的區塊）會被執行；如果條件為 `False`，則會跳過該區塊。"
   ]
  },
  {
   "cell_type": "markdown",
   "metadata": {
    "id": "eLp7j4ueFK4h",
    "slideshow": {
     "slide_type": "fragment"
    }
   },
   "source": [
    "在 Python 中，`if` 敘述屬於 ***複合敘述***，它由以下部分組成：\n",
    "\n",
    "- `if` 關鍵字  \n",
    "- 一個條件（即一個評估為 `True` 或 `False` 的運算式）  \n",
    "- 冒號  \n",
    "- 從下一行開始的一個縮排程式碼區塊（稱為 `if` 主體）"
   ]
  },
  {
   "cell_type": "markdown",
   "metadata": {
    "slideshow": {
     "slide_type": "subslide"
    }
   },
   "source": [
    "在 `if` 敘述之後的布林運算式稱為條件。我們以冒號（`:`）結束 `if` 敘述，接下來的行會進行縮排。如果邏輯條件為 True，則縮排的程式碼會被執行；若條件為 False，則會跳過這些縮排程式碼。"
   ]
  },
  {
   "cell_type": "code",
   "execution_count": null,
   "metadata": {
    "colab": {
     "base_uri": "https://localhost:8080/"
    },
    "executionInfo": {
     "elapsed": 429,
     "status": "ok",
     "timestamp": 1665387208888,
     "user": {
      "displayName": "phonchi chung",
      "userId": "13517391734500420886"
     },
     "user_tz": -480
    },
    "id": "OLi_7GqcRzox",
    "outputId": "50ce1edb-f501-4b8b-f3d8-9e95e748c2ce",
    "slideshow": {
     "slide_type": "fragment"
    }
   },
   "outputs": [],
   "source": [
    "name = 'Mary'\n",
    "if name == 'Alice':\n",
    "    print('Hi, Alice.')"
   ]
  },
  {
   "cell_type": "markdown",
   "metadata": {
    "slideshow": {
     "slide_type": "subslide"
    }
   },
   "source": [
    "<center><img src=\"https://raw.githubusercontent.com/phonchi/PythonForMath/refs/heads/main/Figures/000147.jpg\"></center>\n",
    "<div align=\"center\"> source: https://automatetheboringstuff.com/2e/chapter2/ </div>"
   ]
  },
  {
   "cell_type": "markdown",
   "metadata": {
    "id": "i7wWs6bj1CeU",
    "slideshow": {
     "slide_type": "subslide"
    }
   },
   "source": [
    "第二種 `if` 敘述形式稱為**分支執行**，在這種情況下有兩種可能性，而條件決定了哪一個被執行。語法如下："
   ]
  },
  {
   "cell_type": "code",
   "execution_count": null,
   "metadata": {
    "colab": {
     "base_uri": "https://localhost:8080/"
    },
    "executionInfo": {
     "elapsed": 2,
     "status": "ok",
     "timestamp": 1665387517163,
     "user": {
      "displayName": "phonchi chung",
      "userId": "13517391734500420886"
     },
     "user_tz": -480
    },
    "id": "j3ALfiYq1KNJ",
    "outputId": "ef0ee27a-f6d7-4734-90dc-97fd8b01e537",
    "slideshow": {
     "slide_type": "fragment"
    }
   },
   "outputs": [],
   "source": [
    "if name == 'Alice':\n",
    "    print('Hi, Alice.')\n",
    "else:\n",
    "    print('Hello, stranger.')"
   ]
  },
  {
   "cell_type": "markdown",
   "metadata": {
    "id": "wS5jvy7X1VNY",
    "slideshow": {
     "slide_type": "subslide"
    }
   },
   "source": [
    "<center><img src=\"https://raw.githubusercontent.com/phonchi/PythonForMath/refs/heads/main/Figures/000118.jpg\"></center>\n",
    "<div align=\"center\"> source: https://automatetheboringstuff.com/2e/chapter2/ </div>"
   ]
  },
  {
   "cell_type": "markdown",
   "metadata": {
    "id": "Lk7kiHwr1hEh",
    "slideshow": {
     "slide_type": "subslide"
    }
   },
   "source": [
    "由於條件必然是 True 或 False，因此兩個選項中必定會執行其中一個。這些選項稱為分支，因為它們代表了程式執行流程中的分岔。"
   ]
  },
  {
   "cell_type": "markdown",
   "metadata": {
    "id": "PCLnLflt1rZR",
    "slideshow": {
     "slide_type": "fragment"
    }
   },
   "source": [
    "跟人生一樣我們不會只有兩條路! 有時候可能有超過兩種可能性，我們就需要超過兩個分支來處理。表達這種運算的一種方法就是使用鏈式條件運算式："
   ]
  },
  {
   "cell_type": "code",
   "execution_count": null,
   "metadata": {
    "colab": {
     "base_uri": "https://localhost:8080/"
    },
    "executionInfo": {
     "elapsed": 2,
     "status": "ok",
     "timestamp": 1665387694945,
     "user": {
      "displayName": "phonchi chung",
      "userId": "13517391734500420886"
     },
     "user_tz": -480
    },
    "id": "NtHQJ54h1yTp",
    "outputId": "3af6417b-88d9-4398-8fdb-0aee8cb71de2",
    "slideshow": {
     "slide_type": "fragment"
    }
   },
   "outputs": [],
   "source": [
    "name = 'Carol'\n",
    "age = 3000\n",
    "if name == 'Alice':\n",
    "    print('Hi, Alice.')\n",
    "elif age < 12:\n",
    "    print('You are not Alice, kidd.')\n",
    "else:\n",
    "    print('You are neither Alice nor a little kid.')"
   ]
  },
  {
   "cell_type": "markdown",
   "metadata": {
    "slideshow": {
     "slide_type": "fragment"
    }
   },
   "source": [
    "你可以在 [https://autbor.com/littlekid/](https://autbor.com/littlekid/) 查看此程式的執行情形。用通俗的語言來說，這種類型的流程控制結構就是「如果第一個條件為真，就執行這個；否則，如果第二個條件為真，就執行那個。」"
   ]
  },
  {
   "cell_type": "markdown",
   "metadata": {
    "id": "YzlT65M418D5",
    "slideshow": {
     "slide_type": "subslide"
    }
   },
   "source": [
    "<center><img src=\"https://raw.githubusercontent.com/phonchi/PythonForMath/refs/heads/main/Figures/000032.jpg\" width=\"35%\"></center>\n",
    "<div align=\"center\"> source: https://automatetheboringstuff.com/2e/chapter2/ </div>"
   ]
  },
  {
   "cell_type": "code",
   "execution_count": null,
   "metadata": {
    "slideshow": {
     "slide_type": "subslide"
    }
   },
   "outputs": [],
   "source": [
    "display_quiz(path+\"conditions.json\", max_width=800)"
   ]
  },
  {
   "cell_type": "markdown",
   "metadata": {
    "slideshow": {
     "slide_type": "subslide"
    }
   },
   "source": [
    "### > 練習題 1：  \n",
    "請撰寫一個程式，提示使用者輸入一個 `row` 與 `column`（每個數值均介於 0 至 7 之間），該數值對應於一個 $8 \\times 8$ 棋盤上的格子。程式需根據該格子的顏色印出 \"黑色\" 或 \"白色\"；若任一輸入數值超出 0 至 7 的範圍，則印出 \"超出棋盤.\""
   ]
  },
  {
   "cell_type": "markdown",
   "metadata": {
    "slideshow": {
     "slide_type": "fragment"
    }
   },
   "source": [
    "<center><img src=\"https://raw.githubusercontent.com/phonchi/PythonForMath/refs/heads/main/Figures/image011.png\" width=\"20%\"></center>\n",
    "<div align=\"center\"> source: https://inventwithpython.com/pythongently/images/image011.png </div>"
   ]
  },
  {
   "cell_type": "code",
   "execution_count": null,
   "metadata": {
    "slideshow": {
     "slide_type": "subslide"
    }
   },
   "outputs": [],
   "source": [
    "row = int(input(\"請輸入行數 (0-7): \"))\n",
    "column = int(input(\"請輸入列數 (0-7): \"))\n",
    "# 檢查輸入是否在棋盤範圍內\n",
    "if column ____ or column ___ or row ___ or row ____:\n",
    "    print('out of board')\n",
    "# 如果行與列的奇偶性相同則輸出白色:\n",
    "____ column % _ == row % _:\n",
    "    print('白色')\n",
    "# 如果不同則輸出黑色:\n",
    "____:\n",
    "    print('黑色')"
   ]
  },
  {
   "cell_type": "markdown",
   "metadata": {
    "id": "ydjopqnU2n_R",
    "slideshow": {
     "slide_type": "slide"
    }
   },
   "source": [
    "### 迴圈與迭代"
   ]
  },
  {
   "cell_type": "markdown",
   "metadata": {
    "slideshow": {
     "slide_type": "subslide"
    }
   },
   "source": [
    "小時候上學的時候有沒有做錯事被罰寫的經驗？老師可能會要罰寫 100 遍的「我以後不會亂丟垃圾」，一般人只能一遍一遍的寫，厲害一點的可以單手拿五隻筆就可以一口氣寫五遍，但是如果你會使用迴圈（Loop），你只需要寫一次程式，就可以讓叫電腦幫我們寫，而且想寫幾次都行!"
   ]
  },
  {
   "cell_type": "markdown",
   "metadata": {
    "id": "7EvWoL27Fbqx",
    "slideshow": {
     "slide_type": "fragment"
    }
   },
   "source": [
    "你可以使用 ***`while` 敘述*** 讓一段程式碼反覆執行。只要 `while` 敘述的條件為 `True`，其中的程式碼就會被執行。一個 `while` 敘述總是包含以下幾個部分："
   ]
  },
  {
   "cell_type": "markdown",
   "metadata": {
    "slideshow": {
     "slide_type": "fragment"
    }
   },
   "source": [
    "- `while` 關鍵字  \n",
    "- 一個條件和冒號  \n",
    "- 從下一行開始的一個縮排程式碼區塊（稱為 `while` 主體）"
   ]
  },
  {
   "cell_type": "code",
   "execution_count": null,
   "metadata": {
    "colab": {
     "base_uri": "https://localhost:8080/"
    },
    "executionInfo": {
     "elapsed": 2,
     "status": "ok",
     "timestamp": 1665382029603,
     "user": {
      "displayName": "phonchi chung",
      "userId": "13517391734500420886"
     },
     "user_tz": -480
    },
    "id": "mJnA-rQOFIAm",
    "outputId": "9c888db1-27fd-4f47-a04a-0aa1da02ba4d",
    "slideshow": {
     "slide_type": "fragment"
    }
   },
   "outputs": [],
   "source": [
    "spam = 0\n",
    "while spam < 5:\n",
    "    print('Hello, world.')\n",
    "    spam += 1 # equivalent to spam = spam + 1"
   ]
  },
  {
   "cell_type": "markdown",
   "metadata": {
    "slideshow": {
     "slide_type": "subslide"
    }
   },
   "source": [
    "***增強指派運算子*** 是一種縮寫的賦值運算式，其中相同的變數名稱同時出現在賦值符號 `=` 的左側和右側，如上所示。"
   ]
  },
  {
   "cell_type": "markdown",
   "metadata": {
    "slideshow": {
     "slide_type": "fragment"
    }
   },
   "source": [
    "<center><img src=\"https://raw.githubusercontent.com/phonchi/PythonForMath/refs/heads/main/Figures/000112.jpg\"></center>\n",
    "<div align=\"center\"> source: https://automatetheboringstuff.com/2e/chapter2/ </div>"
   ]
  },
  {
   "cell_type": "markdown",
   "metadata": {
    "id": "bXzLhOOb27tS",
    "slideshow": {
     "slide_type": "subslide"
    }
   },
   "source": [
    "1. 評估 while 敘述的條件，得到布林值 `True` 或 `False`。  \n",
    "2. 如果條件為 `False`，則退出 while 敘述，並繼續執行下一個敘述。  \n",
    "3. 如果條件為 `True`，則執行 while 主體中的程式碼，然後回到第 1 步，重新評估條件。"
   ]
  },
  {
   "cell_type": "markdown",
   "metadata": {
    "id": "MLdwEwBq3N4B",
    "slideshow": {
     "slide_type": "fragment"
    }
   },
   "source": [
    "在 `while` 迴圈中，每一次迭代（也就是每次執行迴圈）開始時都會檢查條件。如果條件為 `True`，則執行主體，之後再重新檢查條件。當條件第一次被評估為 `False` 時，便會跳過 while 主體。"
   ]
  },
  {
   "cell_type": "markdown",
   "metadata": {
    "slideshow": {
     "slide_type": "subslide"
    }
   },
   "source": [
    "一個常見的程式設計模式是，我們可以將程式的大部分內容放入一個 `while` 迴圈中，使程式能夠持續執行，直到使用者不再需要為止。我們將定義一個退出值來決定何時離開迴圈。"
   ]
  },
  {
   "cell_type": "code",
   "execution_count": null,
   "metadata": {
    "scrolled": true,
    "slideshow": {
     "slide_type": "fragment"
    }
   },
   "outputs": [],
   "source": [
    "prompt = \"\\n請告訴我些什麼，我將會重複你所說的話：\"\n",
    "prompt += \"\\n輸入 'quit' 以結束程式。 \"\n",
    "message = \"\"\n",
    "while message != 'quit':\n",
    "    message = input(prompt)\n",
    "    print(message)"
   ]
  },
  {
   "cell_type": "markdown",
   "metadata": {
    "slideshow": {
     "slide_type": "fragment"
    }
   },
   "source": [
    "我們首先設置了一個變數 `message` 來記錄使用者輸入的值。將 `message` 定義為空字串 `\"\"`，這樣 Python 在第一次檢查時就有值可供比較。"
   ]
  },
  {
   "cell_type": "markdown",
   "metadata": {
    "slideshow": {
     "slide_type": "skip"
    }
   },
   "source": [
    "第一次進入迴圈時，`message` 只是個空字串，因此 Python 會進入迴圈。在執行 `message = input(prompt)` 時，Python 顯示提示訊息並等待使用者輸入。無論使用者輸入什麼，都會被賦值給 `message` 並被印出；接著，Python 重新評估 `while` 敘述中的條件。只要使用者沒有輸入單字 'quit'，提示訊息就會再次顯示，並等待更多輸入。當使用者最終輸入 'quit' 時，Python 停止執行 while 迴圈，程式也隨之結束。"
   ]
  },
  {
   "cell_type": "markdown",
   "metadata": {
    "slideshow": {
     "slide_type": "subslide"
    }
   },
   "source": [
    "注意：Python 將 `0`、`None`、空字串以及空的容器視為 `False`，而其他所有值均被視為 `True`！"
   ]
  },
  {
   "cell_type": "code",
   "execution_count": null,
   "metadata": {
    "slideshow": {
     "slide_type": "fragment"
    }
   },
   "outputs": [],
   "source": [
    "bool(\"\"), bool(0), bool(None), bool(prompt), bool(12)"
   ]
  },
  {
   "cell_type": "markdown",
   "metadata": {
    "slideshow": {
     "slide_type": "slide"
    }
   },
   "source": [
    "#### 使用 `break` 來離開迴圈"
   ]
  },
  {
   "cell_type": "markdown",
   "metadata": {
    "slideshow": {
     "slide_type": "subslide"
    }
   },
   "source": [
    "除了順順的讓迴圈跑完，有些時候會需要在迴圈裡面額外做一些控制，例如「跳過這一輪」或是「直接結束迴圈」。例如上述程式可以運作，但它會將字串 'quit'當作實際的訊息印出。事實上，我們可以讓程式在執行期間提前退出 `while` 迴圈：亦即使用***`break` 敘述***，當執行流程遇他時會立即離開迴圈！"
   ]
  },
  {
   "cell_type": "code",
   "execution_count": null,
   "metadata": {
    "slideshow": {
     "slide_type": "fragment"
    }
   },
   "outputs": [],
   "source": [
    "prompt = \"\\n請告訴我些什麼，我將會重複你所說的話：\"\n",
    "prompt += \"\\n輸入 'quit' 以結束程式。 \"\n",
    "message = \"\"\n",
    "while True:\n",
    "    message = input(prompt)\n",
    "    if message == 'quit':\n",
    "        break\n",
    "    else:\n",
    "        print(message)"
   ]
  },
  {
   "cell_type": "markdown",
   "metadata": {
    "slideshow": {
     "slide_type": "fragment"
    }
   },
   "source": [
    "第四行建立了一個***無限迴圈***；這是一個其條件永遠為 `True` 的 `while` 迴圈。程式一旦進入這個迴圈，只有在遇到 `break` 敘述時才會退出該迴圈。"
   ]
  },
  {
   "cell_type": "markdown",
   "metadata": {
    "slideshow": {
     "slide_type": "skip"
    }
   },
   "source": [
    "> 一個永遠不退出的無限迴圈是常見的程式設計錯誤！"
   ]
  },
  {
   "cell_type": "markdown",
   "metadata": {
    "slideshow": {
     "slide_type": "skip"
    }
   },
   "source": [
    "> 就像之前一樣，這個程式會要求使用者輸入內容。不過，現在當執行流程仍在 `while` 迴圈中時，會先透過一個 `if` 敘述檢查 `message` 是否等於 'quit'。如果這個條件為 `True`，則會執行 `break` 敘述，並將執行流程跳出迴圈。否則，包含 `break` 敘述的 `if` 區塊將被跳過，程式會再次印出 `message`。之後，程式執行會回到 `while` 敘述的起始位置重新檢查條件。由於這個條件永遠是布林值 `True`，因此執行流程再次進入迴圈，提示使用者輸入另一個訊息。"
   ]
  },
  {
   "cell_type": "markdown",
   "metadata": {
    "slideshow": {
     "slide_type": "slide"
    }
   },
   "source": [
    "#### `continue` 敘述"
   ]
  },
  {
   "cell_type": "markdown",
   "metadata": {
    "slideshow": {
     "slide_type": "subslide"
    }
   },
   "source": [
    "與其直接跳出迴圈而不執行其餘程式碼，你可以使用 ***`continue` 敘述*** 根據條件測試的結果返回迴圈的起始位置。例如，以下程式會產生一個從 1 數到 10，但只印出該範圍內奇數的迴圈："
   ]
  },
  {
   "cell_type": "code",
   "execution_count": null,
   "metadata": {
    "slideshow": {
     "slide_type": "fragment"
    }
   },
   "outputs": [],
   "source": [
    "current_number = 0\n",
    "while current_number < 10:\n",
    "    current_number += 1\n",
    "    if current_number % 2 == 0:\n",
    "        continue\n",
    "    else:\n",
    "        print(current_number, end=' ')"
   ]
  },
  {
   "cell_type": "markdown",
   "metadata": {
    "slideshow": {
     "slide_type": "skip"
    }
   },
   "source": [
    "> 首先，我們將 `current_number` 設定為 0。因為它小於 10，所以 Python 進入 while 迴圈。一旦進入迴圈，我們將計數加 1，使得 `current_number` 成為 1。接著，`if` 敘述會檢查 `current_number` 除以 2 的餘數。如果餘數為 0，則 `continue` 敘述會告知 Python 忽略該迴圈剩下的程式碼，並返回迴圈起始位置。如果 `current_number` 無法被 2 整除，則會執行該迴圈剩餘的部分，並由 Python 印出 `current_number`。"
   ]
  },
  {
   "cell_type": "markdown",
   "metadata": {
    "slideshow": {
     "slide_type": "fragment"
    }
   },
   "source": [
    "請注意，內建函數 `print()` 會顯示它收到的字串引數，然後將游標移到下一行。我們可以利用 `end` 引數來改變這種行為。我們這裡使用了一個空格（' '），因此每次呼叫 `print()` 時，都會在輸出值後接上一個空格！"
   ]
  },
  {
   "cell_type": "markdown",
   "metadata": {
    "slideshow": {
     "slide_type": "skip"
    }
   },
   "source": [
    "> 如果你執行的程式出現錯誤，導致陷入無限迴圈，請按 CTRL-C。這會向程式發送一個 `KeyboardInterrupt` 錯誤，並立即使程式停止。"
   ]
  },
  {
   "cell_type": "code",
   "execution_count": null,
   "metadata": {
    "scrolled": false,
    "slideshow": {
     "slide_type": "subslide"
    }
   },
   "outputs": [],
   "source": [
    "display_quiz(path+\"while.json\", max_width=800)"
   ]
  },
  {
   "cell_type": "markdown",
   "metadata": {
    "slideshow": {
     "slide_type": "slide"
    }
   },
   "source": [
    "#### “TRUTHY” 與 “FALSY” 值"
   ]
  },
  {
   "cell_type": "markdown",
   "metadata": {
    "slideshow": {
     "slide_type": "subslide"
    }
   },
   "source": [
    "讓我們深入探討以下程式："
   ]
  },
  {
   "cell_type": "code",
   "execution_count": null,
   "metadata": {
    "slideshow": {
     "slide_type": "fragment"
    }
   },
   "outputs": [],
   "source": [
    "name = ''\n",
    "while not name:\n",
    "    print('請輸入你的名字:')\n",
    "    name = input()\n",
    "\n",
    "print('你會有多少位客人?')\n",
    "numOfGuests = int(input())\n",
    "\n",
    "if numOfGuests:\n",
    "    print('請確保有足夠的空間容納所有客人。')\n",
    "print('完成')"
   ]
  },
  {
   "cell_type": "markdown",
   "metadata": {
    "slideshow": {
     "slide_type": "fragment"
    }
   },
   "source": [
    "你可以在 https://reurl.cc/K86jg9 查看這個程式的執行情形。"
   ]
  },
  {
   "cell_type": "markdown",
   "metadata": {
    "slideshow": {
     "slide_type": "skip"
    }
   },
   "source": [
    "> 👨‍⚕️ 如果使用者輸入空白字串作為名字，那麼 `while` 敘述的條件會被視為 `True`，程式便會持續要求輸入名字。如果 `numOfGuests` 的值不為 0，那麼條件就會被視為 `True`，程式會印出提醒使用者的訊息。你也可以寫成 `not name != ''` 來代替 `not name`，或者寫成 `numOfGuests != 0` 來代替 `numOfGuests`，但利用布林值 truthy 與 falsy 能使程式碼更易讀。"
   ]
  },
  {
   "cell_type": "markdown",
   "metadata": {
    "slideshow": {
     "slide_type": "subslide"
    }
   },
   "source": [
    "### 練習題 2：寫一個程式計算 π 的值，利用下面的無窮級數  \n",
    "$$ 4 \\times \\left(1 - \\frac{1}{3} + \\frac{1}{5} - \\frac{1}{7} + \\cdots - \\frac{(-1)^n}{2n-1}\\right) $$\n",
    "試著計算需要多少項才能使誤差小於 $10^{-3}$。\n",
    "\n",
    "提示：使用 `math` 模組中的常數 `math.pi` 作為 π 的真實值，並利用 `abs()` 來計算誤差。"
   ]
  },
  {
   "cell_type": "code",
   "execution_count": null,
   "metadata": {
    "slideshow": {
     "slide_type": "subslide"
    }
   },
   "outputs": [],
   "source": [
    "import math\n",
    "\n",
    "approx_pi = 0\n",
    "error = abs(approx_pi - math.pi)\n",
    "print(\"pi 的值為:\"+str(math.pi))\n",
    "print(\"開始的誤差為:\"+str(error))\n",
    "n = 0 #項數\n",
    "# Your code here\n",
    "while _________________:\n",
    "\n",
    "\n",
    "    error = abs(approx_pi - math.pi)\n",
    "    print(str(n)+\" \"+str(approx_pi)+\" \"+str(error))\n"
   ]
  },
  {
   "cell_type": "markdown",
   "metadata": {
    "slideshow": {
     "slide_type": "slide"
    }
   },
   "source": [
    "###  `for` 迴圈與 `range()` 函數"
   ]
  },
  {
   "cell_type": "markdown",
   "metadata": {
    "slideshow": {
     "slide_type": "subslide"
    }
   },
   "source": [
    "`while` 迴圈會在其條件為 `True` 時持續迴圈，但如果我們想要僅執行程式碼區塊 **固定次數** 呢？我們可以使用 ***`for` 迴圈敘述*** 搭配 `range()` 函數來達成。"
   ]
  },
  {
   "cell_type": "markdown",
   "metadata": {
    "slideshow": {
     "slide_type": "fragment"
    }
   },
   "source": [
    "一個 `for` 敘述會像 `for i in range(5):` 一樣包含以下部分：\n",
    "\n",
    "- `for` 關鍵字  \n",
    "- 一個變數名稱  \n",
    "- ***`in` 關鍵字***"
   ]
  },
  {
   "cell_type": "markdown",
   "metadata": {
    "slideshow": {
     "slide_type": "fragment"
    }
   },
   "source": [
    "- 對 `range()` 函式的呼叫，可傳入最多三個整數（`for` 迴圈可以逐項遍歷一個 ***序列***）\n",
    "- 冒號\n",
    "- 從下一行開始，一個縮排的程式碼區塊（稱為 `for` 敘述的主體）"
   ]
  },
  {
   "cell_type": "markdown",
   "metadata": {
    "slideshow": {
     "slide_type": "subslide"
    }
   },
   "source": [
    "讓我們建立一個新程式，幫助我們觀察 `for` 迴圈的運作。"
   ]
  },
  {
   "cell_type": "code",
   "execution_count": null,
   "metadata": {
    "slideshow": {
     "slide_type": "fragment"
    }
   },
   "outputs": [],
   "source": [
    "print('我的名字是')\n",
    "for i in range(5):\n",
    "    print('Jimmy 會印五次 (' + str(i) + ')')"
   ]
  },
  {
   "cell_type": "markdown",
   "metadata": {
    "slideshow": {
     "slide_type": "fragment"
    }
   },
   "source": [
    "你可以在 https://reurl.cc/dQr5ZD 查看這個程式的執行情形。"
   ]
  },
  {
   "cell_type": "markdown",
   "metadata": {
    "slideshow": {
     "slide_type": "skip"
    }
   },
   "source": [
    "> 👨‍⚕️ 迴圈主體中的程式碼會執行五次。第一次執行時，變數 `i` 的值為 0，迴圈主體中的 `print()` 會印出 \"Jimmy 會印出五次 (0)\"。當 Python 完成一次迴圈主體中的所有程式碼後，執行流程會回到迴圈頂端，並且 `for` 敘述會將 `i` 的值加一。這就是為什麼 `range(5)` 會使主體迴圈執行五次，其間 `i` 的值依次為 0、1、2、3 和 4。變數 `i` 的值會增加到**傳入 `range()` 的整數-1**。"
   ]
  },
  {
   "cell_type": "markdown",
   "metadata": {
    "slideshow": {
     "slide_type": "subslide"
    }
   },
   "source": [
    "我們也可以使用 `while` 迴圈達到與 `for` 迴圈相同的效果；不過，`for` 迴圈更為簡潔。"
   ]
  },
  {
   "cell_type": "code",
   "execution_count": null,
   "metadata": {
    "slideshow": {
     "slide_type": "fragment"
    }
   },
   "outputs": [],
   "source": [
    "print('我的名字是')\n",
    "i = 0\n",
    "while i < 5:\n",
    "    print('Jimmy 會印五次 (' + str(i) + ')')\n",
    "    i = i + 1"
   ]
  },
  {
   "cell_type": "markdown",
   "metadata": {
    "slideshow": {
     "slide_type": "slide"
    }
   },
   "source": [
    "#### `range()` 的起始、終止與間隔引數"
   ]
  },
  {
   "cell_type": "markdown",
   "metadata": {
    "slideshow": {
     "slide_type": "subslide"
    }
   },
   "source": [
    "一些函數可以接收用逗號分隔的多個引數，而 `range()` 就是其中之一。我們能夠改變傳入 `range()` 的整數，讓它遵循任意的模式來整數序列，包括從非零數字開始。"
   ]
  },
  {
   "cell_type": "code",
   "execution_count": null,
   "metadata": {
    "slideshow": {
     "slide_type": "fragment"
    }
   },
   "outputs": [],
   "source": [
    "for i in range(12, 16):\n",
    "    print(i)"
   ]
  },
  {
   "cell_type": "markdown",
   "metadata": {
    "slideshow": {
     "slide_type": "fragment"
    }
   },
   "source": [
    "`range()` 函式可以接受三個引數。前兩個引數分別表示起始值與終止值，而第三個引數則表示間隔值。"
   ]
  },
  {
   "cell_type": "code",
   "execution_count": null,
   "metadata": {
    "slideshow": {
     "slide_type": "subslide"
    }
   },
   "outputs": [],
   "source": [
    "for i in range(0, 10, 2):\n",
    "    print(i)"
   ]
  },
  {
   "cell_type": "markdown",
   "metadata": {
    "slideshow": {
     "slide_type": "fragment"
    }
   },
   "source": [
    "我們甚至可以使用 **負數** 作為間格引數，讓 `for` 迴圈遞減而不是遞增。"
   ]
  },
  {
   "cell_type": "code",
   "execution_count": null,
   "metadata": {
    "slideshow": {
     "slide_type": "fragment"
    }
   },
   "outputs": [],
   "source": [
    "for i in range(5, -1, -1):\n",
    "    print(i)"
   ]
  },
  {
   "cell_type": "markdown",
   "metadata": {
    "slideshow": {
     "slide_type": "skip"
    }
   },
   "source": [
    "> Python 在 Python 3.10 中引入了 [switch](https://learnpython.com/blog/python-match-case-statement/) 敘述，作為另一種控制敘述。"
   ]
  },
  {
   "cell_type": "code",
   "execution_count": null,
   "metadata": {
    "slideshow": {
     "slide_type": "subslide"
    }
   },
   "outputs": [],
   "source": [
    "display_quiz(path+\"for.json\", max_width=800)"
   ]
  },
  {
   "cell_type": "markdown",
   "metadata": {
    "slideshow": {
     "slide_type": "subslide"
    }
   },
   "source": [
    "### 練習題 3：請撰使用 `for` 迴圈來顯示以下聖誕樹圖案。\n",
    "\n",
    "```\n",
    "*              *             *          \n",
    "**            ***           ***          \n",
    "***          *****         *****        \n",
    "****        *******       *******      \n",
    "*****      *********     *********      \n",
    "                             *            \n",
    "                             *             \n",
    "簡易版        標準版         進階版   \n",
    "```\n",
    "\n",
    "提示：先不管這東西到底長的像不像聖誕樹，我們就想辦法用程式把它們畫出來就好，試著使用**巢狀迴圈**，其中外層迴圈用來顯示每一行，而內層迴圈用來顯示每一列。"
   ]
  },
  {
   "cell_type": "code",
   "execution_count": null,
   "metadata": {
    "slideshow": {
     "slide_type": "subslide"
    }
   },
   "outputs": [],
   "source": [
    "for row in range(__,__):\n",
    "    for column in range(__,__):\n",
    "        print('*', end='')\n",
    "    print()"
   ]
  },
  {
   "cell_type": "code",
   "execution_count": null,
   "metadata": {
    "slideshow": {
     "slide_type": "subslide"
    }
   },
   "outputs": [],
   "source": [
    "for n in range(__):\n",
    "    print(\"*\" * (__))"
   ]
  },
  {
   "cell_type": "markdown",
   "metadata": {
    "slideshow": {
     "slide_type": "slide"
    }
   },
   "source": [
    "## 匯入模組"
   ]
  },
  {
   "cell_type": "markdown",
   "metadata": {
    "slideshow": {
     "slide_type": "subslide"
    }
   },
   "source": [
    "所有 Python 程式都可以呼叫一組基本函數，稱為 **內建函數**，其中包括我們之前見過的 `print()`、`input()`、`len()` 和 `range()` 函數。"
   ]
  },
  {
   "cell_type": "markdown",
   "metadata": {
    "slideshow": {
     "slide_type": "fragment"
    }
   },
   "source": [
    "Python 也內建需要另外匯入的模組，稱為 ***標準函式庫***。每個模組都包含一系列相關的函數，可以匯入到我們的程式中使用。"
   ]
  },
  {
   "cell_type": "markdown",
   "metadata": {
    "slideshow": {
     "slide_type": "fragment"
    }
   },
   "source": [
    "例如，`math` 模組包含與數學相關的函數，而 `random` 模組則包含隨機數相關的函數，依此類推。"
   ]
  },
  {
   "cell_type": "markdown",
   "metadata": {
    "slideshow": {
     "slide_type": "subslide"
    }
   },
   "source": [
    "在你可以使用模組中的函數之前，必須用 `import` 敘述將該模組匯入。在程式碼中，一個 `import` 敘述包含以下部分：\n",
    "\n",
    "- `import` 關鍵字"
   ]
  },
  {
   "cell_type": "markdown",
   "metadata": {
    "slideshow": {
     "slide_type": "fragment"
    }
   },
   "source": [
    "- 模組的名稱  \n",
    "- （選擇性）更多模組的名稱，只要它們以逗號分隔即可"
   ]
  },
  {
   "cell_type": "markdown",
   "metadata": {
    "slideshow": {
     "slide_type": "subslide"
    }
   },
   "source": [
    "一旦你匯入模組，就可以使用該模組中的所有好用的函數。讓我們試著使用 `random` 模組，它會讓我們能夠使用 `random.randint()` 函數。"
   ]
  },
  {
   "cell_type": "code",
   "execution_count": null,
   "metadata": {
    "slideshow": {
     "slide_type": "fragment"
    }
   },
   "outputs": [],
   "source": [
    "import random\n",
    "for i in range(5):\n",
    "    print(random.randint(1, 10))"
   ]
  },
  {
   "cell_type": "markdown",
   "metadata": {
    "slideshow": {
     "slide_type": "fragment"
    }
   },
   "source": [
    "你可以在 [https://autbor.com/printrandom/](https://autbor.com/printrandom/) 查看這個程式的執行結果。`random.randint()` 函式會返回一個介於你傳入的兩個整數之間的隨機整數值。"
   ]
  },
  {
   "cell_type": "markdown",
   "metadata": {
    "slideshow": {
     "slide_type": "fragment"
    }
   },
   "source": [
    "由於 `randint()` 位於 `random` 模組中，因此你必須在函數名稱前加上 `random.`，以告訴 Python 從 `random` 模組中尋找此函數。"
   ]
  },
  {
   "cell_type": "markdown",
   "metadata": {
    "slideshow": {
     "slide_type": "skip"
    }
   },
   "source": [
    "> 可以在以下連結查看 Python 標準函式庫：[這裡](https://docs.python.org/3/library/index.html#library-index) 或 [這裡](https://pymotw.com/3/index.html)"
   ]
  },
  {
   "cell_type": "markdown",
   "metadata": {
    "slideshow": {
     "slide_type": "fragment"
    }
   },
   "source": [
    "透過執行結果為 `True` 或 `False` 的運算式（也稱為條件），我們可以撰寫程式來決定執行哪些程式碼、略過哪些程式碼。你也可以在迴圈中反覆執行程式碼，只要特定條件為 `True`。"
   ]
  },
  {
   "cell_type": "markdown",
   "metadata": {
    "slideshow": {
     "slide_type": "fragment"
    }
   },
   "source": [
    "這些流程控制敘述將使你能撰寫出更好用的程式。我們也可以透過 **撰寫客製化的函數** 來實現另一種流程控制方式，而這正是下一章的主題。"
   ]
  },
  {
   "cell_type": "code",
   "execution_count": null,
   "metadata": {
    "slideshow": {
     "slide_type": "subslide"
    }
   },
   "outputs": [],
   "source": [
    "from jupytercards import display_flashcards\n",
    "fpath= \"https://raw.githubusercontent.com/phonchi/PythonForMath/refs/heads/main/flashcards-TW/\"\n",
    "display_flashcards(fpath + 'ch2.json')"
   ]
  },
  {
   "cell_type": "markdown",
   "metadata": {
    "slideshow": {
     "slide_type": "skip"
    }
   },
   "source": [
    "## 關鍵字"
   ]
  },
  {
   "cell_type": "markdown",
   "metadata": {
    "slideshow": {
     "slide_type": "skip"
    }
   },
   "source": [
    "- **流程控制敘述 (flow control statements)**：決定程式碼執行順序的指令。  \n",
    "- **布林運算式 (boolean expression)**：運算結果為 True 或 False 的運算式。  \n",
    "- **布林值 (boolean values)**：Python 中的兩個真值：True 與 False。  \n",
    "- **比較運算子 (comparison operators)**：用於比較值的運算子，如 `==`、`!=`、`<`、`>`、`<=` 與 `>=`。  \n",
    "- **布林運算子 (boolean operators)**：用於組合或反轉布林運算式的運算子，例如 `and`、`or` 與 `not`。  \n",
    "- **循序執行 (sequential execution)**：程式碼依序逐條執行的過程。  \n",
    "- **選擇敘述 (selection statement)**：根據條件讓程式選擇不同執行路徑的敘述（例如 if 敘述）。  \n",
    "- **重複敘述 (repetition statement)**：反覆執行程式碼區塊的迴圈，直到滿足某個條件（例如 for 或 while 迴圈）。  \n",
    "- **結構化程式設計 (structured programming)**：利用區塊、迴圈和函數撰寫清晰、邏輯性強程式碼的程式設計風格。  \n",
    "- **條件 (condition)**：用於決定執行哪個程式碼路徑的布林運算式。  \n",
    "- **子句 (clause)**：控制結構中的一部分，例如 if 敘述中的條件部分。  \n",
    "- **程式碼區塊 (block of code)**：一組會一起執行的敘述，通常由縮排定義。  \n",
    "- **縮排 (indentation)**：行首的空格，用以定義 Python 中的程式碼區塊。  \n",
    "- **控制結構 (control structures)**：控制程式執行流程的結構，如迴圈與條件敘述。  \n",
    "- **if 敘述 (if-statement)**：僅在指定條件為 True 時執行程式碼的條件敘述。  \n",
    "- **while 敘述 (while statement)**：只要條件保持為 True 就重複執行程式碼區塊的迴圈。  \n",
    "- **增強指派運算子 (augmented assignments)**：用於原地更新變數值的簡寫運算子（例如 `+=`、`-=`、`*=`）。  \n",
    "- **break 敘述 (break statement)**：一個立即退出迴圈的指令。  \n",
    "- **無窮迴圈 (infinite loop)**：除非被中斷，否則永不停止運行的迴圈。  \n",
    "- **continue 敘述 (continue statement)**：一個跳過當前迴圈剩餘部分並進入下一次迭代的指令。  \n",
    "- **for 迴圈敘述 (for loop statement)**：對序列中的每個項目進行迭代，並對每個項目執行一個程式碼區塊的迴圈。  \n",
    "- **in 關鍵字 (in)**：用於檢查某值是否存在於序列中或對序列項目進行迭代的關鍵字。  \n",
    "- **序列型別 (sequence type)**：儲存有序項目集合的資料型別，如列表、元組與字串。  \n",
    "- **標準函式庫 (standard library)**：Python 內建的一系列模組與函數，用於執行許多常見任務。"
   ]
  }
 ],
 "metadata": {
  "celltoolbar": "Slideshow",
  "colab": {
   "provenance": []
  },
  "kernelspec": {
   "display_name": "Python 3 (ipykernel)",
   "language": "python",
   "name": "python3"
  },
  "language_info": {
   "codemirror_mode": {
    "name": "ipython",
    "version": 3
   },
   "file_extension": ".py",
   "mimetype": "text/x-python",
   "name": "python",
   "nbconvert_exporter": "python",
   "pygments_lexer": "ipython3",
   "version": "3.9.13"
  },
  "rise": {
   "chalkboard": {
    "color": [
     "rgb(250, 0, 0)",
     "rgb(250, 0, 0)"
    ]
   },
   "controls": false,
   "enable_chalkboard": true,
   "footer": "",
   "overlay": "<div class='myfooter'><h4>流程控制</h4></div>",
   "slideNumber": "true",
   "theme": "night"
  },
  "vscode": {
   "interpreter": {
    "hash": "ffe9a5d1be64f395cda62646beb00f4fbc1d5c319e2b42024d6d4b4beddf19a5"
   }
  }
 },
 "nbformat": 4,
 "nbformat_minor": 1
}
