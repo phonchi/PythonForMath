{
  "cells": [
    {
      "cell_type": "markdown",
      "metadata": {
        "id": "11n5gndbRzoY"
      },
      "source": [
        "# Python基礎介紹"
      ]
    },
    {
      "cell_type": "markdown",
      "metadata": {
        "id": "jaYyzI4Ld-0f"
      },
      "source": [
        "<table align=\"left\">\n",
        "  <td>\n",
        "    <a href=\"https://colab.research.google.com/github/phonchi/PythonForMath/blob/master/01_Python.ipynb\" target=\"_parent\"><img src=\"https://colab.research.google.com/assets/colab-badge.svg\" alt=\"Open In Colab\"/></a>\n",
        "  </td>\n",
        "  <td>\n",
        "    <a target=\"_blank\" href=\"https://kaggle.com/kernels/welcome?src=https://github.com/phonchi/PythonForMath/blob/master/01_Python.ipynb\"><img src=\"https://kaggle.com/static/images/open-in-kaggle.svg\" /></a>\n",
        "  </td>\n",
        "</table>"
      ]
    },
    {
      "cell_type": "code",
      "source": [
        "# 查看 CPU 型號與核心數\n",
        "!lscpu | grep \"Model name\"    # CPU 型號\n",
        "!lscpu | grep \"^CPU(s):\"      # CPU 核心數\n",
        "\n",
        "# 查看 GPU 型號（如果有分配 GPU）\n",
        "!nvidia-smi"
      ],
      "metadata": {
        "id": "lw9mDqNBgFkg"
      },
      "execution_count": null,
      "outputs": []
    },
    {
      "cell_type": "markdown",
      "metadata": {
        "id": "-VqbO0Hgd-0g"
      },
      "source": [
        "請先執行以下兩格程式碼:"
      ]
    },
    {
      "cell_type": "code",
      "execution_count": null,
      "metadata": {
        "id": "Tj9RNcbdd-0g"
      },
      "outputs": [],
      "source": [
        "!pip install jupyterquiz\n",
        "!pip install jupytercards\n",
        "!wget -q https://raw.githubusercontent.com/phonchi/PythonForMath/main/pokemon.py\n",
        "from IPython.display import display, Javascript\n",
        "display(Javascript('Jupyter.notebook.kernel.restart()'))"
      ]
    },
    {
      "cell_type": "code",
      "execution_count": null,
      "metadata": {
        "id": "j9K_JTXzd-0g"
      },
      "outputs": [],
      "source": [
        "from jupyterquiz import display_quiz\n",
        "\n",
        "path=\"https://raw.githubusercontent.com/phonchi/PythonForMath/refs/heads/main/questions-TW/ch1/\""
      ]
    },
    {
      "cell_type": "markdown",
      "metadata": {
        "id": "aI38K-AYd-0h"
      },
      "source": [
        "1. 簡介\n",
        "\n",
        "2. 變數\n",
        "\n",
        "3. 除錯\n",
        "\n",
        "4. 第一個程序"
      ]
    },
    {
      "cell_type": "markdown",
      "metadata": {
        "id": "SwFKFBMwRzoa"
      },
      "source": [
        "## 簡介"
      ]
    },
    {
      "cell_type": "markdown",
      "metadata": {
        "id": "Ss9hRGHDRzob"
      },
      "source": [
        "問題解決是電腦科學的核心部分，而你在問題解決過程中所創造的解決方案便是 ***演算法***。演算法是一系列逐步的指令，只要完全按照這些指令執行，就能解決所考慮的問題。"
      ]
    },
    {
      "cell_type": "markdown",
      "metadata": {
        "id": "Za3vqpakd-0h"
      },
      "source": [
        "例如，一個用來計算三角形斜邊長度的演算法可能如下：\n",
        "\n",
        "演算法範例 1（中文）：\n",
        "- 請輸入兩邊的長度\n",
        "- 使用畢氏定理計算斜邊\n",
        "- 顯示斜邊"
      ]
    },
    {
      "cell_type": "markdown",
      "metadata": {
        "id": "qRC_LS7Dd-0i"
      },
      "source": [
        ">請注意，這個演算法是由一系列步驟所構成。它以中文撰寫以便於理解，但也假定讀者了解必要的子步驟。儘管簡單的演算法用中文撰寫時容易理解，但較複雜的演算法則需要更精確的符號表示。"
      ]
    },
    {
      "cell_type": "markdown",
      "metadata": {
        "id": "TAevJoKkd-0i"
      },
      "source": [
        "演算法就像食物食譜/遊戲攻略一樣：必須精確執行、清楚明確且無歧義，並且必須能夠在有限步驟內結束。為了提高精確性，演算法通常會以 ***虛擬碼*** 撰寫。"
      ]
    },
    {
      "cell_type": "markdown",
      "metadata": {
        "id": "azSR86V1d-0i"
      },
      "source": [
        "演算法範例 2（虛擬碼）：\n",
        "- 請輸入非斜邊的邊長：\n",
        "    - 請輸入第一邊的長度，記作 $a$。\n",
        "    - 請輸入第二邊的長度，記作 $b$。\n",
        "- 令\n",
        "    \\begin{align}\n",
        "    \\text{hypotenuse} = \\sqrt{a^2 + b^2}\n",
        "    \\end{align}\n",
        "- 顯示斜邊的長度"
      ]
    },
    {
      "cell_type": "markdown",
      "metadata": {
        "id": "rU_szuURd-0i"
      },
      "source": [
        "一旦我們得到這樣的解決方案，就可以利用電腦來<u>自動化</u>它的執行。***程式設計***是一項技能，它使得計算機科學家能夠將演算法轉換成一種符號（也就是程式），讓電腦可以依照它來運行。程式則是用***程式語言***撰寫的，例如 Python——這正是你在本課程中將學習的語言。"
      ]
    },
    {
      "cell_type": "code",
      "execution_count": null,
      "metadata": {
        "id": "jt2rV8ktd-0i"
      },
      "outputs": [],
      "source": [
        "a = int(input(\"請輸入第一邊的長度:\"))\n",
        "b = int(input(\"請輸入第二邊的長度:\"))\n",
        "hypotenuse = (a**2 + b**2)**(1/2)\n",
        "print(\"該三角形的斜邊是：\", hypotenuse)"
      ]
    },
    {
      "cell_type": "markdown",
      "metadata": {
        "id": "2XzrfvnCd-0i"
      },
      "source": [
        "> 👨‍⚕️ 演算法之所以重要，是因為透過程式設計解決問題的過程始於演算法的設計。程式設計師通常會先以虛擬碼來表示演算法，以便更好地理解各個子步驟，然後再將演算法轉換成電腦能夠執行的程式。"
      ]
    },
    {
      "cell_type": "code",
      "execution_count": null,
      "metadata": {
        "id": "igjERRmBd-0i"
      },
      "outputs": [],
      "source": [
        "display_quiz(path+\"algo.json\", question_alignment='center', max_width=800)"
      ]
    },
    {
      "cell_type": "markdown",
      "metadata": {
        "id": "vk4VMOiLBn7L"
      },
      "source": [
        "### Hello, python"
      ]
    },
    {
      "cell_type": "markdown",
      "metadata": {
        "id": "dhPZd_-Yd-0j"
      },
      "source": [
        "電腦程式本質上是透過 0 跟 1 的數字或訊號來指揮電腦做一些我們想要它完成的工作，例如數學的四則運算，或是計算圓周率到底有幾位數。不過一般人應該看不太懂這些 0 跟 1 所代表的意思，所以便有人設計出一些普通人比較容易理解像是 `if...else...` 這種比較接近人類語言的電腦指令。"
      ]
    },
    {
      "cell_type": "markdown",
      "metadata": {
        "id": "dPVK_1NUd-0j"
      },
      "source": [
        "這些指令最終還是會被轉換成電腦看的懂的 0 與 1，而 `if...else...` 這種比較容易懂的指令就稱之程式語言的語法。目前全世界的程式語言有非常多種，各有各自的用途，不同的程式語言就只是使用不同的語法在叫電腦做事而已，而本課程要介紹的程式語言 Python 也是其中一種，還是目前全世界最受歡迎的那種!"
      ]
    },
    {
      "cell_type": "code",
      "execution_count": null,
      "metadata": {
        "id": "LRNs9Y7Cd-0j"
      },
      "outputs": [],
      "source": [
        "import antigravity"
      ]
    },
    {
      "cell_type": "code",
      "source": [
        "import pokemon"
      ],
      "metadata": {
        "id": "EII3ZVzQmUub"
      },
      "execution_count": null,
      "outputs": []
    },
    {
      "cell_type": "markdown",
      "metadata": {
        "id": "PMKlOcbyd-0j"
      },
      "source": [
        "Python 之所以廣受歡迎，主要在於語法簡潔易讀，初學者非常容易上手。近年來 Python 的爆炸性成長，主要歸功於資料科學及人工智慧領域的推波助瀾。程式庫及範例，第一順位永遠是 Python 版!"
      ]
    },
    {
      "cell_type": "markdown",
      "metadata": {
        "id": "llxUy8ukd-0j"
      },
      "source": [
        "例如近期 [Excel](https://www.youtube.com/watch?v=kYyIEnTXYRg) 也加入了Python的支援!"
      ]
    },
    {
      "cell_type": "markdown",
      "metadata": {
        "id": "PcyGGVFdd-0j"
      },
      "source": [
        "「寫程式」的過程，就是使用某些工具（通常是文字編輯軟體），把這些指令存成檔案。這些檔案就像電影的劇本，舞台上的演員們就是照著劇本的指示演戲，電腦也是根據你寫的這些指令來完成你想要做的工作。"
      ]
    },
    {
      "cell_type": "markdown",
      "metadata": {
        "id": "3pt6r9Lcd-0j"
      },
      "source": [
        "Python 強調程式碼的可讀性，並且是一種 ***直譯式語言***。對初學者來說，這意味著可以直接在互動式提示符中輸入 Python 指令，或者將它們儲存在一個純文字檔案中（稱為 `\"script\"`），之後再執行。這些指令會由 Python 的 ***直譯器*** 評估並執行命令。"
      ]
    },
    {
      "cell_type": "markdown",
      "metadata": {
        "id": "EwAD1vK3d-0j"
      },
      "source": [
        "<center><img src=\"https://raw.githubusercontent.com/phonchi/PythonForMath/refs/heads/main/Figures/interpret.png\" width=\"60%\" height=\"60%\"></center>"
      ]
    },
    {
      "cell_type": "markdown",
      "metadata": {
        "id": "363rrr22d-0j"
      },
      "source": [
        "> 直譯器會讀取高階程式並立即執行，這意味著它會一行一行地按照程式中所指示的內容進行操作。它在讀取每行指令與執行計算之間交替進行。而編譯器則會在程式開始運行之前先讀取整個程式並將其完全編譯。在這種情況下，原始程式被稱為原始碼，而翻譯後的程式則被稱為機器碼。一旦程式被編譯，你就可以反覆執行它，而無需進一步編譯！"
      ]
    },
    {
      "cell_type": "markdown",
      "metadata": {
        "id": "3_gQhZxrBvQW"
      },
      "source": [
        "一個 ***指令***（通常稱為 ***敘述***）會指示直譯器執行某個動作。許多程式語言入門教材中介紹的第一個程式便是 \"Hello, World\"。這個簡單的程式展示了一個特定語言如何產生輸出，同時也展示了該語言如何表示\"文字\"並輸出基本的問候 🙂"
      ]
    },
    {
      "cell_type": "code",
      "execution_count": null,
      "metadata": {
        "id": "IPO0BNIcRzob"
      },
      "outputs": [],
      "source": [
        "print('Hello, World！')"
      ]
    },
    {
      "cell_type": "markdown",
      "metadata": {
        "id": "j3AXpU87B5bT"
      },
      "source": [
        "即使在這個簡單的 Python 敘述中，也有幾個層面值得注意。  \n",
        "* 首先， `print()` 是[內建的 ***函數***](https://docs.python.org/zh-tw/3.13/library/functions.html)，一個 Python 預先定義的操作，用來產生輸出，也就是程式執行後呈現給使用者的結果。`print` 後面跟著左括號和右括號；括號內的內容即為要被印出的值或我們會將其稱之為***參數***。"
      ]
    },
    {
      "cell_type": "markdown",
      "metadata": {
        "id": "QQ9059vFd-0k"
      },
      "source": [
        "* 第二，像數字、字母和字串(用來表示一連「串」的文「字」)這類固定的值稱為 ***常數***，屬於不會改變的 **資料**。在 Python 中，字串常數可以使用單引號 `'` 或雙引號 `\"` 表示。"
      ]
    },
    {
      "cell_type": "markdown",
      "metadata": {
        "id": "7jMqMVgdd-0k"
      },
      "source": [
        "請注意，可以使用 `\\` 將敘述跨越多行，或者利用逗號 `,` 分隔多個物件進行輸出。"
      ]
    },
    {
      "cell_type": "markdown",
      "metadata": {
        "id": "iuWz6uB-d-0k"
      },
      "source": [
        "> 位於大寫字母 `'H'` 前及驚嘆號後的引號，標示出一連串字元的開始與結束，這些字元在 Python 中會被視為一個值。"
      ]
    },
    {
      "cell_type": "code",
      "execution_count": null,
      "metadata": {
        "id": "vij0l-0Qd-0k"
      },
      "outputs": [],
      "source": [
        "print('Hello\\\n",
        " World!')\n",
        "\n",
        "print('Hello', 'World!')"
      ]
    },
    {
      "cell_type": "markdown",
      "metadata": {
        "id": "Ecg0YhATd-0k"
      },
      "source": [
        "> 在 Jupyter Notebook 中，如果你想要印出的敘述是程式碼中的最後一個敘述，甚至可以省略 `print` 函數。"
      ]
    },
    {
      "cell_type": "code",
      "execution_count": null,
      "metadata": {
        "id": "eVflMyYQd-0k"
      },
      "outputs": [],
      "source": [
        "'hi python'\n",
        "'Hello, World!'"
      ]
    },
    {
      "cell_type": "markdown",
      "metadata": {
        "id": "bv_z1vVod-0k"
      },
      "source": [
        "> 👨‍⚕️ 你已經執行了許多程式！在本課程中，你將經常執行程式，而程式也會變得越來越複雜。幫助你理解程式運作及學習程式設計的一個方法，是在真正執行程式前先<u>預測</u>程式碼片段的執行效果。為了確認你的理解，**務必執行程式**。"
      ]
    },
    {
      "cell_type": "code",
      "execution_count": null,
      "metadata": {
        "id": "zEUpP_wnd-0k"
      },
      "outputs": [],
      "source": [
        "display_quiz(path+\"print.json\", max_width=800)"
      ]
    },
    {
      "cell_type": "markdown",
      "metadata": {
        "id": "9_ExHp4Od-0l"
      },
      "source": [
        "##### > 練習題 1：完成以下事項以確保你已正確設定環境\n",
        "1. 打開左側的檔案總管或開啟 Jupyter Notebook。\n",
        "2. 連接到 Python 環境。\n",
        "3. 在下方建立一個新的程式碼儲存格，撰寫一段程式碼印出 \"finish\"，並執行該儲存格。\n",
        "4. 建立一個名為 \"finish.py\" 的新腳本，撰寫一段程式碼印出 \"finish\"，然後執行該腳本。"
      ]
    },
    {
      "cell_type": "code",
      "execution_count": null,
      "metadata": {
        "id": "jC59tYLZd-0l"
      },
      "outputs": [],
      "source": [
        "# 請在下方撰寫程式碼\n",
        "print(\"\")"
      ]
    },
    {
      "cell_type": "code",
      "execution_count": null,
      "metadata": {
        "id": "Ve4ebwFdd-0o"
      },
      "outputs": [],
      "source": [
        "%run finish.py"
      ]
    },
    {
      "cell_type": "markdown",
      "metadata": {
        "id": "LwTvxL92Rbgp"
      },
      "source": [
        "### 運算子與運算式"
      ]
    },
    {
      "cell_type": "markdown",
      "metadata": {
        "id": "gg5MYiZid-0o"
      },
      "source": [
        "#### 像計算機一樣使用運算子"
      ]
    },
    {
      "cell_type": "markdown",
      "metadata": {
        "id": "-YaC1zvFRfpB"
      },
      "source": [
        "除了字串，數字在程式設計中也常常被使用。Python 內建的運算子允許數值以各種熟悉的方式組合。請注意，在 Python 中，`2 + 3` 稱為***運算式***，它由值/運算元（例如 `2` 或 `3`）以及運算子（例如 `+`）組成，而它們是一種特殊的敘述！"
      ]
    },
    {
      "cell_type": "code",
      "execution_count": null,
      "metadata": {
        "id": "x3NqVDtHPrRY"
      },
      "outputs": [],
      "source": [
        "# 整數\n",
        "print(3+4)       # 印出 “7”，代表 3 加 4。\n",
        "print(5-6)       # 印出 “-1”，代表 5 減 6。\n",
        "print(7*8)       # 印出 “56”，代表 7 乘以 8。\n",
        "print(45/4)      # 印出 “11.25”，代表 45 除以 4，其中 / 為浮點數(小數)除法。\n",
        "print(2**10)     # 印出 “1024”，代表 2 的 10 次方。"
      ]
    },
    {
      "cell_type": "markdown",
      "metadata": {
        "id": "myPy6sRMd-0o"
      },
      "source": [
        "這些範例敘述介紹了另一項程式語言特性。`#` 符號表示***註解***的開始，這是一個供我們閱讀的標記，程式執行時電腦會忽略它。在腳本的開頭通常會有一個高階描述，向讀者說明整個腳本的目的及所採用的方法。所有位於 `#` 之後、直到行尾的字元，都會被 Python 忽略。"
      ]
    },
    {
      "cell_type": "markdown",
      "metadata": {
        "id": "AIzL96jXd-0q"
      },
      "source": [
        "對一般人來說，數字就是數字，這是我們每天眼睛張開就要面對的東西，再熟悉不過了。大部份的程式語言都有數字可以用，在 Python 的數字主要有分兩種，一個是沒有帶小數點的「整數（Integer）」，另一個則是帶有小數點的，在程式語言的世界通常會稱它做「浮點數（Float）」。"
      ]
    },
    {
      "cell_type": "markdown",
      "metadata": {
        "id": "8SHRGnLTd-0q"
      },
      "source": [
        "電腦是採用二進位來儲存數字所以實際上很多小數都會有[誤差與有效位數](https://zh.wikipedia.org/zh-tw/IEEE_754)。"
      ]
    },
    {
      "cell_type": "code",
      "execution_count": null,
      "metadata": {
        "id": "YjVADwnNd-0q"
      },
      "outputs": [],
      "source": [
        "0.1 + 0.2"
      ]
    },
    {
      "cell_type": "markdown",
      "metadata": {
        "id": "cvf57mQSd-0o"
      },
      "source": [
        "> 請注意，我們使用 `**` 來表示次方運算。這可能會讓人感到意外，因為在其他一些程式語言中常用 `^` 來表示這個運算。然而在 Python 中，`^` 運算子用於 XOR 位元布林運算。"
      ]
    },
    {
      "cell_type": "markdown",
      "metadata": {
        "id": "ZGymI_a5d-0o"
      },
      "source": [
        "> 👨‍⚕️ 即使你覺得已經相當了解這個程式，我們仍建議你至少修改它幾次，以確認你是否真正理解它在不同情況下的表現。有時候你會對自己的發現感到驚訝！"
      ]
    },
    {
      "cell_type": "markdown",
      "metadata": {
        "id": "XkqWahmER-25"
      },
      "source": [
        "當像 45 除以 4 這樣的運算產生一個非整數結果，例如 `11.25` 時，Python 會自動切換到 **浮點數** 表示法。當只需要整數答案時，可以使用另一組運算子。"
      ]
    },
    {
      "cell_type": "code",
      "execution_count": null,
      "metadata": {
        "id": "7yub5hd3RqQz"
      },
      "outputs": [],
      "source": [
        "print(45//4)     # 印出 “11”，代表 45 整數除以 4，其中 // 為向下取整數（整數除法）\n",
        "print(45%4)      # 印出 “1”，因為 4 * 11 + 1 = 45"
      ]
    },
    {
      "cell_type": "markdown",
      "metadata": {
        "id": "OTttc0pmSO6R"
      },
      "source": [
        "雙斜線代表整數 ***向下取整除法*** 運算子，而百分比符號代表 ***模數***（或餘數）運算子。"
      ]
    },
    {
      "cell_type": "code",
      "execution_count": null,
      "metadata": {
        "id": "ySUL2x2Vd-0p"
      },
      "outputs": [],
      "source": [
        "display_quiz(path+\"type.json\", max_width=800)"
      ]
    },
    {
      "cell_type": "markdown",
      "metadata": {
        "id": "PMS6onqNd-0p"
      },
      "source": [
        "當一個運算式中出現多個運算子時，其運算的順序取決於 **優先順序規則**。Python 在數學運算子上的優先順序遵循與數學相同的規則。"
      ]
    },
    {
      "cell_type": "code",
      "execution_count": null,
      "metadata": {
        "id": "f8_ov-kmd-0p"
      },
      "outputs": [],
      "source": [
        "print(3-1*2)\n",
        "print((3-1)*2)\n",
        "print(2**4/2)"
      ]
    },
    {
      "cell_type": "code",
      "execution_count": null,
      "metadata": {
        "id": "u_HyPz2-d-0p"
      },
      "outputs": [],
      "source": [
        "display_quiz(path+\"precedence.json\", max_width=800)"
      ]
    },
    {
      "cell_type": "markdown",
      "metadata": {
        "id": "Le6KIYDuSdW6"
      },
      "source": [
        "字串值也可以以直觀的方式進行組合和操作。"
      ]
    },
    {
      "cell_type": "code",
      "execution_count": null,
      "metadata": {
        "id": "ES9UKB-pSLJl"
      },
      "outputs": [],
      "source": [
        "print('hello' + 'world')\n",
        "print('hello' * 4)"
      ]
    },
    {
      "cell_type": "markdown",
      "metadata": {
        "id": "7SRVaTxWSkEZ"
      },
      "source": [
        "加號運算子會將字串值串接在一起，而乘號運算子則會重複（複製）字串值。"
      ]
    },
    {
      "cell_type": "markdown",
      "metadata": {
        "id": "_6ZotSZXEzN5"
      },
      "source": [
        "## 變數"
      ]
    },
    {
      "cell_type": "markdown",
      "metadata": {
        "id": "U_5LmIfNE165"
      },
      "source": [
        "一個 ***變數*** 就像電腦記憶體中的一個盒子，讓你可以儲存值。在電腦的世界裡有很多的資料或數值，如果能適當的給這些資料一個標籤或名字，在之後重複取用的時候會方便的多!"
      ]
    },
    {
      "cell_type": "markdown",
      "metadata": {
        "id": "rx88EG3Wd-0q"
      },
      "source": [
        "我們可以使用 ***指派敘述*** 將值儲存到變數中。指派敘述由變數名稱、等號以及要儲存的值所組成。**在 Python 中，每件事物都是以物件的形式儲存，Python 變數實際上是一個指向物件的參考！**"
      ]
    },
    {
      "cell_type": "markdown",
      "metadata": {
        "id": "eNC84vsnd-0q"
      },
      "source": [
        "<center><img src=\"https://cs.berea.edu//cpp4python/_images/python_reference.png\"></center>\n",
        "<div align=\"center\"> source: https://cs.berea.edu//cpp4python/AtomicData/AtomicData.html </div>"
      ]
    },
    {
      "cell_type": "code",
      "execution_count": null,
      "metadata": {
        "id": "OLi_7GqcRzox"
      },
      "outputs": [],
      "source": [
        "varName = 100"
      ]
    },
    {
      "cell_type": "markdown",
      "metadata": {
        "id": "O1v4Glg7d-0r"
      },
      "source": [
        "> 剛剛前面也看到了，我們在 Python 宣告變數不需要事先講它是什麼內容，這是 Python 的特性之一，專有名詞稱為「動態型別（Dynamic Typing）」。這表示你可以在程式中隨時變更變數所指向的資料的型別"
      ]
    },
    {
      "cell_type": "markdown",
      "metadata": {
        "id": "buDbjhEGd-0r"
      },
      "source": [
        "當一個值第一次被存入變數時，該變數就被建立了。之後，你可以在其他包含變數和值的敘述中使用它。當變數被賦予新值時，舊的值就會被遺忘，這稱為**覆寫**變數。"
      ]
    },
    {
      "cell_type": "code",
      "execution_count": null,
      "metadata": {
        "id": "W-aneDnsd-0r"
      },
      "outputs": [],
      "source": [
        "spam = 'Hello'   # 'Hello' 是一個字串物件\n",
        "print(spam)      # spam 是一個變數，只是對該物件的參考或標籤\n",
        "spam = 'Goodbye' # 'Goodbye' 是另一個字串物件\n",
        "print(spam)"
      ]
    },
    {
      "cell_type": "markdown",
      "metadata": {
        "id": "WtKbEh2ld-0r"
      },
      "source": [
        "> 將變數視為你可以分配給值的標籤會更好。[你也可以說變數引用著某個特定的值](https://pythontutor.com/visualize.html#code=spam%20%3D%20'Hello'%20%20%20%23%20'Hello'%20is%20a%20string%20object%0Aprint%28spam%29%20%20%20%20%20%20%23%20spam%20is%20a%20variable,%20it%20is%20just%20a%20reference%20or%20tag%0Aspam%20%3D%20'Goodbye'%20%23%20'Goodbye'%20is%20another%20string%20object%0Aprint%28spam%29&cumulative=false&curInstr=0&heapPrimitives=true&mode=display&origin=opt-frontend.js&py=3&rawInputLstJSON=%5B%5D&textReferences=false)。這與數學中的情況不同。在代數中，如果你將 x 設為 3，那麼在計算過程中它就不能半途改變引用到其他值！\n",
        "\n",
        "> 看到 a = a + 1 這樣的數學式，大概會覺得怎麼可能會有哪個值等於自己加 1！當然以數學來說是不可能發生，但對 Python 以及目前大部份的程式語言來說，一個等號不是「等於」的意思，而是「指定（Assign）」的意思，a = a + 1 會先處理等號右邊的運算，把原本的變數 a 的值加 1 之後再指定給等號左邊變數!"
      ]
    },
    {
      "cell_type": "code",
      "execution_count": null,
      "metadata": {
        "id": "Vg1f0--4d-0r"
      },
      "outputs": [],
      "source": [
        "display_quiz(path+\"assignment.json\", max_width=800)"
      ]
    },
    {
      "cell_type": "markdown",
      "metadata": {
        "id": "7EvWoL27Fbqx"
      },
      "source": [
        "在 Python 中，變數的命名主要由使用者決定。Python 的簡單規則是，變數名稱必須以英文字母或底線（_）開頭，且可以由任意數量的字母、數字和底線組成（例如：A-z、0-9 與 _）。"
      ]
    },
    {
      "cell_type": "markdown",
      "metadata": {
        "id": "ieHuWzizd-0r"
      },
      "source": [
        "| 有效的變數名稱   | 無效的變數名稱                                   |\n",
        "|----------------|-------------------------------------------------|\n",
        "| current_balance| current-balance（不允許使用連字號）               |\n",
        "| currentBalance | current balance（不允許使用空格）                |\n",
        "| account4       | 4account（不能以數字開始）                        |\n",
        "| _42            | 42（不能以數字開始）                             |\n",
        "| TOTAL_SUM      | TOTAL_*UM（不允許使用特殊字元，例如 *）          |\n",
        "| hello          | 'hello'（不允許使用特殊字元，例如 '）            |"
      ]
    },
    {
      "cell_type": "markdown",
      "metadata": {
        "id": "1udofo72d-0r"
      },
      "source": [
        "> 👨‍⚕️ 雖然在僅有兩行的範例程式中，一個名為 `m` 的變數可能就足夠了，但有經驗的程式設計師總是努力在程式中使用有意義且具描述性的變數名稱。"
      ]
    },
    {
      "cell_type": "markdown",
      "metadata": {
        "id": "37O24Nsud-0s"
      },
      "source": [
        "Python 變數名稱是 **區分大小寫** 的，這意味著大小寫會影響變數的識別。一個名為 `size` 的變數會被視為與名為 `Size` 或 `SIZE` 的變數不同。"
      ]
    },
    {
      "cell_type": "markdown",
      "metadata": {
        "id": "GW6yTOT9d-0s"
      },
      "source": [
        "少數的 ***關鍵字*** 是 Python 保留以賦予特殊意義的名稱，因此不能作為變數名稱使用。你可以透過存取 Python 內建的幫助系統來查看這個列表。"
      ]
    },
    {
      "cell_type": "code",
      "execution_count": null,
      "metadata": {
        "id": "mJnA-rQOFIAm"
      },
      "outputs": [],
      "source": [
        "help('keywords')"
      ]
    },
    {
      "cell_type": "markdown",
      "metadata": {
        "id": "cvLIBjF0d-0s"
      },
      "source": [
        "### 練習題 2：請詢問以下 AI 工具，說明 Python 中變數命名的規則。\n",
        "\n",
        "- [ChatGPT](https://chatgpt.com/)\n",
        "- [Gemini](https://gemini.google.com/)\n",
        "- [Copilot](https://copilot.microsoft.com/)\n",
        "\n",
        "參考：https://hackmd.io/@phonchi/LLM_Basic"
      ]
    },
    {
      "cell_type": "markdown",
      "metadata": {
        "id": "F-_Xq7N3G4ro"
      },
      "source": [
        "變數可以用來儲存 Python 所能表示的所有型別的資料值。"
      ]
    },
    {
      "cell_type": "code",
      "execution_count": null,
      "metadata": {
        "id": "8_XRcq0gGztA"
      },
      "outputs": [],
      "source": [
        "my_string = 'characters'\n",
        "my_Boolean = True  # True/False\n",
        "my_integer = 5\n",
        "my_floating_point = 26.2\n",
        "my_complex = 2+1j  # 請注意 1 不能省略\n",
        "\n",
        "# 你可以將上述敘述壓縮成一行，用分號 (;) 隔開：\n",
        "my_string = 'characters'; my_Boolean = True; my_integer = 5; my_floating_point = 26.2; my_complex = 2+1j\n",
        "\n",
        "### 多重指派！\n",
        "# 你也可以使用單一行程式碼同時為多個變數賦值！\n",
        "my_string, my_Boolean, my_integer, my_floating_point, my_complex = 'characters', True, 5, 26.2, 2+1j"
      ]
    },
    {
      "cell_type": "code",
      "execution_count": null,
      "metadata": {
        "id": "_jE07k-TmDwV"
      },
      "outputs": [],
      "source": [
        "print(10)\n",
        "print(3.14)\n",
        "print(2e10)   # 科學記號（https://en.wikipedia.org/wiki/Scientific_notation#E_notation）\n",
        "print(12_000) # 可以使用底線將數字分組，使大型數字更易讀\n",
        "print(3+2j)"
      ]
    },
    {
      "cell_type": "markdown",
      "metadata": {
        "id": "eZ99k_bcmL2_"
      },
      "source": [
        "請記得，在書寫長數字時，你可以使用底線將數字分組，以使大型數字更易讀。此外，`print()` 可用於列印任何數值，包括以科學記號表示的數字。"
      ]
    },
    {
      "cell_type": "markdown",
      "metadata": {
        "id": "BV5LcxKvKnml"
      },
      "source": [
        "### 資料型別"
      ]
    },
    {
      "cell_type": "markdown",
      "metadata": {
        "id": "vxF99qxYKqKN"
      },
      "source": [
        "在 Python 中，變數和常數都有一個 ***型別***。我們可以使用 `type()` 函數詢問 Python 某個值的型別。"
      ]
    },
    {
      "cell_type": "code",
      "execution_count": null,
      "metadata": {
        "id": "HIwnHarAHqN2"
      },
      "outputs": [],
      "source": [
        "type('Hello, World!'), type(False), type(4), type(3.2), type(3+5j)"
      ]
    },
    {
      "cell_type": "code",
      "execution_count": null,
      "metadata": {
        "id": "yuLCRUfgLSN7"
      },
      "outputs": [],
      "source": [
        "type(my_string),  type(my_Boolean), type(my_integer), type(my_floating_point), type(my_complex)"
      ]
    },
    {
      "cell_type": "markdown",
      "metadata": {
        "id": "LWdCVrl0M7tM"
      },
      "source": [
        "你可以使用 ***轉換***（cast）函數，例如 `str()`、`float()`、`int()` 等，將一個型別的物件轉換為另一個型別。"
      ]
    },
    {
      "cell_type": "code",
      "execution_count": null,
      "metadata": {
        "id": "eW-J5M1QLfr9"
      },
      "outputs": [],
      "source": [
        "float(3)"
      ]
    },
    {
      "cell_type": "code",
      "execution_count": null,
      "metadata": {
        "id": "Q3VfAIceNHNB"
      },
      "outputs": [],
      "source": [
        "int(3.9)"
      ]
    },
    {
      "cell_type": "code",
      "execution_count": null,
      "metadata": {
        "id": "YO7geNxFNrdA"
      },
      "outputs": [],
      "source": [
        "int('3')"
      ]
    },
    {
      "cell_type": "code",
      "execution_count": null,
      "metadata": {
        "id": "PaSE-iN1NJKQ"
      },
      "outputs": [],
      "source": [
        "str(3)"
      ]
    },
    {
      "cell_type": "markdown",
      "metadata": {
        "id": "ItGhP8Cpd-0t"
      },
      "source": [
        "### 轉換"
      ]
    },
    {
      "cell_type": "markdown",
      "metadata": {
        "id": "BXH6GmFsd-0t"
      },
      "source": [
        "在 Python 中有兩種類型的型別轉換：\n",
        "\n",
        "- 隱式轉換（Implicit Conversion） - 自動型別轉換。Python 總是將較小的資料型別轉換為較大的資料型別，以避免資料遺失。\n",
        "- 顯式轉換（Explicit Conversion） - 手動型別轉換。"
      ]
    },
    {
      "cell_type": "code",
      "execution_count": null,
      "metadata": {
        "id": "95FDNygNd-0t"
      },
      "outputs": [],
      "source": [
        "5 + 4.2 # 隱式轉換"
      ]
    },
    {
      "cell_type": "markdown",
      "metadata": {
        "id": "E5KDMNN0d-0u"
      },
      "source": [
        "在 Python 中，`complex > float > int > bool` 的意思是複數、浮點數、整數和布林值依據數值範圍和精確度的順序排列。"
      ]
    },
    {
      "cell_type": "code",
      "execution_count": null,
      "metadata": {
        "id": "xXGbQIjpd-0u"
      },
      "outputs": [],
      "source": [
        "int(4.7) + 3 # 顯式轉換"
      ]
    },
    {
      "cell_type": "code",
      "execution_count": null,
      "metadata": {
        "id": "nZHTkKbGd-0u"
      },
      "outputs": [],
      "source": [
        "display_quiz(path+\"ex_type.json\", max_width=800)"
      ]
    },
    {
      "cell_type": "markdown",
      "metadata": {
        "id": "TIwbpk_NUoAg"
      },
      "source": [
        "## 除錯"
      ]
    },
    {
      "cell_type": "markdown",
      "metadata": {
        "id": "mNNarsTrTREV"
      },
      "source": [
        "程式語言對初學者來說通常不太友善因在學習撰寫軟體的過程中，大部分的時間都可能花在尋找程式中的錯誤（bugs）上。找出這些錯誤並加以修正的過程，就稱為 ***除錯***（debugging）。"
      ]
    },
    {
      "cell_type": "markdown",
      "metadata": {
        "id": "fErteNBpd-0u"
      },
      "source": [
        "程式中我們常產生的錯誤主要可分為三大類：\n",
        "\n",
        "- ***語法錯誤***（在程式法上發生的錯誤）\n",
        "- ***語意錯誤***（程式含義上的錯誤）\n",
        "- ***執行時錯誤***（程式執行時發生的錯誤）"
      ]
    },
    {
      "cell_type": "markdown",
      "metadata": {
        "id": "Mj94toWpd-0u"
      },
      "source": [
        "語法錯誤對初學者來說是最常見的，這類錯誤通常包括忘記在字串的開頭或結尾使用引號、未正確加上右括號，或是拼錯函數名稱 `print()` 等簡單錯誤。以下為一些例子："
      ]
    },
    {
      "cell_type": "code",
      "execution_count": null,
      "metadata": {
        "id": "LEpvId03TMaf"
      },
      "outputs": [],
      "source": [
        "print(5 + )"
      ]
    },
    {
      "cell_type": "markdown",
      "metadata": {
        "id": "82tpxH4-Tyuw"
      },
      "source": [
        "這個運算式在加號與右括號之間缺少一個值。"
      ]
    },
    {
      "cell_type": "markdown",
      "metadata": {
        "id": "VWQxFIPQd-0u"
      },
      "source": [
        "> Python 直譯器通常會在遇到這類錯誤時指出問題，顯示錯誤所在的行數和錯誤描述。透過一點練習，初學者很快就能學會識別和理解常見的錯誤情況。"
      ]
    },
    {
      "cell_type": "code",
      "execution_count": null,
      "metadata": {
        "id": "NJZ1mZByT0pr"
      },
      "outputs": [],
      "source": [
        "pront(5)"
      ]
    },
    {
      "cell_type": "markdown",
      "metadata": {
        "id": "K_nMZ6Rgd-0v"
      },
      "source": [
        "> 請仔細注意錯誤訊息。從錯誤訊息中你能獲得哪些線索？它指出問題發生在哪一處？"
      ]
    },
    {
      "cell_type": "markdown",
      "metadata": {
        "id": "sI6kzqcjT-2w"
      },
      "source": [
        "語意錯誤是指演算法本身的缺陷，或是在使用程式語言表達演算法時出現的錯誤。舉例來說，可能會在計算中使用錯誤的變數名稱或資料型別，或者在複雜的運算式中，算術運算的順序出錯。"
      ]
    },
    {
      "cell_type": "code",
      "execution_count": null,
      "metadata": {
        "id": "RbeHTPMwd-0v"
      },
      "outputs": [],
      "source": [
        "num1 = input('請輸入一個數字:')      # 請使用者輸入第一個數字（回傳字串）\n",
        "num2 = input('請輸入另一個數字:')    # 請使用者輸入第二個數字（回傳字串）\n",
        "sum_var = num1 + num2\n",
        "\n",
        "print('數字', num1, '和', num2, '的總和是', sum_var)"
      ]
    },
    {
      "cell_type": "markdown",
      "metadata": {
        "id": "2QMhTLqMd-0v"
      },
      "source": [
        "錯誤在於程式執行了字串串接而非數值加法，因為程式設計師沒有寫出必要的程式碼將輸入值轉換為整數。"
      ]
    },
    {
      "cell_type": "markdown",
      "metadata": {
        "id": "-X3EvhA8d-0v"
      },
      "source": [
        "`input()` 函數會等待使用者在鍵盤上輸入文字並按下 ENTER，並且**返回一個字串值**。它允許程式設計師提供一個提示字串來引導使用者輸入。"
      ]
    },
    {
      "cell_type": "markdown",
      "metadata": {
        "id": "-H_zhnIjd-0v"
      },
      "source": [
        "> 識別語意錯誤可能相當棘手，因為沒有錯誤訊息明顯指出結果是不正確的。檢測語意錯誤的唯一方法，是你事先知道在給定輸入下程式應該做什麼。然後，你使用這組輸入數據運行程式，並將程式輸出與你的預期結果進行比較。\n",
        "\n",
        "```python\n",
        "測試案例\n",
        "----------\n",
        "輸入：2, 3\n",
        "預期輸出：5\n",
        "```\n",
        "\n",
        "> 一旦你有了測試案例，就可以使用 `print()` 敘述來印出變數值、使用者輸入以及中間計算結果，這樣你就可以將它們與預期值進行比較。"
      ]
    },
    {
      "cell_type": "markdown",
      "metadata": {
        "id": "3618gZgsd-0v"
      },
      "source": [
        "最後，這個層級的執行時錯誤可能包括不小心進行除以零的運算，或是在變數定義之前就使用它。Python 會從上到下讀取敘述，必須在使用變數之前看到對該變數的指派敘述。"
      ]
    },
    {
      "cell_type": "code",
      "execution_count": null,
      "metadata": {
        "id": "ibHyDw2yd-0v"
      },
      "outputs": [],
      "source": [
        "5/0"
      ]
    },
    {
      "cell_type": "code",
      "execution_count": null,
      "metadata": {
        "id": "f0MgOQiZd-0v"
      },
      "outputs": [],
      "source": [
        "display_quiz(path+\"error.json\", max_width=800)"
      ]
    },
    {
      "cell_type": "markdown",
      "metadata": {
        "id": "rHTXEgORd-0v"
      },
      "source": [
        "### > 練習題 3：使用 AI 工具診斷錯誤。"
      ]
    },
    {
      "cell_type": "markdown",
      "metadata": {
        "id": "57V-a-b2d-0w"
      },
      "source": [
        "## 第一個程序"
      ]
    },
    {
      "cell_type": "markdown",
      "metadata": {
        "id": "CUl8oW8Ed-0w"
      },
      "source": [
        "雖然互動式命令列適用於一次執行一條 Python 指令，但有時你必須使用 ***腳本*** 來撰寫整個 Python 程式。在這種情況下，你會在檔案編輯器中輸入這些指令。"
      ]
    },
    {
      "cell_type": "code",
      "execution_count": null,
      "metadata": {
        "id": "EnikPcvJd-0w"
      },
      "outputs": [],
      "source": [
        "%%writefile hello.py\n",
        "\"\"\"\n",
        "這個程式會打招呼並詢問你的名字，\n",
        "同時也會詢問你的年齡。\n",
        "\"\"\"\n",
        "\n",
        "print('你好，世界！')\n",
        "myName = input('你的名字是什麼？')\n",
        "print('很高興認識你，' + myName)\n",
        "name_len = len(myName)\n",
        "print('你的名字長度是：\\n' + str(name_len))\n",
        "myAge = input('你的年齡是多少？')\n",
        "myAge = int(myAge) + 1\n",
        "print('你明年將會是 ' + str(myAge) + ' 歲。')"
      ]
    },
    {
      "cell_type": "markdown",
      "metadata": {
        "id": "T_HqPwPzd-0w"
      },
      "source": [
        "一旦你輸入了原始程式碼，ipython 的 **魔法指令** `%%writefile` 會將其儲存，這樣每次啟動時就不必重新輸入。接著，你可以使用另一個魔法指令 `%run` 來執行該 Python 腳本。"
      ]
    },
    {
      "cell_type": "code",
      "execution_count": null,
      "metadata": {
        "id": "lM21xShRd-0w"
      },
      "outputs": [],
      "source": [
        "%run hello.py"
      ]
    },
    {
      "cell_type": "markdown",
      "metadata": {
        "id": "myf_dwn8d-0w"
      },
      "source": [
        "### > 練習題 4：請利用 AI 工具來說明程式內容或在程式中添加註解。"
      ]
    },
    {
      "cell_type": "markdown",
      "metadata": {
        "id": "O9hhsk0gd-0w"
      },
      "source": [
        "### 分析你的程式"
      ]
    },
    {
      "cell_type": "markdown",
      "metadata": {
        "id": "-YCZ1Y7gd-0w"
      },
      "source": [
        "打開檔案編輯器中的新程式後，讓我們快速瀏覽一下它使用的 Python 指令，並逐行了解每行程式碼的功能。"
      ]
    },
    {
      "cell_type": "markdown",
      "metadata": {
        "id": "8ZDZTheEd-0w"
      },
      "source": [
        "1. 第一行是一個註解，用來告訴他人你撰寫這個程式的目的或程式的作者資訊。這裡使用了 ***多行註解***，是透過三個引號來標示的。  \n",
        "   - `print('Hello, world!')` 這一行表示「印出字串 'Hello, world!' 中的文字」。  \n",
        "   - 當 Python 執行這一行時，我們可以說 Python 正在呼叫 `print()` 這個 ***函數***，並且將該字串值作為 ***參數*** 傳遞給這個函數。  \n",
        "   - 當你寫下一個函數名稱時，函數名稱後面緊跟的左括號和右括號就是用來辨識它是一個函數的標記。"
      ]
    },
    {
      "cell_type": "markdown",
      "metadata": {
        "id": "LdBdgYALd-0w"
      },
      "source": [
        "2. `input()` 函式會等待使用者在鍵盤上輸入文字並按下 ENTER。呼叫 `myName = input()` 這行程式碼會回傳一個字串，其內容等於使用者輸入的文字，然後將這個字串值賦給變數 `myName`。"
      ]
    },
    {
      "cell_type": "markdown",
      "metadata": {
        "id": "Y6TiRTTPd-0w"
      },
      "source": [
        "3. 接下來呼叫 `print('It is good to meet you, ' + myName)` 是一個運算式。在括號內，字串 `'It is good to meet you, '` 和變數 `myName` 透過運算元 `+` 串接在一起，然後被印出。"
      ]
    },
    {
      "cell_type": "markdown",
      "metadata": {
        "id": "V4L3MmiEd-0w"
      },
      "source": [
        "4. 你可以傳入一個字串值（或含有字串的變數）給 `len()` 函式，此函式會回傳該字串中字符數目的整數值。如果你想將一個像 29 這樣的整數與字串串接起來傳給 `print()`，你需要先將數字 29 轉換成字串形式。這時候可以使用 `str()` 函式來傳入整數值，該函式會回傳該整數的字串表示。  \n",
        "此外，在敘述 `print('The length of your name is:\\n' + str(len(myName)))` 中，字串中的 `\\n` 代表一個特殊的跳脫字符，意思是添加一個換行符號。"
      ]
    },
    {
      "cell_type": "markdown",
      "metadata": {
        "id": "Gbm-W47Xd-0x"
      },
      "source": [
        "5. `int()` 函式在你有一個數字的字串值，卻想在數學運算中使用它時非常有用。例如，`input()` 函式無論使用者輸入的是數字還是文字，總會返回一個字串。變數 `myAge` 儲存了 `input()` 返回的字串值。你可以使用 `int(myAge)` 將 `myAge` 中的字串轉換成整數值，然後在運算式 `int(myAge) + 1` 中將這個整數加 1。接著，這個加法運算的結果會被傳給 `str()` 函式（即 `str(int(myAge) + 1)`），以轉換成字串形式。返回的字串再與字串 `'You will be '` 和 `' in a year.'` 串接起來，形成一個完整的大字串。最後，這個大字串會被傳給 `print()` 函式，以在螢幕上顯示出來。"
      ]
    },
    {
      "cell_type": "markdown",
      "metadata": {
        "id": "xa_635WKd-0x"
      },
      "source": [
        "### > 練習題 5：撰寫一個程式，讓使用者輸入一個五位數整數，將這個數字拆分為個別的數字，並以三個空格分隔印出。例如，如果使用者輸入 42339，則程式應印出：\n",
        "\n",
        "```\n",
        "4   2   3   3   9\n",
        "```"
      ]
    },
    {
      "cell_type": "code",
      "execution_count": null,
      "metadata": {
        "id": "gz5pyrNid-0x"
      },
      "outputs": [],
      "source": [
        "# 在此處填寫你的答案\n",
        "# x = 42339\n",
        "# 從鍵盤取得使用者輸入並將其轉換為整數：\n",
        "x = int(input('請輸入一個五位數整數: '))\n",
        "\n",
        "# 使用取餘數獲取最後一位數字\n",
        "digits4 = x % 10\n",
        "# 使用整數除法取得剩餘的數字\n",
        "x = x // 10\n",
        "digits3 = x % 10\n",
        "x = x // 10\n",
        "digits2 = x % 10\n",
        "x = x // 10\n",
        "digits1 = x % 10\n",
        "x = x // 10\n",
        "digits0 = x\n",
        "\n",
        "# ...\n",
        "# 印出結果，以三個空格分隔各個數字\n",
        "print(digits0,'   ',digits1,'   ',digits2,'   ',digits3,'   ',digits4)"
      ]
    },
    {
      "cell_type": "markdown",
      "metadata": {
        "id": "xI7F4G_Md-0x"
      },
      "source": [
        "### > 練習題 6：請利用 AI 工具撰寫一個程式或改進現有的程式。"
      ]
    },
    {
      "cell_type": "code",
      "execution_count": 72,
      "metadata": {
        "scrolled": false,
        "id": "id6wG9Oqd-0x",
        "outputId": "5b0f8395-41eb-42aa-cdbe-c954ef77ac28",
        "colab": {
          "base_uri": "https://localhost:8080/",
          "height": 466
        }
      },
      "outputs": [
        {
          "output_type": "display_data",
          "data": {
            "text/plain": [
              "<IPython.core.display.HTML object>"
            ],
            "text/html": [
              "<style>\n",
              ":root{\n",
              "  --asparagus: #87a878ff;\n",
              "  --terra-cotta: #e26d5aff;\n",
              "  --cyan-process: #5bc0ebff;\n",
              "  --dark-blue-gray: #666a86ff;\n",
              "  --snow: #fffafbff;\n",
              "  --rich-black-fogra-39: #090c08ff;\n",
              "}\n",
              "\n",
              "\n",
              "/* entire container, keeps perspective */\n",
              ".flip-container {\n",
              "\tperspective: 1000px;\n",
              "  touch-action: pinch-zoom pan-y;\n",
              "}\n",
              "\n",
              "\n",
              ".flip-container.flip .flipper {\n",
              "    box-sizing: content-box;\n",
              "\t  transform: rotateY(180deg);\n",
              "\t/* transform: rotateY(180deg)  translateX(-6%);  */\n",
              "}\n",
              "\n",
              "\n",
              ".flip-container.slide .flipper.frontcard {\n",
              "    filter: brightness(90%);\n",
              "    position:absolute;\n",
              "    z-index: -20;\n",
              "    /* left: 20px; */\n",
              "}\n",
              "\n",
              ".flip-container.prepare .flipper.backcard {\n",
              "    opacity:1;\n",
              "    transition: display 0s;\n",
              "    transform:  translateX(20px); \n",
              "}\n",
              "\n",
              "\n",
              ".flip-container.slide .flipper.backcard {\n",
              "    filter: brightness(115%);\n",
              "    /* height: 360px; */\n",
              "    opacity:1;\n",
              "\t  transform:  rotateY(3deg)  translateX(700px) translateZ(20px) scale(1, 1.05) rotate(3deg);\n",
              "    z-index: 20;\n",
              "    /* left: -20px; */\n",
              "}\n",
              "\n",
              "\n",
              "\n",
              "\n",
              ".flip-container.slideback .flipper.backcard {\n",
              "    filter: brightness(100%);\n",
              "    opacity: 1;\n",
              "\t  transform: translateX(0px) translateZ(20px) rotateY(0deg);\n",
              "    z-index: 10;\n",
              "}\n",
              "\n",
              ".flip-container.slideback .flipper.frontcard {\n",
              "    filter: brightness(90%);\n",
              "    transform: translateX(0px) translateZ(-20px);\n",
              "    z-index: -10;\n",
              "}\n",
              "\n",
              "\n",
              ".flip-container, .front, .back {\n",
              "\t  height: 200px;\n",
              "\t  width: 95%;\n",
              "}\n",
              "\n",
              "\n",
              "\n",
              "\n",
              ".flipper.frontcard {\n",
              "    position:absolute;\n",
              "\t  transform: translateX(0px) rotateY(0deg) translateZ(20px);\n",
              "    z-index: 10;\n",
              "}\n",
              "\n",
              ".flipper.backcard {\n",
              "    filter: brightness(90%);\n",
              "    opacity:0;\n",
              "    position:absolute;\n",
              "    transform: translateX(0px) translateZ(-20px);\n",
              "    z-index: -10;\n",
              "}\n",
              "\n",
              "\n",
              "\n",
              "\n",
              "/* flip speed goes here */\n",
              ".flipper {\n",
              "    cursor:pointer;\n",
              "\t  height: 200px;\n",
              "    margin-left:10px;\n",
              "\t  position: absolute;\n",
              "    top: 0;\n",
              "\t  transform-style: preserve-3d;\n",
              "\t  transition: 0.6s;\n",
              "    /* width: 95%; */\n",
              "    width: 100%;\n",
              "}\n",
              "\n",
              ".flashcardtext{\n",
              "    color: var(--snow);\n",
              "    margin-left:3%;\n",
              "    position:absolute;\n",
              "    text-align:center;\n",
              "    top: 50%;\n",
              "    transform: translate(0, -50%);\n",
              "    width:90%;\n",
              "    font-size: 1.5em;\n",
              "}\n",
              "\n",
              ".flashcardtext.complete{\n",
              "    color: var(--rich-black-fogra-39);\n",
              "    font-size: 1.2em;\n",
              "    font-weight: bold;\n",
              "}\n",
              "\n",
              ".flashcardtext.storage{\n",
              "    color: var(--rich-black-fogra-39);\n",
              "    font-size: 1.5em;\n",
              "    font-weight: bold;\n",
              "    display: flex;\n",
              "    flex-direction: column;\n",
              "    justify-content: center;\n",
              "}\n",
              "\n",
              ".flashcard.buttons{\n",
              "    display: flex;\n",
              "    justify-content: center;\n",
              "}\n",
              "\n",
              ".flashcard.button{\n",
              "    border-style: none;\n",
              "    margin: 10px;\n",
              "    font-size: 1.2em;\n",
              "    background-color: #00000000;\n",
              "    color: var(--rich-black-fogra-39);\n",
              "}\n",
              "\n",
              ".back .flashcardtext{\n",
              "    font-size: 1.2em;\n",
              "}\n",
              "\n",
              ".flashcardKnown {\n",
              "    display: block;\n",
              "    position: absolute;\n",
              "    right: 64px;\n",
              "    bottom: 10px;\n",
              "    width: 2em;\n",
              "    height: auto;\n",
              "}\n",
              "\n",
              ".flashcardNotKnown {\n",
              "    display: block;\n",
              "    position: absolute;\n",
              "    right: 26px;\n",
              "    bottom: 15px;\n",
              "    width: 1.3em;\n",
              "    height: auto;\n",
              "}\n",
              "\n",
              ".flashcardNotKnown.hide {\n",
              "    display: none;\n",
              "}\n",
              "\n",
              "\n",
              "\n",
              "\n",
              "\n",
              "/* hide back of pane during swap */\n",
              ".front, .back {\n",
              "    -webkit-backface-visibility: hidden;\n",
              "\t  backface-visibility: hidden;\n",
              "\t  left: 0;\n",
              "\t  position: absolute;\n",
              "\t  top: 0;\n",
              "}\n",
              "\n",
              "/* front pane, placed above back */\n",
              ".front {\n",
              "\t  backface-visibility: hidden;\n",
              "    background: var(--asparagus);\n",
              "    transform: rotateY(0deg);\n",
              "\t  z-index: 2;\n",
              "}\n",
              "\n",
              ".front.complete{\n",
              "\t  backface-visibility: hidden;\n",
              "    background: var(--snow);\n",
              "    border-style: solid;\n",
              "    border-radius: 10px;\n",
              "    transform: rotateY(0deg);\n",
              "    color: 'black';\n",
              "\t  z-index: 2;\n",
              "}\n",
              "\n",
              "\n",
              "/* back, initially hidden pane */\n",
              ".back {\n",
              "\t  backface-visibility: hidden;\n",
              "    background: var(--dark-blue-gray);\n",
              "\t  transform: rotateY(180deg);\n",
              "    left: 8px;\n",
              "}\n",
              "\n",
              ".jp-OutputArea-output .back {\n",
              "\t  transform: rotateY(180deg) translateZ(20px);\n",
              "}\n",
              "\n",
              ".next {\n",
              "    color: var(--rich-black-fogra-39);\n",
              "    cursor:pointer;\n",
              "    font-size: 1.5em;\n",
              "    /*left:90%; */\n",
              "    margin-left: 70%;\n",
              "    width: 55pt;\n",
              "    height: 22pt;\n",
              "    opacity:0.3;\n",
              "    position:relative; \n",
              "    top:-1em;\n",
              "}\n",
              "\n",
              ".next svg {\n",
              "    height:16pt;\n",
              "    width:16pt;\n",
              "    position:relative;\n",
              "    top:-2pt;\n",
              "}\n",
              "\n",
              ".jp-OutputArea-output .next svg {\n",
              "    top: 1pt;\n",
              "}\n",
              "\n",
              ".next.flipped {\n",
              "    opacity:1;\n",
              "}\n",
              "\n",
              ".next.hide {\n",
              "    opacity:0;\n",
              "}\n",
              "\n",
              "\n",
              ".flashcard{\n",
              "    border-radius: 10px;\n",
              "    outline: none;\n",
              "    color: #fafafa;\n",
              "    display:block;\n",
              "    padding:10px;\n",
              "  \n",
              "}\n",
              "\n",
              ".flashcardtext li{\n",
              "    text-align: left;\n",
              "}\n",
              "\n",
              "@media only screen and (min-width:700px) {\n",
              "\n",
              "    .flip-container, .front, .back {\n",
              "\t      height: 300px;\n",
              "\t      width: min(95%, 640px);\n",
              "    }\n",
              "\n",
              "    .flipper {\n",
              "        margin-left:20px;\n",
              "\t      height: 300px;\n",
              "    }\n",
              "\n",
              "    .flashcardtext{\n",
              "        font-size: 20pt;\n",
              "    }\n",
              "\n",
              "    .next {\n",
              "        font-size: 16pt;\n",
              "        left:min(80%, 450pt);\n",
              "        margin-left: 0;\n",
              "        width: 55pt;\n",
              "        height: 22pt;\n",
              "        top:-0.5em;\n",
              "    }\n",
              "\n",
              "    .back .flashcardtext{\n",
              "        font-size: 1.5em;\n",
              "    }\n",
              "\n",
              "}\n",
              "\n",
              "@media only screen and (min-width:660px) and (max-width:999px) {\n",
              "    .next {\n",
              "        left:0;\n",
              "        margin-left: 80%;\n",
              "    }\n",
              "\n",
              "}\n",
              "\n",
              "@media only screen and (max-width:680px) and (min-height:376px) {\n",
              "    .flip-container, .front, .back {\n",
              "\t      height: 300px;\n",
              "    }\n",
              "\n",
              "    .flipper {\n",
              "\t      height: 300px;\n",
              "    }\n",
              "    .back {\n",
              "        left: 4px;\n",
              "    }\n",
              "\n",
              "}\n",
              "\n",
              "@media only screen and (max-width:330px) and (max-height:600px) {\n",
              "\n",
              "    .back .flashcardtext{\n",
              "        font-size: 1em;\n",
              "    }\n",
              "    .next {\n",
              "        margin-left: 65%;\n",
              "    }\n",
              "    .back {\n",
              "        left: 4px;\n",
              "   }\n",
              "}\n",
              "\n",
              "</style>"
            ]
          },
          "metadata": {}
        },
        {
          "output_type": "display_data",
          "data": {
            "text/plain": [
              "<IPython.core.display.HTML object>"
            ],
            "text/html": [
              "<svg xmlns=\"http://www.w3.org/2000/svg\"\n",
              "     xmlns:xlink=\"http://www.w3.org/1999/xlink\"\n",
              "     style=\"display:none;\">\n",
              "  <symbol id=\"reload-icon\" viewBox=\"0 0 25 26\">\n",
              "    <path d=\"M7,6a10,10,0,1,0,9,0\" style=\"fill:none;stroke:black;stroke-width:2px\"/>\n",
              "    <line x1=\"17\" y1=\"6.5\" x2=\"17.5\" y2=\"15\" style=\"stroke:black;fill:none;stroke-width:2px\"/>\n",
              "    <line x1=\"16.5\" y1=\"6.5\" x2=\"26\" y2=\"8\" style=\"stroke:black;fill:none;stroke-width:2px\"/>\n",
              "  </symbol>\n",
              "  <symbol id=\"check-mark\">\n",
              "    <path d=\"M21 6.285l-11.16 12.733-6.84-6.018 1.319-1.49 5.341 4.686 9.865-11.196 1.475 1.285z\" style=\"fill:currentcolor;stroke:currentcolor;stroke-width:1px\"/>\n",
              "  </symbol>\n",
              "  <symbol id=\"check-mark-thin\">\n",
              "    <path d=\"M24 4.685l-16.327 17.315-7.673-9.054.761-.648 6.95 8.203 15.561-16.501.728.685z\"/>\n",
              "  </symbol>\n",
              "  <symbol id=\"check-mark-circle-thin\">\n",
              "    <path d=\"M12 0c6.623 0 12 5.377 12 12s-5.377 12-12 12-12-5.377-12-12 5.377-12 12-12zm0 1c6.071 0 11 4.929 11 11s-4.929 11-11 11-11-4.929-11-11 4.929-11 11-11zm7 7.457l-9.005 9.565-4.995-5.865.761-.649 4.271 5.016 8.24-8.752.728.685z\"/>\n",
              "  </symbol>\n",
              "  <symbol id=\"x-mark\">\n",
              "    <path d=\"M23.954 21.03l-9.184-9.095 9.092-9.174-2.832-2.807-9.09 9.179-9.176-9.088-2.81 2.81 9.186 9.105-9.095 9.184 2.81 2.81 9.112-9.192 9.18 9.1z\" style=\"fill:currentcolor;stroke:currentcolor;stroke-width:1px\"/>\n",
              "  </symbol>\n",
              "  <symbol id=\"x-mark-thin\">\n",
              "    <path d=\"M12 11.293l10.293-10.293.707.707-10.293 10.293 10.293 10.293-.707.707-10.293-10.293-10.293 10.293-.707-.707 10.293-10.293-10.293-10.293.707-.707 10.293 10.293z\"/>\n",
              "  </symbol>\n",
              "  <symbol id=\"x-mark-circle-thin\">\n",
              "    <path d=\"M12 0c6.623 0 12 5.377 12 12s-5.377 12-12 12-12-5.377-12-12 5.377-12 12-12zm0 1c6.071 0 11 4.929 11 11s-4.929 11-11 11-11-4.929-11-11 4.929-11 11-11zm0 10.293l5.293-5.293.707.707-5.293 5.293 5.293 5.293-.707.707-5.293-5.293-5.293 5.293-.707-.707 5.293-5.293-5.293-5.293.707-.707 5.293 5.293z\"/>\n",
              "  </symbol>\n",
              "</svg>\n"
            ]
          },
          "metadata": {}
        },
        {
          "output_type": "display_data",
          "data": {
            "text/plain": [
              "<IPython.core.display.HTML object>"
            ],
            "text/html": [
              "<div style=\"height:40px\"></div><div class=\"flip-container\" id=\"LsOZWNDypKQP\" data-topics='[]' data-known-widgets='true' data-local-storage='false' tabindex=\"0\" style=\"outline:none;\"></div><div style=\"height:40px\"></div><div class=\"next\" id=\"LsOZWNDypKQP-next\" onclick=\"window.checkFlip('LsOZWNDypKQP')\"> </div> <div style=\"height:40px\"></div>"
            ]
          },
          "metadata": {}
        },
        {
          "output_type": "display_data",
          "data": {
            "text/plain": [
              "<IPython.core.display.Javascript object>"
            ],
            "application/javascript": [
              "/*!\n",
              " * swiped-events.js - v1.1.4\n",
              " * Pure JavaScript swipe events\n",
              " * https://github.com/john-doherty/swiped-events\n",
              " * @inspiration https://stackoverflow.com/questions/16348031/disable-scrolling-when-touch-moving-certain-element\n",
              " * @author John Doherty <www.johndoherty.info>\n",
              " * @license MIT\n",
              " */\n",
              "!function(t,e){\"use strict\";\"function\"!=typeof t.CustomEvent&&(t.CustomEvent=function(t,n){n=n||{bubbles:!1,cancelable:!1,detail:void 0};var a=e.createEvent(\"CustomEvent\");return a.initCustomEvent(t,n.bubbles,n.cancelable,n.detail),a},t.CustomEvent.prototype=t.Event.prototype),e.addEventListener(\"touchstart\",function(t){if(\"true\"===t.target.getAttribute(\"data-swipe-ignore\"))return;s=t.target,r=Date.now(),n=t.touches[0].clientX,a=t.touches[0].clientY,u=0,i=0},!1),e.addEventListener(\"touchmove\",function(t){if(!n||!a)return;var e=t.touches[0].clientX,r=t.touches[0].clientY;u=n-e,i=a-r},!1),e.addEventListener(\"touchend\",function(t){if(s!==t.target)return;var e=parseInt(l(s,\"data-swipe-threshold\",\"20\"),10),o=parseInt(l(s,\"data-swipe-timeout\",\"500\"),10),c=Date.now()-r,d=\"\",p=t.changedTouches||t.touches||[];Math.abs(u)>Math.abs(i)?Math.abs(u)>e&&c<o&&(d=u>0?\"swiped-left\":\"swiped-right\"):Math.abs(i)>e&&c<o&&(d=i>0?\"swiped-up\":\"swiped-down\");if(\"\"!==d){var b={dir:d.replace(/swiped-/,\"\"),xStart:parseInt(n,10),xEnd:parseInt((p[0]||{}).clientX||-1,10),yStart:parseInt(a,10),yEnd:parseInt((p[0]||{}).clientY||-1,10)};s.dispatchEvent(new CustomEvent(\"swiped\",{bubbles:!0,cancelable:!0,detail:b})),s.dispatchEvent(new CustomEvent(d,{bubbles:!0,cancelable:!0,detail:b}))}n=null,a=null,r=null},!1);var n=null,a=null,u=null,i=null,r=null,s=null;function l(t,n,a){for(;t&&t!==e.documentElement;){var u=t.getAttribute(n);if(u)return u;t=t.parentNode}return a}}(window,document);\n",
              "\n",
              "function jaxify(string) {\n",
              "    var mystring = string;\n",
              "    //console.log(mystring);\n",
              "\n",
              "    var count = 0;\n",
              "    var loc = mystring.search(/([^\\\\]|^)(\\$)/);\n",
              "\n",
              "    var count2 = 0;\n",
              "    var loc2 = mystring.search(/([^\\\\]|^)(\\$\\$)/);\n",
              "\n",
              "    //console.log(loc);\n",
              "\n",
              "    while ((loc >= 0) || (loc2 >= 0)) {\n",
              "\n",
              "        /* Have to replace all the double $$ first with current implementation */\n",
              "        if (loc2 >= 0) {\n",
              "            if (count2 % 2 == 0) {\n",
              "                mystring = mystring.replace(/([^\\\\]|^)(\\$\\$)/, \"$1\\\\[\");\n",
              "            } else {\n",
              "                mystring = mystring.replace(/([^\\\\]|^)(\\$\\$)/, \"$1\\\\]\");\n",
              "            }\n",
              "            count2++;\n",
              "        } else {\n",
              "            if (count % 2 == 0) {\n",
              "                mystring = mystring.replace(/([^\\\\]|^)(\\$)/, \"$1\\\\(\");\n",
              "            } else {\n",
              "                mystring = mystring.replace(/([^\\\\]|^)(\\$)/, \"$1\\\\)\");\n",
              "            }\n",
              "            count++;\n",
              "        }\n",
              "        loc = mystring.search(/([^\\\\]|^)(\\$)/);\n",
              "        loc2 = mystring.search(/([^\\\\]|^)(\\$\\$)/);\n",
              "        //console.log(mystring,\", loc:\",loc,\", loc2:\",loc2);\n",
              "    }\n",
              "\n",
              "    //console.log(mystring);\n",
              "    return mystring;\n",
              "}\n",
              "\n",
              "/**\n",
              " * Set active topics on a flashcard container and re-render cards.\n",
              " * @param {string|Element} idOrElem - The container's id or the DOM element.\n",
              " * @param {string|string[]} topics - Topic or array of topics to filter by.\n",
              " */\n",
              "window.setTopics = function(idOrElem, topics) {\n",
              "    var mydiv = (typeof idOrElem === 'string') ? document.getElementById(idOrElem) : idOrElem;\n",
              "    if (!mydiv) return;\n",
              "    // Normalize topics to array\n",
              "    var topicsArr = Array.isArray(topics) ? topics : (typeof topics === 'string' ? [topics] : []);\n",
              "    mydiv.dataset.topics = JSON.stringify(topicsArr);\n",
              "    // Re-render cards\n",
              "    createCards(mydiv.id);\n",
              "};\n",
              "\n",
              "window.resetDeleteList = function(container) {\n",
              "    container.dataset.deleteList = JSON.stringify([]);\n",
              "    // Clear persisted deleteList in localStorage if consented\n",
              "    (function() {\n",
              "        var storageSuffix = container.dataset.localStorageKey;\n",
              "        if (!storageSuffix) {\n",
              "            try {\n",
              "                storageSuffix = JSON.parse(container.dataset.cards)[0]['front'] || 'flashcards';\n",
              "            } catch (e) {\n",
              "                storageSuffix = 'flashcards';\n",
              "            }\n",
              "        }\n",
              "        var allowKey = 'jc-allow-storage-' + storageSuffix;\n",
              "        var deleteKey = 'jc-deleteList-' + storageSuffix;\n",
              "        if (window.localStorage && window.localStorage.getItem(allowKey) === 'true') {\n",
              "            window.localStorage.removeItem(deleteKey);\n",
              "        }\n",
              "    })();\n",
              "\n",
              "}\n",
              "\n",
              "window.flipCard = function flipCard(ths) {\n",
              "\n",
              "    var container = ths;\n",
              "    //console.log(ths);\n",
              "    //console.log(ths.id);\n",
              "    if (container.firstChild.firstChild.classList.contains('complete')) {\n",
              "        //console.log(\"Restarting flashcards\");\n",
              "        window.resetDeleteList(container);\n",
              "        container.dataset.cardnum = 0;\n",
              "\n",
              "        // Render cards\n",
              "        container.innerHTML = '';\n",
              "        createCards(container.id);\n",
              "    } else {\n",
              "        ths.classList.toggle(\"flip\"); \n",
              "        ths.focus();\n",
              "        var next=document.getElementById(ths.id+'-next');\n",
              "        next.style.pointerEvents='none';\n",
              "        /* ths.blur(); */\n",
              "        next.classList.add('flipped');\n",
              "        if (typeof MathJax != 'undefined') {\n",
              "            var version = MathJax.version;\n",
              "            //console.log('MathJax version', version);\n",
              "            if (version[0] == \"2\") {\n",
              "                MathJax.Hub.Queue([\"Typeset\", MathJax.Hub]);\n",
              "            } else if (version[0] == \"3\") {\n",
              "                MathJax.typeset([ths]);\n",
              "            }\n",
              "        } else {\n",
              "            //console.log('MathJax not detected');\n",
              "        }\n",
              "\n",
              "        setTimeout(reenableNext, 600, ths, next);\n",
              "    }\n",
              "}\n",
              "\n",
              "window.checkKey = function checkKey(container, event) {\n",
              "    event.stopPropagation();\n",
              "    /*\n",
              "    console.log(container);\n",
              "    console.log(event.key);\n",
              "    console.log(event.code);\n",
              "    */\n",
              "    /* JMS:  Working here*/\n",
              "    var next=document.getElementById(container.id+'-next');\n",
              "    /* Only react if not already sliding */\n",
              "    if (! next.classList.contains(\"hide\")) {\n",
              "        if ((event.key == \"j\") || (event.key == \"Enter\") || (event.key == \"ArrowRight\")) {\n",
              "            window.checkFlip(container.id);\n",
              "        }\n",
              "        if (event.key == \" \") {\n",
              "            window.flipCard(container);\n",
              "        }\n",
              "    }\n",
              "    event.preventDefault();\n",
              "}\n",
              "\n",
              "\n",
              "function reenableNext(ths, next) {\n",
              "    next.style.pointerEvents='auto';\n",
              "    /* ths.tabIndex= 0;*/\n",
              "    /* ths.focus(); */\n",
              "}\n",
              "\n",
              "\n",
              "\n",
              "function slide2(containerId, mode) {\n",
              "    //console.log(\"Sliding container:\", containerId, \"with mode:\", mode);\n",
              "    var container = document.getElementById(containerId);\n",
              "    var next=document.getElementById(containerId+'-next');\n",
              "    var frontcard = container.children[0];\n",
              "    var backcard = container.children[1];\n",
              "    container.style.pointerEvents='none';\n",
              "    var deleteList = JSON.parse(container.dataset.deleteList || '[]');\n",
              "    if (mode == \"known\") {\n",
              "        deleteList.push(JSON.parse(frontcard.dataset.seqNum));\n",
              "        container.dataset.deleteList = JSON.stringify(deleteList);\n",
              "        //console.log(\"deleteList\", deleteList);\n",
              "        // Persist deleteList in localStorage if consented\n",
              "        (function() {\n",
              "            var storageSuffix = container.dataset.localStorageKey;\n",
              "            if (!storageSuffix) {\n",
              "                try {\n",
              "                    storageSuffix = JSON.parse(container.dataset.cards)[0]['front'] || 'flashcards';\n",
              "                } catch (e) {\n",
              "                    storageSuffix = 'flashcards';\n",
              "                }\n",
              "            }\n",
              "            var allowKey = 'jc-allow-storage-' + storageSuffix;\n",
              "            var deleteKey = 'jc-deleteList-' + storageSuffix;\n",
              "            if (window.localStorage && window.localStorage.getItem(allowKey) === 'true') {\n",
              "                window.localStorage.setItem(deleteKey, container.dataset.deleteList);\n",
              "            }\n",
              "        })();\n",
              "    } else if (mode == \"notKnown\") {\n",
              "        // Nothing to do for now\n",
              "    }\n",
              "\n",
              "    var numCards = container.dataset.numCards;\n",
              "\n",
              "\n",
              "    if (deleteList.length < numCards) {\n",
              "\n",
              "        // Hide the next button until done sliding\n",
              "        next.style.pointerEvents='none';\n",
              "        next.classList.remove('flipped');\n",
              "        next.classList.add('hide');\n",
              "\n",
              "        //container.classList.add(\"prepare\");\n",
              "\n",
              "        container.className=\"flip-container slide\";\n",
              "\n",
              "        backcard.parentElement.removeChild(frontcard);\n",
              "        backcard.parentElement.appendChild(frontcard);\n",
              "\n",
              "        setTimeout(slideback, 600, container, frontcard, backcard, next, mode);\n",
              "    } else {\n",
              "        frontcard.innerHTML = '';\n",
              "        frontcard.classname = 'front complete';\n",
              "        var msg = document.createElement('div');\n",
              "        //msg.className = 'front flashcard complete';\n",
              "        msg.className = 'front complete';\n",
              "        var span = document.createElement('span');\n",
              "        span.className = 'flashcardtext complete';\n",
              "        //span.style.color = 'black';\n",
              "        span.textContent = 'You have learned all of the flashcards! Click to start over.';\n",
              "        msg.appendChild(span);\n",
              "        frontcard.appendChild(msg);\n",
              "        container.style.pointerEvents='auto';\n",
              "\n",
              "    }\n",
              "}\n",
              "\n",
              "\n",
              "window.checkFlip = function checkFlip(containerId) {\n",
              "    var container = document.getElementById(containerId);\n",
              "\n",
              "if (container.classList.contains('flip')) {\n",
              "        container.classList.remove('flip');\n",
              "            setTimeout(slide2, 600, containerId, 'next');\n",
              "    } else {\n",
              "        slide2(containerId, 'next');\n",
              "    }\n",
              "}\n",
              "\n",
              "\n",
              "function slideback(container, frontcard, backcard, next, mode) {\n",
              "    container.className=\"flip-container slideback\";\n",
              "    setTimeout(cleanup, 550, container, frontcard, backcard, next, mode);\n",
              "}\n",
              "\n",
              "function cleanup(container, frontcard, backcard, next, mode) {\n",
              "\n",
              "    var deleteList = JSON.parse(container.dataset.deleteList || '[]');\n",
              "\n",
              "    container.removeChild(frontcard);\n",
              "    backcard.className=\"flipper frontcard\";\n",
              "    container.className=\"flip-container\";\n",
              "\n",
              "\n",
              "    // Track the current index before increment\n",
              "    var cardnum=parseInt(container.dataset.cardnum);\n",
              "\n",
              "    let cardOrder = JSON.parse(container.dataset.cardOrder);\n",
              "\n",
              "    var cards=JSON.parse(container.dataset.cards);\n",
              "    var numCards = container.dataset.numCards;\n",
              "    var cardsLeft = parseInt(container.dataset.numCards, 10) - deleteList.length;\n",
              "    // check if this card's seqNum is in the deleteList\n",
              "    while ( deleteList.includes(cardOrder[cardnum]) ) {\n",
              "        cardnum = (cardnum + 1) % parseInt(numCards);\n",
              "        //console.log(\"Skipping card number:\", cardnum, \"of\", numCards);\n",
              "    }\n",
              "\n",
              "    var flipper=createOneCard(container, false, cards, cardOrder[cardnum], cardnum, cardsLeft);\n",
              "\n",
              "    container.append(flipper);\n",
              "    cardnum= (cardnum+1) % parseInt(numCards);\n",
              "    //console.log(\"Next card number:\", cardnum, \"of\", numCards);\n",
              "\n",
              "    container.dataset.cardnum = cardnum;\n",
              "    // Determine button label based on position in cycle\n",
              "    if (cardsLeft > 1) {\n",
              "        // On last card of cycle, show Reload; otherwise Next\n",
              "        //if (currentIdx === cardsLeft - 1) {\n",
              "        // JMS: This is currently broken when using known cards\n",
              "        if (cardnum == 1 ) {\n",
              "            next.innerHTML = 'Reload <svg xmlns=\"http://www.w3.org/2000/svg\" xmlns:xlink=\"http://www.w3.org/1999/xlink\" viewBox=\"0 0 25 26\"><use xlink:href=\"#reload-icon\"/></svg>';\n",
              "        } else {\n",
              "            next.innerHTML = 'Next >';\n",
              "        }\n",
              "    }\n",
              "    if (typeof MathJax != 'undefined') {\n",
              "        var version = MathJax.version;\n",
              "        //console.log('MathJax version', version);\n",
              "        if (version[0] == \"2\") {\n",
              "            MathJax.Hub.Queue([\"Typeset\", MathJax.Hub]);\n",
              "        } else if (version[0] == \"3\") {\n",
              "            MathJax.typeset();\n",
              "        }\n",
              "    } else {\n",
              "        //console.log('MathJax not detected');\n",
              "    }\n",
              "\n",
              "\n",
              "    next.style.pointerEvents='auto';\n",
              "    container.style.pointerEvents='auto';\n",
              "    /* container.tabIndex= 0; */\n",
              "    /* container.focus(); */\n",
              "    // Hide Next when only one or no cards remain\n",
              "    if (cardsLeft > 1) {\n",
              "        next.classList.remove('hide');\n",
              "        next.style.pointerEvents = 'auto';\n",
              "    } else { // Hide the notKnown button if only one card left\n",
              "        var notKnown = backcard.querySelector('.flashcardNotKnown');\n",
              "        notKnown.classList.add('hide');\n",
              "        notKnown.pointerEvents = 'none';\n",
              "        //console.log(notKnown);\n",
              "        //console.log(backcard.querySelector('.flashcardNotKnown'));\n",
              "    }\n",
              "\n",
              "    if (parseInt(container.dataset.numCards, 10) <= 1) {\n",
              "        next.classList.add('hide');\n",
              "        next.style.pointerEvents = 'none';\n",
              "    }\n",
              "    container.addEventListener('swiped-left', function(e) {\n",
              "        /*\n",
              "          console.log(e.detail);\n",
              "          console.log(id);\n",
              "        */\n",
              "        checkFlip(container.id);\n",
              "    }, {once: true });\n",
              "\n",
              "}\n",
              "\n",
              "\n",
              "function createOneCard  (mydiv, frontCard, cards, cardnum, seq) {\n",
              "\n",
              "    var colors = JSON.parse(mydiv.dataset.frontColors);\n",
              "    var backColors = JSON.parse(mydiv.dataset.backColors);\n",
              "    var textColors = JSON.parse(mydiv.dataset.textColors);\n",
              "\n",
              "\n",
              "    var flipper = document.createElement('div');\n",
              "    flipper.dataset.seqNum = cards[cardnum]['seqNum'];\n",
              "\n",
              "    // JMS: Can this be removed now? Should colors only depend on seqNum, so they are consistent?\n",
              "    flipper.dataset.cardnum = cardnum;\n",
              "\n",
              "    //console.log('Creating card', cardnum, 'with sequence', seq);\n",
              "    if (frontCard){\n",
              "        flipper.className=\"flipper frontcard\";    \n",
              "    }\n",
              "    else {\n",
              "        flipper.className=\"flipper backcard\";   \n",
              "    }\n",
              "\n",
              "    var front = document.createElement('div');\n",
              "    front.className='front flashcard';\n",
              "\n",
              "\n",
              "    var frontSpan= document.createElement('span');\n",
              "    frontSpan.className='flashcardtext';\n",
              "    frontSpan.innerHTML=jaxify(cards[cardnum]['front']);\n",
              "    frontSpan.style.color=textColors[seq % textColors.length];\n",
              "    front.style.background=colors[seq % colors.length];\n",
              "    front.append(frontSpan);\n",
              "\n",
              "    // Add check mark symbol for card known\n",
              "    var knownSpan= document.createElement('span');\n",
              "    knownSpan.className = 'flashcardKnown';\n",
              "    knownSpan.innerHTML= '<svg xmlns=\"http://www.w3.org/2000/svg\" xmlns:xlink=\"http://www.w3.org/1999/xlink\" viewBox=\"0 0 25 26\"><use xlink:href=\"#check-mark\"/></svg>';\n",
              "    front.append(knownSpan);\n",
              "\n",
              "    // Add x mark symbol for card not known\n",
              "    var notKnownSpan= document.createElement('span');\n",
              "    notKnownSpan.className = 'flashcardNotKnown';\n",
              "    notKnownSpan.innerHTML= '<svg xmlns=\"http://www.w3.org/2000/svg\" xmlns:xlink=\"http://www.w3.org/1999/xlink\" viewBox=\"0 0 25 26\"><use xlink:href=\"#x-mark\"/></svg>';\n",
              "    front.append(notKnownSpan);\n",
              "    // Hide known/not-known icons if disabled via known_widgets flag\n",
              "    if (mydiv.dataset.knownWidgets === 'false') {\n",
              "        knownSpan.style.display = 'none';\n",
              "        knownSpan.style.pointerEvents = 'none';\n",
              "        notKnownSpan.style.display = 'none';\n",
              "        notKnownSpan.style.pointerEvents = 'none';\n",
              "    }\n",
              "\n",
              "\n",
              "\n",
              "\n",
              "    flipper.append(front);\n",
              "\n",
              "    var back = document.createElement('div');\n",
              "    back.className='back flashcard';\n",
              "    back.style.background=backColors[seq % backColors.length];\n",
              "\n",
              "    var backSpan= document.createElement('span');\n",
              "    backSpan.className='flashcardtext';\n",
              "    backSpan.innerHTML=jaxify(cards[cardnum]['back']);\n",
              "    backSpan.style.color=textColors[seq % textColors.length];\n",
              "    back.append(backSpan);\n",
              "\n",
              "    flipper.append(back);\n",
              "\n",
              "    // Handle known click: remove card and advance or restart when done\n",
              "    knownSpan.addEventListener('click', function(e) {\n",
              "        e.stopPropagation();\n",
              "        // Starting point -- just slide and then start to port this stuff over\n",
              "        slide2(mydiv.id, 'known');\n",
              "\n",
              "    });\n",
              "\n",
              "\n",
              "    // Handle not-known click: just advance\n",
              "    notKnownSpan.addEventListener('click', function(e) {\n",
              "        e.stopPropagation();\n",
              "        //window.checkFlip(mydiv.id);\n",
              "        slide2(mydiv.id, 'notKnown');\n",
              "    });\n",
              "\n",
              "    return flipper;\n",
              "}\n",
              "\n",
              "function randomOrderArray(N) {\n",
              "    // Create an array with numbers from 0 to N-1\n",
              "    let arr = Array.from({ length: N }, (_, index) => index);\n",
              "\n",
              "    // Shuffle the array using Fisher-Yates algorithm\n",
              "    for (let i = arr.length - 1; i > 0; i--) {\n",
              "        const j = Math.floor(Math.random() * (i + 1));\n",
              "        [arr[i], arr[j]] = [arr[j], arr[i]];\n",
              "    }\n",
              "\n",
              "    return arr;\n",
              "}\n",
              "\n",
              "function createStructuredData(mydiv, cards, title, subject) {\n",
              "    var structuredData = {\n",
              "        \"@context\": \"https://schema.org/\",\n",
              "        \"@type\": \"Quiz\",\n",
              "        \"about\": {\n",
              "            \"@type\": \"Thing\"\n",
              "        },\n",
              "        \"educationalAlignment\": [\n",
              "            {\n",
              "                \"@type\": \"AlignmentObject\",\n",
              "                \"alignmentType\": \"educationalSubject\"\n",
              "            }\n",
              "        ],\n",
              "        \"hasPart\": []\n",
              "    };\n",
              "\n",
              "    structuredData[\"about\"][\"name\"] = title;\n",
              "    structuredData[\"educationalAlignment\"][0][\"targetName\"] = subject;\n",
              "\n",
              "    for (var i=0; i<cards.length; i++) {\n",
              "        var newPart = {\n",
              "            \"@context\": \"https://schema.org/\",\n",
              "            \"@type\": \"Question\",\n",
              "            \"eduQuestionType\": \"Flashcard\",\n",
              "            \"acceptedAnswer\": {\n",
              "                \"@type\": \"Answer\",\n",
              "            }\n",
              "        };\n",
              "\n",
              "        newPart[\"text\"] = cards[i][\"front\"];\n",
              "        newPart[\"acceptedAnswer\"][\"text\"] = cards[i][\"back\"];\n",
              "\n",
              "        structuredData[\"hasPart\"].push(newPart);\n",
              "    }\n",
              "    /*console.log(structuredData);*/\n",
              "\n",
              "    var el = document.createElement('script');\n",
              "    el.type = 'application/ld+json';\n",
              "    el.text = JSON.stringify(structuredData);\n",
              "\n",
              "    mydiv.parentElement.appendChild(el);\n",
              "\n",
              "}\n",
              "\n",
              "\n",
              "\n",
              "function createCards(id) {\n",
              "    var mydiv = document.getElementById(id);\n",
              "    if (!mydiv) return;\n",
              "\n",
              "    // Initialize cards array from dataset\n",
              "    var cards = JSON.parse(mydiv.dataset.cards || '[]');\n",
              "\n",
              "    // Preserve full set of cards in dataset.fullCards\n",
              "    var fullCards;\n",
              "    if (mydiv.dataset.fullCards) {\n",
              "        fullCards = JSON.parse(mydiv.dataset.fullCards);\n",
              "    } else {\n",
              "        fullCards = cards;\n",
              "        mydiv.dataset.fullCards = JSON.stringify(fullCards);\n",
              "    }\n",
              "\n",
              "\n",
              "    // Bootstrap topics: filter cards based on data-topics attribute\n",
              "    var topics = [];\n",
              "    if (mydiv.dataset.topics) {\n",
              "        try {\n",
              "            topics = JSON.parse(mydiv.dataset.topics);\n",
              "        } catch (e) {\n",
              "            topics = [mydiv.dataset.topics];\n",
              "        }\n",
              "    }\n",
              "\n",
              "    // Handle localStorage consent prompt\n",
              "    var localStorageEnabled = mydiv.dataset.localStorage === 'true';\n",
              "    if (localStorageEnabled) {\n",
              "        var lsKey = mydiv.dataset.url || ''\n",
              "        if (lsKey == '') {\n",
              "            lsKey = fullCards[0]['front'] || 'flashcards';\n",
              "        }\n",
              "\n",
              "        if (topics && topics != []) {\n",
              "            lsKey +='-' + mydiv.dataset.topics.replace(/[\\[\\]\\\"\\'\\s]/g, '');\n",
              "        }\n",
              "        console.log('LocalStorage key:', lsKey);\n",
              "        mydiv.dataset.localStorageKey = lsKey;\n",
              "\n",
              "        lsKey = 'jc-allow-storage-' + lsKey;\n",
              "        //console.log('LocalStorage key:', lsKey);\n",
              "        if (!window.localStorage.getItem(lsKey)) {\n",
              "            var flipper = document.createElement('div');\n",
              "\n",
              "            // JMS: Can this be removed now? Should colors only depend on seqNum, so they are consistent?\n",
              "            flipper.dataset.cardnum = cardnum;\n",
              "\n",
              "            flipper.className=\"flipper frontcard\";    \n",
              "\n",
              "            var front = document.createElement('div');\n",
              "            front.className='front complete';\n",
              "\n",
              "\n",
              "            var frontSpan= document.createElement('span');\n",
              "            frontSpan.className='flashcardtext storage';\n",
              "            frontSpan.innerHTML= 'Do you want to store information on your progress in learning these flashcards on your local machine?<br><br>' +\n",
              "                '<div class=\"flashcard buttons\">' + \n",
              "                '<button id=\"' + id + '-ls-yes\" class=\"flashcard button\">Yes</button> ' +\n",
              "                '<button id=\"' + id + '-ls-no\" class=\"flashcard button\">No</button>' +\n",
              "                '</div>';\n",
              "\n",
              "\n",
              "            front.append(frontSpan);\n",
              "\n",
              "            flipper.append(front);\n",
              "            mydiv.append(flipper);\n",
              "\n",
              "            document.getElementById(id + '-ls-yes').onclick = function(event) {\n",
              "                window.localStorage.setItem(lsKey, 'true');\n",
              "                mydiv.dataset.localStorage = 'false';\n",
              "               \n",
              "                var frontcard = mydiv.children[0];\n",
              "                mydiv.removeChild(frontcard);\n",
              "\n",
              "                createCards(id);\n",
              "                event.preventDefault();\n",
              "                event.stopPropagation();\n",
              "            };\n",
              "            document.getElementById(id + '-ls-no').onclick = function(event) {\n",
              "                mydiv.dataset.localStorage = 'false';\n",
              "                var frontcard = mydiv.children[0];\n",
              "                mydiv.removeChild(frontcard);\n",
              "\n",
              "                createCards(id);\n",
              "                event.preventDefault();\n",
              "                event.stopPropagation();\n",
              "            };\n",
              "\n",
              "            return;\n",
              "        }\n",
              "    }\n",
              "\n",
              "    // Retrieve parameters from dataset\n",
              "    var keyControl = mydiv.dataset.keyControl === 'true';\n",
              "    var grabFocus = mydiv.dataset.grabFocus === 'true';\n",
              "    var shuffleCards = mydiv.dataset.shuffleCards === 'true';\n",
              "    var title = mydiv.dataset.title || '';\n",
              "    var subject = mydiv.dataset.subject || '';\n",
              "    var frontColors = JSON.parse(mydiv.dataset.frontColors || '[]');\n",
              "    var backColors = JSON.parse(mydiv.dataset.backColors || '[]');\n",
              "    var textColors = JSON.parse(mydiv.dataset.textColors || '[]');\n",
              "\n",
              "    //console.log('Active topics:', topics);\n",
              "\n",
              "    // Filter cards by topics if provided\n",
              "    if (topics.length > 0) {\n",
              "        cards = fullCards.filter(function(card) {\n",
              "            var t = card.topic;\n",
              "            if (Array.isArray(t)) {\n",
              "                return topics.some(function(topic) { return t.includes(topic); });\n",
              "            }\n",
              "            return topics.includes(t);\n",
              "        });\n",
              "    } else {\n",
              "        cards = fullCards;\n",
              "    }\n",
              "    // Need to store the filtered cards in the dataset\n",
              "    mydiv.dataset.cards = JSON.stringify(cards);\n",
              "\n",
              "    // Set up click and keyboard controls\n",
              "    mydiv.onclick = function(){ window.flipCard(mydiv); };\n",
              "    if (keyControl) {\n",
              "        mydiv.onkeydown = function(event){ window.checkKey(mydiv, event); };\n",
              "    }\n",
              "\n",
              "    // Initialize deleteList, possibly from localStorage\n",
              "    var deleteList = [];\n",
              "    (function() {\n",
              "        // Compute storage suffix for keys\n",
              "        var storageSuffix = mydiv.dataset.localStorageKey;\n",
              "        var allowKey = 'jc-allow-storage-' + storageSuffix;\n",
              "        var deleteKey = 'jc-deleteList-' + storageSuffix;\n",
              "        if (window.localStorage && window.localStorage.getItem(allowKey) === 'true') {\n",
              "            console.log('allowKey', window.localStorage.getItem(allowKey));\n",
              "            try {\n",
              "                deleteList = JSON.parse(window.localStorage.getItem(deleteKey) || '[]');\n",
              "                console.log('Loaded deleteList from localStorage:', deleteList);\n",
              "            } catch (e) {\n",
              "                deleteList = [];\n",
              "            }\n",
              "        }\n",
              "        mydiv.dataset.deleteList = JSON.stringify(deleteList);\n",
              "    })();\n",
              "    console.log('deleteList: ', deleteList);\n",
              "\n",
              "    // Store cards and color data in the container's dataset for later access in cleanup()\n",
              "    /*\n",
              "    mydiv.dataset.frontColors = JSON.stringify(frontColors);\n",
              "    mydiv.dataset.backColors = JSON.stringify(backColors);\n",
              "    mydiv.dataset.textColors = JSON.stringify(textColors);\n",
              "    */\n",
              "\n",
              "    mydiv.dataset.cardnum=0;\n",
              "    mydiv.dataset.numCards=cards.length;\n",
              "\n",
              "    mydiv.dataset.shuffleCards = shuffleCards;\n",
              "    var cardOrder;\n",
              "    if (shuffleCards == true){\n",
              "        cardOrder = randomOrderArray(cards.length);\n",
              "    } else {\n",
              "        cardOrder = Array.from({ length: cards.length }, (_, index) => index);\n",
              "    }\n",
              "    mydiv.dataset.cardOrder = JSON.stringify(cardOrder);\n",
              "    //console.log(mydiv.dataset.cardOrder);\n",
              "\n",
              "\n",
              "    mydiv.addEventListener('swiped-left', function(e) {\n",
              "        /*\n",
              "          console.log(e.detail);\n",
              "          console.log(id);\n",
              "        */\n",
              "        checkFlip(id);\n",
              "    }, {once: true});\n",
              "\n",
              "    if ((title!=\"\") || (subject != \"\")){\n",
              "        createStructuredData(mydiv, cards, title, subject);\n",
              "    }\n",
              "\n",
              "    var cardnum=0;\n",
              "    var numCards = cards.length;\n",
              "\n",
              "    var cardsLeft = numCards - deleteList.length;\n",
              "\n",
              "    if (cardsLeft == 0) {\n",
              "        window.resetDeleteList(mydiv);\n",
              "        deleteList =[];\n",
              "        cardsLeft = cards.length;\n",
              "    }\n",
              "\n",
              "\n",
              "\n",
              "    var flipper;\n",
              "    console.log('Creating cards for container:', mydiv.id, 'with', cardsLeft, 'cards left.');\n",
              "    for (var i=0; i<Math.min(cardsLeft,2); i++) {\n",
              "\n",
              "        if (i==0){\n",
              "            while ( deleteList.includes(cardOrder[cardnum]) ) {\n",
              "                cardnum = (cardnum + 1) % parseInt(numCards);\n",
              "                //console.log(\"Skipping card number:\", cardnum, \"of\", numCards);\n",
              "            }\n",
              "            flipper=createOneCard(mydiv, true, cards, cardOrder[cardnum], cardnum);\n",
              "        }\n",
              "        else {\n",
              "            while ( deleteList.includes(cardOrder[cardnum]) ) {\n",
              "                cardnum = (cardnum + 1) % parseInt(numCards);\n",
              "                //console.log(\"Skipping card number:\", cardnum, \"of\", numCards);\n",
              "            }\n",
              "            flipper=createOneCard(mydiv, false, cards, cardOrder[cardnum], cardnum);\n",
              "        }\n",
              "\n",
              "        if (cardsLeft == 1) {\n",
              "            var notKnown = flipper.querySelector('.flashcardNotKnown');\n",
              "            notKnown.classList.add('hide');\n",
              "            notKnown.pointerEvents = 'none';\n",
              "            //console.log(notKnown);\n",
              "            //console.log(backcard.querySelector('.flashcardNotKnown'));\n",
              "        }\n",
              "\n",
              "\n",
              "        mydiv.append(flipper);\n",
              "        if (typeof MathJax != 'undefined') {\n",
              "            var version = MathJax.version;\n",
              "            if (typeof version == 'undefined') {\n",
              "                setTimeout(function(){\n",
              "                    var version = MathJax.version;\n",
              "                    console.log('After sleep, MathJax version', version);\n",
              "                    if (version[0] == \"2\") {\n",
              "                        MathJax.Hub.Queue([\"Typeset\", MathJax.Hub]);\n",
              "                    } else if (version[0] == \"3\") {\n",
              "                        if (MathJax.hasOwnProperty('typeset') ) {\n",
              "                            MathJax.typeset([flipper]);\n",
              "                        } else {\n",
              "                            console.log('WARNING: Trying to force load MathJax 3');\n",
              "                            window.MathJax = {\n",
              "                                tex: {\n",
              "                                    inlineMath: [['$', '$'], ['\\\\(', '\\\\)']]\n",
              "                                },\n",
              "                                svg: {\n",
              "                                    fontCache: 'global'\n",
              "                                }\n",
              "                            };\n",
              "\n",
              "                            (function () {\n",
              "                                var script = document.createElement('script');\n",
              "                                script.src = 'https://cdn.jsdelivr.net/npm/mathjax@3/es5/tex-svg.js';\n",
              "                                script.async = true;\n",
              "                                document.head.appendChild(script);\n",
              "                            })();\n",
              "                        }\n",
              "                        MathJax.typeset([flipper]);\n",
              "                    }\n",
              "                }, 500);\n",
              "            } else{\n",
              "                console.log('MathJax version', version);\n",
              "                if (version[0] == \"2\") {\n",
              "                    MathJax.Hub.Queue([\"Typeset\", MathJax.Hub]);\n",
              "                } else if (version[0] == \"3\") {\n",
              "                    if (version[0] == \"2\") {\n",
              "                        MathJax.Hub.Queue([\"Typeset\", MathJax.Hub]);\n",
              "                    } else if (version[0] == \"3\") {\n",
              "                        if (MathJax.hasOwnProperty('typeset') ) {\n",
              "                            MathJax.typeset([flipper]);\n",
              "                        } else {\n",
              "                            console.log('WARNING: Trying to force load MathJax 3');\n",
              "                            window.MathJax = {\n",
              "                                tex: {\n",
              "                                    inlineMath: [['$', '$'], ['\\\\(', '\\\\)']]\n",
              "                                },\n",
              "                                svg: {\n",
              "                                    fontCache: 'global'\n",
              "                                }\n",
              "                            };\n",
              "\n",
              "                            (function () {\n",
              "                                var script = document.createElement('script');\n",
              "                                script.src = 'https://cdn.jsdelivr.net/npm/mathjax@3/es5/tex-svg.js';\n",
              "                                script.async = true;\n",
              "                                document.head.appendChild(script);\n",
              "                            })();\n",
              "                        }\n",
              "                        MathJax.typeset([flipper]);\n",
              "                    }\n",
              "                }\n",
              "            }\n",
              "        } else {\n",
              "            console.log('MathJax not detected');\n",
              "        }\n",
              "\n",
              "\n",
              "        cardnum = (cardnum + 1) % mydiv.dataset.numCards;\n",
              "    }\n",
              "    mydiv.dataset.cardnum = cardnum;\n",
              "\n",
              "    var next=document.getElementById(id+'-next');\n",
              "    //console.log('cardsLeft = ', cardsLeft);\n",
              "    if (cardsLeft==1) {\n",
              "        next.style.pointerEvents='none';\n",
              "        next.classList.add('hide');\n",
              "        var notKnown = flipper.querySelector('.flashcardNotKnown');\n",
              "        notKnown.classList.add('hide');\n",
              "        notKnown.pointerEvents = 'none';\n",
              "    } else {\n",
              "        next.innerHTML=\"Next >\";\n",
              "        next.style.pointerEvents='auto';\n",
              "        next.classList.remove('hide');\n",
              "    }\n",
              "\n",
              "    if (grabFocus == true )\n",
              "        mydiv.focus();\n",
              "\n",
              "    return flipper;\n",
              "}\n",
              "\n",
              "// Helper to change topics and re-render flashcards dynamically\n",
              "window.setTopics = function(idOrElem, topics) {\n",
              "    var mydiv = (typeof idOrElem === 'string') ? document.getElementById(idOrElem) : idOrElem;\n",
              "    if (!mydiv) return;\n",
              "    var topicsArr = Array.isArray(topics) ? topics : (typeof topics === 'string' ? [topics] : []);\n",
              "    mydiv.dataset.topics = JSON.stringify(topicsArr);\n",
              "    createCards(mydiv.id);\n",
              "};\n",
              "\n",
              "\n",
              "\n",
              "\n",
              "(function() {\n",
              "    var observer = new MutationObserver(function(mutations, obs) {\n",
              "        var el = document.getElementById(\"LsOZWNDypKQP\");\n",
              "        if (el) {\n",
              "            el.dataset.url = \"https://raw.githubusercontent.com/phonchi/PythonForMath/refs/heads/main/flashcards-TW/ch1.json\";\n",
              "            el.dataset.cards = JSON.stringify([{\"front\": \"\\u6f14\\u7b97\\u6cd5\", \"back\": \"\\u5b83\\u5305\\u542b\\u660e\\u78ba\\u3001\\u7121\\u6b67\\u7fa9\\u7684\\u6b65\\u9a5f\\uff0c\\u4e26\\u4e14\\u5fc5\\u9808\\u5728\\u6709\\u9650\\u6642\\u9593\\u5167\\u7522\\u751f\\u7d50\\u679c\\u3002\", \"seqNum\": 0}, {\"front\": \"\\u865b\\u64ec\\u78bc\", \"back\": \"\\u7528\\u7c21\\u55ae\\u7684\\u8a9e\\u8a00\\u63cf\\u8ff0\\u6f14\\u7b97\\u6cd5\\u6b65\\u9a5f\\u7684\\u65b9\\u6cd5\\uff0c\\u770b\\u8d77\\u4f86\\u50cf\\u7a0b\\u5f0f\\u78bc\\u3002\", \"seqNum\": 1}, {\"front\": \"\\u7a0b\\u5f0f\\u8a2d\\u8a08\", \"back\": \"\\u64b0\\u5beb\\u96fb\\u8166\\u6307\\u4ee4\\uff08\\u7a0b\\u5f0f\\u78bc\\uff09\\u7684\\u904e\\u7a0b\\uff0c\\u8b93\\u96fb\\u8166\\u57f7\\u884c\\u4efb\\u52d9\\u3002\", \"seqNum\": 2}, {\"front\": \"\\u7a0b\\u5f0f\\u8a9e\\u8a00\", \"back\": \"\\u4e00\\u5957\\u7528\\u65bc\\u64b0\\u5beb\\u96fb\\u8166\\u80fd\\u7406\\u89e3\\u7684\\u7a0b\\u5f0f\\u78bc\\u7684\\u898f\\u5247\\u548c\\u8a9e\\u6cd5\\u3002\", \"seqNum\": 3}, {\"front\": \"\\u76f4\\u8b6f\\u5f0f\\u8a9e\\u8a00\", \"back\": \"\\u4e00\\u7a2e\\u7a0b\\u5f0f\\u8a9e\\u8a00\\uff0c\\u5176\\u7a0b\\u5f0f\\u78bc\\u6703\\u88ab\\u9010\\u884c\\u76f4\\u63a5\\u57f7\\u884c\\uff0c\\u800c\\u4e0d\\u9700\\u5148\\u9032\\u884c\\u7de8\\u8b6f\\u3002\", \"seqNum\": 4}, {\"front\": \"\\u76f4\\u8b6f\\u5668\", \"back\": \"\\u4e00\\u500b\\u9010\\u884c\\u8b80\\u53d6\\u4e26\\u57f7\\u884c\\u7a0b\\u5f0f\\u78bc\\u7684\\u5de5\\u5177\\u3002\", \"seqNum\": 5}, {\"front\": \"\\u6558\\u8ff0\", \"back\": \"\\u4e00\\u884c\\u544a\\u77e5\\u96fb\\u8166\\u57f7\\u884c\\u67d0\\u500b\\u52d5\\u4f5c\\u7684\\u7a0b\\u5f0f\\u78bc\\u3002\", \"seqNum\": 6}, {\"front\": \"\\u51fd\\u6578\", \"back\": \"\\u4e00\\u500b\\u53ef\\u91cd\\u8907\\u4f7f\\u7528\\u7684\\u7a0b\\u5f0f\\u78bc\\u5340\\u584a\\uff0c\\u7576\\u4f60\\u547c\\u53eb\\u5b83\\u6642\\u6703\\u57f7\\u884c\\u7279\\u5b9a\\u4efb\\u52d9\\u3002\", \"seqNum\": 7}, {\"front\": \"\\u53c3\\u6578\", \"back\": \"\\u50b3\\u5165\\u51fd\\u6578\\u4ee5\\u5e6b\\u52a9\\u5176\\u904b\\u4f5c\\u7684\\u6578\\u503c\\u6216\\u8cc7\\u8a0a\\u3002\", \"seqNum\": 8}, {\"front\": \"\\u5e38\\u6578\", \"back\": \"\\u5728\\u7a0b\\u5f0f\\u904b\\u884c\\u671f\\u9593\\u4e00\\u65e6\\u8a2d\\u5b9a\\u5f8c\\u5c31\\u4e0d\\u61c9\\u6539\\u8b8a\\u7684\\u503c\\u3002\", \"seqNum\": 9}, {\"front\": \"\\u65b9\\u6cd5\", \"back\": \"\\u5c6c\\u65bc\\u7269\\u4ef6\\u7684\\u51fd\\u6578\\uff0c\\u7528\\u4f86\\u5c0d\\u8a72\\u7269\\u4ef6\\u57f7\\u884c\\u64cd\\u4f5c\\u3002\", \"seqNum\": 10}, {\"front\": \"\\u8a3b\\u89e3\", \"back\": \"\\u4f9b\\u4eba\\u985e\\u95b1\\u8b80\\u7684\\u7a0b\\u5f0f\\u78bc\\u5099\\u8a3b\\uff0c\\u96fb\\u8166\\u57f7\\u884c\\u6642\\u6703\\u5ffd\\u7565\\u3002\", \"seqNum\": 11}, {\"front\": \"\\u904b\\u7b97\\u5f0f\", \"back\": \"\\u7531\\u6578\\u503c\\u3001\\u8b8a\\u6578\\u548c\\u904b\\u7b97\\u5b50\\u7d44\\u6210\\uff0c\\u7528\\u4f86\\u8a08\\u7b97\\u65b0\\u503c\\u7684\\u8868\\u9054\\u5f0f\\u3002\", \"seqNum\": 12}, {\"front\": \"\\u5411\\u4e0b\\u53d6\\u6574\\u9664\\u6cd5\", \"back\": \"\\u4f7f\\u7528 '//' \\u904b\\u7b97\\u5b50\\u9032\\u884c\\u7684\\u9664\\u6cd5\\uff0c\\u8fd4\\u56de\\u4e0d\\u8d85\\u904e\\u7d50\\u679c\\u7684\\u6700\\u5927\\u6574\\u6578\\u3002\", \"seqNum\": 13}, {\"front\": \"\\u8b8a\\u6578\", \"back\": \"\\u7528\\u4f86\\u5132\\u5b58\\u5728\\u7a0b\\u5f0f\\u904b\\u884c\\u904e\\u7a0b\\u4e2d\\u53ef\\u4ee5\\u6539\\u8b8a\\u7684\\u503c\\u7684\\u540d\\u7a31\\u3002\", \"seqNum\": 14}, {\"front\": \"\\u6307\\u6d3e\\u6558\\u8ff0\", \"back\": \"\\u4f7f\\u7528 '=' \\u7b26\\u865f\\u5c07\\u503c\\u8ce6\\u7d66\\u8b8a\\u6578\\u7684\\u4e00\\u884c\\u7a0b\\u5f0f\\u78bc\\u3002\", \"seqNum\": 15}, {\"front\": \"\\u95dc\\u9375\\u5b57\", \"back\": \"Python \\u4e2d\\u5177\\u6709\\u7279\\u6b8a\\u610f\\u7fa9\\u7684\\u4fdd\\u7559\\u5b57\\uff0c\\u4e0d\\u80fd\\u7528\\u4f5c\\u8b8a\\u6578\\u6216\\u51fd\\u6578\\u7684\\u540d\\u7a31\\u3002\", \"seqNum\": 16}, {\"front\": \"\\u578b\\u5225\", \"back\": \"\\u5132\\u5b58\\u5728\\u8b8a\\u6578\\u4e2d\\u7684\\u8cc7\\u6599\\u7a2e\\u985e\\uff0c\\u4f8b\\u5982\\u6578\\u5b57\\uff08int\\u3001float\\uff09\\u6216\\u6587\\u5b57\\uff08str\\uff09\\u3002\", \"seqNum\": 17}, {\"front\": \"\\u9664\\u932f\", \"back\": \"\\u627e\\u51fa\\u4e26\\u4fee\\u6b63\\u7a0b\\u5f0f\\u78bc\\u4e2d\\u932f\\u8aa4\\u7684\\u904e\\u7a0b\\u3002\", \"seqNum\": 18}, {\"front\": \"\\u8a9e\\u6cd5\\u932f\\u8aa4\", \"back\": \"\\u56e0\\u7a0b\\u5f0f\\u78bc\\u4e0d\\u7b26\\u5408 Python \\u6b63\\u78ba\\u7684\\u898f\\u5247\\u6216\\u8a9e\\u6cd5\\u800c\\u7522\\u751f\\u7684\\u932f\\u8aa4\\u3002\", \"seqNum\": 19}, {\"front\": \"\\u8a9e\\u610f\\u932f\\u8aa4\", \"back\": \"\\u7a0b\\u5f0f\\u80fd\\u904b\\u884c\\u537b\\u672a\\u9054\\u5230\\u9810\\u671f\\u6548\\u679c\\u7684\\u932f\\u8aa4\\uff0c\\u901a\\u5e38\\u7531\\u908f\\u8f2f\\u932f\\u8aa4\\u5f15\\u8d77\\u3002\", \"seqNum\": 20}, {\"front\": \"\\u57f7\\u884c\\u6642\\u932f\\u8aa4\", \"back\": \"\\u7a0b\\u5f0f\\u904b\\u884c\\u6642\\u767c\\u751f\\u7684\\u932f\\u8aa4\\uff0c\\u5e38\\u5e38\\u5c0e\\u81f4\\u7a0b\\u5f0f\\u610f\\u5916\\u4e2d\\u6b62\\u3002\", \"seqNum\": 21}]);\n",
              "            el.dataset.frontColors = JSON.stringify([\"var(--asparagus)\", \"var(--terra-cotta)\", \"var(--cyan-process)\"]);\n",
              "            el.dataset.backColors = JSON.stringify([\"var(--dark-blue-gray)\"]);\n",
              "            el.dataset.textColors = JSON.stringify([\"var(--snow)\"]);\n",
              "            el.dataset.keyControl = true;\n",
              "            el.dataset.grabFocus = false;\n",
              "            el.dataset.shuffleCards = false;\n",
              "            el.dataset.title = \"\";\n",
              "            el.dataset.subject = \"\";\n",
              "            createCards(\"LsOZWNDypKQP\");\n",
              "            obs.disconnect();\n",
              "        }\n",
              "    });\n",
              "    observer.observe(document.body, { childList: true, subtree: true });\n",
              "})();"
            ]
          },
          "metadata": {}
        }
      ],
      "source": [
        "from jupytercards import display_flashcards\n",
        "fpath= \"https://raw.githubusercontent.com/phonchi/PythonForMath/refs/heads/main/flashcards-TW/\"\n",
        "display_flashcards(fpath + 'ch1.json')"
      ]
    },
    {
      "cell_type": "markdown",
      "metadata": {
        "id": "HLvgiustd-0x"
      },
      "source": [
        "## 關鍵字"
      ]
    },
    {
      "cell_type": "markdown",
      "metadata": {
        "id": "OThRWkEhd-0x"
      },
      "source": [
        "- **演算法 (algorithm)**：它包含明確、無歧義的步驟，並且必須在有限時間內產生結果。\n",
        "- **虛擬碼 (pseudocode)**：用簡單的語言描述演算法步驟的方法，看起來像程式碼。\n",
        "- **程式設計 (programming)**：撰寫指令（程式碼）的過程，使電腦執行各種任務。\n",
        "- **程式語言 (programming language)**：一套用於撰寫電腦能理解程式碼的規則與語法。\n",
        "- **直譯式語言 (interpreted language)**：一種程式語言，其程式碼會逐行直接執行，而無需先編譯。\n",
        "- **直譯器 (interpreter)**：逐行讀取並執行程式碼的工具。\n",
        "- **敘述 (statement)**：告訴電腦執行某個動作的一行程式碼。\n",
        "- **函數 (function)**：一段可重複使用的程式碼區塊，在你呼叫它時會執行特定任務。\n",
        "- **參數 (arguments)**：傳入函數以協助其運作的數值或資訊。\n",
        "- **常數 (constants)**：在程式運行期間一旦設定後不應改變的值。\n",
        "- **方法 (method)**：屬於物件的函數，用於對該物件執行操作。\n",
        "- **註解 (comment)**：程式碼中的備註，供人類閱讀；電腦執行時會忽略它們。\n",
        "- **運算式 (expression)**：由數值、變數與運算子組成，用來計算新值的表達式。\n",
        "- **向下取整除法 (floor division)**：使用 `//` 運算子進行的除法，返回不大於結果的最大整數。\n",
        "- **變數 (variable)**：在程式運行過程中用來儲存可變值的名稱。\n",
        "- **賦值敘述 (assignment statement)**：使用 `=` 符號將值賦給變數的一行程式碼。\n",
        "- **關鍵字 (keywords)**：Python 中具有特殊意義的保留字，不能用作變數或函數的名稱。\n",
        "- **資料型別 (type)**：儲存在變數中的資料種類，例如數字（`int`、`float`）或文字（`str`）。\n",
        "- **除錯 (debugging)**：找出並修正程式碼中錯誤的過程。\n",
        "- **語法錯誤 (syntax error)**：因程式碼不符合 Python 語法規則而產生的錯誤。\n",
        "- **語意錯誤 (semantic error)**：程式能運行但未達到預期效果的錯誤，通常由邏輯錯誤引起。\n",
        "- **執行階段錯誤 (runtime error)**：程式運行時發生的錯誤，常常導致程式意外中止。"
      ]
    }
  ],
  "metadata": {
    "celltoolbar": "Slideshow",
    "colab": {
      "provenance": [],
      "cell_execution_strategy": "setup"
    },
    "kernelspec": {
      "display_name": "Python 3",
      "name": "python3"
    },
    "language_info": {
      "codemirror_mode": {
        "name": "ipython",
        "version": 3
      },
      "file_extension": ".py",
      "mimetype": "text/x-python",
      "name": "python",
      "nbconvert_exporter": "python",
      "pygments_lexer": "ipython3",
      "version": "3.9.13"
    },
    "rise": {
      "chalkboard": {
        "color": [
          "rgb(250, 0, 0)",
          "rgb(250, 0, 0)"
        ]
      },
      "controls": false,
      "enable_chalkboard": true,
      "footer": "",
      "overlay": "<div class='myfooter'><h4>Python 基礎介紹</h4></div>",
      "slideNumber": "true",
      "theme": "night"
    },
    "varInspector": {
      "cols": {
        "lenName": 16,
        "lenType": 16,
        "lenVar": 40
      },
      "kernels_config": {
        "python": {
          "delete_cmd_postfix": "",
          "delete_cmd_prefix": "del ",
          "library": "var_list.py",
          "varRefreshCmd": "print(var_dic_list())"
        },
        "r": {
          "delete_cmd_postfix": ") ",
          "delete_cmd_prefix": "rm(",
          "library": "var_list.r",
          "varRefreshCmd": "cat(var_dic_list()) "
        }
      },
      "position": {
        "height": "144.188px",
        "left": "911px",
        "right": "20px",
        "top": "118px",
        "width": "350px"
      },
      "types_to_exclude": [
        "module",
        "function",
        "builtin_function_or_method",
        "instance",
        "_Feature"
      ],
      "window_display": false
    },
    "vscode": {
      "interpreter": {
        "hash": "ffe9a5d1be64f395cda62646beb00f4fbc1d5c319e2b42024d6d4b4beddf19a5"
      }
    }
  },
  "nbformat": 4,
  "nbformat_minor": 0
}
