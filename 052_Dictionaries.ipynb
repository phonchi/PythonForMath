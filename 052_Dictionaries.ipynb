{
 "cells": [
  {
   "cell_type": "markdown",
   "metadata": {
    "id": "11n5gndbRzoY",
    "slideshow": {
     "slide_type": "slide"
    }
   },
   "source": [
    "# 其他容器 - 字典"
   ]
  },
  {
   "cell_type": "markdown",
   "metadata": {
    "id": "AIFsv_RZ1iV0",
    "slideshow": {
     "slide_type": "skip"
    }
   },
   "source": [
    "<table align=\"left\">\n",
    "  <td>\n",
    "    <a href=\"https://colab.research.google.com/github/phonchi/PythonForMath/blob/master/052_Dictionaries.ipynb\" target=\"_parent\"><img src=\"https://colab.research.google.com/assets/colab-badge.svg\" alt=\"Open In Colab\"/></a>\n",
    "  </td>\n",
    "  <td>\n",
    "    <a target=\"_blank\" href=\"https://kaggle.com/kernels/welcome?src=https://github.com/phonchi/PythonForMath/blob/master/052_Dictionaries.ipynb\"><img src=\"https://kaggle.com/static/images/open-in-kaggle.svg\" /></a>\n",
    "  </td>\n",
    "</table>"
   ]
  },
  {
   "cell_type": "markdown",
   "metadata": {
    "slideshow": {
     "slide_type": "skip"
    }
   },
   "source": [
    "請先執行以下兩格程式碼:"
   ]
  },
  {
   "cell_type": "code",
   "execution_count": null,
   "metadata": {
    "slideshow": {
     "slide_type": "skip"
    }
   },
   "outputs": [],
   "source": [
    "!pip install jupyterquiz \n",
    "!pip install jupytercards\n",
    "\n",
    "from IPython.display import display, Javascript\n",
    "display(Javascript('Jupyter.notebook.kernel.restart()'))"
   ]
  },
  {
   "cell_type": "code",
   "execution_count": null,
   "metadata": {
    "slideshow": {
     "slide_type": "skip"
    }
   },
   "outputs": [],
   "source": [
    "from jupyterquiz import display_quiz\n",
    "\n",
    "path=\"https://raw.githubusercontent.com/phonchi/PythonForMath/refs/heads/main/questions-TW/ch52/\""
   ]
  },
  {
   "cell_type": "markdown",
   "metadata": {
    "slideshow": {
     "slide_type": "subslide"
    }
   },
   "source": [
    "1. 介紹\n",
    "\n",
    "2. 字典"
   ]
  },
  {
   "cell_type": "markdown",
   "metadata": {
    "slideshow": {
     "slide_type": "subslide"
    }
   },
   "source": [
    "我們已經討論了三個內建的序列集合 —— `字串`、`串列` 和 `元組`。"
   ]
  },
  {
   "cell_type": "markdown",
   "metadata": {
    "slideshow": {
     "slide_type": "fragment"
    }
   },
   "source": [
    "現在，我們來看看內建的非序列集合 —— `字典`（`dictionaries`）。"
   ]
  },
  {
   "cell_type": "markdown",
   "metadata": {
    "slideshow": {
     "slide_type": "fragment"
    }
   },
   "source": [
    "- `字典`（`dictionary`）是一種**無序集合**，用來儲存***鍵–值***（key–value）對，它會將不可變的鍵對應到特定的值，就像傳統的詞典會將單字對應到單字的定義一樣。"
   ]
  },
  {
   "cell_type": "markdown",
   "metadata": {
    "slideshow": {
     "slide_type": "skip"
    }
   },
   "source": [
    "> 在 Python 稱做「字典」的資料結構，在其他程式語言可能會被叫做「雜湊（Hash）」或「關聯陣列（Associative Array）」，但為什麼 Python 要稱它做「字典」？ \n",
    "\n",
    "> 不用特別介紹，大家應該知道一般傳統的字典就是一本厚厚的書，裡面會有很多單字以及每個單字所對應的意思，這就像我們在這個章節學到的 Key 跟 Value 的對應關係。在傳統的字典裡的可以有很多不同的字用來表示相同的意思，但每個單字都不會重複。Python 的字典內部是使用雜湊表（Hash Table）實作，但叫它「Hash」可能會讓人誤會它是個雜湊函數或雜湊計算之後的結果。簡單的說，「字典」是一個比較泛用而且容易想像的名稱，用來表示 Key 跟 Value 的對應關係。而雜湊表是 Python 內部用來實作字典的方法，所以 Python 最後選擇了一個更為直觀易懂的方式來命名。"
   ]
  },
  {
   "cell_type": "markdown",
   "metadata": {
    "id": "UVyscPC3mYeo",
    "slideshow": {
     "slide_type": "slide"
    }
   },
   "source": [
    "## 字典"
   ]
  },
  {
   "cell_type": "markdown",
   "metadata": {
    "id": "MOGo5JaVmdnJ",
    "slideshow": {
     "slide_type": "subslide"
    }
   },
   "source": [
    "就像 `串列` 一樣，`字典` 是一種可變動的集合，可以儲存多個值，但它的用途更廣泛。在 `串列` 中，索引位置必須是整數；而在 `字典` 中，索引（即鍵）可以是任何不可變的資料型別。"
   ]
  },
  {
   "cell_type": "markdown",
   "metadata": {
    "id": "42QE-OUnptIL",
    "slideshow": {
     "slide_type": "fragment"
    }
   },
   "source": [
    "<center><img src=\"https://raw.githubusercontent.com/phonchi/PythonForMath/refs/heads/main/Figures/dictionaries.jpg\"></center>\n",
    "<div align=\"center\"> source: https://pynative.com/python-dictionaries/ </div>"
   ]
  },
  {
   "cell_type": "markdown",
   "metadata": {
    "slideshow": {
     "slide_type": "subslide"
    }
   },
   "source": [
    "你可以將 `字典` 想成是一組「索引」與「值」之間的對應關係，其中索引稱為 ***鍵 (key)***，而對應的值稱為 ***值 (value)***。每個鍵都對應到一個值。這種「鍵與值」的關聯稱為 ***鍵值對 (key-value pair)***，有時也稱為 ***項目 (item)***。"
   ]
  },
  {
   "cell_type": "markdown",
   "metadata": {
    "slideshow": {
     "slide_type": "fragment"
    }
   },
   "source": [
    "`字典` 中的鍵 (keys) 必須是不可變 (immutable) 的資料型別，例如 `字串`、`整數` 或 `元組`，而且每個鍵必須是唯一的，不能重複。不過，不同的鍵可以對應到相同的值。"
   ]
  },
  {
   "cell_type": "markdown",
   "metadata": {
    "id": "I1zr7rV8d2Oa",
    "slideshow": {
     "slide_type": "skip"
    }
   },
   "source": [
    "> 剛才講到在 Python 的字典是沒有順序的，要存取資料的時候只能使用 Key 來存取，而不是使用索引值。但從 Python 3.6 之後就有點變化了。在 Python 3.6 之前，字典是使用「雜湊表（Hash Table）」來實作的，雜湊表本身是一種沒有順序的資料結構，實際上在字典裡的 Key 會先經過雜湊函數計算，然後在雜湊表根據計算出來的雜湊值來決定它對應到的值。\n",
    "\n",
    "> 在 Python 3.6 之後，字典改用元素加入字典的順序來做為 Key 的順序，也就是說字典的 Key 會依照當時建立或新增的時候的順序排列。不過，就算現在的 Python 版本的字典是有順序的，要存取字典的值還是需要使用 Key 才行。如果真的這麼想要有順序的資料結構，就改用串列或 Tuple 吧!"
   ]
  },
  {
   "cell_type": "markdown",
   "metadata": {
    "id": "tB2j7j3YmpRZ",
    "slideshow": {
     "slide_type": "fragment"
    }
   },
   "source": [
    "舉個例子，我們可以建立一個從科目對應到成績的 `字典`，在這個例子中，鍵 (keys) 是 `字串`，而值 (values) 則是 `整數`。函式 `dict` 可以用來建立一個不含任何項目的新 `字典`。"
   ]
  },
  {
   "cell_type": "code",
   "execution_count": null,
   "metadata": {
    "id": "TXcMt4SuqC7c",
    "outputId": "4e36c533-c3db-49af-9752-4d54784fd757",
    "slideshow": {
     "slide_type": "subslide"
    }
   },
   "outputs": [],
   "source": [
    "type({}) # {} 被視為是空字典"
   ]
  },
  {
   "cell_type": "code",
   "execution_count": null,
   "metadata": {
    "id": "JKYIUUsujPRj",
    "outputId": "c01e40ca-ed2f-499c-c90d-2067bf773ff3",
    "slideshow": {
     "slide_type": "fragment"
    }
   },
   "outputs": [],
   "source": [
    "grade = dict()\n",
    "type(grade), grade"
   ]
  },
  {
   "cell_type": "markdown",
   "metadata": {
    "id": "M3f_fuvfm7SD",
    "slideshow": {
     "slide_type": "fragment"
    }
   },
   "source": [
    "若要新增或更新 `字典` 中的項目，可以再次使用下標運算元（方括號 `[]`）："
   ]
  },
  {
   "cell_type": "code",
   "execution_count": null,
   "metadata": {
    "id": "Crr5iMsmm7j6",
    "outputId": "45ce7108-a32b-4011-f494-09e9343d103c",
    "slideshow": {
     "slide_type": "fragment"
    }
   },
   "outputs": [],
   "source": [
    "grade['機率統計'] = 85 # Key:'機率統計', value: 85\n",
    "print(grade) # 注意到鍵和值是用逗號隔開"
   ]
  },
  {
   "cell_type": "markdown",
   "metadata": {
    "slideshow": {
     "slide_type": "subslide"
    }
   },
   "source": [
    "你可以透過用大括號 `{}` 包住多個以逗號分隔的鍵值對，來建立一個包含多個項目的 `字典`。每個鍵值對的格式為 `鍵:值`。"
   ]
  },
  {
   "cell_type": "code",
   "execution_count": null,
   "metadata": {
    "id": "PpP_327sn4Xn",
    "outputId": "e0759b62-0c2b-47fd-91ad-1c4c97002f61",
    "slideshow": {
     "slide_type": "fragment"
    }
   },
   "outputs": [],
   "source": [
    "grade = {'機率統計':85, '函數論':80, '程式語言':90, '方程式論':95}\n",
    "grade"
   ]
  },
  {
   "cell_type": "markdown",
   "metadata": {
    "id": "D2qbNFSAnt5Z",
    "slideshow": {
     "slide_type": "fragment"
    }
   },
   "source": [
    "請注意，你也可以使用分開的 `串列` 來儲存科目與成績，但這樣在後續更新與維護上會變得相當繁瑣。\n",
    "\n",
    "```python\n",
    "subjects = ['機率統計', '函數論', '程式語言', '方程式論']\n",
    "score = [85, 80, 90, 95]\n",
    "````"
   ]
  },
  {
   "cell_type": "markdown",
   "metadata": {
    "id": "QX4Ti3yEod_A",
    "slideshow": {
     "slide_type": "subslide"
    }
   },
   "source": [
    "你現在可以使用鍵（key）來查詢對應的值（value）："
   ]
  },
  {
   "cell_type": "code",
   "execution_count": null,
   "metadata": {
    "id": "mo31IN5toMnq",
    "outputId": "68d0338b-1aa9-4519-a341-ff64274e60de",
    "slideshow": {
     "slide_type": "fragment"
    }
   },
   "outputs": [],
   "source": [
    "print(grade['程式語言'])"
   ]
  },
  {
   "cell_type": "markdown",
   "metadata": {
    "slideshow": {
     "slide_type": "fragment"
    }
   },
   "source": [
    "你可以使用 `len()` 來獲得項目的數量："
   ]
  },
  {
   "cell_type": "code",
   "execution_count": null,
   "metadata": {
    "slideshow": {
     "slide_type": "fragment"
    }
   },
   "outputs": [],
   "source": [
    "len(grade)"
   ]
  },
  {
   "cell_type": "markdown",
   "metadata": {
    "id": "GzwHWKMpSnRP",
    "slideshow": {
     "slide_type": "skip"
    }
   },
   "source": [
    "> 請注意，我們無法像使用 `grade[0]` 這樣通過整數索引來存取字典中的項目，因為字典是無序集合。（可以思考鍵為 4、2、1、0 的情況）。因此，我們無法對字典使用切片語法。"
   ]
  },
  {
   "cell_type": "markdown",
   "metadata": {
    "slideshow": {
     "slide_type": "subslide"
    }
   },
   "source": [
    "試圖存取在字典中不存在的鍵會導致 `KeyError` 錯誤訊息，這就像是字串的「超出範圍」 `IndexError` 錯誤訊息一樣。"
   ]
  },
  {
   "cell_type": "code",
   "execution_count": null,
   "metadata": {
    "slideshow": {
     "slide_type": "fragment"
    }
   },
   "outputs": [],
   "source": [
    "grade['英文']"
   ]
  },
  {
   "cell_type": "markdown",
   "metadata": {
    "id": "biss6VA0qehV",
    "slideshow": {
     "slide_type": "fragment"
    }
   },
   "source": [
    "要新增或刪除項目，這與串列相似。"
   ]
  },
  {
   "cell_type": "code",
   "execution_count": null,
   "metadata": {
    "id": "eI4RAkSFqlPM",
    "outputId": "b16c9cee-3dcd-4f15-bdc1-5b2e463da9ea",
    "slideshow": {
     "slide_type": "fragment"
    }
   },
   "outputs": [],
   "source": [
    "grade['英文'] = 100\n",
    "grade"
   ]
  },
  {
   "cell_type": "markdown",
   "metadata": {
    "slideshow": {
     "slide_type": "subslide"
    }
   },
   "source": [
    "我們可以使用 `del` 敘述從字典中刪除一個鍵值對："
   ]
  },
  {
   "cell_type": "code",
   "execution_count": null,
   "metadata": {
    "id": "qom8rf_zqq9O",
    "outputId": "fe8364d6-7007-4b7f-ea91-25a64fb92d0e",
    "slideshow": {
     "slide_type": "fragment"
    }
   },
   "outputs": [],
   "source": [
    "del grade['英文']\n",
    "grade"
   ]
  },
  {
   "cell_type": "code",
   "execution_count": null,
   "metadata": {
    "slideshow": {
     "slide_type": "subslide"
    }
   },
   "outputs": [],
   "source": [
    "display_quiz(path+\"dict1.json\", max_width=800)"
   ]
  },
  {
   "cell_type": "markdown",
   "metadata": {
    "slideshow": {
     "slide_type": "slide"
    }
   },
   "source": [
    "###  `keys()`, `values()` 和 `items()` 方法"
   ]
  },
  {
   "cell_type": "markdown",
   "metadata": {
    "slideshow": {
     "slide_type": "subslide"
    }
   },
   "source": [
    "有三個 `dictionary` 方法可以返回類似 `list` 的 `dictionary` 鍵、值或鍵值對的值：`keys()`、`values()` 和 `items()`。"
   ]
  },
  {
   "cell_type": "markdown",
   "metadata": {
    "slideshow": {
     "slide_type": "fragment"
    }
   },
   "source": [
    "這些方法返回的值並不是真正的 `list`，但這些資料型別（分別是 `dict_keys`、`dict_values` 和 `dict_items`）可以在 `for` 迴圈中使用（就像 `range` 物件一樣）！"
   ]
  },
  {
   "cell_type": "markdown",
   "metadata": {
    "slideshow": {
     "slide_type": "fragment"
    }
   },
   "source": [
    "如果您想從這些方法中獲得真正的 `list`，可以將它們類似列表的返回值傳遞給 `list()` 函數。"
   ]
  },
  {
   "cell_type": "code",
   "execution_count": null,
   "metadata": {
    "slideshow": {
     "slide_type": "fragment"
    }
   },
   "outputs": [],
   "source": [
    "subject = list(grade.keys())\n",
    "score = list(grade.values())\n",
    "print(subject)\n",
    "print(score)"
   ]
  },
  {
   "cell_type": "markdown",
   "metadata": {
    "slideshow": {
     "slide_type": "skip"
    }
   },
   "source": [
    "> 為什麼這幾個方法不直接給個串列就好，反而是 dict_keys、dict_values 或 dict_items 這種看起來有點奇怪的東西？\n",
    "\n",
    "> 想像一下，如果你有一個數百萬筆資料的大字典，假設 keys() 方法直接回傳一個串列的話，迴圈還沒開始轉就要先用掉一大塊記憶體來放這個串列。所以 Python 的做法是回傳一個「產生器（Generator）」的東西。產生器可以在每次迭代的時候才會產生所需要的資料，這樣就不需要一口氣把所有的值都展開放進記憶體裡。\n",
    "\n",
    "> `getsizeof()` 是 Python 的內建函數，可以用來看一個物件佔用了多少記憶體，實際跑出來的數字可能會因為不同環境而有所不同，但應該很明顯可以看的出來轉換成串列的 keys2 所用的記憶體比 keys1 大很多。"
   ]
  },
  {
   "cell_type": "code",
   "execution_count": null,
   "metadata": {
    "slideshow": {
     "slide_type": "skip"
    }
   },
   "outputs": [],
   "source": [
    "from sys import getsizeof\n",
    "\n",
    "# 做一個一百萬筆資料的字典\n",
    "big_dict = {i: i for i in range(1000000)}\n",
    "\n",
    "keys1 = big_dict.keys()\n",
    "keys2 = list(big_dict.keys())\n",
    "\n",
    "print(getsizeof(keys1))  # 40\n",
    "print(getsizeof(keys2))  # 8000056"
   ]
  },
  {
   "cell_type": "code",
   "execution_count": null,
   "metadata": {
    "slideshow": {
     "slide_type": "subslide"
    }
   },
   "outputs": [],
   "source": [
    "for v in grade.values():\n",
    "    print(v)"
   ]
  },
  {
   "cell_type": "markdown",
   "metadata": {
    "slideshow": {
     "slide_type": "fragment"
    }
   },
   "source": [
    "這裡，`for` 迴圈遍歷 `grade` 字典中的每個值。`for` 迴圈也可以遍歷鍵："
   ]
  },
  {
   "cell_type": "code",
   "execution_count": null,
   "metadata": {
    "slideshow": {
     "slide_type": "fragment"
    }
   },
   "outputs": [],
   "source": [
    "for k in grade.keys():\n",
    "    print(k)"
   ]
  },
  {
   "cell_type": "code",
   "execution_count": null,
   "metadata": {
    "slideshow": {
     "slide_type": "subslide"
    }
   },
   "outputs": [],
   "source": [
    "for k in grade:\n",
    "    print(k)"
   ]
  },
  {
   "cell_type": "markdown",
   "metadata": {
    "slideshow": {
     "slide_type": "fragment"
    }
   },
   "source": [
    "請注意，預設情況下，它將遍歷鍵而非值！"
   ]
  },
  {
   "cell_type": "markdown",
   "metadata": {
    "id": "_bWKfSrwsber",
    "slideshow": {
     "slide_type": "fragment"
    }
   },
   "source": [
    "字典有一個名為 `items()` 的方法，會返回一個包含鍵值對的元組的列表，其中每個元組都是一個鍵值對："
   ]
  },
  {
   "cell_type": "code",
   "execution_count": null,
   "metadata": {
    "id": "nqNW-NBbsO8A",
    "outputId": "d8c558c5-3c81-40e3-82c0-f1aa5bf556d9",
    "slideshow": {
     "slide_type": "fragment"
    }
   },
   "outputs": [],
   "source": [
    "list(grade.items())"
   ]
  },
  {
   "cell_type": "markdown",
   "metadata": {
    "id": "uXNIm4G4szJG",
    "slideshow": {
     "slide_type": "subslide"
    }
   },
   "source": [
    "結合 `items()`、多重指派和 `for` 迴圈，我們可以看到一個漂亮的程式碼範例，用於在單一迴圈中遍歷字典的鍵和值："
   ]
  },
  {
   "cell_type": "code",
   "execution_count": null,
   "metadata": {
    "slideshow": {
     "slide_type": "fragment"
    }
   },
   "outputs": [],
   "source": [
    "for key, val in grade.items():\n",
    "    print(key,val)"
   ]
  },
  {
   "cell_type": "code",
   "execution_count": null,
   "metadata": {
    "slideshow": {
     "slide_type": "subslide"
    }
   },
   "outputs": [],
   "source": [
    "display_quiz(path+\"dict2.json\", max_width=800)"
   ]
  },
  {
   "cell_type": "markdown",
   "metadata": {
    "slideshow": {
     "slide_type": "slide"
    }
   },
   "source": [
    "#### 檢查字典中是否存在鍵或值"
   ]
  },
  {
   "cell_type": "markdown",
   "metadata": {
    "slideshow": {
     "slide_type": "subslide"
    }
   },
   "source": [
    "回想上一章，我們提到過 `in` 和 `not in` 運算元可以檢查一個值是否存在於串列中。你也可以使用這些運算元來檢查某個鍵或值是否存在於字典中。"
   ]
  },
  {
   "cell_type": "code",
   "execution_count": null,
   "metadata": {
    "id": "kmCBCvvpokWE",
    "outputId": "fc195640-1b73-4517-8dbe-ea833573379a",
    "slideshow": {
     "slide_type": "fragment"
    }
   },
   "outputs": [],
   "source": [
    "'機率統計' in grade, '英文' in grade.keys(), 85 in grade.values() "
   ]
  },
  {
   "cell_type": "markdown",
   "metadata": {
    "slideshow": {
     "slide_type": "skip"
    }
   },
   "source": [
    "> 同樣地，預設情況下，它會檢查鍵。因此，在前面的範例中，`'calculus' in grade` 基本上是寫作 `'calculus' in grade.keys()` 的簡化版本。如果你想檢查某個值是否是（或不是）`字典` 中的鍵，你可以直接使用 `in`（或 `not in`）運算元來檢查 `字典` 本身。"
   ]
  },
  {
   "cell_type": "markdown",
   "metadata": {
    "slideshow": {
     "slide_type": "slide"
    }
   },
   "source": [
    "#### 使用 `get()` 方法來檢索值"
   ]
  },
  {
   "cell_type": "code",
   "execution_count": null,
   "metadata": {
    "slideshow": {
     "slide_type": "subslide"
    }
   },
   "outputs": [],
   "source": [
    "if '英文' in grade:\n",
    "    e_score= grade['英文']"
   ]
  },
  {
   "cell_type": "markdown",
   "metadata": {
    "slideshow": {
     "slide_type": "fragment"
    }
   },
   "source": [
    "在存取 `dictionary` 中的鍵值之前，檢查該鍵是否存在可能會很繁瑣。幸運的是，`dictionary` 有一個 `get()` 方法，該方法接受兩個參數：要檢索的鍵，以及如果該鍵不存在時要返回的備用值。"
   ]
  },
  {
   "cell_type": "code",
   "execution_count": null,
   "metadata": {
    "slideshow": {
     "slide_type": "fragment"
    }
   },
   "outputs": [],
   "source": [
    "picnicItems = {'蘋果': 5, '杯子': 2}\n",
    "print('我將會攜帶 ' + str(picnicItems.get('杯子', 0)) + ' 個杯子。') \n",
    "print('我將會攜帶 ' + str(picnicItems.get('蛋', 0)) + ' 顆蛋。')"
   ]
  },
  {
   "cell_type": "markdown",
   "metadata": {
    "slideshow": {
     "slide_type": "subslide"
    }
   },
   "source": [
    "因為在 `picnicItems` 字典中沒有 `'蛋'` 這個鍵，所以 `get()` 方法會返回預設值 0。如果不使用 `get()`，這段程式碼將會導致 `KeyError` 錯誤訊息。"
   ]
  },
  {
   "cell_type": "code",
   "execution_count": null,
   "metadata": {
    "slideshow": {
     "slide_type": "fragment"
    }
   },
   "outputs": [],
   "source": [
    "picnicItems = {'蘋果': 5, '杯子': 2}\n",
    "'我將會攜帶 ' + str(picnicItems['蛋']) + ' 顆蛋。'"
   ]
  },
  {
   "cell_type": "code",
   "execution_count": null,
   "metadata": {
    "slideshow": {
     "slide_type": "subslide"
    }
   },
   "outputs": [],
   "source": [
    "display_quiz(path+\"get.json\", max_width=800)"
   ]
  },
  {
   "cell_type": "markdown",
   "metadata": {
    "slideshow": {
     "slide_type": "slide"
    }
   },
   "source": [
    "#### 使用 `setdefault()` 方法更新值"
   ]
  },
  {
   "cell_type": "markdown",
   "metadata": {
    "slideshow": {
     "slide_type": "subslide"
    }
   },
   "source": [
    "你經常需要在 `dictionary` 中為某個鍵設定值，但僅在該鍵尚未有值的情況下。程式碼大致如下："
   ]
  },
  {
   "cell_type": "code",
   "execution_count": null,
   "metadata": {
    "slideshow": {
     "slide_type": "fragment"
    }
   },
   "outputs": [],
   "source": [
    "spam = {'名字': 'Pooka', '年齡': 5}\n",
    "if '興趣' not in spam:\n",
    "    spam['興趣'] = '睡覺'"
   ]
  },
  {
   "cell_type": "markdown",
   "metadata": {
    "slideshow": {
     "slide_type": "fragment"
    }
   },
   "source": [
    "`setdefault()` 方法提供了一種在一行程式碼中完成這件事的方法。傳遞給該方法的第一個參數是要檢查的鍵，第二個參數是如果該鍵不存在時要設定的值。"
   ]
  },
  {
   "cell_type": "markdown",
   "metadata": {
    "slideshow": {
     "slide_type": "subslide"
    }
   },
   "source": [
    "`setdefault()` 方法是一個方便的捷徑，確保某個鍵存在。以下是一個簡短的程式，它計算每個字母在 `string` 中出現的次數。"
   ]
  },
  {
   "cell_type": "code",
   "execution_count": null,
   "metadata": {
    "slideshow": {
     "slide_type": "fragment"
    }
   },
   "outputs": [],
   "source": [
    "message = 'It was a bright cold day in April, and the clocks were striking thirteen.'\n",
    "count = {}\n",
    "\n",
    "for character in message:\n",
    "    if character not in count:\n",
    "        count[character] = 0\n",
    "    count[character] = count[character] + 1\n",
    "\n",
    "print(count)    "
   ]
  },
  {
   "cell_type": "code",
   "execution_count": null,
   "metadata": {
    "slideshow": {
     "slide_type": "subslide"
    }
   },
   "outputs": [],
   "source": [
    "message = 'It was a bright cold day in April, and the clocks were striking thirteen.'\n",
    "count = {}\n",
    "\n",
    "for character in message:\n",
    "    count.setdefault(character, 0)\n",
    "    count[character] = count[character] + 1\n",
    "\n",
    "print(count)    "
   ]
  },
  {
   "cell_type": "markdown",
   "metadata": {
    "slideshow": {
     "slide_type": "fragment"
    }
   },
   "source": [
    "你可以在 https://autbor.com/setdefault 查看這個程式的執行。該程式會迴圈遍歷 `message` 變數中的每個字元，計算每個字元出現的次數。`setdefault()` 方法確保該鍵存在於 `count` 字典中（並設置預設值為 0），這樣在執行 `count[character] = count[character] + 1` 時，程式就不會拋出 `KeyError` 錯誤！"
   ]
  },
  {
   "cell_type": "markdown",
   "metadata": {
    "slideshow": {
     "slide_type": "fragment"
    }
   },
   "source": [
    "從輸出結果中，你可以看到小寫字母 c 出現了 3 次，空格字符出現了 13 次，大寫字母 A 出現了 1 次。"
   ]
  },
  {
   "cell_type": "code",
   "execution_count": null,
   "metadata": {
    "slideshow": {
     "slide_type": "subslide"
    }
   },
   "outputs": [],
   "source": [
    "display_quiz(path+\"setdefault.json\", max_width=800)"
   ]
  },
  {
   "cell_type": "markdown",
   "metadata": {
    "slideshow": {
     "slide_type": "slide"
    }
   },
   "source": [
    "#### 字典生成式"
   ]
  },
  {
   "cell_type": "markdown",
   "metadata": {
    "slideshow": {
     "slide_type": "subslide"
    }
   },
   "source": [
    "字典生成式提供了一種方便的語法，可以快速生成 `字典`，通常是通過將一個 `字典` 映射到另一個 `字典`。例如，在一個具有唯一值的 `字典` 中，您可以反轉鍵值對："
   ]
  },
  {
   "cell_type": "code",
   "execution_count": null,
   "metadata": {
    "slideshow": {
     "slide_type": "fragment"
    }
   },
   "outputs": [],
   "source": [
    "months = {'一月': 1, '二月': 2, '三月': 3}"
   ]
  },
  {
   "cell_type": "code",
   "execution_count": null,
   "metadata": {
    "slideshow": {
     "slide_type": "fragment"
    }
   },
   "outputs": [],
   "source": [
    "months2 = {number:name for name, number in months.items()}\n",
    "months2"
   ]
  },
  {
   "cell_type": "markdown",
   "metadata": {
    "slideshow": {
     "slide_type": "skip"
    }
   },
   "source": [
    "> 大括號用來定義出字典生成式，並且在 `for` 左邊的敘述式指定了 `key:value` 形式的鍵值對。這個生成式遍歷 `months.items()`，將每個鍵值對元組拆解成變數 `name` 和 `number`。敘述式 `number:name` 反轉了鍵和值，因此新的字典將月份的數字映射到月份的名稱。"
   ]
  },
  {
   "cell_type": "markdown",
   "metadata": {
    "slideshow": {
     "slide_type": "subslide"
    }
   },
   "source": [
    "字典生成式也可以將字典的值映射到新的值。以下的生成式將一個包含名字和成績的字典轉換為一個包含名字和平均分數的字典。變數 `k` 和 `v` 通常分別表示鍵和值："
   ]
  },
  {
   "cell_type": "code",
   "execution_count": null,
   "metadata": {
    "slideshow": {
     "slide_type": "fragment"
    }
   },
   "outputs": [],
   "source": [
    "grades = {'Sue': [98, 87, 94], 'Bob': [84, 95, 91]}"
   ]
  },
  {
   "cell_type": "code",
   "execution_count": null,
   "metadata": {
    "slideshow": {
     "slide_type": "fragment"
    }
   },
   "outputs": [],
   "source": [
    "grades2 = {k:sum(v)/len(v) for k, v in grades.items()}\n",
    "grades2"
   ]
  },
  {
   "cell_type": "markdown",
   "metadata": {
    "slideshow": {
     "slide_type": "skip"
    }
   },
   "source": [
    "> 注意上面的結構是巢狀結構，其中包含了一個在字典中的 `list`！"
   ]
  },
  {
   "cell_type": "markdown",
   "metadata": {
    "slideshow": {
     "slide_type": "slide"
    }
   },
   "source": [
    "### 包含字典或串列的巢狀結構"
   ]
  },
  {
   "cell_type": "markdown",
   "metadata": {
    "slideshow": {
     "slide_type": "slide"
    }
   },
   "source": [
    "#### 字典構成的串列"
   ]
  },
  {
   "cell_type": "markdown",
   "metadata": {
    "slideshow": {
     "slide_type": "subslide"
    }
   },
   "source": [
    "考慮一個遊戲，其中外星人擁有不同的顏色和分數。這個簡單的 `字典` 儲存了有關特定外星人的資訊："
   ]
  },
  {
   "cell_type": "code",
   "execution_count": null,
   "metadata": {
    "slideshow": {
     "slide_type": "fragment"
    }
   },
   "outputs": [],
   "source": [
    "alien_0 = {'顏色': 'green', '顏色': 5}"
   ]
  },
  {
   "cell_type": "markdown",
   "metadata": {
    "slideshow": {
     "slide_type": "fragment"
    }
   },
   "source": [
    "`alien_0` 字典包含有關一個外星人的各種資訊，但它沒有空間來儲存有關第二個外星人的資訊，更不用說顯示一整個螢幕的外星人了。那麼如何管理一隊外星人呢？一種方法是建立一個外星人列表，每個外星人都是一個 `字典`，其中包含該外星人的資訊。"
   ]
  },
  {
   "cell_type": "code",
   "execution_count": null,
   "metadata": {
    "slideshow": {
     "slide_type": "subslide"
    }
   },
   "outputs": [],
   "source": [
    "aliens = []\n",
    "# 創造30個綠色的外星人.\n",
    "for alien_number in range(30):\n",
    "    new_alien = {'顏色': '綠色', '分數': 5, '速度': '慢速'}\n",
    "    aliens.append(new_alien)\n",
    "# 印出前五個.\n",
    "for alien in aliens[:5]:\n",
    "    print(alien)\n",
    "print(\"...\")\n",
    "# 印出總共建立了多少個\n",
    "print(f\"外星人的總數: {len(aliens)}\")"
   ]
  },
  {
   "cell_type": "markdown",
   "metadata": {
    "slideshow": {
     "slide_type": "fragment"
    }
   },
   "source": [
    "這些外星人擁有相同的特徵，但 `Python` 將每個外星人視為一個獨立的物件，這使我們能夠單獨修改每個外星人。那麼，如何處理這樣一群外星人呢？"
   ]
  },
  {
   "cell_type": "markdown",
   "metadata": {
    "slideshow": {
     "slide_type": "subslide"
    }
   },
   "source": [
    "假設遊戲中的一個方面是隨著遊戲進行，某些外星人改變顏色並加速。當該改變顏色的時候，我們可以使用 `for` 迴圈和 `if` 條件語句來改變外星人的顏色。例如，若要將前三個外星人改為黃色、移動速度中等且每個外星人價值 10 分，我們可以這樣做："
   ]
  },
  {
   "cell_type": "code",
   "execution_count": null,
   "metadata": {
    "slideshow": {
     "slide_type": "fragment"
    }
   },
   "outputs": [],
   "source": [
    "for alien in aliens[:3]:\n",
    "    if alien['顏色'] == '綠色':\n",
    "        alien['顏色r'] = '黃色'\n",
    "        alien['速度'] = '中速'\n",
    "        alien['分數'] = 10\n",
    "\n",
    "aliens[:10]"
   ]
  },
  {
   "cell_type": "markdown",
   "metadata": {
    "slideshow": {
     "slide_type": "subslide"
    }
   },
   "source": [
    "### >練習 1: 使用字典優化費波那契數列運算: 費波那契數列定義如下：  \n",
    "- F(0) = 0  \n",
    "- F(1) = 1  \n",
    "- 對於 n ≥ 2，F(n) = F(n-1) + F(n-2)\n",
    "\n",
    "如果直接採用純遞迴方法來計算費波那契數列，會導致大量重複計算，當 n 較大時效率會非常低下。請利用字典來儲存已經計算過的結果（稱作 memoization），從而加速遞歸計算的過程。"
   ]
  },
  {
   "cell_type": "code",
   "execution_count": null,
   "metadata": {
    "slideshow": {
     "slide_type": "subslide"
    }
   },
   "outputs": [],
   "source": [
    "def fibonacci(n, memo={}):\n",
    "    # 若 n 的計算結果已存在 memo 中，則直接返回\n",
    "    if n in memo:\n",
    "        return memo[n]\n",
    "    \n",
    "    # 基本情況：當 n 為 0 或 1 時直接返回 n\n",
    "    if n <= 1:\n",
    "        memo[n] = n\n",
    "    else:\n",
    "        # 利用遞歸計算 F(n-1) 與 F(n-2)，並存入 memo 中\n",
    "        memo[n] = fibonacci(n - 1, memo) + fibonacci(n - 2, memo)\n",
    "    \n",
    "    return memo[n]"
   ]
  },
  {
   "cell_type": "code",
   "execution_count": null,
   "metadata": {
    "slideshow": {
     "slide_type": "subslide"
    }
   },
   "outputs": [],
   "source": [
    "n = 2000  # 可以將 n 設定為較大的數字觀察效能提升\n",
    "print(f\"Fibonacci({n}) =\", fibonacci_rec(n))"
   ]
  },
  {
   "cell_type": "markdown",
   "metadata": {
    "slideshow": {
     "slide_type": "subslide"
    }
   },
   "source": [
    "在本章中，我們討論了 Python 的 `dictionary`。它是無序的、可變的。"
   ]
  },
  {
   "cell_type": "markdown",
   "metadata": {
    "slideshow": {
     "slide_type": "skip"
    }
   },
   "source": [
    "> 我們介紹了什麼是 `dictionary` 並提供了幾個範例。我們展示了鍵–值對的語法，並展示了如何使用大括號 `{}` 和逗號分隔的鍵–值對來創建 `dictionaries`。你還使用了字典推導式來創建字典。你使用方括號 `[]` 來檢索對應於鍵的值，並插入和更新鍵–值對。你還使用了字典方法 `update` 來更改鍵所對應的值。你也遍歷了字典的鍵、值和項目。"
   ]
  },
  {
   "cell_type": "markdown",
   "metadata": {
    "slideshow": {
     "slide_type": "subslide"
    }
   },
   "source": [
    "以下是容器的簡短比較：\n",
    "\n",
    "| 特徵               | 串列 (List) | 元組 (Tuple) | 字典 (Dictionary) |\n",
    "|------------------|------------|--------------|-------------------|\n",
    "| 可變（可以原地修改）     | 是         | 否           | 是（鍵是不可變的）  |\n",
    "| 可迭代（可以在 for 迴圈中使用） | 是         | 是           | 是                 |\n",
    "| 有序（可以通過索引、切片存取） | 是         | 是           | 否                 |\n",
    "| 重複值             | 允許       | 允許         | 不允許（鍵不允許重複） |"
   ]
  },
  {
   "cell_type": "code",
   "execution_count": null,
   "metadata": {
    "slideshow": {
     "slide_type": "subslide"
    }
   },
   "outputs": [],
   "source": [
    "from jupytercards import display_flashcards\n",
    "fpath= \"https://raw.githubusercontent.com/phonchi/PythonForMath/refs/heads/main/flashcards-TW/\"\n",
    "display_flashcards(fpath + 'ch52.json')"
   ]
  },
  {
   "cell_type": "markdown",
   "metadata": {
    "slideshow": {
     "slide_type": "skip"
    }
   },
   "source": [
    "## 關鍵字"
   ]
  },
  {
   "cell_type": "markdown",
   "metadata": {
    "slideshow": {
     "slide_type": "skip"
    }
   },
   "source": [
    "- **鍵值對 (key-value)**：由鍵與其對應值所組成的一對值，常用於字典中。\n",
    "- **鍵 (key)**：用於存取字典中相應值的不可變識別符。\n",
    "- **值 (value)**：與字典中鍵相對應的資料。\n",
    "- **字典 (dictionary)**：一組鍵值對集合，其中每個鍵都是唯一的。\n",
    "- **字典生成式 (dictionary comprehension)**：利用單一表達式從可迭代對象中創建字典的一種簡潔方法。"
   ]
  }
 ],
 "metadata": {
  "celltoolbar": "Slideshow",
  "colab": {
   "collapsed_sections": [
    "SwFKFBMwRzoa",
    "n3ezAAdIsgpj",
    "gASYx5-Cxzyg",
    "2kLRVhae3rSa",
    "DPpfFEA07W0A",
    "uloOTsPL9A74",
    "MTJO4K049nuU",
    "3hD9uBt6AW9l",
    "IvviPig3At12",
    "HQK5zGP749m3",
    "7YVyJ-IgBZ7s",
    "L5VlI3VKg_dV",
    "wgqoOGqEiUre",
    "jscaE3K65HP9",
    "UMo588t4rY-O",
    "AGs4jgnSsZa1"
   ],
   "provenance": [],
   "toc_visible": true
  },
  "kernelspec": {
   "display_name": "Python 3 (ipykernel)",
   "language": "python",
   "name": "python3"
  },
  "language_info": {
   "codemirror_mode": {
    "name": "ipython",
    "version": 3
   },
   "file_extension": ".py",
   "mimetype": "text/x-python",
   "name": "python",
   "nbconvert_exporter": "python",
   "pygments_lexer": "ipython3",
   "version": "3.9.13"
  },
  "rise": {
   "chalkboard": {
    "color": [
     "rgb(250, 0, 0)",
     "rgb(250, 0, 0)"
    ]
   },
   "controls": false,
   "enable_chalkboard": true,
   "footer": "",
   "overlay": "<div class='myfooter'><h4>字典</h4></div>",
   "slideNumber": "true",
   "theme": "night"
  },
  "vscode": {
   "interpreter": {
    "hash": "1561eddc5e0c9c74df968f74d5080d02882967127f956e6e7049c43d2ef42321"
   }
  }
 },
 "nbformat": 4,
 "nbformat_minor": 1
}
