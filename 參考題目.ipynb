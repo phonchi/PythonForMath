{
  "nbformat": 4,
  "nbformat_minor": 0,
  "metadata": {
    "colab": {
      "provenance": [],
      "toc_visible": true
    },
    "kernelspec": {
      "name": "python3",
      "display_name": "Python 3"
    },
    "language_info": {
      "name": "python"
    }
  },
  "cells": [
    {
      "cell_type": "markdown",
      "source": [
        "## Python 基礎 - 字串、數字與變數"
      ],
      "metadata": {
        "id": "KVx8F_I4cLdF"
      }
    },
    {
      "cell_type": "markdown",
      "source": [
        "### (1) 下列關於 Python 數值運算與資料型態之敘述，何者**正確**？\n",
        "\n",
        "(A) Python 允許在數值常數中以逗號分隔位數（例如以 `12,000` 表示12000）以提升可讀性。\n",
        "\n",
        "(B) 在 Python 中，整除運算子 (`//`) 於兩數相除時，結果必為浮點數。\n",
        "\n",
        "(C) 表達式 `3+j` 為 Python 中有效的複數表示法。\n",
        "\n",
        "(D) 於兩個內建數值型別間進行算術運算時，Python 會自動將較小型別的運算元轉換為較大型別，以避免精度流失。\n"
      ],
      "metadata": {
        "id": "-KeRGSpLPagY"
      }
    },
    {
      "cell_type": "markdown",
      "source": [
        "### (2) 假設執行以下程式碼，使用者輸入一個浮點數（例如 `\"12.3\"`）：\n",
        "\n",
        "```python\n",
        "spam1 = input()\n",
        "spam2 = float(spam1) // 5\n",
        "spam3 = spam2 + 18\n",
        "```\n",
        "\n",
        "請問哪一個變數的資料型態與其他變數不同？\n",
        "\n",
        "(A) `spam1`\n",
        "\n",
        "(B) `spam2`\n",
        "\n",
        "(C) `spam3`\n",
        "\n",
        "(D) 以上變數皆具有不同的資料型態"
      ],
      "metadata": {
        "id": "BPzA4WllPdiA"
      }
    },
    {
      "cell_type": "markdown",
      "source": [
        "### (3) 假設要交換兩個變數 `a` 和 `b` 的值，下列哪一種方法**不是**正確的交換方式？\n",
        "\n",
        "(A)\n",
        "\n",
        "```python\n",
        "a = b\n",
        "b = a\n",
        "```\n",
        "\n",
        "(B)\n",
        "\n",
        "```python\n",
        "temp = b\n",
        "b = a\n",
        "a = temp\n",
        "```\n",
        "\n",
        "(C)\n",
        "\n",
        "```python\n",
        "a, b = b, a\n",
        "```\n",
        "\n",
        "(D)\n",
        "\n",
        "```python\n",
        "temp = a\n",
        "a = b\n",
        "b = temp\n",
        "```"
      ],
      "metadata": {
        "id": "dEaPD2wmcc9z"
      }
    },
    {
      "cell_type": "markdown",
      "source": [
        "### (4) 下列敘述何者為**錯誤**？\n",
        "\n",
        "(A) 運算式 `-17 / 4` 的結果為 `-4.25`\n",
        "\n",
        "(B) 真除法 (`/`) 將分子除以分母，結果為浮點數。\n",
        "\n",
        "(C) 整數除法 (`//`) 將分子除以分母，結果為不大於該商的最大整數（向下取整）。\n",
        "\n",
        "(D) 運算式 `-17 // 4` 的結果為 `-4`"
      ],
      "metadata": {
        "id": "XpRPwvNIcj3s"
      }
    },
    {
      "cell_type": "markdown",
      "source": [
        "### (5) 下列敘述何者為**錯誤**？\n",
        "\n",
        "(A) 識別字（identifier）可由英文字母、數字及底線（`_`）組成，但不得以數字開頭。\n",
        "\n",
        "(B) Python 中所有資料皆以物件形式儲存，變數實際上是指向物件的參考。\n",
        "\n",
        "(C) Python 中的註解（無論單行或多行）必須以井字號（`#`）開頭。\n",
        "\n",
        "(D) 在自動型態轉換時，Python 總是將較小型態轉換為較大型態，以避免資料遺失。"
      ],
      "metadata": {
        "id": "ciU5A_JMct5M"
      }
    },
    {
      "cell_type": "markdown",
      "source": [
        "## 布林值與流程控制"
      ],
      "metadata": {
        "id": "-3Cb2iCWcvr8"
      }
    },
    {
      "cell_type": "markdown",
      "source": [
        "### (6) 下列哪一個是正確的 Python 表達式，用來判斷變數 `x` 中的數值是否介於 1 到 10（含）之間？\n",
        "\n",
        "(A) `1 =< x =< 10`\n",
        "\n",
        "(B) `x >= 1 and <= 10`\n",
        "\n",
        "(C) `x >= 1 and x <= 10`\n",
        "\n",
        "(D) `x >= 1 or x <= 10`\n"
      ],
      "metadata": {
        "id": "g0Rxu03Tcwk2"
      }
    },
    {
      "cell_type": "markdown",
      "source": [
        "### (7) 下列哪一個表達式在 Python 控制流程條件判斷中回傳的布林值與其他不同？\n",
        "\n",
        "(A) `[]`\n",
        "\n",
        "(B) `None`\n",
        "\n",
        "(C) `\"None\"`\n",
        "\n",
        "(D) `2 > 5 or 4 < 3`\n"
      ],
      "metadata": {
        "id": "SNBsk-xgczfb"
      }
    },
    {
      "cell_type": "markdown",
      "source": [
        "### (8) 下列敘述何者為**正確**？\n",
        "\n",
        "(A) 雖然 Python 有 `goto` 陳述式，但為了減少錯誤應避免使用。\n",
        "\n",
        "(B) Python 近期引入了 `match` 陳述式，作為實作 `switch` 的方式。\n",
        "\n",
        "(C) 空字串（例如 `''`、`\"\"` 或 `\"\"\"\"\"\"`）在 Python 中被視為布林值 `True`。\n",
        "\n",
        "(D) 若不確定重複執行次數，`for` 迴圈比 `while` 迴圈更適合使用。\n"
      ],
      "metadata": {
        "id": "H087W9eXc1ZT"
      }
    },
    {
      "cell_type": "markdown",
      "source": [
        "### (9) 下列敘述何者為**錯誤**？\n",
        "\n",
        "(A) 如果 `if` 區塊中有多個敘述，這些敘述必須具有相同縮排。\n",
        "\n",
        "(B) 若在 `if` 區塊內賦值給新變數，且執行時進入該區塊，則該變數在 `if` 區塊外仍無法存取。\n",
        "\n",
        "(C) `continue` 與 `break` 陳述式可用於 `for` 與 `while` 迴圈中。\n",
        "\n",
        "(D) 可以透過呼叫 `sys.exit()` 使程式在執行最後一行指令前終止。"
      ],
      "metadata": {
        "id": "jP2Bkz3lc3hz"
      }
    },
    {
      "cell_type": "markdown",
      "source": [
        "### (10) 下列哪一個函式可用來查詢 Python 中某個物件所有可用的方法？\n",
        "\n",
        "(A) `dir()`\n",
        "\n",
        "(B) `help()`\n",
        "\n",
        "(C) `len()`\n",
        "\n",
        "(D) `type()`"
      ],
      "metadata": {
        "id": "K4FMVIXkc4wD"
      }
    },
    {
      "cell_type": "markdown",
      "source": [
        "## 函數"
      ],
      "metadata": {
        "id": "mJG8IIP4c64j"
      }
    },
    {
      "cell_type": "markdown",
      "source": [
        "### (11) 下列敘述何者**正確**？\n",
        "\n",
        "(A) 函式呼叫 `random.randint(0, 5)` 會隨機產生介於 0 到 5（含）之間的整數。\n",
        "\n",
        "(B) 在函式定義中，帶有預設值的參數必須置於參數列表的最左側。\n",
        "\n",
        "(C) 表達式 `list(range(1, 5, -1))` 會回傳串列 `[5, 4, 3, 2, 1]`。\n",
        "\n",
        "(D) 定義函式時，必須包含 `return` 陳述句。"
      ],
      "metadata": {
        "id": "wE6VZ3Tbc8B7"
      }
    },
    {
      "cell_type": "markdown",
      "source": [
        "### (12) 下列哪一項在對自訂函式或內建函式呼叫 `help()` 時**不會**被印出？\n",
        "\n",
        "(A) 函式名稱\n",
        "\n",
        "(B) 文件字串（docstring）\n",
        "\n",
        "(C) 函式本體（程式碼內容）\n",
        "\n",
        "(D) 函式參數列表"
      ],
      "metadata": {
        "id": "tUFnfmIYc-OL"
      }
    },
    {
      "cell_type": "markdown",
      "source": [
        "### (13) 下列敘述何者為**錯誤**？\n",
        "\n",
        "(A) 區域變數只能在定義它的函式內使用。\n",
        "\n",
        "(B) 可以在函式內存取全域變數的值。\n",
        "\n",
        "(C) 若要在函式內修改全域變數，必須使用 `global` 關鍵字宣告該變數屬於全域範圍。\n",
        "\n",
        "(D) `import *` 中的星號表示將模組中的所有函式複製到程式中，且這是處理大型模組時推薦的做法。"
      ],
      "metadata": {
        "id": "sMBW-A_tdABr"
      }
    },
    {
      "cell_type": "markdown",
      "source": [
        "### (14) 下列程式碼執行後會印出什麼？\n",
        "\n",
        "```python\n",
        "def eggs(spam, ham):\n",
        "    spam.extend(ham)\n",
        "\n",
        "spam = [2, 3, 5]\n",
        "ham = (7, 11, 13)\n",
        "eggs(spam, ham)\n",
        "print(spam)\n",
        "```\n",
        "\n",
        "(A) `[2, 3, 5, 7, 11, 13]`\n",
        "\n",
        "(B) `(7, 11, 13)`\n",
        "\n",
        "(C) `[2, 3, 5]`\n",
        "\n",
        "(D) `[2, 3, 5, (7, 11, 13)]`"
      ],
      "metadata": {
        "id": "lHWxIg1YdEiM"
      }
    },
    {
      "cell_type": "markdown",
      "source": [
        "### (15) 下列哪一種參數應該放在函式定義中最右側？\n",
        "\n",
        "(A) 一般參數（Normal parameter）\n",
        "\n",
        "(B) 帶有預設值的參數（Parameter with a default value）\n",
        "\n",
        "(C) 類似 `*arg` 的特殊參數\n",
        "\n",
        "(D) 類似 `**kwarg` 的特殊參數"
      ],
      "metadata": {
        "id": "8x-WXygudG6T"
      }
    },
    {
      "cell_type": "markdown",
      "source": [
        "## 串列與元組"
      ],
      "metadata": {
        "id": "f4O4nfVTdJUT"
      }
    },
    {
      "cell_type": "markdown",
      "source": [
        "### (16) 請看以下 Python 程式碼：\n",
        "\n",
        "```python\n",
        "numbers = [1, 1, 1, 2, 2, 3, 4, 5, 7, 9]\n",
        "spam = [item for item in numbers if item % 2 == 0]\n",
        "for i in spam:\n",
        "    print(i, end=' ')\n",
        "```\n",
        "\n",
        "執行此程式後會印出什麼？\n",
        "\n",
        "(A) `1 1 1 2 2 3 4 5 7 9`\n",
        "\n",
        "(B) `1 1 1 3 4 5 7 9`\n",
        "\n",
        "(C) `1 1 1 3 5 7 9`\n",
        "\n",
        "(D) `2 2 4`"
      ],
      "metadata": {
        "id": "Oc8P5T9tdKuL"
      }
    },
    {
      "cell_type": "markdown",
      "source": [
        "### (17) 下列敘述何者為**錯誤**？\n",
        "\n",
        "(A) 串列生成式（List comprehensions）提供簡潔且方便的語法來建立新的串列。\n",
        "\n",
        "(B) tuple 的長度在程式執行期間不可改變。\n",
        "\n",
        "(C) 當我們知道要從串列中刪除元素的索引時，`remove()` 方法是適合的選擇。\n",
        "\n",
        "(D) `sort()` 函式對字串排序時，採用 ASCII 順序而非字母順序。"
      ],
      "metadata": {
        "id": "9_2fZtdNdM6L"
      }
    },
    {
      "cell_type": "markdown",
      "source": [
        "### (18) 假設有串列 `x = ['n', 's', 'y', 's', 'u']`，請問執行 `x[::-1]` 的結果為何？\n",
        "\n",
        "(A) `['n', 's', 'y', 's', 'u']`\n",
        "\n",
        "(B) `'u'`\n",
        "\n",
        "(C) `['u', 's', 'y', 's', 'n']`\n",
        "\n",
        "(D) `['n', 's', 'y', 's']`"
      ],
      "metadata": {
        "id": "vGGeh2_BdPHz"
      }
    },
    {
      "cell_type": "markdown",
      "source": [
        "### (19) 下列敘述何者為**錯誤**？\n",
        "\n",
        "(A) 若修改由串列切片（sublist）得到的子串列，原本的串列不會被修改。\n",
        "\n",
        "(B) 當將串列作為參數傳入函式，且在函式內修改該串列時，原串列仍不會被改變。\n",
        "\n",
        "(C) 假設 `spam` 是字串物件，執行 `spam = spam + \"world\"` 後，`spam` 物件的記憶體位置（id）會改變。\n",
        "\n",
        "(D) 假設 `spam` 是串列物件，執行 `spam.append(\"world\")` 前後，`spam` 物件的記憶體位置（id）會相同。"
      ],
      "metadata": {
        "id": "7_XzWjjVdSAT"
      }
    },
    {
      "cell_type": "markdown",
      "source": [
        "### (20) 下列敘述何者為錯誤？\n",
        "\n",
        "(A) 運算子 `in` 與 `not in` 可用於判斷字典中是否包含指定的鍵。\n",
        "\n",
        "(B) 對於巢狀串列 `m = [[1, 2, 3], [4, 5, 6]]`，表達式 `m[0][2]` 回傳值為 `3`。\n",
        "\n",
        "(C) 在 Python 中，`('s')` 與 `('s',)` 都被視為包含單一元素 `'s'` 的 tuple。\n",
        "\n",
        "(D) 假設 `s` 是字串，表達式 `s[::-1]` 等同於 `s[len(s)-1:-1:-1]`。"
      ],
      "metadata": {
        "id": "_QqnQ-zMdUPN"
      }
    },
    {
      "cell_type": "markdown",
      "source": [
        "### (21) 下列關於 Python 語法的敘述，何者**正確**？\n",
        "\n",
        "(A) Python 使用大括號 `{}` 來區隔不同的程式區塊。\n",
        "\n",
        "(B) Python 中，同一程式區塊內的所有敘述必須具備相同縮排層級。\n",
        "\n",
        "(C) 在 Python 的布林運算中，數值 `0` 和空串列 `[]` 會被視為 `True`。\n",
        "\n",
        "(D) Python 的串列索引從 1 開始，因此串列 `L` 的第一個元素可用 `L[1]` 取得。"
      ],
      "metadata": {
        "id": "enqrcpYOdWuD"
      }
    },
    {
      "cell_type": "markdown",
      "source": [
        "### (22) 下列關於 Python 語法的敘述，何者為**錯誤**？\n",
        "\n",
        "(A) Python 的識別字可以由英文字母、數字及底線組成，但不得以數字開頭。\n",
        "\n",
        "(B) 使用索引值等於或超過串列長度來存取串列元素會導致執行時錯誤。\n",
        "\n",
        "(C) Python 中的註解，不論單行或多行，皆必須以百分比符號（`%`）開頭。\n",
        "\n",
        "(D) `input()` 函式無論使用者輸入何種資料，回傳值皆為字串型態。"
      ],
      "metadata": {
        "id": "G6kqjCI7dZbD"
      }
    },
    {
      "cell_type": "markdown",
      "source": [
        "## 字串操作"
      ],
      "metadata": {
        "id": "Tau-4AqXdbvb"
      }
    },
    {
      "cell_type": "markdown",
      "source": [
        "### (23) 下列敘述何者為**錯誤**？\n",
        "\n",
        "(A) 字串方法 `lower()` 與 `upper()` 分別可以將字串轉為全小寫或全大寫。\n",
        "\n",
        "(B) Python 有區分字串（string）與字元（character）兩種不同的資料型態。\n",
        "\n",
        "(C) 原始字串（raw string），以 `r` 字元開頭，會將反斜線視為一般字元，而非跳脫字元的起始。\n",
        "\n",
        "(D) 字串中的反斜線用來引入跳脫序列，如 `\\n` 表示換行，`\\t` 表示跳格。"
      ],
      "metadata": {
        "id": "DiD6QiiSddIa"
      }
    },
    {
      "cell_type": "markdown",
      "source": [
        "### (24) 假設 `spam = '    Hello, World   \\n'`，請問 `spam.strip()` 的結果為何？\n",
        "\n",
        "(A) `'Hello, World\\n'`\n",
        "\n",
        "(B) `'  Hello, World\\n'`\n",
        "\n",
        "(C) `'  Hello, World  '`\n",
        "\n",
        "(D) `'Hello, World'`"
      ],
      "metadata": {
        "id": "kFZwtHRKdiqr"
      }
    },
    {
      "cell_type": "markdown",
      "source": [
        "### (25) 下列程式碼執行後會印出什麼？\n",
        "\n",
        "```python\n",
        "spam1 = 32\n",
        "spam2 = 32.145\n",
        "print(f'{spam1:2d}, {spam2:6.2f}')\n",
        "```\n",
        "\n",
        "(A) `32,  32.15`\n",
        "\n",
        "(B) `32,  32.145`\n",
        "\n",
        "(C) `32,  32`\n",
        "\n",
        "(D) `{a:2d}, {b:6.2f}`"
      ],
      "metadata": {
        "id": "8TEwSdlndkuy"
      }
    },
    {
      "cell_type": "markdown",
      "source": [
        "### (26) 下列哪一種方式**不是**在 Python 中建立字串的正確方法？\n",
        "\n",
        "(A) `\"nsysu\"`\n",
        "\n",
        "(B) `'nsysu'`\n",
        "\n",
        "(C) `\"\"\" nsysu \"\"\"`\n",
        "\n",
        "(D) `str(nsysu)`\n"
      ],
      "metadata": {
        "id": "dV3nzI3fdwyi"
      }
    },
    {
      "cell_type": "markdown",
      "source": [
        "## 字典"
      ],
      "metadata": {
        "id": "gAGCY5Wwd0DT"
      }
    },
    {
      "cell_type": "markdown",
      "source": [
        "### (27) 下列敘述何者為**錯誤**？\n",
        "\n",
        "(A) 在 Python 中，`int` 與 `string` 都是不可變（immutable）的資料型態。\n",
        "\n",
        "(B) 字典（dictionary）的鍵（key）必須唯一。\n",
        "\n",
        "(C) Python 的串列（list）可以包含多個相同的元素值。\n",
        "\n",
        "(D) 字典的 `get()` 方法會回傳指定鍵的值；若找不到該鍵，則會引發錯誤。"
      ],
      "metadata": {
        "id": "xV5QXz8Rd1zM"
      }
    },
    {
      "cell_type": "markdown",
      "source": [
        "### (28) 下列程式碼執行後會印出什麼？\n",
        "\n",
        "```python\n",
        "spam = {'pi': 3.141, 'e': 2.718, 'gamma': 0.577}\n",
        "for i in spam:\n",
        "    print(i, end=' ')\n",
        "```\n",
        "\n",
        "(A) `i i i`\n",
        "\n",
        "(B) `pi e gamma`\n",
        "\n",
        "(C) `3.141 2.718 0.577`\n",
        "\n",
        "(D) `('pi', 3.141) ('e', 2.718) ('gamma', 0.577)`"
      ],
      "metadata": {
        "id": "LXvYxLfyd3Nr"
      }
    },
    {
      "cell_type": "markdown",
      "source": [
        "### (29) 下列敘述何者為**錯誤**？\n",
        "\n",
        "(A) 字典（dictionary）的鍵必須是不可變（immutable）的資料型態（如整數、字串或 tuple），且鍵必須唯一。\n",
        "\n",
        "(B) 對不存在的鍵賦值會在字典中新增該鍵值對。\n",
        "\n",
        "(C) 運算子 `in` 和 `not in` 可用來判斷字典中是否包含指定的鍵。\n",
        "\n",
        "(D) 字典的 `get()` 方法會回傳指定鍵的值，若找不到該鍵則會引發 `KeyError`。"
      ],
      "metadata": {
        "id": "4bp2QohQd4qz"
      }
    },
    {
      "cell_type": "markdown",
      "source": [
        "### (30) 請問下列程式碼執行後會印出什麼？\n",
        "\n",
        "```python\n",
        "numbers = [3, 5, 4, 12, 3, 9, 27, 29, 5]\n",
        "spam = sorted({item for item in numbers if item % 3 == 0})\n",
        "print(spam)\n",
        "```\n",
        "\n",
        "(A) `[3, 9, 12, 27]`\n",
        "\n",
        "(B) `{3, 9, 12, 27}`\n",
        "\n",
        "(C) `[3, 3, 9, 12, 27]`\n",
        "\n",
        "(D) `{3, 3, 9, 12, 27}`"
      ],
      "metadata": {
        "id": "A43XnrxGd6Eb"
      }
    }
  ]
}